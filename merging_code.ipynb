{
 "cells": [
  {
   "cell_type": "markdown",
   "source": "# Constructing a Dataset to Help Plan a Clinical Trial",
   "metadata": {
    "tags": [],
    "is_collapsed": false,
    "deepnote_app_coordinates": {
     "x": 0,
     "y": 0,
     "w": 22,
     "h": 7
    },
    "cell_id": "c27221f0-10bf-40fb-94a2-9725f7cb4537",
    "deepnote_cell_type": "text-cell-h1"
   }
  },
  {
   "cell_type": "markdown",
   "source": "# About Me",
   "metadata": {
    "tags": [],
    "is_collapsed": false,
    "deepnote_app_coordinates": {
     "x": 0,
     "y": 8,
     "w": 5,
     "h": 4
    },
    "cell_id": "00001-721440e1-4172-45b2-87b9-ccb40ed4afe1",
    "deepnote_cell_type": "text-cell-h1"
   }
  },
  {
   "cell_type": "markdown",
   "source": "Hi, I’m Marin Schiffman, and I am a Biomedical Engineering student at Vanderbilt University. As I dive deeper into my academic career, it has become increasingly apparent that data analysis and the organization of information will be crucial in understanding the biomedical research that I hope to take part in. Through this notebook, I hope to demonstrate the new skills I have learned in data engineering.",
   "metadata": {
    "tags": [],
    "is_collapsed": false,
    "deepnote_app_coordinates": {
     "x": 0,
     "y": 14,
     "w": 8,
     "h": 10
    },
    "cell_id": "00002-505db2a8-cdea-42cc-a996-dbec04161772",
    "deepnote_cell_type": "text-cell-p"
   }
  },
  {
   "cell_type": "markdown",
   "source": "# Project Summary",
   "metadata": {
    "tags": [],
    "is_collapsed": false,
    "deepnote_app_coordinates": {
     "x": 9,
     "y": 7,
     "w": 12,
     "h": 6
    },
    "cell_id": "00003-f6ac9613-3dfb-47aa-8aa7-068d97d61f9e",
    "deepnote_cell_type": "text-cell-h1"
   }
  },
  {
   "cell_type": "markdown",
   "source": "Clinical trials require lots of planning and are often quite particular in participants and requirements. Creating and organizing a dataset to help minimize the difficulty in identifying the right candidates to participate and/or run the trials would be valuable from both a physician and patient standpoint. Thus, the goal of this project was to construct a dataset that could be used to identify which physicians and hospitals should participate in various clinical trials. Moreover, constructing such a dataset would provide a wealth of information to the dataset viewer all in one place, providing multiple options, and therefore increasing the likelihood of a successful clinical trial. In this project, I completed an exploratory data analysis, cleaned and formatted data, merged datasets from multiple sources, and found multiple ways to highlight and visualize key insights that the dataset provides. The final result of this project is a comprehensive overview of vast datasets containing useful information for various clinical trials, with graphics that detail key characteristics to improve understanding, impact, and ease of use from those looking to design clinical trials.",
   "metadata": {
    "tags": [],
    "is_collapsed": false,
    "deepnote_app_coordinates": {
     "x": 9,
     "y": 13,
     "w": 8,
     "h": 23
    },
    "cell_id": "00004-5ce767ea-795e-45df-bf9c-1c4621539921",
    "deepnote_cell_type": "text-cell-p"
   }
  },
  {
   "cell_type": "code",
   "metadata": {
    "tags": [],
    "deepnote_to_be_reexecuted": false,
    "source_hash": "71a73af1",
    "execution_start": 1645036480973,
    "execution_millis": 380,
    "deepnote_app_coordinates": {
     "x": 0,
     "y": 314,
     "w": 12,
     "h": 5
    },
    "cell_id": "00005-59d361e6-c4ee-42e6-8aeb-0997679672f6",
    "deepnote_cell_type": "code"
   },
   "source": "!ls /datasets/sources",
   "execution_count": null,
   "outputs": [
    {
     "name": "stdout",
     "text": "DAC_NationalDownloadableFile.csv  facilities.txt  facility_investigators.txt\r\n",
     "output_type": "stream"
    }
   ]
  },
  {
   "cell_type": "code",
   "metadata": {
    "tags": [],
    "deepnote_to_be_reexecuted": false,
    "source_hash": "9b82ee11",
    "execution_start": 1645036481361,
    "execution_millis": 3,
    "deepnote_app_coordinates": {
     "x": 0,
     "y": 320,
     "w": 12,
     "h": 4
    },
    "cell_id": "00006-429ed5c9-1d8a-451f-9e5c-e66bea83d44d",
    "deepnote_cell_type": "code"
   },
   "source": "import pandas as pd",
   "execution_count": null,
   "outputs": []
  },
  {
   "cell_type": "code",
   "metadata": {
    "tags": [],
    "deepnote_to_be_reexecuted": false,
    "source_hash": "e5b302f1",
    "execution_start": 1645036481369,
    "execution_millis": 7527,
    "deepnote_output_heights": [
     611
    ],
    "deepnote_app_coordinates": {
     "x": 0,
     "y": 325,
     "w": 12,
     "h": 6
    },
    "cell_id": "00007-71df7cbc-3eca-483f-9495-6415006dccb7",
    "deepnote_cell_type": "code"
   },
   "source": "#importing all 3 datasets\ndf = pd.read_csv('/datasets/sources/DAC_NationalDownloadableFile.csv',nrows=10000) #medicare\ndf_fac = pd.read_csv('/datasets/sources/facilities.txt',error_bad_lines=False,sep=\"|\") #facility\ndf_fi = pd.read_csv('/datasets/sources/facility_investigators.txt',error_bad_lines=False,sep=\"|\") #facility investigators",
   "execution_count": null,
   "outputs": []
  },
  {
   "cell_type": "code",
   "metadata": {
    "tags": [],
    "deepnote_to_be_reexecuted": false,
    "source_hash": "558712bd",
    "execution_start": 1645036488914,
    "execution_millis": 6,
    "deepnote_output_heights": [
     21.1875
    ],
    "cell_id": "00008-b783e574-a300-4da5-a417-548fc3df20cf",
    "deepnote_cell_type": "code"
   },
   "source": "df_fac.shape",
   "execution_count": null,
   "outputs": [
    {
     "output_type": "execute_result",
     "execution_count": 4,
     "data": {
      "text/plain": "(2619514, 8)"
     },
     "metadata": {}
    }
   ]
  },
  {
   "cell_type": "code",
   "metadata": {
    "tags": [],
    "deepnote_to_be_reexecuted": false,
    "source_hash": "26f26bf1",
    "execution_start": 1645036488930,
    "execution_millis": 1,
    "deepnote_output_heights": [
     21.1875
    ],
    "cell_id": "00009-f60f92c7-1eda-4157-841f-a03e95f83863",
    "deepnote_cell_type": "code"
   },
   "source": "df_fi.shape",
   "execution_count": null,
   "outputs": [
    {
     "output_type": "execute_result",
     "execution_count": 5,
     "data": {
      "text/plain": "(221916, 5)"
     },
     "metadata": {}
    }
   ]
  },
  {
   "cell_type": "code",
   "metadata": {
    "tags": [],
    "deepnote_to_be_reexecuted": false,
    "source_hash": "cc536400",
    "execution_start": 1645036488940,
    "execution_millis": 1269,
    "deepnote_table_state": {
     "pageSize": 10,
     "pageIndex": 1,
     "filters": [],
     "sortBy": []
    },
    "deepnote_table_loading": false,
    "deepnote_app_coordinates": {
     "x": 0,
     "y": 332,
     "w": 12,
     "h": 6
    },
    "cell_id": "00010-f18dbd6d-229f-4b5f-80cd-4f3f2eb5cd84",
    "deepnote_cell_type": "code"
   },
   "source": "#starting off by dropping columns and rows without sufficient information\ndf.dropna(thresh=3)\ndf_fac.dropna(thresh=3) #only keep rows with at least 3 non-NA values\ndf_fi.dropna(thresh=3);",
   "execution_count": null,
   "outputs": []
  },
  {
   "cell_type": "markdown",
   "source": "# Cleaning Medicare Data",
   "metadata": {
    "tags": [],
    "is_collapsed": false,
    "deepnote_app_coordinates": {
     "x": 0,
     "y": 339,
     "w": 12,
     "h": 4
    },
    "cell_id": "00011-a26f5779-5aab-442e-9724-fe0f687120ea",
    "deepnote_cell_type": "text-cell-h1"
   }
  },
  {
   "cell_type": "code",
   "metadata": {
    "tags": [],
    "deepnote_to_be_reexecuted": false,
    "source_hash": "c07a83f5",
    "execution_start": 1645036490307,
    "execution_millis": 291,
    "cell_id": "00012-669a9601-003a-4059-ad96-b327f3b356fe",
    "deepnote_cell_type": "code"
   },
   "source": "#previewing data\ndf.head()",
   "execution_count": null,
   "outputs": [
    {
     "output_type": "execute_result",
     "execution_count": 7,
     "data": {
      "application/vnd.deepnote.dataframe.v3+json": {
       "column_count": 40,
       "row_count": 5,
       "columns": [
        {
         "name": "NPI",
         "dtype": "int64",
         "stats": {
          "unique_count": 5,
          "nan_count": 0,
          "min": "1215127840",
          "max": "1215321872",
          "histogram": [
           {
            "bin_start": 1215127840,
            "bin_end": 1215147243.2,
            "count": 2
           },
           {
            "bin_start": 1215147243.2,
            "bin_end": 1215166646.4,
            "count": 0
           },
           {
            "bin_start": 1215166646.4,
            "bin_end": 1215186049.6,
            "count": 0
           },
           {
            "bin_start": 1215186049.6,
            "bin_end": 1215205452.8,
            "count": 2
           },
           {
            "bin_start": 1215205452.8,
            "bin_end": 1215224856,
            "count": 0
           },
           {
            "bin_start": 1215224856,
            "bin_end": 1215244259.2,
            "count": 0
           },
           {
            "bin_start": 1215244259.2,
            "bin_end": 1215263662.4,
            "count": 0
           },
           {
            "bin_start": 1215263662.4,
            "bin_end": 1215283065.6,
            "count": 0
           },
           {
            "bin_start": 1215283065.6,
            "bin_end": 1215302468.8,
            "count": 0
           },
           {
            "bin_start": 1215302468.8,
            "bin_end": 1215321872,
            "count": 1
           }
          ]
         }
        },
        {
         "name": " Ind_PAC_ID",
         "dtype": "int64",
         "stats": {
          "unique_count": 5,
          "nan_count": 0,
          "min": "3870667793",
          "max": "8527950369",
          "histogram": [
           {
            "bin_start": 3870667793,
            "bin_end": 4336396050.6,
            "count": 1
           },
           {
            "bin_start": 4336396050.6,
            "bin_end": 4802124308.2,
            "count": 0
           },
           {
            "bin_start": 4802124308.2,
            "bin_end": 5267852565.8,
            "count": 1
           },
           {
            "bin_start": 5267852565.8,
            "bin_end": 5733580823.4,
            "count": 0
           },
           {
            "bin_start": 5733580823.4,
            "bin_end": 6199309081,
            "count": 0
           },
           {
            "bin_start": 6199309081,
            "bin_end": 6665037338.6,
            "count": 1
           },
           {
            "bin_start": 6665037338.6,
            "bin_end": 7130765596.200001,
            "count": 0
           },
           {
            "bin_start": 7130765596.200001,
            "bin_end": 7596493853.8,
            "count": 0
           },
           {
            "bin_start": 7596493853.8,
            "bin_end": 8062222111.4,
            "count": 1
           },
           {
            "bin_start": 8062222111.4,
            "bin_end": 8527950369,
            "count": 1
           }
          ]
         }
        },
        {
         "name": " Ind_enrl_ID",
         "dtype": "object",
         "stats": {
          "unique_count": 5,
          "nan_count": 0,
          "categories": [
           {
            "name": "I20150803001151",
            "count": 1
           },
           {
            "name": "I20090715000375",
            "count": 1
           },
           {
            "name": "3 others",
            "count": 3
           }
          ]
         }
        },
        {
         "name": " lst_nm",
         "dtype": "object",
         "stats": {
          "unique_count": 5,
          "nan_count": 0,
          "categories": [
           {
            "name": "MASIELLO",
            "count": 1
           },
           {
            "name": "DURU",
            "count": 1
           },
           {
            "name": "3 others",
            "count": 3
           }
          ]
         }
        },
        {
         "name": " frst_nm",
         "dtype": "object",
         "stats": {
          "unique_count": 5,
          "nan_count": 0,
          "categories": [
           {
            "name": "EVE",
            "count": 1
           },
           {
            "name": "CELESTINA",
            "count": 1
           },
           {
            "name": "3 others",
            "count": 3
           }
          ]
         }
        },
        {
         "name": " mid_nm",
         "dtype": "object",
         "stats": {
          "unique_count": 2,
          "nan_count": 3,
          "categories": [
           {
            "name": "N",
            "count": 1
           },
           {
            "name": "E",
            "count": 1
           },
           {
            "name": "Missing",
            "count": 3
           }
          ]
         }
        },
        {
         "name": " suff",
         "dtype": "object",
         "stats": {
          "unique_count": 0,
          "nan_count": 5,
          "categories": [
           {
            "name": "Missing",
            "count": 5
           }
          ]
         }
        },
        {
         "name": " gndr",
         "dtype": "object",
         "stats": {
          "unique_count": 2,
          "nan_count": 0,
          "categories": [
           {
            "name": "F",
            "count": 3
           },
           {
            "name": "M",
            "count": 2
           }
          ]
         }
        },
        {
         "name": " Cred",
         "dtype": "object",
         "stats": {
          "unique_count": 1,
          "nan_count": 4,
          "categories": [
           {
            "name": "CNS",
            "count": 1
           },
           {
            "name": "Missing",
            "count": 4
           }
          ]
         }
        },
        {
         "name": " Med_sch",
         "dtype": "object",
         "stats": {
          "unique_count": 4,
          "nan_count": 0,
          "categories": [
           {
            "name": "OTHER",
            "count": 2
           },
           {
            "name": "NEW YORK COLLEGE OF PODIATRIC MEDICINE",
            "count": 1
           },
           {
            "name": "2 others",
            "count": 2
           }
          ]
         }
        },
        {
         "name": " Grd_yr",
         "dtype": "float64",
         "stats": {
          "unique_count": 5,
          "nan_count": 0,
          "min": "1982.0",
          "max": "2007.0",
          "histogram": [
           {
            "bin_start": 1982,
            "bin_end": 1984.5,
            "count": 1
           },
           {
            "bin_start": 1984.5,
            "bin_end": 1987,
            "count": 0
           },
           {
            "bin_start": 1987,
            "bin_end": 1989.5,
            "count": 0
           },
           {
            "bin_start": 1989.5,
            "bin_end": 1992,
            "count": 0
           },
           {
            "bin_start": 1992,
            "bin_end": 1994.5,
            "count": 0
           },
           {
            "bin_start": 1994.5,
            "bin_end": 1997,
            "count": 0
           },
           {
            "bin_start": 1997,
            "bin_end": 1999.5,
            "count": 0
           },
           {
            "bin_start": 1999.5,
            "bin_end": 2002,
            "count": 0
           },
           {
            "bin_start": 2002,
            "bin_end": 2004.5,
            "count": 2
           },
           {
            "bin_start": 2004.5,
            "bin_end": 2007,
            "count": 2
           }
          ]
         }
        },
        {
         "name": " pri_spec",
         "dtype": "object",
         "stats": {
          "unique_count": 5,
          "nan_count": 0,
          "categories": [
           {
            "name": "CLINICAL SOCIAL WORKER",
            "count": 1
           },
           {
            "name": "PODIATRY",
            "count": 1
           },
           {
            "name": "3 others",
            "count": 3
           }
          ]
         }
        },
        {
         "name": " sec_spec_1",
         "dtype": "object",
         "stats": {
          "unique_count": 1,
          "nan_count": 4,
          "categories": [
           {
            "name": "INTERVENTIONAL PAIN MANAGEMENT",
            "count": 1
           },
           {
            "name": "Missing",
            "count": 4
           }
          ]
         }
        },
        {
         "name": " sec_spec_2",
         "dtype": "object",
         "stats": {
          "unique_count": 0,
          "nan_count": 5,
          "categories": [
           {
            "name": "Missing",
            "count": 5
           }
          ]
         }
        },
        {
         "name": " sec_spec_3",
         "dtype": "object",
         "stats": {
          "unique_count": 0,
          "nan_count": 5,
          "categories": [
           {
            "name": "Missing",
            "count": 5
           }
          ]
         }
        },
        {
         "name": " sec_spec_4",
         "dtype": "object",
         "stats": {
          "unique_count": 0,
          "nan_count": 5,
          "categories": [
           {
            "name": "Missing",
            "count": 5
           }
          ]
         }
        },
        {
         "name": " sec_spec_all",
         "dtype": "object",
         "stats": {
          "unique_count": 1,
          "nan_count": 4,
          "categories": [
           {
            "name": "INTERVENTIONAL PAIN MANAGEMENT",
            "count": 1
           },
           {
            "name": "Missing",
            "count": 4
           }
          ]
         }
        },
        {
         "name": " org_nm",
         "dtype": "float64",
         "stats": {
          "unique_count": 0,
          "nan_count": 5,
          "min": null,
          "max": null,
          "histogram": [
           {
            "bin_start": 0,
            "bin_end": 0.1,
            "count": 0
           },
           {
            "bin_start": 0.1,
            "bin_end": 0.2,
            "count": 0
           },
           {
            "bin_start": 0.2,
            "bin_end": 0.30000000000000004,
            "count": 0
           },
           {
            "bin_start": 0.30000000000000004,
            "bin_end": 0.4,
            "count": 0
           },
           {
            "bin_start": 0.4,
            "bin_end": 0.5,
            "count": 0
           },
           {
            "bin_start": 0.5,
            "bin_end": 0.6000000000000001,
            "count": 0
           },
           {
            "bin_start": 0.6000000000000001,
            "bin_end": 0.7000000000000001,
            "count": 0
           },
           {
            "bin_start": 0.7000000000000001,
            "bin_end": 0.8,
            "count": 0
           },
           {
            "bin_start": 0.8,
            "bin_end": 0.9,
            "count": 0
           },
           {
            "bin_start": 0.9,
            "bin_end": 1,
            "count": 0
           }
          ]
         }
        },
        {
         "name": " org_pac_id",
         "dtype": "float64",
         "stats": {
          "unique_count": 0,
          "nan_count": 5,
          "min": null,
          "max": null,
          "histogram": [
           {
            "bin_start": 0,
            "bin_end": 0.1,
            "count": 0
           },
           {
            "bin_start": 0.1,
            "bin_end": 0.2,
            "count": 0
           },
           {
            "bin_start": 0.2,
            "bin_end": 0.30000000000000004,
            "count": 0
           },
           {
            "bin_start": 0.30000000000000004,
            "bin_end": 0.4,
            "count": 0
           },
           {
            "bin_start": 0.4,
            "bin_end": 0.5,
            "count": 0
           },
           {
            "bin_start": 0.5,
            "bin_end": 0.6000000000000001,
            "count": 0
           },
           {
            "bin_start": 0.6000000000000001,
            "bin_end": 0.7000000000000001,
            "count": 0
           },
           {
            "bin_start": 0.7000000000000001,
            "bin_end": 0.8,
            "count": 0
           },
           {
            "bin_start": 0.8,
            "bin_end": 0.9,
            "count": 0
           },
           {
            "bin_start": 0.9,
            "bin_end": 1,
            "count": 0
           }
          ]
         }
        },
        {
         "name": " num_org_mem",
         "dtype": "float64",
         "stats": {
          "unique_count": 0,
          "nan_count": 5,
          "min": null,
          "max": null,
          "histogram": [
           {
            "bin_start": 0,
            "bin_end": 0.1,
            "count": 0
           },
           {
            "bin_start": 0.1,
            "bin_end": 0.2,
            "count": 0
           },
           {
            "bin_start": 0.2,
            "bin_end": 0.30000000000000004,
            "count": 0
           },
           {
            "bin_start": 0.30000000000000004,
            "bin_end": 0.4,
            "count": 0
           },
           {
            "bin_start": 0.4,
            "bin_end": 0.5,
            "count": 0
           },
           {
            "bin_start": 0.5,
            "bin_end": 0.6000000000000001,
            "count": 0
           },
           {
            "bin_start": 0.6000000000000001,
            "bin_end": 0.7000000000000001,
            "count": 0
           },
           {
            "bin_start": 0.7000000000000001,
            "bin_end": 0.8,
            "count": 0
           },
           {
            "bin_start": 0.8,
            "bin_end": 0.9,
            "count": 0
           },
           {
            "bin_start": 0.9,
            "bin_end": 1,
            "count": 0
           }
          ]
         }
        },
        {
         "name": " adr_ln_1",
         "dtype": "object",
         "stats": {
          "unique_count": 5,
          "nan_count": 0,
          "categories": [
           {
            "name": "120 COURT ST",
            "count": 1
           },
           {
            "name": "2000 ESTERS RD",
            "count": 1
           },
           {
            "name": "3 others",
            "count": 3
           }
          ]
         }
        },
        {
         "name": " adr_ln_2",
         "dtype": "object",
         "stats": {
          "unique_count": 3,
          "nan_count": 2,
          "categories": [
           {
            "name": "SUITE 104",
            "count": 1
           },
           {
            "name": "2 others",
            "count": 2
           },
           {
            "name": "Missing",
            "count": 2
           }
          ]
         }
        },
        {
         "name": " ln_2_sprs",
         "dtype": "object",
         "stats": {
          "unique_count": 0,
          "nan_count": 5,
          "categories": [
           {
            "name": "Missing",
            "count": 5
           }
          ]
         }
        },
        {
         "name": " cty",
         "dtype": "object",
         "stats": {
          "unique_count": 5,
          "nan_count": 0,
          "categories": [
           {
            "name": "PLYMOUTH",
            "count": 1
           },
           {
            "name": "IRVING",
            "count": 1
           },
           {
            "name": "3 others",
            "count": 3
           }
          ]
         }
        },
        {
         "name": " st",
         "dtype": "object",
         "stats": {
          "unique_count": 3,
          "nan_count": 0,
          "categories": [
           {
            "name": "MA",
            "count": 2
           },
           {
            "name": "TX",
            "count": 2
           },
           {
            "name": "FL",
            "count": 1
           }
          ]
         }
        },
        {
         "name": " zip",
         "dtype": "object",
         "stats": {
          "unique_count": 5,
          "nan_count": 0,
          "categories": [
           {
            "name": "023603826",
            "count": 1
           },
           {
            "name": "750619580",
            "count": 1
           },
           {
            "name": "3 others",
            "count": 3
           }
          ]
         }
        },
        {
         "name": " phn_numbr",
         "dtype": "float64",
         "stats": {
          "unique_count": 2,
          "nan_count": 3,
          "min": "7817107356.0",
          "max": "9783358785.0",
          "histogram": [
           {
            "bin_start": 7817107356,
            "bin_end": 8013732498.9,
            "count": 1
           },
           {
            "bin_start": 8013732498.9,
            "bin_end": 8210357641.8,
            "count": 0
           },
           {
            "bin_start": 8210357641.8,
            "bin_end": 8406982784.7,
            "count": 0
           },
           {
            "bin_start": 8406982784.7,
            "bin_end": 8603607927.6,
            "count": 0
           },
           {
            "bin_start": 8603607927.6,
            "bin_end": 8800233070.5,
            "count": 0
           },
           {
            "bin_start": 8800233070.5,
            "bin_end": 8996858213.4,
            "count": 0
           },
           {
            "bin_start": 8996858213.4,
            "bin_end": 9193483356.3,
            "count": 0
           },
           {
            "bin_start": 9193483356.3,
            "bin_end": 9390108499.2,
            "count": 0
           },
           {
            "bin_start": 9390108499.2,
            "bin_end": 9586733642.1,
            "count": 0
           },
           {
            "bin_start": 9586733642.1,
            "bin_end": 9783358785,
            "count": 1
           }
          ]
         }
        },
        {
         "name": " hosp_afl_1",
         "dtype": "float64",
         "stats": {
          "unique_count": 1,
          "nan_count": 4,
          "min": "220010.0",
          "max": "220010.0",
          "histogram": [
           {
            "bin_start": 220009.5,
            "bin_end": 220009.6,
            "count": 0
           },
           {
            "bin_start": 220009.6,
            "bin_end": 220009.7,
            "count": 0
           },
           {
            "bin_start": 220009.7,
            "bin_end": 220009.8,
            "count": 0
           },
           {
            "bin_start": 220009.8,
            "bin_end": 220009.9,
            "count": 0
           },
           {
            "bin_start": 220009.9,
            "bin_end": 220010,
            "count": 0
           },
           {
            "bin_start": 220010,
            "bin_end": 220010.1,
            "count": 1
           },
           {
            "bin_start": 220010.1,
            "bin_end": 220010.2,
            "count": 0
           },
           {
            "bin_start": 220010.2,
            "bin_end": 220010.3,
            "count": 0
           },
           {
            "bin_start": 220010.3,
            "bin_end": 220010.4,
            "count": 0
           },
           {
            "bin_start": 220010.4,
            "bin_end": 220010.5,
            "count": 0
           }
          ]
         }
        },
        {
         "name": " hosp_afl_lbn_1",
         "dtype": "object",
         "stats": {
          "unique_count": 1,
          "nan_count": 4,
          "categories": [
           {
            "name": "LAWRENCE GENERAL HOSPITAL",
            "count": 1
           },
           {
            "name": "Missing",
            "count": 4
           }
          ]
         }
        },
        {
         "name": " hosp_afl_2",
         "dtype": "float64",
         "stats": {
          "unique_count": 0,
          "nan_count": 5,
          "min": null,
          "max": null,
          "histogram": [
           {
            "bin_start": 0,
            "bin_end": 0.1,
            "count": 0
           },
           {
            "bin_start": 0.1,
            "bin_end": 0.2,
            "count": 0
           },
           {
            "bin_start": 0.2,
            "bin_end": 0.30000000000000004,
            "count": 0
           },
           {
            "bin_start": 0.30000000000000004,
            "bin_end": 0.4,
            "count": 0
           },
           {
            "bin_start": 0.4,
            "bin_end": 0.5,
            "count": 0
           },
           {
            "bin_start": 0.5,
            "bin_end": 0.6000000000000001,
            "count": 0
           },
           {
            "bin_start": 0.6000000000000001,
            "bin_end": 0.7000000000000001,
            "count": 0
           },
           {
            "bin_start": 0.7000000000000001,
            "bin_end": 0.8,
            "count": 0
           },
           {
            "bin_start": 0.8,
            "bin_end": 0.9,
            "count": 0
           },
           {
            "bin_start": 0.9,
            "bin_end": 1,
            "count": 0
           }
          ]
         }
        },
        {
         "name": " hosp_afl_lbn_2",
         "dtype": "object",
         "stats": {
          "unique_count": 0,
          "nan_count": 5,
          "categories": [
           {
            "name": "Missing",
            "count": 5
           }
          ]
         }
        },
        {
         "name": " hosp_afl_3",
         "dtype": "float64",
         "stats": {
          "unique_count": 0,
          "nan_count": 5,
          "min": null,
          "max": null,
          "histogram": [
           {
            "bin_start": 0,
            "bin_end": 0.1,
            "count": 0
           },
           {
            "bin_start": 0.1,
            "bin_end": 0.2,
            "count": 0
           },
           {
            "bin_start": 0.2,
            "bin_end": 0.30000000000000004,
            "count": 0
           },
           {
            "bin_start": 0.30000000000000004,
            "bin_end": 0.4,
            "count": 0
           },
           {
            "bin_start": 0.4,
            "bin_end": 0.5,
            "count": 0
           },
           {
            "bin_start": 0.5,
            "bin_end": 0.6000000000000001,
            "count": 0
           },
           {
            "bin_start": 0.6000000000000001,
            "bin_end": 0.7000000000000001,
            "count": 0
           },
           {
            "bin_start": 0.7000000000000001,
            "bin_end": 0.8,
            "count": 0
           },
           {
            "bin_start": 0.8,
            "bin_end": 0.9,
            "count": 0
           },
           {
            "bin_start": 0.9,
            "bin_end": 1,
            "count": 0
           }
          ]
         }
        },
        {
         "name": " hosp_afl_lbn_3",
         "dtype": "object",
         "stats": {
          "unique_count": 0,
          "nan_count": 5,
          "categories": [
           {
            "name": "Missing",
            "count": 5
           }
          ]
         }
        },
        {
         "name": " hosp_afl_4",
         "dtype": "float64",
         "stats": {
          "unique_count": 0,
          "nan_count": 5,
          "min": null,
          "max": null,
          "histogram": [
           {
            "bin_start": 0,
            "bin_end": 0.1,
            "count": 0
           },
           {
            "bin_start": 0.1,
            "bin_end": 0.2,
            "count": 0
           },
           {
            "bin_start": 0.2,
            "bin_end": 0.30000000000000004,
            "count": 0
           },
           {
            "bin_start": 0.30000000000000004,
            "bin_end": 0.4,
            "count": 0
           },
           {
            "bin_start": 0.4,
            "bin_end": 0.5,
            "count": 0
           },
           {
            "bin_start": 0.5,
            "bin_end": 0.6000000000000001,
            "count": 0
           },
           {
            "bin_start": 0.6000000000000001,
            "bin_end": 0.7000000000000001,
            "count": 0
           },
           {
            "bin_start": 0.7000000000000001,
            "bin_end": 0.8,
            "count": 0
           },
           {
            "bin_start": 0.8,
            "bin_end": 0.9,
            "count": 0
           },
           {
            "bin_start": 0.9,
            "bin_end": 1,
            "count": 0
           }
          ]
         }
        },
        {
         "name": " hosp_afl_lbn_4",
         "dtype": "object",
         "stats": {
          "unique_count": 0,
          "nan_count": 5,
          "categories": [
           {
            "name": "Missing",
            "count": 5
           }
          ]
         }
        },
        {
         "name": " hosp_afl_5",
         "dtype": "float64",
         "stats": {
          "unique_count": 0,
          "nan_count": 5,
          "min": null,
          "max": null,
          "histogram": [
           {
            "bin_start": 0,
            "bin_end": 0.1,
            "count": 0
           },
           {
            "bin_start": 0.1,
            "bin_end": 0.2,
            "count": 0
           },
           {
            "bin_start": 0.2,
            "bin_end": 0.30000000000000004,
            "count": 0
           },
           {
            "bin_start": 0.30000000000000004,
            "bin_end": 0.4,
            "count": 0
           },
           {
            "bin_start": 0.4,
            "bin_end": 0.5,
            "count": 0
           },
           {
            "bin_start": 0.5,
            "bin_end": 0.6000000000000001,
            "count": 0
           },
           {
            "bin_start": 0.6000000000000001,
            "bin_end": 0.7000000000000001,
            "count": 0
           },
           {
            "bin_start": 0.7000000000000001,
            "bin_end": 0.8,
            "count": 0
           },
           {
            "bin_start": 0.8,
            "bin_end": 0.9,
            "count": 0
           },
           {
            "bin_start": 0.9,
            "bin_end": 1,
            "count": 0
           }
          ]
         }
        },
        {
         "name": " hosp_afl_lbn_5",
         "dtype": "object",
         "stats": {
          "unique_count": 0,
          "nan_count": 5,
          "categories": [
           {
            "name": "Missing",
            "count": 5
           }
          ]
         }
        },
        {
         "name": " ind_assgn",
         "dtype": "object",
         "stats": {
          "unique_count": 2,
          "nan_count": 0,
          "categories": [
           {
            "name": "Y",
            "count": 4
           },
           {
            "name": "M",
            "count": 1
           }
          ]
         }
        },
        {
         "name": " grp_assgn",
         "dtype": "object",
         "stats": {
          "unique_count": 1,
          "nan_count": 0,
          "categories": [
           {
            "name": "M",
            "count": 5
           }
          ]
         }
        },
        {
         "name": " adrs_id",
         "dtype": "object",
         "stats": {
          "unique_count": 5,
          "nan_count": 0,
          "categories": [
           {
            "name": "MA023603826PL120XXSTXX300",
            "count": 1
           },
           {
            "name": "TX750619580IR2000XRDXX303",
            "count": 1
           },
           {
            "name": "3 others",
            "count": 3
           }
          ]
         }
        },
        {
         "name": "_deepnote_index_column",
         "dtype": "int64"
        }
       ],
       "rows": [
        {
         "NPI": 1215321872,
         " Ind_PAC_ID": 3870667793,
         " Ind_enrl_ID": "I20150803001151",
         " lst_nm": "MASIELLO",
         " frst_nm": "EVE",
         " mid_nm": "nan",
         " suff": "nan",
         " gndr": "F",
         " Cred": "nan",
         " Med_sch": "OTHER",
         " Grd_yr": 1982,
         " pri_spec": "CLINICAL SOCIAL WORKER",
         " sec_spec_1": "nan",
         " sec_spec_2": "nan",
         " sec_spec_3": "nan",
         " sec_spec_4": "nan",
         " sec_spec_all": "nan",
         " org_nm": "nan",
         " org_pac_id": "nan",
         " num_org_mem": "nan",
         " adr_ln_1": "120 COURT ST",
         " adr_ln_2": "nan",
         " ln_2_sprs": "nan",
         " cty": "PLYMOUTH",
         " st": "MA",
         " zip": "023603826",
         " phn_numbr": 7817107356,
         " hosp_afl_1": "nan",
         " hosp_afl_lbn_1": "nan",
         " hosp_afl_2": "nan",
         " hosp_afl_lbn_2": "nan",
         " hosp_afl_3": "nan",
         " hosp_afl_lbn_3": "nan",
         " hosp_afl_4": "nan",
         " hosp_afl_lbn_4": "nan",
         " hosp_afl_5": "nan",
         " hosp_afl_lbn_5": "nan",
         " ind_assgn": "M",
         " grp_assgn": "M",
         " adrs_id": "MA023603826PL120XXSTXX300",
         "_deepnote_index_column": 0
        },
        {
         "NPI": 1215195664,
         " Ind_PAC_ID": 6204988652,
         " Ind_enrl_ID": "I20090715000375",
         " lst_nm": "DURU",
         " frst_nm": "CELESTINA",
         " mid_nm": "N",
         " suff": "nan",
         " gndr": "F",
         " Cred": "nan",
         " Med_sch": "NEW YORK COLLEGE OF PODIATRIC MEDICINE",
         " Grd_yr": 2007,
         " pri_spec": "PODIATRY",
         " sec_spec_1": "nan",
         " sec_spec_2": "nan",
         " sec_spec_3": "nan",
         " sec_spec_4": "nan",
         " sec_spec_all": "nan",
         " org_nm": "nan",
         " org_pac_id": "nan",
         " num_org_mem": "nan",
         " adr_ln_1": "2000 ESTERS RD",
         " adr_ln_2": "SUITE 104",
         " ln_2_sprs": "nan",
         " cty": "IRVING",
         " st": "TX",
         " zip": "750619580",
         " phn_numbr": "nan",
         " hosp_afl_1": "nan",
         " hosp_afl_lbn_1": "nan",
         " hosp_afl_2": "nan",
         " hosp_afl_lbn_2": "nan",
         " hosp_afl_3": "nan",
         " hosp_afl_lbn_3": "nan",
         " hosp_afl_4": "nan",
         " hosp_afl_lbn_4": "nan",
         " hosp_afl_5": "nan",
         " hosp_afl_lbn_5": "nan",
         " ind_assgn": "Y",
         " grp_assgn": "M",
         " adrs_id": "TX750619580IR2000XRDXX303",
         "_deepnote_index_column": 1
        },
        {
         "NPI": 1215188925,
         " Ind_PAC_ID": 5193982478,
         " Ind_enrl_ID": "I20120130000697",
         " lst_nm": "KESHAVARZI",
         " frst_nm": "REZA",
         " mid_nm": "nan",
         " suff": "nan",
         " gndr": "M",
         " Cred": "nan",
         " Med_sch": "UNIVERSITY OF KENTUCKY COLLEGE OF MEDICINE",
         " Grd_yr": 2005,
         " pri_spec": "GENERAL SURGERY",
         " sec_spec_1": "nan",
         " sec_spec_2": "nan",
         " sec_spec_3": "nan",
         " sec_spec_4": "nan",
         " sec_spec_all": "nan",
         " org_nm": "nan",
         " org_pac_id": "nan",
         " num_org_mem": "nan",
         " adr_ln_1": "7330 SW 62ND PL",
         " adr_ln_2": "SUITE 210",
         " ln_2_sprs": "nan",
         " cty": "SOUTH MIAMI",
         " st": "FL",
         " zip": "331434825",
         " phn_numbr": "nan",
         " hosp_afl_1": "nan",
         " hosp_afl_lbn_1": "nan",
         " hosp_afl_2": "nan",
         " hosp_afl_lbn_2": "nan",
         " hosp_afl_3": "nan",
         " hosp_afl_lbn_3": "nan",
         " hosp_afl_4": "nan",
         " hosp_afl_lbn_4": "nan",
         " hosp_afl_5": "nan",
         " hosp_afl_lbn_5": "nan",
         " ind_assgn": "Y",
         " grp_assgn": "M",
         " adrs_id": "FL331434825SO7330XPLXX403",
         "_deepnote_index_column": 2
        },
        {
         "NPI": 1215138714,
         " Ind_PAC_ID": 8022188820,
         " Ind_enrl_ID": "I20080605000567",
         " lst_nm": "PHAM",
         " frst_nm": "ANTHONY",
         " mid_nm": "nan",
         " suff": "nan",
         " gndr": "M",
         " Cred": "nan",
         " Med_sch": "UNIVERSITY OF NORTH TEXAS HSC, COLLEGE OF OSTEOPATHIC MED",
         " Grd_yr": 2003,
         " pri_spec": "PHYSICAL MEDICINE AND REHABILITATION",
         " sec_spec_1": "INTERVENTIONAL PAIN MANAGEMENT",
         " sec_spec_2": "nan",
         " sec_spec_3": "nan",
         " sec_spec_4": "nan",
         " sec_spec_all": "INTERVENTIONAL PAIN MANAGEMENT",
         " org_nm": "nan",
         " org_pac_id": "nan",
         " num_org_mem": "nan",
         " adr_ln_1": "11799 BEECHNUT ST",
         " adr_ln_2": "SUITE A",
         " ln_2_sprs": "nan",
         " cty": "HOUSTON",
         " st": "TX",
         " zip": "770724116",
         " phn_numbr": "nan",
         " hosp_afl_1": "nan",
         " hosp_afl_lbn_1": "nan",
         " hosp_afl_2": "nan",
         " hosp_afl_lbn_2": "nan",
         " hosp_afl_3": "nan",
         " hosp_afl_lbn_3": "nan",
         " hosp_afl_4": "nan",
         " hosp_afl_lbn_4": "nan",
         " hosp_afl_5": "nan",
         " hosp_afl_lbn_5": "nan",
         " ind_assgn": "Y",
         " grp_assgn": "M",
         " adrs_id": "TX770724116HO11799STXX301",
         "_deepnote_index_column": 3
        },
        {
         "NPI": 1215127840,
         " Ind_PAC_ID": 8527950369,
         " Ind_enrl_ID": "I20040326000913",
         " lst_nm": "NELSON VANCINI",
         " frst_nm": "MARCIA",
         " mid_nm": "E",
         " suff": "nan",
         " gndr": "F",
         " Cred": "CNS",
         " Med_sch": "OTHER",
         " Grd_yr": 2002,
         " pri_spec": "CERTIFIED CLINICAL NURSE SPECIALIST (CNS)",
         " sec_spec_1": "nan",
         " sec_spec_2": "nan",
         " sec_spec_3": "nan",
         " sec_spec_4": "nan",
         " sec_spec_all": "nan",
         " org_nm": "nan",
         " org_pac_id": "nan",
         " num_org_mem": "nan",
         " adr_ln_1": "2 BRENTWOOD CIR",
         " adr_ln_2": "nan",
         " ln_2_sprs": "nan",
         " cty": "ANDOVER",
         " st": "MA",
         " zip": "018105129",
         " phn_numbr": 9783358785,
         " hosp_afl_1": 220010,
         " hosp_afl_lbn_1": "LAWRENCE GENERAL HOSPITAL",
         " hosp_afl_2": "nan",
         " hosp_afl_lbn_2": "nan",
         " hosp_afl_3": "nan",
         " hosp_afl_lbn_3": "nan",
         " hosp_afl_4": "nan",
         " hosp_afl_lbn_4": "nan",
         " hosp_afl_5": "nan",
         " hosp_afl_lbn_5": "nan",
         " ind_assgn": "Y",
         " grp_assgn": "M",
         " adrs_id": "MA018105129AN2XXXXCIRX300",
         "_deepnote_index_column": 4
        }
       ]
      },
      "text/plain": "          NPI   Ind_PAC_ID      Ind_enrl_ID          lst_nm    frst_nm  \\\n0  1215321872   3870667793  I20150803001151        MASIELLO        EVE   \n1  1215195664   6204988652  I20090715000375            DURU  CELESTINA   \n2  1215188925   5193982478  I20120130000697      KESHAVARZI       REZA   \n3  1215138714   8022188820  I20080605000567            PHAM    ANTHONY   \n4  1215127840   8527950369  I20040326000913  NELSON VANCINI     MARCIA   \n\n   mid_nm  suff  gndr  Cred  \\\n0     NaN   NaN     F   NaN   \n1       N   NaN     F   NaN   \n2     NaN   NaN     M   NaN   \n3     NaN   NaN     M   NaN   \n4       E   NaN     F   CNS   \n\n                                             Med_sch  ...   hosp_afl_lbn_2  \\\n0                                              OTHER  ...              NaN   \n1             NEW YORK COLLEGE OF PODIATRIC MEDICINE  ...              NaN   \n2         UNIVERSITY OF KENTUCKY COLLEGE OF MEDICINE  ...              NaN   \n3  UNIVERSITY OF NORTH TEXAS HSC, COLLEGE OF OSTE...  ...              NaN   \n4                                              OTHER  ...              NaN   \n\n   hosp_afl_3  hosp_afl_lbn_3  hosp_afl_4  hosp_afl_lbn_4  hosp_afl_5  \\\n0         NaN             NaN         NaN             NaN         NaN   \n1         NaN             NaN         NaN             NaN         NaN   \n2         NaN             NaN         NaN             NaN         NaN   \n3         NaN             NaN         NaN             NaN         NaN   \n4         NaN             NaN         NaN             NaN         NaN   \n\n   hosp_afl_lbn_5   ind_assgn   grp_assgn                    adrs_id  \n0             NaN           M           M  MA023603826PL120XXSTXX300  \n1             NaN           Y           M  TX750619580IR2000XRDXX303  \n2             NaN           Y           M  FL331434825SO7330XPLXX403  \n3             NaN           Y           M  TX770724116HO11799STXX301  \n4             NaN           Y           M  MA018105129AN2XXXXCIRX300  \n\n[5 rows x 40 columns]",
      "text/html": "<div>\n<style scoped>\n    .dataframe tbody tr th:only-of-type {\n        vertical-align: middle;\n    }\n\n    .dataframe tbody tr th {\n        vertical-align: top;\n    }\n\n    .dataframe thead th {\n        text-align: right;\n    }\n</style>\n<table border=\"1\" class=\"dataframe\">\n  <thead>\n    <tr style=\"text-align: right;\">\n      <th></th>\n      <th>NPI</th>\n      <th>Ind_PAC_ID</th>\n      <th>Ind_enrl_ID</th>\n      <th>lst_nm</th>\n      <th>frst_nm</th>\n      <th>mid_nm</th>\n      <th>suff</th>\n      <th>gndr</th>\n      <th>Cred</th>\n      <th>Med_sch</th>\n      <th>...</th>\n      <th>hosp_afl_lbn_2</th>\n      <th>hosp_afl_3</th>\n      <th>hosp_afl_lbn_3</th>\n      <th>hosp_afl_4</th>\n      <th>hosp_afl_lbn_4</th>\n      <th>hosp_afl_5</th>\n      <th>hosp_afl_lbn_5</th>\n      <th>ind_assgn</th>\n      <th>grp_assgn</th>\n      <th>adrs_id</th>\n    </tr>\n  </thead>\n  <tbody>\n    <tr>\n      <th>0</th>\n      <td>1215321872</td>\n      <td>3870667793</td>\n      <td>I20150803001151</td>\n      <td>MASIELLO</td>\n      <td>EVE</td>\n      <td>NaN</td>\n      <td>NaN</td>\n      <td>F</td>\n      <td>NaN</td>\n      <td>OTHER</td>\n      <td>...</td>\n      <td>NaN</td>\n      <td>NaN</td>\n      <td>NaN</td>\n      <td>NaN</td>\n      <td>NaN</td>\n      <td>NaN</td>\n      <td>NaN</td>\n      <td>M</td>\n      <td>M</td>\n      <td>MA023603826PL120XXSTXX300</td>\n    </tr>\n    <tr>\n      <th>1</th>\n      <td>1215195664</td>\n      <td>6204988652</td>\n      <td>I20090715000375</td>\n      <td>DURU</td>\n      <td>CELESTINA</td>\n      <td>N</td>\n      <td>NaN</td>\n      <td>F</td>\n      <td>NaN</td>\n      <td>NEW YORK COLLEGE OF PODIATRIC MEDICINE</td>\n      <td>...</td>\n      <td>NaN</td>\n      <td>NaN</td>\n      <td>NaN</td>\n      <td>NaN</td>\n      <td>NaN</td>\n      <td>NaN</td>\n      <td>NaN</td>\n      <td>Y</td>\n      <td>M</td>\n      <td>TX750619580IR2000XRDXX303</td>\n    </tr>\n    <tr>\n      <th>2</th>\n      <td>1215188925</td>\n      <td>5193982478</td>\n      <td>I20120130000697</td>\n      <td>KESHAVARZI</td>\n      <td>REZA</td>\n      <td>NaN</td>\n      <td>NaN</td>\n      <td>M</td>\n      <td>NaN</td>\n      <td>UNIVERSITY OF KENTUCKY COLLEGE OF MEDICINE</td>\n      <td>...</td>\n      <td>NaN</td>\n      <td>NaN</td>\n      <td>NaN</td>\n      <td>NaN</td>\n      <td>NaN</td>\n      <td>NaN</td>\n      <td>NaN</td>\n      <td>Y</td>\n      <td>M</td>\n      <td>FL331434825SO7330XPLXX403</td>\n    </tr>\n    <tr>\n      <th>3</th>\n      <td>1215138714</td>\n      <td>8022188820</td>\n      <td>I20080605000567</td>\n      <td>PHAM</td>\n      <td>ANTHONY</td>\n      <td>NaN</td>\n      <td>NaN</td>\n      <td>M</td>\n      <td>NaN</td>\n      <td>UNIVERSITY OF NORTH TEXAS HSC, COLLEGE OF OSTE...</td>\n      <td>...</td>\n      <td>NaN</td>\n      <td>NaN</td>\n      <td>NaN</td>\n      <td>NaN</td>\n      <td>NaN</td>\n      <td>NaN</td>\n      <td>NaN</td>\n      <td>Y</td>\n      <td>M</td>\n      <td>TX770724116HO11799STXX301</td>\n    </tr>\n    <tr>\n      <th>4</th>\n      <td>1215127840</td>\n      <td>8527950369</td>\n      <td>I20040326000913</td>\n      <td>NELSON VANCINI</td>\n      <td>MARCIA</td>\n      <td>E</td>\n      <td>NaN</td>\n      <td>F</td>\n      <td>CNS</td>\n      <td>OTHER</td>\n      <td>...</td>\n      <td>NaN</td>\n      <td>NaN</td>\n      <td>NaN</td>\n      <td>NaN</td>\n      <td>NaN</td>\n      <td>NaN</td>\n      <td>NaN</td>\n      <td>Y</td>\n      <td>M</td>\n      <td>MA018105129AN2XXXXCIRX300</td>\n    </tr>\n  </tbody>\n</table>\n<p>5 rows × 40 columns</p>\n</div>"
     },
     "metadata": {}
    }
   ]
  },
  {
   "cell_type": "code",
   "metadata": {
    "tags": [],
    "deepnote_to_be_reexecuted": false,
    "source_hash": "bca0b0b3",
    "execution_start": 1645036490381,
    "execution_millis": 218,
    "deepnote_output_heights": [
     21.1875
    ],
    "cell_id": "00013-f55e1a16-cf29-4948-ab37-88250a414562",
    "deepnote_cell_type": "code"
   },
   "source": "df.shape ",
   "execution_count": null,
   "outputs": [
    {
     "output_type": "execute_result",
     "execution_count": 8,
     "data": {
      "text/plain": "(10000, 40)"
     },
     "metadata": {}
    }
   ]
  },
  {
   "cell_type": "code",
   "metadata": {
    "tags": [],
    "deepnote_to_be_reexecuted": false,
    "source_hash": "de1e323c",
    "execution_start": 1645036490389,
    "execution_millis": 212,
    "deepnote_app_coordinates": {
     "x": 0,
     "y": 344,
     "w": 12,
     "h": 28
    },
    "cell_id": "00014-68d1dac7-d0e8-46c8-b899-74299d25e699",
    "deepnote_cell_type": "code"
   },
   "source": "df.info()",
   "execution_count": null,
   "outputs": [
    {
     "name": "stdout",
     "text": "<class 'pandas.core.frame.DataFrame'>\nRangeIndex: 10000 entries, 0 to 9999\nData columns (total 40 columns):\n #   Column           Non-Null Count  Dtype  \n---  ------           --------------  -----  \n 0   NPI              10000 non-null  int64  \n 1    Ind_PAC_ID      10000 non-null  int64  \n 2    Ind_enrl_ID     10000 non-null  object \n 3    lst_nm          10000 non-null  object \n 4    frst_nm         10000 non-null  object \n 5    mid_nm          7559 non-null   object \n 6    suff            206 non-null    object \n 7    gndr            10000 non-null  object \n 8    Cred            3620 non-null   object \n 9    Med_sch         10000 non-null  object \n 10   Grd_yr          9995 non-null   float64\n 11   pri_spec        10000 non-null  object \n 12   sec_spec_1      1209 non-null   object \n 13   sec_spec_2      171 non-null    object \n 14   sec_spec_3      27 non-null     object \n 15   sec_spec_4      8 non-null      object \n 16   sec_spec_all    1209 non-null   object \n 17   org_nm          0 non-null      float64\n 18   org_pac_id      0 non-null      float64\n 19   num_org_mem     0 non-null      float64\n 20   adr_ln_1        10000 non-null  object \n 21   adr_ln_2        5130 non-null   object \n 22   ln_2_sprs       64 non-null     object \n 23   cty             10000 non-null  object \n 24   st              10000 non-null  object \n 25   zip             10000 non-null  object \n 26   phn_numbr       3318 non-null   float64\n 27   hosp_afl_1      3127 non-null   float64\n 28   hosp_afl_lbn_1  3112 non-null   object \n 29   hosp_afl_2      1589 non-null   float64\n 30   hosp_afl_lbn_2  1573 non-null   object \n 31   hosp_afl_3      738 non-null    float64\n 32   hosp_afl_lbn_3  732 non-null    object \n 33   hosp_afl_4      345 non-null    float64\n 34   hosp_afl_lbn_4  341 non-null    object \n 35   hosp_afl_5      153 non-null    float64\n 36   hosp_afl_lbn_5  152 non-null    object \n 37   ind_assgn       10000 non-null  object \n 38   grp_assgn       10000 non-null  object \n 39   adrs_id         10000 non-null  object \ndtypes: float64(10), int64(2), object(28)\nmemory usage: 3.1+ MB\n",
     "output_type": "stream"
    }
   ]
  },
  {
   "cell_type": "code",
   "metadata": {
    "tags": [],
    "deepnote_to_be_reexecuted": false,
    "source_hash": "b1cecf2d",
    "execution_start": 1645036490472,
    "execution_millis": 296,
    "deepnote_table_state": {
     "pageSize": 10,
     "pageIndex": 0,
     "filters": [],
     "sortBy": []
    },
    "deepnote_table_loading": false,
    "deepnote_output_heights": [
     382.1875
    ],
    "deepnote_app_coordinates": {
     "x": 0,
     "y": 373,
     "w": 12,
     "h": 24
    },
    "cell_id": "00015-43af60d0-bb73-44b4-9964-6f0771ee10f2",
    "deepnote_cell_type": "code"
   },
   "source": "df.describe(include='all')",
   "execution_count": null,
   "outputs": [
    {
     "output_type": "execute_result",
     "execution_count": 10,
     "data": {
      "application/vnd.deepnote.dataframe.v3+json": {
       "column_count": 40,
       "row_count": 11,
       "columns": [
        {
         "name": "NPI",
         "dtype": "float64",
         "stats": {
          "unique_count": 8,
          "nan_count": 3,
          "min": "10000.0",
          "max": "1215356100.0",
          "histogram": [
           {
            "bin_start": 10000,
            "bin_end": 121544610,
            "count": 2
           },
           {
            "bin_start": 121544610,
            "bin_end": 243079220,
            "count": 0
           },
           {
            "bin_start": 243079220,
            "bin_end": 364613830,
            "count": 0
           },
           {
            "bin_start": 364613830,
            "bin_end": 486148440,
            "count": 0
           },
           {
            "bin_start": 486148440,
            "bin_end": 607683050,
            "count": 0
           },
           {
            "bin_start": 607683050,
            "bin_end": 729217660,
            "count": 0
           },
           {
            "bin_start": 729217660,
            "bin_end": 850752270,
            "count": 0
           },
           {
            "bin_start": 850752270,
            "bin_end": 972286880,
            "count": 0
           },
           {
            "bin_start": 972286880,
            "bin_end": 1093821490,
            "count": 0
           },
           {
            "bin_start": 1093821490,
            "bin_end": 1215356100,
            "count": 6
           }
          ]
         }
        },
        {
         "name": " Ind_PAC_ID",
         "dtype": "float64",
         "stats": {
          "unique_count": 8,
          "nan_count": 3,
          "min": "10000.0",
          "max": "9931520210.0",
          "histogram": [
           {
            "bin_start": 10000,
            "bin_end": 993161021,
            "count": 2
           },
           {
            "bin_start": 993161021,
            "bin_end": 1986312042,
            "count": 0
           },
           {
            "bin_start": 1986312042,
            "bin_end": 2979463063,
            "count": 2
           },
           {
            "bin_start": 2979463063,
            "bin_end": 3972614084,
            "count": 0
           },
           {
            "bin_start": 3972614084,
            "bin_end": 4965765105,
            "count": 0
           },
           {
            "bin_start": 4965765105,
            "bin_end": 5958916126,
            "count": 2
           },
           {
            "bin_start": 5958916126,
            "bin_end": 6952067147,
            "count": 0
           },
           {
            "bin_start": 6952067147,
            "bin_end": 7945218168,
            "count": 1
           },
           {
            "bin_start": 7945218168,
            "bin_end": 8938369189,
            "count": 0
           },
           {
            "bin_start": 8938369189,
            "bin_end": 9931520210,
            "count": 1
           }
          ]
         }
        },
        {
         "name": " Ind_enrl_ID",
         "dtype": "object",
         "stats": {
          "unique_count": 4,
          "nan_count": 7,
          "categories": [
           {
            "name": "10000",
            "count": 1
           },
           {
            "name": "3 others",
            "count": 3
           },
           {
            "name": "Missing",
            "count": 7
           }
          ]
         }
        },
        {
         "name": " lst_nm",
         "dtype": "object",
         "stats": {
          "unique_count": 4,
          "nan_count": 7,
          "categories": [
           {
            "name": "10000",
            "count": 1
           },
           {
            "name": "3 others",
            "count": 3
           },
           {
            "name": "Missing",
            "count": 7
           }
          ]
         }
        },
        {
         "name": " frst_nm",
         "dtype": "object",
         "stats": {
          "unique_count": 4,
          "nan_count": 7,
          "categories": [
           {
            "name": "10000",
            "count": 1
           },
           {
            "name": "3 others",
            "count": 3
           },
           {
            "name": "Missing",
            "count": 7
           }
          ]
         }
        },
        {
         "name": " mid_nm",
         "dtype": "object",
         "stats": {
          "unique_count": 4,
          "nan_count": 7,
          "categories": [
           {
            "name": "7559",
            "count": 1
           },
           {
            "name": "3 others",
            "count": 3
           },
           {
            "name": "Missing",
            "count": 7
           }
          ]
         }
        },
        {
         "name": " suff",
         "dtype": "object",
         "stats": {
          "unique_count": 4,
          "nan_count": 7,
          "categories": [
           {
            "name": "206",
            "count": 1
           },
           {
            "name": "3 others",
            "count": 3
           },
           {
            "name": "Missing",
            "count": 7
           }
          ]
         }
        },
        {
         "name": " gndr",
         "dtype": "object",
         "stats": {
          "unique_count": 4,
          "nan_count": 7,
          "categories": [
           {
            "name": "10000",
            "count": 1
           },
           {
            "name": "3 others",
            "count": 3
           },
           {
            "name": "Missing",
            "count": 7
           }
          ]
         }
        },
        {
         "name": " Cred",
         "dtype": "object",
         "stats": {
          "unique_count": 4,
          "nan_count": 7,
          "categories": [
           {
            "name": "3620",
            "count": 1
           },
           {
            "name": "3 others",
            "count": 3
           },
           {
            "name": "Missing",
            "count": 7
           }
          ]
         }
        },
        {
         "name": " Med_sch",
         "dtype": "object",
         "stats": {
          "unique_count": 4,
          "nan_count": 7,
          "categories": [
           {
            "name": "10000",
            "count": 1
           },
           {
            "name": "3 others",
            "count": 3
           },
           {
            "name": "Missing",
            "count": 7
           }
          ]
         }
        },
        {
         "name": " Grd_yr",
         "dtype": "float64",
         "stats": {
          "unique_count": 8,
          "nan_count": 3,
          "min": "12.94371061740444",
          "max": "9995.0",
          "histogram": [
           {
            "bin_start": 12.94371061740444,
            "bin_end": 1011.149339555664,
            "count": 1
           },
           {
            "bin_start": 1011.149339555664,
            "bin_end": 2009.3549684939235,
            "count": 5
           },
           {
            "bin_start": 2009.3549684939235,
            "bin_end": 3007.5605974321834,
            "count": 1
           },
           {
            "bin_start": 3007.5605974321834,
            "bin_end": 4005.766226370443,
            "count": 0
           },
           {
            "bin_start": 4005.766226370443,
            "bin_end": 5003.971855308702,
            "count": 0
           },
           {
            "bin_start": 5003.971855308702,
            "bin_end": 6002.177484246962,
            "count": 0
           },
           {
            "bin_start": 6002.177484246962,
            "bin_end": 7000.383113185221,
            "count": 0
           },
           {
            "bin_start": 7000.383113185221,
            "bin_end": 7998.588742123481,
            "count": 0
           },
           {
            "bin_start": 7998.588742123481,
            "bin_end": 8996.79437106174,
            "count": 0
           },
           {
            "bin_start": 8996.79437106174,
            "bin_end": 9995,
            "count": 1
           }
          ]
         }
        },
        {
         "name": " pri_spec",
         "dtype": "object",
         "stats": {
          "unique_count": 4,
          "nan_count": 7,
          "categories": [
           {
            "name": "10000",
            "count": 1
           },
           {
            "name": "3 others",
            "count": 3
           },
           {
            "name": "Missing",
            "count": 7
           }
          ]
         }
        },
        {
         "name": " sec_spec_1",
         "dtype": "object",
         "stats": {
          "unique_count": 4,
          "nan_count": 7,
          "categories": [
           {
            "name": "1209",
            "count": 1
           },
           {
            "name": "3 others",
            "count": 3
           },
           {
            "name": "Missing",
            "count": 7
           }
          ]
         }
        },
        {
         "name": " sec_spec_2",
         "dtype": "object",
         "stats": {
          "unique_count": 4,
          "nan_count": 7,
          "categories": [
           {
            "name": "171",
            "count": 1
           },
           {
            "name": "3 others",
            "count": 3
           },
           {
            "name": "Missing",
            "count": 7
           }
          ]
         }
        },
        {
         "name": " sec_spec_3",
         "dtype": "object",
         "stats": {
          "unique_count": 4,
          "nan_count": 7,
          "categories": [
           {
            "name": "27",
            "count": 1
           },
           {
            "name": "3 others",
            "count": 3
           },
           {
            "name": "Missing",
            "count": 7
           }
          ]
         }
        },
        {
         "name": " sec_spec_4",
         "dtype": "object",
         "stats": {
          "unique_count": 4,
          "nan_count": 7,
          "categories": [
           {
            "name": "8",
            "count": 1
           },
           {
            "name": "3 others",
            "count": 3
           },
           {
            "name": "Missing",
            "count": 7
           }
          ]
         }
        },
        {
         "name": " sec_spec_all",
         "dtype": "object",
         "stats": {
          "unique_count": 4,
          "nan_count": 7,
          "categories": [
           {
            "name": "1209",
            "count": 1
           },
           {
            "name": "3 others",
            "count": 3
           },
           {
            "name": "Missing",
            "count": 7
           }
          ]
         }
        },
        {
         "name": " org_nm",
         "dtype": "float64",
         "stats": {
          "unique_count": 1,
          "nan_count": 10,
          "min": "0.0",
          "max": "0.0",
          "histogram": [
           {
            "bin_start": -0.5,
            "bin_end": -0.4,
            "count": 0
           },
           {
            "bin_start": -0.4,
            "bin_end": -0.3,
            "count": 0
           },
           {
            "bin_start": -0.3,
            "bin_end": -0.19999999999999996,
            "count": 0
           },
           {
            "bin_start": -0.19999999999999996,
            "bin_end": -0.09999999999999998,
            "count": 0
           },
           {
            "bin_start": -0.09999999999999998,
            "bin_end": 0,
            "count": 0
           },
           {
            "bin_start": 0,
            "bin_end": 0.10000000000000009,
            "count": 1
           },
           {
            "bin_start": 0.10000000000000009,
            "bin_end": 0.20000000000000007,
            "count": 0
           },
           {
            "bin_start": 0.20000000000000007,
            "bin_end": 0.30000000000000004,
            "count": 0
           },
           {
            "bin_start": 0.30000000000000004,
            "bin_end": 0.4,
            "count": 0
           },
           {
            "bin_start": 0.4,
            "bin_end": 0.5,
            "count": 0
           }
          ]
         }
        },
        {
         "name": " org_pac_id",
         "dtype": "float64",
         "stats": {
          "unique_count": 1,
          "nan_count": 10,
          "min": "0.0",
          "max": "0.0",
          "histogram": [
           {
            "bin_start": -0.5,
            "bin_end": -0.4,
            "count": 0
           },
           {
            "bin_start": -0.4,
            "bin_end": -0.3,
            "count": 0
           },
           {
            "bin_start": -0.3,
            "bin_end": -0.19999999999999996,
            "count": 0
           },
           {
            "bin_start": -0.19999999999999996,
            "bin_end": -0.09999999999999998,
            "count": 0
           },
           {
            "bin_start": -0.09999999999999998,
            "bin_end": 0,
            "count": 0
           },
           {
            "bin_start": 0,
            "bin_end": 0.10000000000000009,
            "count": 1
           },
           {
            "bin_start": 0.10000000000000009,
            "bin_end": 0.20000000000000007,
            "count": 0
           },
           {
            "bin_start": 0.20000000000000007,
            "bin_end": 0.30000000000000004,
            "count": 0
           },
           {
            "bin_start": 0.30000000000000004,
            "bin_end": 0.4,
            "count": 0
           },
           {
            "bin_start": 0.4,
            "bin_end": 0.5,
            "count": 0
           }
          ]
         }
        },
        {
         "name": " num_org_mem",
         "dtype": "float64",
         "stats": {
          "unique_count": 1,
          "nan_count": 10,
          "min": "0.0",
          "max": "0.0",
          "histogram": [
           {
            "bin_start": -0.5,
            "bin_end": -0.4,
            "count": 0
           },
           {
            "bin_start": -0.4,
            "bin_end": -0.3,
            "count": 0
           },
           {
            "bin_start": -0.3,
            "bin_end": -0.19999999999999996,
            "count": 0
           },
           {
            "bin_start": -0.19999999999999996,
            "bin_end": -0.09999999999999998,
            "count": 0
           },
           {
            "bin_start": -0.09999999999999998,
            "bin_end": 0,
            "count": 0
           },
           {
            "bin_start": 0,
            "bin_end": 0.10000000000000009,
            "count": 1
           },
           {
            "bin_start": 0.10000000000000009,
            "bin_end": 0.20000000000000007,
            "count": 0
           },
           {
            "bin_start": 0.20000000000000007,
            "bin_end": 0.30000000000000004,
            "count": 0
           },
           {
            "bin_start": 0.30000000000000004,
            "bin_end": 0.4,
            "count": 0
           },
           {
            "bin_start": 0.4,
            "bin_end": 0.5,
            "count": 0
           }
          ]
         }
        },
        {
         "name": " adr_ln_1",
         "dtype": "object",
         "stats": {
          "unique_count": 4,
          "nan_count": 7,
          "categories": [
           {
            "name": "10000",
            "count": 1
           },
           {
            "name": "3 others",
            "count": 3
           },
           {
            "name": "Missing",
            "count": 7
           }
          ]
         }
        },
        {
         "name": " adr_ln_2",
         "dtype": "object",
         "stats": {
          "unique_count": 4,
          "nan_count": 7,
          "categories": [
           {
            "name": "5130",
            "count": 1
           },
           {
            "name": "3 others",
            "count": 3
           },
           {
            "name": "Missing",
            "count": 7
           }
          ]
         }
        },
        {
         "name": " ln_2_sprs",
         "dtype": "object",
         "stats": {
          "unique_count": 3,
          "nan_count": 7,
          "categories": [
           {
            "name": "64",
            "count": 2
           },
           {
            "name": "2 others",
            "count": 2
           },
           {
            "name": "Missing",
            "count": 7
           }
          ]
         }
        },
        {
         "name": " cty",
         "dtype": "object",
         "stats": {
          "unique_count": 4,
          "nan_count": 7,
          "categories": [
           {
            "name": "10000",
            "count": 1
           },
           {
            "name": "3 others",
            "count": 3
           },
           {
            "name": "Missing",
            "count": 7
           }
          ]
         }
        },
        {
         "name": " st",
         "dtype": "object",
         "stats": {
          "unique_count": 4,
          "nan_count": 7,
          "categories": [
           {
            "name": "10000",
            "count": 1
           },
           {
            "name": "3 others",
            "count": 3
           },
           {
            "name": "Missing",
            "count": 7
           }
          ]
         }
        },
        {
         "name": " zip",
         "dtype": "object",
         "stats": {
          "unique_count": 4,
          "nan_count": 7,
          "categories": [
           {
            "name": "10000",
            "count": 1
           },
           {
            "name": "3 others",
            "count": 3
           },
           {
            "name": "Missing",
            "count": 7
           }
          ]
         }
        },
        {
         "name": " phn_numbr",
         "dtype": "float64",
         "stats": {
          "unique_count": 8,
          "nan_count": 3,
          "min": "3318.0",
          "max": "6175953232953232.0",
          "histogram": [
           {
            "bin_start": 3318,
            "bin_end": 617595323298309.4,
            "count": 7
           },
           {
            "bin_start": 617595323298309.4,
            "bin_end": 1235190646593300.8,
            "count": 0
           },
           {
            "bin_start": 1235190646593300.8,
            "bin_end": 1852785969888292,
            "count": 0
           },
           {
            "bin_start": 1852785969888292,
            "bin_end": 2470381293183283.5,
            "count": 0
           },
           {
            "bin_start": 2470381293183283.5,
            "bin_end": 3087976616478275,
            "count": 0
           },
           {
            "bin_start": 3087976616478275,
            "bin_end": 3705571939773266,
            "count": 0
           },
           {
            "bin_start": 3705571939773266,
            "bin_end": 4323167263068257.5,
            "count": 0
           },
           {
            "bin_start": 4323167263068257.5,
            "bin_end": 4940762586363249,
            "count": 0
           },
           {
            "bin_start": 4940762586363249,
            "bin_end": 5558357909658240,
            "count": 0
           },
           {
            "bin_start": 5558357909658240,
            "bin_end": 6175953232953232,
            "count": 1
           }
          ]
         }
        },
        {
         "name": " hosp_afl_1",
         "dtype": "float64",
         "stats": {
          "unique_count": 8,
          "nan_count": 3,
          "min": "3127.0",
          "max": "670280.0",
          "histogram": [
           {
            "bin_start": 3127,
            "bin_end": 69842.3,
            "count": 2
           },
           {
            "bin_start": 69842.3,
            "bin_end": 136557.6,
            "count": 1
           },
           {
            "bin_start": 136557.6,
            "bin_end": 203272.90000000002,
            "count": 1
           },
           {
            "bin_start": 203272.90000000002,
            "bin_end": 269988.2,
            "count": 2
           },
           {
            "bin_start": 269988.2,
            "bin_end": 336703.5,
            "count": 0
           },
           {
            "bin_start": 336703.5,
            "bin_end": 403418.80000000005,
            "count": 1
           },
           {
            "bin_start": 403418.80000000005,
            "bin_end": 470134.10000000003,
            "count": 0
           },
           {
            "bin_start": 470134.10000000003,
            "bin_end": 536849.4,
            "count": 0
           },
           {
            "bin_start": 536849.4,
            "bin_end": 603564.7000000001,
            "count": 0
           },
           {
            "bin_start": 603564.7000000001,
            "bin_end": 670280,
            "count": 1
           }
          ]
         }
        },
        {
         "name": " hosp_afl_lbn_1",
         "dtype": "object",
         "stats": {
          "unique_count": 4,
          "nan_count": 7,
          "categories": [
           {
            "name": "3112",
            "count": 1
           },
           {
            "name": "3 others",
            "count": 3
           },
           {
            "name": "Missing",
            "count": 7
           }
          ]
         }
        },
        {
         "name": " hosp_afl_2",
         "dtype": "float64",
         "stats": {
          "unique_count": 8,
          "nan_count": 3,
          "min": "1589.0",
          "max": "670222.0",
          "histogram": [
           {
            "bin_start": 1589,
            "bin_end": 68452.3,
            "count": 2
           },
           {
            "bin_start": 68452.3,
            "bin_end": 135315.6,
            "count": 1
           },
           {
            "bin_start": 135315.6,
            "bin_end": 202178.90000000002,
            "count": 1
           },
           {
            "bin_start": 202178.90000000002,
            "bin_end": 269042.2,
            "count": 2
           },
           {
            "bin_start": 269042.2,
            "bin_end": 335905.5,
            "count": 0
           },
           {
            "bin_start": 335905.5,
            "bin_end": 402768.80000000005,
            "count": 1
           },
           {
            "bin_start": 402768.80000000005,
            "bin_end": 469632.10000000003,
            "count": 0
           },
           {
            "bin_start": 469632.10000000003,
            "bin_end": 536495.4,
            "count": 0
           },
           {
            "bin_start": 536495.4,
            "bin_end": 603358.7000000001,
            "count": 0
           },
           {
            "bin_start": 603358.7000000001,
            "bin_end": 670222,
            "count": 1
           }
          ]
         }
        },
        {
         "name": " hosp_afl_lbn_2",
         "dtype": "object",
         "stats": {
          "unique_count": 4,
          "nan_count": 7,
          "categories": [
           {
            "name": "1573",
            "count": 1
           },
           {
            "name": "3 others",
            "count": 3
           },
           {
            "name": "Missing",
            "count": 7
           }
          ]
         }
        },
        {
         "name": " hosp_afl_3",
         "dtype": "float64",
         "stats": {
          "unique_count": 8,
          "nan_count": 3,
          "min": "738.0",
          "max": "670187.0",
          "histogram": [
           {
            "bin_start": 738,
            "bin_end": 67682.9,
            "count": 2
           },
           {
            "bin_start": 67682.9,
            "bin_end": 134627.8,
            "count": 1
           },
           {
            "bin_start": 134627.8,
            "bin_end": 201572.69999999998,
            "count": 1
           },
           {
            "bin_start": 201572.69999999998,
            "bin_end": 268517.6,
            "count": 2
           },
           {
            "bin_start": 268517.6,
            "bin_end": 335462.5,
            "count": 0
           },
           {
            "bin_start": 335462.5,
            "bin_end": 402407.39999999997,
            "count": 1
           },
           {
            "bin_start": 402407.39999999997,
            "bin_end": 469352.29999999993,
            "count": 0
           },
           {
            "bin_start": 469352.29999999993,
            "bin_end": 536297.2,
            "count": 0
           },
           {
            "bin_start": 536297.2,
            "bin_end": 603242.1,
            "count": 0
           },
           {
            "bin_start": 603242.1,
            "bin_end": 670187,
            "count": 1
           }
          ]
         }
        },
        {
         "name": " hosp_afl_lbn_3",
         "dtype": "object",
         "stats": {
          "unique_count": 4,
          "nan_count": 7,
          "categories": [
           {
            "name": "732",
            "count": 1
           },
           {
            "name": "3 others",
            "count": 3
           },
           {
            "name": "Missing",
            "count": 7
           }
          ]
         }
        },
        {
         "name": " hosp_afl_4",
         "dtype": "float64",
         "stats": {
          "unique_count": 8,
          "nan_count": 3,
          "min": "345.0",
          "max": "670309.0",
          "histogram": [
           {
            "bin_start": 345,
            "bin_end": 67341.4,
            "count": 2
           },
           {
            "bin_start": 67341.4,
            "bin_end": 134337.8,
            "count": 1
           },
           {
            "bin_start": 134337.8,
            "bin_end": 201334.19999999998,
            "count": 1
           },
           {
            "bin_start": 201334.19999999998,
            "bin_end": 268330.6,
            "count": 2
           },
           {
            "bin_start": 268330.6,
            "bin_end": 335327,
            "count": 0
           },
           {
            "bin_start": 335327,
            "bin_end": 402323.39999999997,
            "count": 1
           },
           {
            "bin_start": 402323.39999999997,
            "bin_end": 469319.79999999993,
            "count": 0
           },
           {
            "bin_start": 469319.79999999993,
            "bin_end": 536316.2,
            "count": 0
           },
           {
            "bin_start": 536316.2,
            "bin_end": 603312.6,
            "count": 0
           },
           {
            "bin_start": 603312.6,
            "bin_end": 670309,
            "count": 1
           }
          ]
         }
        },
        {
         "name": " hosp_afl_lbn_4",
         "dtype": "object",
         "stats": {
          "unique_count": 4,
          "nan_count": 7,
          "categories": [
           {
            "name": "341",
            "count": 1
           },
           {
            "name": "3 others",
            "count": 3
           },
           {
            "name": "Missing",
            "count": 7
           }
          ]
         }
        },
        {
         "name": " hosp_afl_5",
         "dtype": "float64",
         "stats": {
          "unique_count": 8,
          "nan_count": 3,
          "min": "153.0",
          "max": "670223.0",
          "histogram": [
           {
            "bin_start": 153,
            "bin_end": 67160,
            "count": 2
           },
           {
            "bin_start": 67160,
            "bin_end": 134167,
            "count": 1
           },
           {
            "bin_start": 134167,
            "bin_end": 201174,
            "count": 1
           },
           {
            "bin_start": 201174,
            "bin_end": 268181,
            "count": 2
           },
           {
            "bin_start": 268181,
            "bin_end": 335188,
            "count": 0
           },
           {
            "bin_start": 335188,
            "bin_end": 402195,
            "count": 1
           },
           {
            "bin_start": 402195,
            "bin_end": 469202,
            "count": 0
           },
           {
            "bin_start": 469202,
            "bin_end": 536209,
            "count": 0
           },
           {
            "bin_start": 536209,
            "bin_end": 603216,
            "count": 0
           },
           {
            "bin_start": 603216,
            "bin_end": 670223,
            "count": 1
           }
          ]
         }
        },
        {
         "name": " hosp_afl_lbn_5",
         "dtype": "object",
         "stats": {
          "unique_count": 4,
          "nan_count": 7,
          "categories": [
           {
            "name": "152",
            "count": 1
           },
           {
            "name": "3 others",
            "count": 3
           },
           {
            "name": "Missing",
            "count": 7
           }
          ]
         }
        },
        {
         "name": " ind_assgn",
         "dtype": "object",
         "stats": {
          "unique_count": 4,
          "nan_count": 7,
          "categories": [
           {
            "name": "10000",
            "count": 1
           },
           {
            "name": "3 others",
            "count": 3
           },
           {
            "name": "Missing",
            "count": 7
           }
          ]
         }
        },
        {
         "name": " grp_assgn",
         "dtype": "object",
         "stats": {
          "unique_count": 3,
          "nan_count": 7,
          "categories": [
           {
            "name": "10000",
            "count": 2
           },
           {
            "name": "2 others",
            "count": 2
           },
           {
            "name": "Missing",
            "count": 7
           }
          ]
         }
        },
        {
         "name": " adrs_id",
         "dtype": "object",
         "stats": {
          "unique_count": 4,
          "nan_count": 7,
          "categories": [
           {
            "name": "10000",
            "count": 1
           },
           {
            "name": "3 others",
            "count": 3
           },
           {
            "name": "Missing",
            "count": 7
           }
          ]
         }
        },
        {
         "name": "_deepnote_index_column",
         "dtype": "object"
        }
       ],
       "rows": [
        {
         "NPI": 10000,
         " Ind_PAC_ID": 10000,
         " Ind_enrl_ID": "10000",
         " lst_nm": "10000",
         " frst_nm": "10000",
         " mid_nm": "7559",
         " suff": "206",
         " gndr": "10000",
         " Cred": "3620",
         " Med_sch": "10000",
         " Grd_yr": 9995,
         " pri_spec": "10000",
         " sec_spec_1": "1209",
         " sec_spec_2": "171",
         " sec_spec_3": "27",
         " sec_spec_4": "8",
         " sec_spec_all": "1209",
         " org_nm": 0,
         " org_pac_id": 0,
         " num_org_mem": 0,
         " adr_ln_1": "10000",
         " adr_ln_2": "5130",
         " ln_2_sprs": "64",
         " cty": "10000",
         " st": "10000",
         " zip": "10000",
         " phn_numbr": 3318,
         " hosp_afl_1": 3127,
         " hosp_afl_lbn_1": "3112",
         " hosp_afl_2": 1589,
         " hosp_afl_lbn_2": "1573",
         " hosp_afl_3": 738,
         " hosp_afl_lbn_3": "732",
         " hosp_afl_4": 345,
         " hosp_afl_lbn_4": "341",
         " hosp_afl_5": 153,
         " hosp_afl_lbn_5": "152",
         " ind_assgn": "10000",
         " grp_assgn": "10000",
         " adrs_id": "10000",
         "_deepnote_index_column": "count"
        },
        {
         "NPI": "nan",
         " Ind_PAC_ID": "nan",
         " Ind_enrl_ID": "9087",
         " lst_nm": "6568",
         " frst_nm": "2854",
         " mid_nm": "741",
         " suff": "6",
         " gndr": "2",
         " Cred": "19",
         " Med_sch": "252",
         " Grd_yr": "nan",
         " pri_spec": "77",
         " sec_spec_1": "63",
         " sec_spec_2": "40",
         " sec_spec_3": "15",
         " sec_spec_4": "5",
         " sec_spec_all": "166",
         " org_nm": "nan",
         " org_pac_id": "nan",
         " num_org_mem": "nan",
         " adr_ln_1": "9562",
         " adr_ln_2": "1439",
         " ln_2_sprs": "1",
         " cty": "3095",
         " st": "54",
         " zip": "9617",
         " phn_numbr": "nan",
         " hosp_afl_1": "nan",
         " hosp_afl_lbn_1": "1402",
         " hosp_afl_2": "nan",
         " hosp_afl_lbn_2": "895",
         " hosp_afl_3": "nan",
         " hosp_afl_lbn_3": "472",
         " hosp_afl_4": "nan",
         " hosp_afl_lbn_4": "236",
         " hosp_afl_5": "nan",
         " hosp_afl_lbn_5": "109",
         " ind_assgn": "2",
         " grp_assgn": "1",
         " adrs_id": "9907",
         "_deepnote_index_column": "unique"
        },
        {
         "NPI": "nan",
         " Ind_PAC_ID": "nan",
         " Ind_enrl_ID": "I20060816000114",
         " lst_nm": "SMITH",
         " frst_nm": "MICHAEL",
         " mid_nm": "A",
         " suff": "JR.",
         " gndr": "M",
         " Cred": "MD",
         " Med_sch": "OTHER",
         " Grd_yr": "nan",
         " pri_spec": "CHIROPRACTIC",
         " sec_spec_1": "INTERNAL MEDICINE",
         " sec_spec_2": "INTERNAL MEDICINE",
         " sec_spec_3": "PHYSICAL MEDICINE AND REHABILITATION",
         " sec_spec_4": "PREVENTATIVE MEDICINE",
         " sec_spec_all": "INTERNAL MEDICINE",
         " org_nm": "nan",
         " org_pac_id": "nan",
         " num_org_mem": "nan",
         " adr_ln_1": "1216 2ND ST SW",
         " adr_ln_2": "SUITE 100",
         " ln_2_sprs": "Y",
         " cty": "NEW YORK",
         " st": "CA",
         " zip": "559021906",
         " phn_numbr": "nan",
         " hosp_afl_1": "nan",
         " hosp_afl_lbn_1": "NORTH SHORE UNIVERSITY HOSPITAL",
         " hosp_afl_2": "nan",
         " hosp_afl_lbn_2": "LONG ISLAND JEWISH MEDICAL CENTER",
         " hosp_afl_3": "nan",
         " hosp_afl_lbn_3": "MEMORIAL HOSPITAL WEST",
         " hosp_afl_4": "nan",
         " hosp_afl_lbn_4": "CROSSING RIVERS HEALTH MEDICAL CENTER",
         " hosp_afl_5": "nan",
         " hosp_afl_lbn_5": "RIVER'S EDGE HOSPITAL & CLINIC",
         " ind_assgn": "Y",
         " grp_assgn": "M",
         " adrs_id": "MN559021906RO1216XSWXX400",
         "_deepnote_index_column": "top"
        },
        {
         "NPI": "nan",
         " Ind_PAC_ID": "nan",
         " Ind_enrl_ID": "31",
         " lst_nm": "53",
         " frst_nm": "184",
         " mid_nm": "709",
         " suff": "120",
         " gndr": "6300",
         " Cred": "1786",
         " Med_sch": "5246",
         " Grd_yr": "nan",
         " pri_spec": "1629",
         " sec_spec_1": "329",
         " sec_spec_2": "38",
         " sec_spec_3": "4",
         " sec_spec_4": "3",
         " sec_spec_all": "311",
         " org_nm": "nan",
         " org_pac_id": "nan",
         " num_org_mem": "nan",
         " adr_ln_1": "13",
         " adr_ln_2": "166",
         " ln_2_sprs": "64",
         " cty": "163",
         " st": "1313",
         " zip": "13",
         " phn_numbr": "nan",
         " hosp_afl_1": "nan",
         " hosp_afl_lbn_1": "20",
         " hosp_afl_2": "nan",
         " hosp_afl_lbn_2": "13",
         " hosp_afl_3": "nan",
         " hosp_afl_lbn_3": "11",
         " hosp_afl_4": "nan",
         " hosp_afl_lbn_4": "7",
         " hosp_afl_5": "nan",
         " hosp_afl_lbn_5": "7",
         " ind_assgn": "8854",
         " grp_assgn": "10000",
         " adrs_id": "13",
         "_deepnote_index_column": "freq"
        },
        {
         "NPI": 1185267584.4616,
         " Ind_PAC_ID": 4990590463.52,
         " Ind_enrl_ID": "nan",
         " lst_nm": "nan",
         " frst_nm": "nan",
         " mid_nm": "nan",
         " suff": "nan",
         " gndr": "nan",
         " Cred": "nan",
         " Med_sch": "nan",
         " Grd_yr": 1993.7058529264632,
         " pri_spec": "nan",
         " sec_spec_1": "nan",
         " sec_spec_2": "nan",
         " sec_spec_3": "nan",
         " sec_spec_4": "nan",
         " sec_spec_all": "nan",
         " org_nm": "nan",
         " org_pac_id": "nan",
         " num_org_mem": "nan",
         " adr_ln_1": "nan",
         " adr_ln_2": "nan",
         " ln_2_sprs": "nan",
         " cty": "nan",
         " st": "nan",
         " zip": "nan",
         " phn_numbr": 2433188198947.092,
         " hosp_afl_1": 240107.89350815478,
         " hosp_afl_lbn_1": "nan",
         " hosp_afl_2": 244236.25361862808,
         " hosp_afl_lbn_2": "nan",
         " hosp_afl_3": 240744.7723577236,
         " hosp_afl_lbn_3": "nan",
         " hosp_afl_4": 239704.22898550724,
         " hosp_afl_lbn_4": "nan",
         " hosp_afl_5": 236887.46405228757,
         " hosp_afl_lbn_5": "nan",
         " ind_assgn": "nan",
         " grp_assgn": "nan",
         " adrs_id": "nan",
         "_deepnote_index_column": "mean"
        },
        {
         "NPI": 17780298.555023536,
         " Ind_PAC_ID": 2851664725.003334,
         " Ind_enrl_ID": "nan",
         " lst_nm": "nan",
         " frst_nm": "nan",
         " mid_nm": "nan",
         " suff": "nan",
         " gndr": "nan",
         " Cred": "nan",
         " Med_sch": "nan",
         " Grd_yr": 12.94371061740444,
         " pri_spec": "nan",
         " sec_spec_1": "nan",
         " sec_spec_2": "nan",
         " sec_spec_3": "nan",
         " sec_spec_4": "nan",
         " sec_spec_all": "nan",
         " org_nm": "nan",
         " org_pac_id": "nan",
         " num_org_mem": "nan",
         " adr_ln_1": "nan",
         " adr_ln_2": "nan",
         " ln_2_sprs": "nan",
         " cty": "nan",
         " st": "nan",
         " zip": "nan",
         " phn_numbr": 108645848120674.47,
         " hosp_afl_1": 159817.32626374596,
         " hosp_afl_lbn_1": "nan",
         " hosp_afl_2": 164644.3009848853,
         " hosp_afl_lbn_2": "nan",
         " hosp_afl_3": 164234.3277878483,
         " hosp_afl_lbn_3": "nan",
         " hosp_afl_4": 157588.49555132684,
         " hosp_afl_lbn_4": "nan",
         " hosp_afl_5": 156863.7920105674,
         " hosp_afl_lbn_5": "nan",
         " ind_assgn": "nan",
         " grp_assgn": "nan",
         " adrs_id": "nan",
         "_deepnote_index_column": "std"
        },
        {
         "NPI": 1154356152,
         " Ind_PAC_ID": 42103152,
         " Ind_enrl_ID": "nan",
         " lst_nm": "nan",
         " frst_nm": "nan",
         " mid_nm": "nan",
         " suff": "nan",
         " gndr": "nan",
         " Cred": "nan",
         " Med_sch": "nan",
         " Grd_yr": 1951,
         " pri_spec": "nan",
         " sec_spec_1": "nan",
         " sec_spec_2": "nan",
         " sec_spec_3": "nan",
         " sec_spec_4": "nan",
         " sec_spec_all": "nan",
         " org_nm": "nan",
         " org_pac_id": "nan",
         " num_org_mem": "nan",
         " adr_ln_1": "nan",
         " adr_ln_2": "nan",
         " ln_2_sprs": "nan",
         " cty": "nan",
         " st": "nan",
         " zip": "nan",
         " phn_numbr": 2012090200,
         " hosp_afl_1": 10005,
         " hosp_afl_lbn_1": "nan",
         " hosp_afl_2": 10005,
         " hosp_afl_lbn_2": "nan",
         " hosp_afl_3": 10021,
         " hosp_afl_lbn_3": "nan",
         " hosp_afl_4": 10001,
         " hosp_afl_lbn_4": "nan",
         " hosp_afl_5": 10061,
         " hosp_afl_lbn_5": "nan",
         " ind_assgn": "nan",
         " grp_assgn": "nan",
         " adrs_id": "nan",
         "_deepnote_index_column": "min"
        },
        {
         "NPI": 1174504595.5,
         " Ind_PAC_ID": 2567405213.5,
         " Ind_enrl_ID": "nan",
         " lst_nm": "nan",
         " frst_nm": "nan",
         " mid_nm": "nan",
         " suff": "nan",
         " gndr": "nan",
         " Cred": "nan",
         " Med_sch": "nan",
         " Grd_yr": 1984,
         " pri_spec": "nan",
         " sec_spec_1": "nan",
         " sec_spec_2": "nan",
         " sec_spec_3": "nan",
         " sec_spec_4": "nan",
         " sec_spec_all": "nan",
         " org_nm": "nan",
         " org_pac_id": "nan",
         " num_org_mem": "nan",
         " adr_ln_1": "nan",
         " adr_ln_2": "nan",
         " ln_2_sprs": "nan",
         " cty": "nan",
         " st": "nan",
         " zip": "nan",
         " phn_numbr": 4123483143.5,
         " hosp_afl_1": 100038,
         " hosp_afl_lbn_1": "nan",
         " hosp_afl_2": 100075,
         " hosp_afl_lbn_2": "nan",
         " hosp_afl_3": 100127.25,
         " hosp_afl_lbn_3": "nan",
         " hosp_afl_4": 100206,
         " hosp_afl_lbn_4": "nan",
         " hosp_afl_5": 100236,
         " hosp_afl_lbn_5": "nan",
         " ind_assgn": "nan",
         " grp_assgn": "nan",
         " adrs_id": "nan",
         "_deepnote_index_column": "25%"
        },
        {
         "NPI": 1184703204,
         " Ind_PAC_ID": 5092605564,
         " Ind_enrl_ID": "nan",
         " lst_nm": "nan",
         " frst_nm": "nan",
         " mid_nm": "nan",
         " suff": "nan",
         " gndr": "nan",
         " Cred": "nan",
         " Med_sch": "nan",
         " Grd_yr": 1994,
         " pri_spec": "nan",
         " sec_spec_1": "nan",
         " sec_spec_2": "nan",
         " sec_spec_3": "nan",
         " sec_spec_4": "nan",
         " sec_spec_all": "nan",
         " org_nm": "nan",
         " org_pac_id": "nan",
         " num_org_mem": "nan",
         " adr_ln_1": "nan",
         " adr_ln_2": "nan",
         " ln_2_sprs": "nan",
         " cty": "nan",
         " st": "nan",
         " zip": "nan",
         " phn_numbr": 6268165341.5,
         " hosp_afl_1": 230092,
         " hosp_afl_lbn_1": "nan",
         " hosp_afl_2": 230069,
         " hosp_afl_lbn_2": "nan",
         " hosp_afl_3": 230029.5,
         " hosp_afl_lbn_3": "nan",
         " hosp_afl_4": 220163,
         " hosp_afl_lbn_4": "nan",
         " hosp_afl_5": 230053,
         " hosp_afl_lbn_5": "nan",
         " ind_assgn": "nan",
         " grp_assgn": "nan",
         " adrs_id": "nan",
         "_deepnote_index_column": "50%"
        },
        {
         "NPI": 1205007506.25,
         " Ind_PAC_ID": 7416281973.5,
         " Ind_enrl_ID": "nan",
         " lst_nm": "nan",
         " frst_nm": "nan",
         " mid_nm": "nan",
         " suff": "nan",
         " gndr": "nan",
         " Cred": "nan",
         " Med_sch": "nan",
         " Grd_yr": 2004,
         " pri_spec": "nan",
         " sec_spec_1": "nan",
         " sec_spec_2": "nan",
         " sec_spec_3": "nan",
         " sec_spec_4": "nan",
         " sec_spec_all": "nan",
         " org_nm": "nan",
         " org_pac_id": "nan",
         " num_org_mem": "nan",
         " adr_ln_1": "nan",
         " adr_ln_2": "nan",
         " ln_2_sprs": "nan",
         " cty": "nan",
         " st": "nan",
         " zip": "nan",
         " phn_numbr": 8053978685.5,
         " hosp_afl_1": 380018,
         " hosp_afl_lbn_1": "nan",
         " hosp_afl_2": 390006,
         " hosp_afl_lbn_2": "nan",
         " hosp_afl_3": 370028,
         " hosp_afl_lbn_3": "nan",
         " hosp_afl_4": 360055,
         " hosp_afl_lbn_4": "nan",
         " hosp_afl_5": 360133,
         " hosp_afl_lbn_5": "nan",
         " ind_assgn": "nan",
         " grp_assgn": "nan",
         " adrs_id": "nan",
         "_deepnote_index_column": "75%"
        }
       ]
      },
      "text/plain": "                 NPI    Ind_PAC_ID      Ind_enrl_ID  lst_nm  frst_nm  mid_nm  \\\ncount   1.000000e+04  1.000000e+04            10000   10000    10000    7559   \nunique           NaN           NaN             9087    6568     2854     741   \ntop              NaN           NaN  I20060816000114   SMITH  MICHAEL       A   \nfreq             NaN           NaN               31      53      184     709   \nmean    1.185268e+09  4.990590e+09              NaN     NaN      NaN     NaN   \nstd     1.778030e+07  2.851665e+09              NaN     NaN      NaN     NaN   \nmin     1.154356e+09  4.210315e+07              NaN     NaN      NaN     NaN   \n25%     1.174505e+09  2.567405e+09              NaN     NaN      NaN     NaN   \n50%     1.184703e+09  5.092606e+09              NaN     NaN      NaN     NaN   \n75%     1.205008e+09  7.416282e+09              NaN     NaN      NaN     NaN   \nmax     1.215356e+09  9.931520e+09              NaN     NaN      NaN     NaN   \n\n        suff   gndr  Cred  Med_sch  ...                     hosp_afl_lbn_2  \\\ncount    206  10000  3620    10000  ...                               1573   \nunique     6      2    19      252  ...                                895   \ntop      JR.      M    MD    OTHER  ...  LONG ISLAND JEWISH MEDICAL CENTER   \nfreq     120   6300  1786     5246  ...                                 13   \nmean     NaN    NaN   NaN      NaN  ...                                NaN   \nstd      NaN    NaN   NaN      NaN  ...                                NaN   \nmin      NaN    NaN   NaN      NaN  ...                                NaN   \n25%      NaN    NaN   NaN      NaN  ...                                NaN   \n50%      NaN    NaN   NaN      NaN  ...                                NaN   \n75%      NaN    NaN   NaN      NaN  ...                                NaN   \nmax      NaN    NaN   NaN      NaN  ...                                NaN   \n\n           hosp_afl_3          hosp_afl_lbn_3     hosp_afl_4  \\\ncount      738.000000                     732     345.000000   \nunique            NaN                     472            NaN   \ntop               NaN  MEMORIAL HOSPITAL WEST            NaN   \nfreq              NaN                      11            NaN   \nmean    240744.772358                     NaN  239704.228986   \nstd     164234.327788                     NaN  157588.495551   \nmin      10021.000000                     NaN   10001.000000   \n25%     100127.250000                     NaN  100206.000000   \n50%     230029.500000                     NaN  220163.000000   \n75%     370028.000000                     NaN  360055.000000   \nmax     670187.000000                     NaN  670309.000000   \n\n                               hosp_afl_lbn_4     hosp_afl_5  \\\ncount                                     341     153.000000   \nunique                                    236            NaN   \ntop     CROSSING RIVERS HEALTH MEDICAL CENTER            NaN   \nfreq                                        7            NaN   \nmean                                      NaN  236887.464052   \nstd                                       NaN  156863.792011   \nmin                                       NaN   10061.000000   \n25%                                       NaN  100236.000000   \n50%                                       NaN  230053.000000   \n75%                                       NaN  360133.000000   \nmax                                       NaN  670223.000000   \n\n                        hosp_afl_lbn_5   ind_assgn   grp_assgn  \\\ncount                              152       10000       10000   \nunique                             109           2           1   \ntop     RIVER'S EDGE HOSPITAL & CLINIC           Y           M   \nfreq                                 7        8854       10000   \nmean                               NaN         NaN         NaN   \nstd                                NaN         NaN         NaN   \nmin                                NaN         NaN         NaN   \n25%                                NaN         NaN         NaN   \n50%                                NaN         NaN         NaN   \n75%                                NaN         NaN         NaN   \nmax                                NaN         NaN         NaN   \n\n                          adrs_id  \ncount                       10000  \nunique                       9907  \ntop     MN559021906RO1216XSWXX400  \nfreq                           13  \nmean                          NaN  \nstd                           NaN  \nmin                           NaN  \n25%                           NaN  \n50%                           NaN  \n75%                           NaN  \nmax                           NaN  \n\n[11 rows x 40 columns]",
      "text/html": "<div>\n<style scoped>\n    .dataframe tbody tr th:only-of-type {\n        vertical-align: middle;\n    }\n\n    .dataframe tbody tr th {\n        vertical-align: top;\n    }\n\n    .dataframe thead th {\n        text-align: right;\n    }\n</style>\n<table border=\"1\" class=\"dataframe\">\n  <thead>\n    <tr style=\"text-align: right;\">\n      <th></th>\n      <th>NPI</th>\n      <th>Ind_PAC_ID</th>\n      <th>Ind_enrl_ID</th>\n      <th>lst_nm</th>\n      <th>frst_nm</th>\n      <th>mid_nm</th>\n      <th>suff</th>\n      <th>gndr</th>\n      <th>Cred</th>\n      <th>Med_sch</th>\n      <th>...</th>\n      <th>hosp_afl_lbn_2</th>\n      <th>hosp_afl_3</th>\n      <th>hosp_afl_lbn_3</th>\n      <th>hosp_afl_4</th>\n      <th>hosp_afl_lbn_4</th>\n      <th>hosp_afl_5</th>\n      <th>hosp_afl_lbn_5</th>\n      <th>ind_assgn</th>\n      <th>grp_assgn</th>\n      <th>adrs_id</th>\n    </tr>\n  </thead>\n  <tbody>\n    <tr>\n      <th>count</th>\n      <td>1.000000e+04</td>\n      <td>1.000000e+04</td>\n      <td>10000</td>\n      <td>10000</td>\n      <td>10000</td>\n      <td>7559</td>\n      <td>206</td>\n      <td>10000</td>\n      <td>3620</td>\n      <td>10000</td>\n      <td>...</td>\n      <td>1573</td>\n      <td>738.000000</td>\n      <td>732</td>\n      <td>345.000000</td>\n      <td>341</td>\n      <td>153.000000</td>\n      <td>152</td>\n      <td>10000</td>\n      <td>10000</td>\n      <td>10000</td>\n    </tr>\n    <tr>\n      <th>unique</th>\n      <td>NaN</td>\n      <td>NaN</td>\n      <td>9087</td>\n      <td>6568</td>\n      <td>2854</td>\n      <td>741</td>\n      <td>6</td>\n      <td>2</td>\n      <td>19</td>\n      <td>252</td>\n      <td>...</td>\n      <td>895</td>\n      <td>NaN</td>\n      <td>472</td>\n      <td>NaN</td>\n      <td>236</td>\n      <td>NaN</td>\n      <td>109</td>\n      <td>2</td>\n      <td>1</td>\n      <td>9907</td>\n    </tr>\n    <tr>\n      <th>top</th>\n      <td>NaN</td>\n      <td>NaN</td>\n      <td>I20060816000114</td>\n      <td>SMITH</td>\n      <td>MICHAEL</td>\n      <td>A</td>\n      <td>JR.</td>\n      <td>M</td>\n      <td>MD</td>\n      <td>OTHER</td>\n      <td>...</td>\n      <td>LONG ISLAND JEWISH MEDICAL CENTER</td>\n      <td>NaN</td>\n      <td>MEMORIAL HOSPITAL WEST</td>\n      <td>NaN</td>\n      <td>CROSSING RIVERS HEALTH MEDICAL CENTER</td>\n      <td>NaN</td>\n      <td>RIVER'S EDGE HOSPITAL &amp; CLINIC</td>\n      <td>Y</td>\n      <td>M</td>\n      <td>MN559021906RO1216XSWXX400</td>\n    </tr>\n    <tr>\n      <th>freq</th>\n      <td>NaN</td>\n      <td>NaN</td>\n      <td>31</td>\n      <td>53</td>\n      <td>184</td>\n      <td>709</td>\n      <td>120</td>\n      <td>6300</td>\n      <td>1786</td>\n      <td>5246</td>\n      <td>...</td>\n      <td>13</td>\n      <td>NaN</td>\n      <td>11</td>\n      <td>NaN</td>\n      <td>7</td>\n      <td>NaN</td>\n      <td>7</td>\n      <td>8854</td>\n      <td>10000</td>\n      <td>13</td>\n    </tr>\n    <tr>\n      <th>mean</th>\n      <td>1.185268e+09</td>\n      <td>4.990590e+09</td>\n      <td>NaN</td>\n      <td>NaN</td>\n      <td>NaN</td>\n      <td>NaN</td>\n      <td>NaN</td>\n      <td>NaN</td>\n      <td>NaN</td>\n      <td>NaN</td>\n      <td>...</td>\n      <td>NaN</td>\n      <td>240744.772358</td>\n      <td>NaN</td>\n      <td>239704.228986</td>\n      <td>NaN</td>\n      <td>236887.464052</td>\n      <td>NaN</td>\n      <td>NaN</td>\n      <td>NaN</td>\n      <td>NaN</td>\n    </tr>\n    <tr>\n      <th>std</th>\n      <td>1.778030e+07</td>\n      <td>2.851665e+09</td>\n      <td>NaN</td>\n      <td>NaN</td>\n      <td>NaN</td>\n      <td>NaN</td>\n      <td>NaN</td>\n      <td>NaN</td>\n      <td>NaN</td>\n      <td>NaN</td>\n      <td>...</td>\n      <td>NaN</td>\n      <td>164234.327788</td>\n      <td>NaN</td>\n      <td>157588.495551</td>\n      <td>NaN</td>\n      <td>156863.792011</td>\n      <td>NaN</td>\n      <td>NaN</td>\n      <td>NaN</td>\n      <td>NaN</td>\n    </tr>\n    <tr>\n      <th>min</th>\n      <td>1.154356e+09</td>\n      <td>4.210315e+07</td>\n      <td>NaN</td>\n      <td>NaN</td>\n      <td>NaN</td>\n      <td>NaN</td>\n      <td>NaN</td>\n      <td>NaN</td>\n      <td>NaN</td>\n      <td>NaN</td>\n      <td>...</td>\n      <td>NaN</td>\n      <td>10021.000000</td>\n      <td>NaN</td>\n      <td>10001.000000</td>\n      <td>NaN</td>\n      <td>10061.000000</td>\n      <td>NaN</td>\n      <td>NaN</td>\n      <td>NaN</td>\n      <td>NaN</td>\n    </tr>\n    <tr>\n      <th>25%</th>\n      <td>1.174505e+09</td>\n      <td>2.567405e+09</td>\n      <td>NaN</td>\n      <td>NaN</td>\n      <td>NaN</td>\n      <td>NaN</td>\n      <td>NaN</td>\n      <td>NaN</td>\n      <td>NaN</td>\n      <td>NaN</td>\n      <td>...</td>\n      <td>NaN</td>\n      <td>100127.250000</td>\n      <td>NaN</td>\n      <td>100206.000000</td>\n      <td>NaN</td>\n      <td>100236.000000</td>\n      <td>NaN</td>\n      <td>NaN</td>\n      <td>NaN</td>\n      <td>NaN</td>\n    </tr>\n    <tr>\n      <th>50%</th>\n      <td>1.184703e+09</td>\n      <td>5.092606e+09</td>\n      <td>NaN</td>\n      <td>NaN</td>\n      <td>NaN</td>\n      <td>NaN</td>\n      <td>NaN</td>\n      <td>NaN</td>\n      <td>NaN</td>\n      <td>NaN</td>\n      <td>...</td>\n      <td>NaN</td>\n      <td>230029.500000</td>\n      <td>NaN</td>\n      <td>220163.000000</td>\n      <td>NaN</td>\n      <td>230053.000000</td>\n      <td>NaN</td>\n      <td>NaN</td>\n      <td>NaN</td>\n      <td>NaN</td>\n    </tr>\n    <tr>\n      <th>75%</th>\n      <td>1.205008e+09</td>\n      <td>7.416282e+09</td>\n      <td>NaN</td>\n      <td>NaN</td>\n      <td>NaN</td>\n      <td>NaN</td>\n      <td>NaN</td>\n      <td>NaN</td>\n      <td>NaN</td>\n      <td>NaN</td>\n      <td>...</td>\n      <td>NaN</td>\n      <td>370028.000000</td>\n      <td>NaN</td>\n      <td>360055.000000</td>\n      <td>NaN</td>\n      <td>360133.000000</td>\n      <td>NaN</td>\n      <td>NaN</td>\n      <td>NaN</td>\n      <td>NaN</td>\n    </tr>\n    <tr>\n      <th>max</th>\n      <td>1.215356e+09</td>\n      <td>9.931520e+09</td>\n      <td>NaN</td>\n      <td>NaN</td>\n      <td>NaN</td>\n      <td>NaN</td>\n      <td>NaN</td>\n      <td>NaN</td>\n      <td>NaN</td>\n      <td>NaN</td>\n      <td>...</td>\n      <td>NaN</td>\n      <td>670187.000000</td>\n      <td>NaN</td>\n      <td>670309.000000</td>\n      <td>NaN</td>\n      <td>670223.000000</td>\n      <td>NaN</td>\n      <td>NaN</td>\n      <td>NaN</td>\n      <td>NaN</td>\n    </tr>\n  </tbody>\n</table>\n<p>11 rows × 40 columns</p>\n</div>"
     },
     "metadata": {}
    }
   ]
  },
  {
   "cell_type": "code",
   "metadata": {
    "tags": [],
    "deepnote_to_be_reexecuted": false,
    "source_hash": "efc201bc",
    "execution_start": 1645036490817,
    "execution_millis": 6,
    "deepnote_output_heights": [
     611
    ],
    "deepnote_app_coordinates": {
     "x": 0,
     "y": 398,
     "w": 12,
     "h": 29
    },
    "cell_id": "00016-f302b560-931f-402d-8cd2-5414d1ef9400",
    "deepnote_cell_type": "code"
   },
   "source": "#which columns have the most empty space?\ndf.isnull().sum()",
   "execution_count": null,
   "outputs": [
    {
     "output_type": "execute_result",
     "execution_count": 11,
     "data": {
      "text/plain": "NPI                    0\n Ind_PAC_ID            0\n Ind_enrl_ID           0\n lst_nm                0\n frst_nm               0\n mid_nm             2441\n suff               9794\n gndr                  0\n Cred               6380\n Med_sch               0\n Grd_yr                5\n pri_spec              0\n sec_spec_1         8791\n sec_spec_2         9829\n sec_spec_3         9973\n sec_spec_4         9992\n sec_spec_all       8791\n org_nm            10000\n org_pac_id        10000\n num_org_mem       10000\n adr_ln_1              0\n adr_ln_2           4870\n ln_2_sprs          9936\n cty                   0\n st                    0\n zip                   0\n phn_numbr          6682\n hosp_afl_1         6873\n hosp_afl_lbn_1     6888\n hosp_afl_2         8411\n hosp_afl_lbn_2     8427\n hosp_afl_3         9262\n hosp_afl_lbn_3     9268\n hosp_afl_4         9655\n hosp_afl_lbn_4     9659\n hosp_afl_5         9847\n hosp_afl_lbn_5     9848\n ind_assgn             0\n grp_assgn             0\n adrs_id               0\ndtype: int64"
     },
     "metadata": {}
    }
   ]
  },
  {
   "cell_type": "code",
   "metadata": {
    "tags": [],
    "deepnote_to_be_reexecuted": false,
    "source_hash": "57734e08",
    "execution_start": 1645036490818,
    "execution_millis": 5,
    "deepnote_output_heights": [
     21.1875
    ],
    "cell_id": "00017-e90fad69-a629-4ac9-b158-85a81990285f",
    "deepnote_cell_type": "code"
   },
   "source": "df.NPI.nunique()",
   "execution_count": null,
   "outputs": [
    {
     "output_type": "execute_result",
     "execution_count": 12,
     "data": {
      "text/plain": "8983"
     },
     "metadata": {}
    }
   ]
  },
  {
   "cell_type": "code",
   "metadata": {
    "tags": [],
    "deepnote_to_be_reexecuted": false,
    "source_hash": "12d7afb7",
    "execution_start": 1645036490818,
    "execution_millis": 8,
    "deepnote_output_heights": [
     232.390625
    ],
    "deepnote_app_coordinates": {
     "x": 0,
     "y": 428,
     "w": 12,
     "h": 13
    },
    "cell_id": "00018-ebbc6df7-3e9d-4673-89a5-399774ab3121",
    "deepnote_cell_type": "code"
   },
   "source": "df.duplicated(subset=['NPI'])",
   "execution_count": null,
   "outputs": [
    {
     "output_type": "execute_result",
     "execution_count": 13,
     "data": {
      "text/plain": "0       False\n1       False\n2       False\n3       False\n4       False\n        ...  \n9995    False\n9996    False\n9997    False\n9998    False\n9999    False\nLength: 10000, dtype: bool"
     },
     "metadata": {}
    }
   ]
  },
  {
   "cell_type": "code",
   "metadata": {
    "tags": [],
    "deepnote_to_be_reexecuted": false,
    "source_hash": "326a7267",
    "execution_start": 1645036490827,
    "execution_millis": 9,
    "deepnote_output_heights": [
     21.1875
    ],
    "deepnote_app_coordinates": {
     "x": 0,
     "y": 442,
     "w": 12,
     "h": 5
    },
    "cell_id": "00019-a3194dad-2d67-42a6-ba89-6403d1b5eab1",
    "deepnote_cell_type": "code"
   },
   "source": "df.NPI.duplicated().sum()",
   "execution_count": null,
   "outputs": [
    {
     "output_type": "execute_result",
     "execution_count": 14,
     "data": {
      "text/plain": "1017"
     },
     "metadata": {}
    }
   ]
  },
  {
   "cell_type": "code",
   "metadata": {
    "tags": [],
    "deepnote_to_be_reexecuted": false,
    "source_hash": "62fdba05",
    "execution_start": 1645036490837,
    "execution_millis": 203,
    "deepnote_app_coordinates": {
     "x": 0,
     "y": 448,
     "w": 12,
     "h": 24
    },
    "cell_id": "00020-5b878dde-dc42-4985-9b59-eb537e4c4661",
    "deepnote_cell_type": "code"
   },
   "source": "df.loc[df.NPI.duplicated(),:]",
   "execution_count": null,
   "outputs": [
    {
     "output_type": "execute_result",
     "execution_count": 15,
     "data": {
      "application/vnd.deepnote.dataframe.v3+json": {
       "column_count": 40,
       "row_count": 1017,
       "columns": [
        {
         "name": "NPI",
         "dtype": "int64",
         "stats": {
          "unique_count": 782,
          "nan_count": 0,
          "min": "1154361434",
          "max": "1215343884",
          "histogram": [
           {
            "bin_start": 1154361434,
            "bin_end": 1160459679,
            "count": 29
           },
           {
            "bin_start": 1160459679,
            "bin_end": 1166557924,
            "count": 201
           },
           {
            "bin_start": 1166557924,
            "bin_end": 1172656169,
            "count": 0
           },
           {
            "bin_start": 1172656169,
            "bin_end": 1178754414,
            "count": 184
           },
           {
            "bin_start": 1178754414,
            "bin_end": 1184852659,
            "count": 173
           },
           {
            "bin_start": 1184852659,
            "bin_end": 1190950904,
            "count": 13
           },
           {
            "bin_start": 1190950904,
            "bin_end": 1197049149,
            "count": 176
           },
           {
            "bin_start": 1197049149,
            "bin_end": 1203147394,
            "count": 0
           },
           {
            "bin_start": 1203147394,
            "bin_end": 1209245639,
            "count": 169
           },
           {
            "bin_start": 1209245639,
            "bin_end": 1215343884,
            "count": 72
           }
          ]
         }
        },
        {
         "name": " Ind_PAC_ID",
         "dtype": "int64",
         "stats": {
          "unique_count": 782,
          "nan_count": 0,
          "min": "42114209",
          "max": "9931232485",
          "histogram": [
           {
            "bin_start": 42114209,
            "bin_end": 1031026036.6,
            "count": 96
           },
           {
            "bin_start": 1031026036.6,
            "bin_end": 2019937864.2,
            "count": 120
           },
           {
            "bin_start": 2019937864.2,
            "bin_end": 3008849691.8,
            "count": 87
           },
           {
            "bin_start": 3008849691.8,
            "bin_end": 3997761519.4,
            "count": 118
           },
           {
            "bin_start": 3997761519.4,
            "bin_end": 4986673347,
            "count": 91
           },
           {
            "bin_start": 4986673347,
            "bin_end": 5975585174.6,
            "count": 123
           },
           {
            "bin_start": 5975585174.6,
            "bin_end": 6964497002.2,
            "count": 117
           },
           {
            "bin_start": 6964497002.2,
            "bin_end": 7953408829.8,
            "count": 84
           },
           {
            "bin_start": 7953408829.8,
            "bin_end": 8942320657.4,
            "count": 88
           },
           {
            "bin_start": 8942320657.4,
            "bin_end": 9931232485,
            "count": 93
           }
          ]
         }
        },
        {
         "name": " Ind_enrl_ID",
         "dtype": "object",
         "stats": {
          "unique_count": 803,
          "nan_count": 0,
          "categories": [
           {
            "name": "I20060816000114",
            "count": 30
           },
           {
            "name": "I20071205000273",
            "count": 10
           },
           {
            "name": "801 others",
            "count": 977
           }
          ]
         }
        },
        {
         "name": " lst_nm",
         "dtype": "object",
         "stats": {
          "unique_count": 742,
          "nan_count": 0,
          "categories": [
           {
            "name": "SURTMAN",
            "count": 30
           },
           {
            "name": "GULATI",
            "count": 10
           },
           {
            "name": "740 others",
            "count": 977
           }
          ]
         }
        },
        {
         "name": " frst_nm",
         "dtype": "object",
         "stats": {
          "unique_count": 512,
          "nan_count": 0,
          "categories": [
           {
            "name": "CHRISTOPHER",
            "count": 36
           },
           {
            "name": "JOHN",
            "count": 22
           },
           {
            "name": "510 others",
            "count": 959
           }
          ]
         }
        },
        {
         "name": " mid_nm",
         "dtype": "object",
         "stats": {
          "unique_count": 107,
          "nan_count": 280,
          "categories": [
           {
            "name": "A",
            "count": 63
           },
           {
            "name": "106 others",
            "count": 674
           },
           {
            "name": "Missing",
            "count": 280
           }
          ]
         }
        },
        {
         "name": " suff",
         "dtype": "object",
         "stats": {
          "unique_count": 5,
          "nan_count": 1001,
          "categories": [
           {
            "name": "III",
            "count": 6
           },
           {
            "name": "4 others",
            "count": 10
           },
           {
            "name": "Missing",
            "count": 1001
           }
          ]
         }
        },
        {
         "name": " gndr",
         "dtype": "object",
         "stats": {
          "unique_count": 2,
          "nan_count": 0,
          "categories": [
           {
            "name": "M",
            "count": 763
           },
           {
            "name": "F",
            "count": 254
           }
          ]
         }
        },
        {
         "name": " Cred",
         "dtype": "object",
         "stats": {
          "unique_count": 13,
          "nan_count": 560,
          "categories": [
           {
            "name": "MD",
            "count": 276
           },
           {
            "name": "12 others",
            "count": 181
           },
           {
            "name": "Missing",
            "count": 560
           }
          ]
         }
        },
        {
         "name": " Med_sch",
         "dtype": "object",
         "stats": {
          "unique_count": 142,
          "nan_count": 0,
          "categories": [
           {
            "name": "OTHER",
            "count": 534
           },
           {
            "name": "KENT STATE UNIVERSITY COLLEGE OF PODIATRIC MEDICINE",
            "count": 53
           },
           {
            "name": "140 others",
            "count": 430
           }
          ]
         }
        },
        {
         "name": " Grd_yr",
         "dtype": "float64",
         "stats": {
          "unique_count": 63,
          "nan_count": 0,
          "min": "1958.0",
          "max": "2020.0",
          "histogram": [
           {
            "bin_start": 1958,
            "bin_end": 1964.2,
            "count": 10
           },
           {
            "bin_start": 1964.2,
            "bin_end": 1970.4,
            "count": 31
           },
           {
            "bin_start": 1970.4,
            "bin_end": 1976.6,
            "count": 76
           },
           {
            "bin_start": 1976.6,
            "bin_end": 1982.8,
            "count": 101
           },
           {
            "bin_start": 1982.8,
            "bin_end": 1989,
            "count": 173
           },
           {
            "bin_start": 1989,
            "bin_end": 1995.2,
            "count": 209
           },
           {
            "bin_start": 1995.2,
            "bin_end": 2001.4,
            "count": 189
           },
           {
            "bin_start": 2001.4,
            "bin_end": 2007.6,
            "count": 106
           },
           {
            "bin_start": 2007.6,
            "bin_end": 2013.8,
            "count": 79
           },
           {
            "bin_start": 2013.8,
            "bin_end": 2020,
            "count": 43
           }
          ]
         }
        },
        {
         "name": " pri_spec",
         "dtype": "object",
         "stats": {
          "unique_count": 65,
          "nan_count": 0,
          "categories": [
           {
            "name": "INTERNAL MEDICINE",
            "count": 127
           },
           {
            "name": "PODIATRY",
            "count": 104
           },
           {
            "name": "63 others",
            "count": 786
           }
          ]
         }
        },
        {
         "name": " sec_spec_1",
         "dtype": "object",
         "stats": {
          "unique_count": 40,
          "nan_count": 816,
          "categories": [
           {
            "name": "INTERNAL MEDICINE",
            "count": 65
           },
           {
            "name": "39 others",
            "count": 136
           },
           {
            "name": "Missing",
            "count": 816
           }
          ]
         }
        },
        {
         "name": " sec_spec_2",
         "dtype": "object",
         "stats": {
          "unique_count": 15,
          "nan_count": 986,
          "categories": [
           {
            "name": "INTERNAL MEDICINE",
            "count": 8
           },
           {
            "name": "14 others",
            "count": 23
           },
           {
            "name": "Missing",
            "count": 986
           }
          ]
         }
        },
        {
         "name": " sec_spec_3",
         "dtype": "object",
         "stats": {
          "unique_count": 3,
          "nan_count": 1013,
          "categories": [
           {
            "name": "FAMILY MEDICINE",
            "count": 2
           },
           {
            "name": "2 others",
            "count": 2
           },
           {
            "name": "Missing",
            "count": 1013
           }
          ]
         }
        },
        {
         "name": " sec_spec_4",
         "dtype": "object",
         "stats": {
          "unique_count": 2,
          "nan_count": 1014,
          "categories": [
           {
            "name": "GENERAL PRACTICE",
            "count": 2
           },
           {
            "name": "PREVENTATIVE MEDICINE",
            "count": 1
           },
           {
            "name": "Missing",
            "count": 1014
           }
          ]
         }
        },
        {
         "name": " sec_spec_all",
         "dtype": "object",
         "stats": {
          "unique_count": 56,
          "nan_count": 816,
          "categories": [
           {
            "name": "INTERNAL MEDICINE",
            "count": 62
           },
           {
            "name": "55 others",
            "count": 139
           },
           {
            "name": "Missing",
            "count": 816
           }
          ]
         }
        },
        {
         "name": " org_nm",
         "dtype": "float64",
         "stats": {
          "unique_count": 0,
          "nan_count": 1017,
          "min": null,
          "max": null,
          "histogram": [
           {
            "bin_start": 0,
            "bin_end": 0.1,
            "count": 0
           },
           {
            "bin_start": 0.1,
            "bin_end": 0.2,
            "count": 0
           },
           {
            "bin_start": 0.2,
            "bin_end": 0.30000000000000004,
            "count": 0
           },
           {
            "bin_start": 0.30000000000000004,
            "bin_end": 0.4,
            "count": 0
           },
           {
            "bin_start": 0.4,
            "bin_end": 0.5,
            "count": 0
           },
           {
            "bin_start": 0.5,
            "bin_end": 0.6000000000000001,
            "count": 0
           },
           {
            "bin_start": 0.6000000000000001,
            "bin_end": 0.7000000000000001,
            "count": 0
           },
           {
            "bin_start": 0.7000000000000001,
            "bin_end": 0.8,
            "count": 0
           },
           {
            "bin_start": 0.8,
            "bin_end": 0.9,
            "count": 0
           },
           {
            "bin_start": 0.9,
            "bin_end": 1,
            "count": 0
           }
          ]
         }
        },
        {
         "name": " org_pac_id",
         "dtype": "float64",
         "stats": {
          "unique_count": 0,
          "nan_count": 1017,
          "min": null,
          "max": null,
          "histogram": [
           {
            "bin_start": 0,
            "bin_end": 0.1,
            "count": 0
           },
           {
            "bin_start": 0.1,
            "bin_end": 0.2,
            "count": 0
           },
           {
            "bin_start": 0.2,
            "bin_end": 0.30000000000000004,
            "count": 0
           },
           {
            "bin_start": 0.30000000000000004,
            "bin_end": 0.4,
            "count": 0
           },
           {
            "bin_start": 0.4,
            "bin_end": 0.5,
            "count": 0
           },
           {
            "bin_start": 0.5,
            "bin_end": 0.6000000000000001,
            "count": 0
           },
           {
            "bin_start": 0.6000000000000001,
            "bin_end": 0.7000000000000001,
            "count": 0
           },
           {
            "bin_start": 0.7000000000000001,
            "bin_end": 0.8,
            "count": 0
           },
           {
            "bin_start": 0.8,
            "bin_end": 0.9,
            "count": 0
           },
           {
            "bin_start": 0.9,
            "bin_end": 1,
            "count": 0
           }
          ]
         }
        },
        {
         "name": " num_org_mem",
         "dtype": "float64",
         "stats": {
          "unique_count": 0,
          "nan_count": 1017,
          "min": null,
          "max": null,
          "histogram": [
           {
            "bin_start": 0,
            "bin_end": 0.1,
            "count": 0
           },
           {
            "bin_start": 0.1,
            "bin_end": 0.2,
            "count": 0
           },
           {
            "bin_start": 0.2,
            "bin_end": 0.30000000000000004,
            "count": 0
           },
           {
            "bin_start": 0.30000000000000004,
            "bin_end": 0.4,
            "count": 0
           },
           {
            "bin_start": 0.4,
            "bin_end": 0.5,
            "count": 0
           },
           {
            "bin_start": 0.5,
            "bin_end": 0.6000000000000001,
            "count": 0
           },
           {
            "bin_start": 0.6000000000000001,
            "bin_end": 0.7000000000000001,
            "count": 0
           },
           {
            "bin_start": 0.7000000000000001,
            "bin_end": 0.8,
            "count": 0
           },
           {
            "bin_start": 0.8,
            "bin_end": 0.9,
            "count": 0
           },
           {
            "bin_start": 0.9,
            "bin_end": 1,
            "count": 0
           }
          ]
         }
        },
        {
         "name": " adr_ln_1",
         "dtype": "object",
         "stats": {
          "unique_count": 996,
          "nan_count": 0,
          "categories": [
           {
            "name": "27005 76TH AVE",
            "count": 3
           },
           {
            "name": "300 COMMUNITY DR",
            "count": 3
           },
           {
            "name": "994 others",
            "count": 1011
           }
          ]
         }
        },
        {
         "name": " adr_ln_2",
         "dtype": "object",
         "stats": {
          "unique_count": 242,
          "nan_count": 605,
          "categories": [
           {
            "name": "SUITE 100",
            "count": 12
           },
           {
            "name": "241 others",
            "count": 400
           },
           {
            "name": "Missing",
            "count": 605
           }
          ]
         }
        },
        {
         "name": " ln_2_sprs",
         "dtype": "object",
         "stats": {
          "unique_count": 1,
          "nan_count": 1008,
          "categories": [
           {
            "name": "Y",
            "count": 9
           },
           {
            "name": "Missing",
            "count": 1008
           }
          ]
         }
        },
        {
         "name": " cty",
         "dtype": "object",
         "stats": {
          "unique_count": 676,
          "nan_count": 0,
          "categories": [
           {
            "name": "BROOKLYN",
            "count": 20
           },
           {
            "name": "NEW YORK",
            "count": 12
           },
           {
            "name": "674 others",
            "count": 985
           }
          ]
         }
        },
        {
         "name": " st",
         "dtype": "object",
         "stats": {
          "unique_count": 51,
          "nan_count": 0,
          "categories": [
           {
            "name": "CA",
            "count": 142
           },
           {
            "name": "NY",
            "count": 111
           },
           {
            "name": "49 others",
            "count": 764
           }
          ]
         }
        },
        {
         "name": " zip",
         "dtype": "object",
         "stats": {
          "unique_count": 989,
          "nan_count": 0,
          "categories": [
           {
            "name": "110401402",
            "count": 3
           },
           {
            "name": "110303816",
            "count": 3
           },
           {
            "name": "987 others",
            "count": 1011
           }
          ]
         }
        },
        {
         "name": " phn_numbr",
         "dtype": "float64",
         "stats": {
          "unique_count": 268,
          "nan_count": 743,
          "min": "2013390323.0",
          "max": "7877651919205.0",
          "histogram": [
           {
            "bin_start": 2013390323,
            "bin_end": 789577243211.2,
            "count": 273
           },
           {
            "bin_start": 789577243211.2,
            "bin_end": 1577141096099.4,
            "count": 0
           },
           {
            "bin_start": 1577141096099.4,
            "bin_end": 2364704948987.5996,
            "count": 0
           },
           {
            "bin_start": 2364704948987.5996,
            "bin_end": 3152268801875.8,
            "count": 0
           },
           {
            "bin_start": 3152268801875.8,
            "bin_end": 3939832654764,
            "count": 0
           },
           {
            "bin_start": 3939832654764,
            "bin_end": 4727396507652.199,
            "count": 0
           },
           {
            "bin_start": 4727396507652.199,
            "bin_end": 5514960360540.399,
            "count": 0
           },
           {
            "bin_start": 5514960360540.399,
            "bin_end": 6302524213428.6,
            "count": 0
           },
           {
            "bin_start": 6302524213428.6,
            "bin_end": 7090088066316.8,
            "count": 0
           },
           {
            "bin_start": 7090088066316.8,
            "bin_end": 7877651919205,
            "count": 1
           }
          ]
         }
        },
        {
         "name": " hosp_afl_1",
         "dtype": "float64",
         "stats": {
          "unique_count": 290,
          "nan_count": 540,
          "min": "10016.0",
          "max": "670280.0",
          "histogram": [
           {
            "bin_start": 10016,
            "bin_end": 76042.4,
            "count": 108
           },
           {
            "bin_start": 76042.4,
            "bin_end": 142068.8,
            "count": 111
           },
           {
            "bin_start": 142068.8,
            "bin_end": 208095.19999999998,
            "count": 15
           },
           {
            "bin_start": 208095.19999999998,
            "bin_end": 274121.6,
            "count": 44
           },
           {
            "bin_start": 274121.6,
            "bin_end": 340148,
            "count": 76
           },
           {
            "bin_start": 340148,
            "bin_end": 406174.39999999997,
            "count": 40
           },
           {
            "bin_start": 406174.39999999997,
            "bin_end": 472200.79999999993,
            "count": 52
           },
           {
            "bin_start": 472200.79999999993,
            "bin_end": 538227.2,
            "count": 26
           },
           {
            "bin_start": 538227.2,
            "bin_end": 604253.6,
            "count": 0
           },
           {
            "bin_start": 604253.6,
            "bin_end": 670280,
            "count": 5
           }
          ]
         }
        },
        {
         "name": " hosp_afl_lbn_1",
         "dtype": "object",
         "stats": {
          "unique_count": 289,
          "nan_count": 543,
          "categories": [
           {
            "name": "WESTSIDE REGIONAL MEDICAL CENTER",
            "count": 12
           },
           {
            "name": "288 others",
            "count": 462
           },
           {
            "name": "Missing",
            "count": 543
           }
          ]
         }
        },
        {
         "name": " hosp_afl_2",
         "dtype": "float64",
         "stats": {
          "unique_count": 189,
          "nan_count": 719,
          "min": "10078.0",
          "max": "670122.0",
          "histogram": [
           {
            "bin_start": 10078,
            "bin_end": 76082.4,
            "count": 63
           },
           {
            "bin_start": 76082.4,
            "bin_end": 142086.8,
            "count": 65
           },
           {
            "bin_start": 142086.8,
            "bin_end": 208091.19999999998,
            "count": 11
           },
           {
            "bin_start": 208091.19999999998,
            "bin_end": 274095.6,
            "count": 27
           },
           {
            "bin_start": 274095.6,
            "bin_end": 340100,
            "count": 38
           },
           {
            "bin_start": 340100,
            "bin_end": 406104.39999999997,
            "count": 29
           },
           {
            "bin_start": 406104.39999999997,
            "bin_end": 472108.79999999993,
            "count": 38
           },
           {
            "bin_start": 472108.79999999993,
            "bin_end": 538113.2,
            "count": 23
           },
           {
            "bin_start": 538113.2,
            "bin_end": 604117.6,
            "count": 0
           },
           {
            "bin_start": 604117.6,
            "bin_end": 670122,
            "count": 4
           }
          ]
         }
        },
        {
         "name": " hosp_afl_lbn_2",
         "dtype": "object",
         "stats": {
          "unique_count": 187,
          "nan_count": 722,
          "categories": [
           {
            "name": "MEMORIAL HOSPITAL PEMBROKE",
            "count": 10
           },
           {
            "name": "186 others",
            "count": 285
           },
           {
            "name": "Missing",
            "count": 722
           }
          ]
         }
        },
        {
         "name": " hosp_afl_3",
         "dtype": "float64",
         "stats": {
          "unique_count": 103,
          "nan_count": 840,
          "min": "10038.0",
          "max": "670098.0",
          "histogram": [
           {
            "bin_start": 10038,
            "bin_end": 76044,
            "count": 34
           },
           {
            "bin_start": 76044,
            "bin_end": 142050,
            "count": 49
           },
           {
            "bin_start": 142050,
            "bin_end": 208056,
            "count": 10
           },
           {
            "bin_start": 208056,
            "bin_end": 274062,
            "count": 19
           },
           {
            "bin_start": 274062,
            "bin_end": 340068,
            "count": 26
           },
           {
            "bin_start": 340068,
            "bin_end": 406074,
            "count": 12
           },
           {
            "bin_start": 406074,
            "bin_end": 472080,
            "count": 17
           },
           {
            "bin_start": 472080,
            "bin_end": 538086,
            "count": 5
           },
           {
            "bin_start": 538086,
            "bin_end": 604092,
            "count": 0
           },
           {
            "bin_start": 604092,
            "bin_end": 670098,
            "count": 5
           }
          ]
         }
        },
        {
         "name": " hosp_afl_lbn_3",
         "dtype": "object",
         "stats": {
          "unique_count": 102,
          "nan_count": 841,
          "categories": [
           {
            "name": "MEMORIAL HOSPITAL WEST",
            "count": 10
           },
           {
            "name": "101 others",
            "count": 166
           },
           {
            "name": "Missing",
            "count": 841
           }
          ]
         }
        },
        {
         "name": " hosp_afl_4",
         "dtype": "float64",
         "stats": {
          "unique_count": 51,
          "nan_count": 932,
          "min": "40067.0",
          "max": "670309.0",
          "histogram": [
           {
            "bin_start": 40067,
            "bin_end": 103091.2,
            "count": 27
           },
           {
            "bin_start": 103091.2,
            "bin_end": 166115.4,
            "count": 12
           },
           {
            "bin_start": 166115.4,
            "bin_end": 229139.59999999998,
            "count": 6
           },
           {
            "bin_start": 229139.59999999998,
            "bin_end": 292163.8,
            "count": 15
           },
           {
            "bin_start": 292163.8,
            "bin_end": 355188,
            "count": 10
           },
           {
            "bin_start": 355188,
            "bin_end": 418212.19999999995,
            "count": 5
           },
           {
            "bin_start": 418212.19999999995,
            "bin_end": 481236.39999999997,
            "count": 2
           },
           {
            "bin_start": 481236.39999999997,
            "bin_end": 544260.6,
            "count": 6
           },
           {
            "bin_start": 544260.6,
            "bin_end": 607284.7999999999,
            "count": 0
           },
           {
            "bin_start": 607284.7999999999,
            "bin_end": 670309,
            "count": 2
           }
          ]
         }
        },
        {
         "name": " hosp_afl_lbn_4",
         "dtype": "object",
         "stats": {
          "unique_count": 50,
          "nan_count": 933,
          "categories": [
           {
            "name": "CROSSING RIVERS HEALTH MEDICAL CENTER",
            "count": 6
           },
           {
            "name": "49 others",
            "count": 78
           },
           {
            "name": "Missing",
            "count": 933
           }
          ]
         }
        },
        {
         "name": " hosp_afl_5",
         "dtype": "float64",
         "stats": {
          "unique_count": 24,
          "nan_count": 975,
          "min": "10061.0",
          "max": "670124.0",
          "histogram": [
           {
            "bin_start": 10061,
            "bin_end": 76067.3,
            "count": 5
           },
           {
            "bin_start": 76067.3,
            "bin_end": 142073.6,
            "count": 11
           },
           {
            "bin_start": 142073.6,
            "bin_end": 208079.90000000002,
            "count": 7
           },
           {
            "bin_start": 208079.90000000002,
            "bin_end": 274086.2,
            "count": 7
           },
           {
            "bin_start": 274086.2,
            "bin_end": 340092.5,
            "count": 6
           },
           {
            "bin_start": 340092.5,
            "bin_end": 406098.80000000005,
            "count": 2
           },
           {
            "bin_start": 406098.80000000005,
            "bin_end": 472105.10000000003,
            "count": 1
           },
           {
            "bin_start": 472105.10000000003,
            "bin_end": 538111.4,
            "count": 2
           },
           {
            "bin_start": 538111.4,
            "bin_end": 604117.7000000001,
            "count": 0
           },
           {
            "bin_start": 604117.7000000001,
            "bin_end": 670124,
            "count": 1
           }
          ]
         }
        },
        {
         "name": " hosp_afl_lbn_5",
         "dtype": "object",
         "stats": {
          "unique_count": 24,
          "nan_count": 975,
          "categories": [
           {
            "name": "RIVER'S EDGE HOSPITAL & CLINIC",
            "count": 6
           },
           {
            "name": "23 others",
            "count": 36
           },
           {
            "name": "Missing",
            "count": 975
           }
          ]
         }
        },
        {
         "name": " ind_assgn",
         "dtype": "object",
         "stats": {
          "unique_count": 2,
          "nan_count": 0,
          "categories": [
           {
            "name": "Y",
            "count": 923
           },
           {
            "name": "M",
            "count": 94
           }
          ]
         }
        },
        {
         "name": " grp_assgn",
         "dtype": "object",
         "stats": {
          "unique_count": 1,
          "nan_count": 0,
          "categories": [
           {
            "name": "M",
            "count": 1017
           }
          ]
         }
        },
        {
         "name": " adrs_id",
         "dtype": "object",
         "stats": {
          "unique_count": 1009,
          "nan_count": 0,
          "categories": [
           {
            "name": "NY110401402NE27005AVEX300",
            "count": 3
           },
           {
            "name": "NY110303816MA300XXDRXX300",
            "count": 3
           },
           {
            "name": "1007 others",
            "count": 1011
           }
          ]
         }
        },
        {
         "name": "_deepnote_index_column",
         "dtype": "int64"
        }
       ],
       "rows": [
        {
         "NPI": 1215138391,
         " Ind_PAC_ID": 5991895575,
         " Ind_enrl_ID": "I20071219000653",
         " lst_nm": "ONEAL",
         " frst_nm": "DALE",
         " mid_nm": "W",
         " suff": "nan",
         " gndr": "M",
         " Cred": "nan",
         " Med_sch": "OTHER",
         " Grd_yr": 1983,
         " pri_spec": "PSYCHOLOGIST, CLINICAL",
         " sec_spec_1": "nan",
         " sec_spec_2": "nan",
         " sec_spec_3": "nan",
         " sec_spec_4": "nan",
         " sec_spec_all": "nan",
         " org_nm": "nan",
         " org_pac_id": "nan",
         " num_org_mem": "nan",
         " adr_ln_1": "266 GRANDVIEW ST",
         " adr_ln_2": "nan",
         " ln_2_sprs": "nan",
         " cty": "LAGUNA BEACH",
         " st": "CA",
         " zip": "926511519",
         " phn_numbr": "nan",
         " hosp_afl_1": "nan",
         " hosp_afl_lbn_1": "nan",
         " hosp_afl_2": "nan",
         " hosp_afl_lbn_2": "nan",
         " hosp_afl_3": "nan",
         " hosp_afl_lbn_3": "nan",
         " hosp_afl_4": "nan",
         " hosp_afl_lbn_4": "nan",
         " hosp_afl_5": "nan",
         " hosp_afl_lbn_5": "nan",
         " ind_assgn": "Y",
         " grp_assgn": "M",
         " adrs_id": "CA926511519LA266XXSTXX300",
         "_deepnote_index_column": 34
        },
        {
         "NPI": 1215168943,
         " Ind_PAC_ID": 4688916042,
         " Ind_enrl_ID": "I20190505000000",
         " lst_nm": "DAUSEND",
         " frst_nm": "BARBARAANN",
         " mid_nm": "F",
         " suff": "nan",
         " gndr": "F",
         " Cred": "nan",
         " Med_sch": "OTHER",
         " Grd_yr": 2005,
         " pri_spec": "OCCUPATIONAL THERAPY",
         " sec_spec_1": "nan",
         " sec_spec_2": "nan",
         " sec_spec_3": "nan",
         " sec_spec_4": "nan",
         " sec_spec_all": "nan",
         " org_nm": "nan",
         " org_pac_id": "nan",
         " num_org_mem": "nan",
         " adr_ln_1": "13373 N PLAZA DEL RIO BLVD",
         " adr_ln_2": "nan",
         " ln_2_sprs": "nan",
         " cty": "PEORIA",
         " st": "AZ",
         " zip": "853814873",
         " phn_numbr": "nan",
         " hosp_afl_1": "nan",
         " hosp_afl_lbn_1": "nan",
         " hosp_afl_2": "nan",
         " hosp_afl_lbn_2": "nan",
         " hosp_afl_3": "nan",
         " hosp_afl_lbn_3": "nan",
         " hosp_afl_4": "nan",
         " hosp_afl_lbn_4": "nan",
         " hosp_afl_5": "nan",
         " hosp_afl_lbn_5": "nan",
         " ind_assgn": "Y",
         " grp_assgn": "M",
         " adrs_id": "AZ853814873PE13373BLVD600",
         "_deepnote_index_column": 52
        },
        {
         "NPI": 1215161161,
         " Ind_PAC_ID": 6608197421,
         " Ind_enrl_ID": "I20150605000414",
         " lst_nm": "AGUILAR",
         " frst_nm": "MARGARET",
         " mid_nm": "L",
         " suff": "nan",
         " gndr": "F",
         " Cred": "nan",
         " Med_sch": "OTHER",
         " Grd_yr": 1999,
         " pri_spec": "CLINICAL SOCIAL WORKER",
         " sec_spec_1": "nan",
         " sec_spec_2": "nan",
         " sec_spec_3": "nan",
         " sec_spec_4": "nan",
         " sec_spec_all": "nan",
         " org_nm": "nan",
         " org_pac_id": "nan",
         " num_org_mem": "nan",
         " adr_ln_1": "400 N BROADWAY",
         " adr_ln_2": "LUCY'S COUNSELING SERVICE",
         " ln_2_sprs": "nan",
         " cty": "TRUTH OR CONSEQUENCES",
         " st": "NM",
         " zip": "879042836",
         " phn_numbr": 5756443475,
         " hosp_afl_1": "nan",
         " hosp_afl_lbn_1": "nan",
         " hosp_afl_2": "nan",
         " hosp_afl_lbn_2": "nan",
         " hosp_afl_3": "nan",
         " hosp_afl_lbn_3": "nan",
         " hosp_afl_4": "nan",
         " hosp_afl_lbn_4": "nan",
         " hosp_afl_5": "nan",
         " hosp_afl_lbn_5": "nan",
         " ind_assgn": "Y",
         " grp_assgn": "M",
         " adrs_id": "NM879042836TR400XXBROA301",
         "_deepnote_index_column": 83
        },
        {
         "NPI": 1215236187,
         " Ind_PAC_ID": 4688823321,
         " Ind_enrl_ID": "I20121023000000",
         " lst_nm": "DENNIS-NFOR",
         " frst_nm": "BIJOU",
         " mid_nm": "M",
         " suff": "nan",
         " gndr": "F",
         " Cred": "nan",
         " Med_sch": "NEW YORK COLLEGE OF PODIATRIC MEDICINE",
         " Grd_yr": 2008,
         " pri_spec": "PODIATRY",
         " sec_spec_1": "nan",
         " sec_spec_2": "nan",
         " sec_spec_3": "nan",
         " sec_spec_4": "nan",
         " sec_spec_all": "nan",
         " org_nm": "nan",
         " org_pac_id": "nan",
         " num_org_mem": "nan",
         " adr_ln_1": "681 VIEWLAND DR",
         " adr_ln_2": "nan",
         " ln_2_sprs": "nan",
         " cty": "YORKTOWN HEIGHTS",
         " st": "NY",
         " zip": "105983723",
         " phn_numbr": "nan",
         " hosp_afl_1": 330006,
         " hosp_afl_lbn_1": "ST JOSEPH'S MEDICAL CENTER",
         " hosp_afl_2": "nan",
         " hosp_afl_lbn_2": "nan",
         " hosp_afl_3": "nan",
         " hosp_afl_lbn_3": "nan",
         " hosp_afl_4": "nan",
         " hosp_afl_lbn_4": "nan",
         " hosp_afl_5": "nan",
         " hosp_afl_lbn_5": "nan",
         " ind_assgn": "Y",
         " grp_assgn": "M",
         " adrs_id": "NY105983723YO681XXDRXX300",
         "_deepnote_index_column": 86
        },
        {
         "NPI": 1215188925,
         " Ind_PAC_ID": 5193982478,
         " Ind_enrl_ID": "I20120130000697",
         " lst_nm": "KESHAVARZI",
         " frst_nm": "REZA",
         " mid_nm": "nan",
         " suff": "nan",
         " gndr": "M",
         " Cred": "nan",
         " Med_sch": "UNIVERSITY OF KENTUCKY COLLEGE OF MEDICINE",
         " Grd_yr": 2005,
         " pri_spec": "GENERAL SURGERY",
         " sec_spec_1": "nan",
         " sec_spec_2": "nan",
         " sec_spec_3": "nan",
         " sec_spec_4": "nan",
         " sec_spec_all": "nan",
         " org_nm": "nan",
         " org_pac_id": "nan",
         " num_org_mem": "nan",
         " adr_ln_1": "1550 MADRUGA AVE",
         " adr_ln_2": "SUITE 510",
         " ln_2_sprs": "nan",
         " cty": "CORAL GABLES",
         " st": "FL",
         " zip": "331463048",
         " phn_numbr": "nan",
         " hosp_afl_1": "nan",
         " hosp_afl_lbn_1": "nan",
         " hosp_afl_2": "nan",
         " hosp_afl_lbn_2": "nan",
         " hosp_afl_3": "nan",
         " hosp_afl_lbn_3": "nan",
         " hosp_afl_4": "nan",
         " hosp_afl_lbn_4": "nan",
         " hosp_afl_5": "nan",
         " hosp_afl_lbn_5": "nan",
         " ind_assgn": "Y",
         " grp_assgn": "M",
         " adrs_id": "FL331463048CO1550XAVEX303",
         "_deepnote_index_column": 88
        },
        {
         "NPI": 1215343884,
         " Ind_PAC_ID": 3577981802,
         " Ind_enrl_ID": "I20210105000304",
         " lst_nm": "STONE",
         " frst_nm": "VALERIE",
         " mid_nm": "ELAINE",
         " suff": "nan",
         " gndr": "F",
         " Cred": "nan",
         " Med_sch": "OTHER",
         " Grd_yr": 2017,
         " pri_spec": "PSYCHOLOGIST, CLINICAL",
         " sec_spec_1": "nan",
         " sec_spec_2": "nan",
         " sec_spec_3": "nan",
         " sec_spec_4": "nan",
         " sec_spec_all": "nan",
         " org_nm": "nan",
         " org_pac_id": "nan",
         " num_org_mem": "nan",
         " adr_ln_1": "8241 W POMONA DR",
         " adr_ln_2": "HOME OFFICE",
         " ln_2_sprs": "nan",
         " cty": "ARVADA",
         " st": "CO",
         " zip": "800052572",
         " phn_numbr": "nan",
         " hosp_afl_1": "nan",
         " hosp_afl_lbn_1": "nan",
         " hosp_afl_2": "nan",
         " hosp_afl_lbn_2": "nan",
         " hosp_afl_3": "nan",
         " hosp_afl_lbn_3": "nan",
         " hosp_afl_4": "nan",
         " hosp_afl_lbn_4": "nan",
         " hosp_afl_5": "nan",
         " hosp_afl_lbn_5": "nan",
         " ind_assgn": "Y",
         " grp_assgn": "M",
         " adrs_id": "CO800052572AR8241XDRXX401",
         "_deepnote_index_column": 110
        },
        {
         "NPI": 1215128020,
         " Ind_PAC_ID": 2365523040,
         " Ind_enrl_ID": "I20140121000647",
         " lst_nm": "JANUMPALLY",
         " frst_nm": "SHIRISHA",
         " mid_nm": "R",
         " suff": "nan",
         " gndr": "F",
         " Cred": "nan",
         " Med_sch": "OTHER",
         " Grd_yr": 2001,
         " pri_spec": "NEUROLOGY",
         " sec_spec_1": "nan",
         " sec_spec_2": "nan",
         " sec_spec_3": "nan",
         " sec_spec_4": "nan",
         " sec_spec_all": "nan",
         " org_nm": "nan",
         " org_pac_id": "nan",
         " num_org_mem": "nan",
         " adr_ln_1": "1900 OPITZ BLVS EANDF",
         " adr_ln_2": "nan",
         " ln_2_sprs": "nan",
         " cty": "WOODBRIDGE",
         " st": "VA",
         " zip": "22191",
         " phn_numbr": "nan",
         " hosp_afl_1": "nan",
         " hosp_afl_lbn_1": "nan",
         " hosp_afl_2": "nan",
         " hosp_afl_lbn_2": "nan",
         " hosp_afl_3": "nan",
         " hosp_afl_lbn_3": "nan",
         " hosp_afl_4": "nan",
         " hosp_afl_lbn_4": "nan",
         " hosp_afl_5": "nan",
         " hosp_afl_lbn_5": "nan",
         " ind_assgn": "Y",
         " grp_assgn": "M",
         " adrs_id": "VA221910000WO1900XEFXX500",
         "_deepnote_index_column": 115
        },
        {
         "NPI": 1215271317,
         " Ind_PAC_ID": 8123271509,
         " Ind_enrl_ID": "I20130115000252",
         " lst_nm": "SIMONIAN",
         " frst_nm": "INGA",
         " mid_nm": "nan",
         " suff": "nan",
         " gndr": "F",
         " Cred": "nan",
         " Med_sch": "OTHER",
         " Grd_yr": 2010,
         " pri_spec": "PSYCHOLOGIST, CLINICAL",
         " sec_spec_1": "nan",
         " sec_spec_2": "nan",
         " sec_spec_3": "nan",
         " sec_spec_4": "nan",
         " sec_spec_all": "nan",
         " org_nm": "nan",
         " org_pac_id": "nan",
         " num_org_mem": "nan",
         " adr_ln_1": "14930 VENTURA BLVD",
         " adr_ln_2": "SUITE 230",
         " ln_2_sprs": "nan",
         " cty": "SHERMAN OAKS",
         " st": "CA",
         " zip": "914033487",
         " phn_numbr": "nan",
         " hosp_afl_1": "nan",
         " hosp_afl_lbn_1": "nan",
         " hosp_afl_2": "nan",
         " hosp_afl_lbn_2": "nan",
         " hosp_afl_3": "nan",
         " hosp_afl_lbn_3": "nan",
         " hosp_afl_4": "nan",
         " hosp_afl_lbn_4": "nan",
         " hosp_afl_5": "nan",
         " hosp_afl_lbn_5": "nan",
         " ind_assgn": "Y",
         " grp_assgn": "M",
         " adrs_id": "CA914033487SH14930BLVD301",
         "_deepnote_index_column": 128
        },
        {
         "NPI": 1215251822,
         " Ind_PAC_ID": 5092956938,
         " Ind_enrl_ID": "I20130718000727",
         " lst_nm": "FARJOUDI",
         " frst_nm": "FARHAD",
         " mid_nm": "nan",
         " suff": "nan",
         " gndr": "M",
         " Cred": "nan",
         " Med_sch": "OTHER",
         " Grd_yr": 2002,
         " pri_spec": "ENDOCRINOLOGY",
         " sec_spec_1": "INTERNAL MEDICINE",
         " sec_spec_2": "nan",
         " sec_spec_3": "nan",
         " sec_spec_4": "nan",
         " sec_spec_all": "INTERNAL MEDICINE",
         " org_nm": "nan",
         " org_pac_id": "nan",
         " num_org_mem": "nan",
         " adr_ln_1": "35470 WHITEWOOD RD",
         " adr_ln_2": "nan",
         " ln_2_sprs": "nan",
         " cty": "MURRIETA",
         " st": "CA",
         " zip": "925632415",
         " phn_numbr": "nan",
         " hosp_afl_1": 50115,
         " hosp_afl_lbn_1": "PALOMAR HEALTH DOWNTOWN CAMPUS",
         " hosp_afl_2": 50636,
         " hosp_afl_lbn_2": "PALOMAR MEDICAL CENTER POWAY",
         " hosp_afl_3": 50775,
         " hosp_afl_lbn_3": "TEMECULA VALLEY HOSPITAL",
         " hosp_afl_4": 50603,
         " hosp_afl_lbn_4": "MEMORIALCARE SADDLEBACK MEDICAL CENTER",
         " hosp_afl_5": "nan",
         " hosp_afl_lbn_5": "nan",
         " ind_assgn": "Y",
         " grp_assgn": "M",
         " adrs_id": "CA925632415MU35470RDXX300",
         "_deepnote_index_column": 149
        },
        {
         "NPI": 1215306659,
         " Ind_PAC_ID": 1355645987,
         " Ind_enrl_ID": "I20160202001823",
         " lst_nm": "COOK",
         " frst_nm": "WESLEY",
         " mid_nm": "E",
         " suff": "nan",
         " gndr": "M",
         " Cred": "nan",
         " Med_sch": "OTHER",
         " Grd_yr": 2015,
         " pri_spec": "NURSE PRACTITIONER",
         " sec_spec_1": "nan",
         " sec_spec_2": "nan",
         " sec_spec_3": "nan",
         " sec_spec_4": "nan",
         " sec_spec_all": "nan",
         " org_nm": "nan",
         " org_pac_id": "nan",
         " num_org_mem": "nan",
         " adr_ln_1": "700 PENNSYLVANIA AVE SE",
         " adr_ln_2": "FL 2",
         " ln_2_sprs": "nan",
         " cty": "WASHINGTON",
         " st": "DC",
         " zip": "200032493",
         " phn_numbr": "nan",
         " hosp_afl_1": "nan",
         " hosp_afl_lbn_1": "nan",
         " hosp_afl_2": "nan",
         " hosp_afl_lbn_2": "nan",
         " hosp_afl_3": "nan",
         " hosp_afl_lbn_3": "nan",
         " hosp_afl_4": "nan",
         " hosp_afl_lbn_4": "nan",
         " hosp_afl_5": "nan",
         " hosp_afl_lbn_5": "nan",
         " ind_assgn": "Y",
         " grp_assgn": "M",
         " adrs_id": "DC200032493WA700XXSEXX401",
         "_deepnote_index_column": 171
        }
       ]
      },
      "text/plain": "             NPI   Ind_PAC_ID      Ind_enrl_ID             lst_nm     frst_nm  \\\n34    1215138391   5991895575  I20071219000653              ONEAL        DALE   \n52    1215168943   4688916042  I20190505000000            DAUSEND  BARBARAANN   \n83    1215161161   6608197421  I20150605000414            AGUILAR    MARGARET   \n86    1215236187   4688823321  I20121023000000        DENNIS-NFOR       BIJOU   \n88    1215188925   5193982478  I20120130000697         KESHAVARZI        REZA   \n...          ...          ...              ...                ...         ...   \n9782  1154690972    345504312  I20180430001049  PERALTA HERNANDEZ     RICHARD   \n9850  1154388064   7618966243  I20050718000788              LEMBO       NANCY   \n9876  1154361434   1355345539  I20131113001374                KIM     CHARLES   \n9914  1154471662   3072795756  I20110317000172               WANG      KUAN-I   \n9917  1154393437   5698840734  I20100116000248            BENTLEY     FELICIA   \n\n      mid_nm  suff  gndr  Cred  \\\n34         W   NaN     M   NaN   \n52         F   NaN     F   NaN   \n83         L   NaN     F   NaN   \n86         M   NaN     F   NaN   \n88       NaN   NaN     M   NaN   \n...      ...   ...   ...   ...   \n9782     NaN   NaN     M   NaN   \n9850       R   NaN     F    DO   \n9876       S   NaN     M    MD   \n9914     NaN   NaN     M   NaN   \n9917       R   NaN     F   NaN   \n\n                                                Med_sch  ...  \\\n34                                                OTHER  ...   \n52                                                OTHER  ...   \n83                                                OTHER  ...   \n86               NEW YORK COLLEGE OF PODIATRIC MEDICINE  ...   \n88           UNIVERSITY OF KENTUCKY COLLEGE OF MEDICINE  ...   \n...                                                 ...  ...   \n9782                                              OTHER  ...   \n9850  NEW YORK COLLEGE OF OSTEO MEDICINE OF NEW YORK...  ...   \n9876         UNIVERSITY OF ARKANSAS COLLEGE OF MEDICINE  ...   \n9914                                              OTHER  ...   \n9917  UNIVERSITY OF MISSOURI, KANSAS CITY, SCHOOL OF...  ...   \n\n                         hosp_afl_lbn_2  hosp_afl_3  \\\n34                                  NaN         NaN   \n52                                  NaN         NaN   \n83                                  NaN         NaN   \n86                                  NaN         NaN   \n88                                  NaN         NaN   \n...                                 ...         ...   \n9782                                NaN         NaN   \n9850            COLLETON MEDICAL CENTER    420079.0   \n9876                                NaN         NaN   \n9914                                NaN         NaN   \n9917  OSF SAINT ANTHONY'S HEALTH CENTER    260104.0   \n\n                           hosp_afl_lbn_3  hosp_afl_4  \\\n34                                    NaN         NaN   \n52                                    NaN         NaN   \n83                                    NaN         NaN   \n86                                    NaN         NaN   \n88                                    NaN         NaN   \n...                                   ...         ...   \n9782                                  NaN         NaN   \n9850               TRIDENT MEDICAL CENTER         NaN   \n9876                                  NaN         NaN   \n9914                                  NaN         NaN   \n9917  SSM HEALTH DEPAUL HOSPITAL ST LOUIS    260180.0   \n\n                    hosp_afl_lbn_4  hosp_afl_5     hosp_afl_lbn_5   ind_assgn  \\\n34                             NaN         NaN                NaN           Y   \n52                             NaN         NaN                NaN           Y   \n83                             NaN         NaN                NaN           Y   \n86                             NaN         NaN                NaN           Y   \n88                             NaN         NaN                NaN           Y   \n...                            ...         ...                ...         ...   \n9782                           NaN         NaN                NaN           Y   \n9850                           NaN         NaN                NaN           Y   \n9876                           NaN         NaN                NaN           Y   \n9914                           NaN         NaN                NaN           Y   \n9917  CHRISTIAN HOSPITAL NORTHEAST    140289.0  ANDERSON HOSPITAL           Y   \n\n       grp_assgn                    adrs_id  \n34             M  CA926511519LA266XXSTXX300  \n52             M  AZ853814873PE13373BLVD600  \n83             M  NM879042836TR400XXBROA301  \n86             M  NY105983723YO681XXDRXX300  \n88             M  FL331463048CO1550XAVEX303  \n...          ...                        ...  \n9782           M  NY109271145HA65XXXBROA201  \n9850           M  SC294858796SU763XXDXXX400  \n9876           M  MN554231033ED6200XSXXX400  \n9914           M  CA917541172MO600XXAVEX402  \n9917           M  IL620628500MA6800X162X400  \n\n[1017 rows x 40 columns]",
      "text/html": "<div>\n<style scoped>\n    .dataframe tbody tr th:only-of-type {\n        vertical-align: middle;\n    }\n\n    .dataframe tbody tr th {\n        vertical-align: top;\n    }\n\n    .dataframe thead th {\n        text-align: right;\n    }\n</style>\n<table border=\"1\" class=\"dataframe\">\n  <thead>\n    <tr style=\"text-align: right;\">\n      <th></th>\n      <th>NPI</th>\n      <th>Ind_PAC_ID</th>\n      <th>Ind_enrl_ID</th>\n      <th>lst_nm</th>\n      <th>frst_nm</th>\n      <th>mid_nm</th>\n      <th>suff</th>\n      <th>gndr</th>\n      <th>Cred</th>\n      <th>Med_sch</th>\n      <th>...</th>\n      <th>hosp_afl_lbn_2</th>\n      <th>hosp_afl_3</th>\n      <th>hosp_afl_lbn_3</th>\n      <th>hosp_afl_4</th>\n      <th>hosp_afl_lbn_4</th>\n      <th>hosp_afl_5</th>\n      <th>hosp_afl_lbn_5</th>\n      <th>ind_assgn</th>\n      <th>grp_assgn</th>\n      <th>adrs_id</th>\n    </tr>\n  </thead>\n  <tbody>\n    <tr>\n      <th>34</th>\n      <td>1215138391</td>\n      <td>5991895575</td>\n      <td>I20071219000653</td>\n      <td>ONEAL</td>\n      <td>DALE</td>\n      <td>W</td>\n      <td>NaN</td>\n      <td>M</td>\n      <td>NaN</td>\n      <td>OTHER</td>\n      <td>...</td>\n      <td>NaN</td>\n      <td>NaN</td>\n      <td>NaN</td>\n      <td>NaN</td>\n      <td>NaN</td>\n      <td>NaN</td>\n      <td>NaN</td>\n      <td>Y</td>\n      <td>M</td>\n      <td>CA926511519LA266XXSTXX300</td>\n    </tr>\n    <tr>\n      <th>52</th>\n      <td>1215168943</td>\n      <td>4688916042</td>\n      <td>I20190505000000</td>\n      <td>DAUSEND</td>\n      <td>BARBARAANN</td>\n      <td>F</td>\n      <td>NaN</td>\n      <td>F</td>\n      <td>NaN</td>\n      <td>OTHER</td>\n      <td>...</td>\n      <td>NaN</td>\n      <td>NaN</td>\n      <td>NaN</td>\n      <td>NaN</td>\n      <td>NaN</td>\n      <td>NaN</td>\n      <td>NaN</td>\n      <td>Y</td>\n      <td>M</td>\n      <td>AZ853814873PE13373BLVD600</td>\n    </tr>\n    <tr>\n      <th>83</th>\n      <td>1215161161</td>\n      <td>6608197421</td>\n      <td>I20150605000414</td>\n      <td>AGUILAR</td>\n      <td>MARGARET</td>\n      <td>L</td>\n      <td>NaN</td>\n      <td>F</td>\n      <td>NaN</td>\n      <td>OTHER</td>\n      <td>...</td>\n      <td>NaN</td>\n      <td>NaN</td>\n      <td>NaN</td>\n      <td>NaN</td>\n      <td>NaN</td>\n      <td>NaN</td>\n      <td>NaN</td>\n      <td>Y</td>\n      <td>M</td>\n      <td>NM879042836TR400XXBROA301</td>\n    </tr>\n    <tr>\n      <th>86</th>\n      <td>1215236187</td>\n      <td>4688823321</td>\n      <td>I20121023000000</td>\n      <td>DENNIS-NFOR</td>\n      <td>BIJOU</td>\n      <td>M</td>\n      <td>NaN</td>\n      <td>F</td>\n      <td>NaN</td>\n      <td>NEW YORK COLLEGE OF PODIATRIC MEDICINE</td>\n      <td>...</td>\n      <td>NaN</td>\n      <td>NaN</td>\n      <td>NaN</td>\n      <td>NaN</td>\n      <td>NaN</td>\n      <td>NaN</td>\n      <td>NaN</td>\n      <td>Y</td>\n      <td>M</td>\n      <td>NY105983723YO681XXDRXX300</td>\n    </tr>\n    <tr>\n      <th>88</th>\n      <td>1215188925</td>\n      <td>5193982478</td>\n      <td>I20120130000697</td>\n      <td>KESHAVARZI</td>\n      <td>REZA</td>\n      <td>NaN</td>\n      <td>NaN</td>\n      <td>M</td>\n      <td>NaN</td>\n      <td>UNIVERSITY OF KENTUCKY COLLEGE OF MEDICINE</td>\n      <td>...</td>\n      <td>NaN</td>\n      <td>NaN</td>\n      <td>NaN</td>\n      <td>NaN</td>\n      <td>NaN</td>\n      <td>NaN</td>\n      <td>NaN</td>\n      <td>Y</td>\n      <td>M</td>\n      <td>FL331463048CO1550XAVEX303</td>\n    </tr>\n    <tr>\n      <th>...</th>\n      <td>...</td>\n      <td>...</td>\n      <td>...</td>\n      <td>...</td>\n      <td>...</td>\n      <td>...</td>\n      <td>...</td>\n      <td>...</td>\n      <td>...</td>\n      <td>...</td>\n      <td>...</td>\n      <td>...</td>\n      <td>...</td>\n      <td>...</td>\n      <td>...</td>\n      <td>...</td>\n      <td>...</td>\n      <td>...</td>\n      <td>...</td>\n      <td>...</td>\n      <td>...</td>\n    </tr>\n    <tr>\n      <th>9782</th>\n      <td>1154690972</td>\n      <td>345504312</td>\n      <td>I20180430001049</td>\n      <td>PERALTA HERNANDEZ</td>\n      <td>RICHARD</td>\n      <td>NaN</td>\n      <td>NaN</td>\n      <td>M</td>\n      <td>NaN</td>\n      <td>OTHER</td>\n      <td>...</td>\n      <td>NaN</td>\n      <td>NaN</td>\n      <td>NaN</td>\n      <td>NaN</td>\n      <td>NaN</td>\n      <td>NaN</td>\n      <td>NaN</td>\n      <td>Y</td>\n      <td>M</td>\n      <td>NY109271145HA65XXXBROA201</td>\n    </tr>\n    <tr>\n      <th>9850</th>\n      <td>1154388064</td>\n      <td>7618966243</td>\n      <td>I20050718000788</td>\n      <td>LEMBO</td>\n      <td>NANCY</td>\n      <td>R</td>\n      <td>NaN</td>\n      <td>F</td>\n      <td>DO</td>\n      <td>NEW YORK COLLEGE OF OSTEO MEDICINE OF NEW YORK...</td>\n      <td>...</td>\n      <td>COLLETON MEDICAL CENTER</td>\n      <td>420079.0</td>\n      <td>TRIDENT MEDICAL CENTER</td>\n      <td>NaN</td>\n      <td>NaN</td>\n      <td>NaN</td>\n      <td>NaN</td>\n      <td>Y</td>\n      <td>M</td>\n      <td>SC294858796SU763XXDXXX400</td>\n    </tr>\n    <tr>\n      <th>9876</th>\n      <td>1154361434</td>\n      <td>1355345539</td>\n      <td>I20131113001374</td>\n      <td>KIM</td>\n      <td>CHARLES</td>\n      <td>S</td>\n      <td>NaN</td>\n      <td>M</td>\n      <td>MD</td>\n      <td>UNIVERSITY OF ARKANSAS COLLEGE OF MEDICINE</td>\n      <td>...</td>\n      <td>NaN</td>\n      <td>NaN</td>\n      <td>NaN</td>\n      <td>NaN</td>\n      <td>NaN</td>\n      <td>NaN</td>\n      <td>NaN</td>\n      <td>Y</td>\n      <td>M</td>\n      <td>MN554231033ED6200XSXXX400</td>\n    </tr>\n    <tr>\n      <th>9914</th>\n      <td>1154471662</td>\n      <td>3072795756</td>\n      <td>I20110317000172</td>\n      <td>WANG</td>\n      <td>KUAN-I</td>\n      <td>NaN</td>\n      <td>NaN</td>\n      <td>M</td>\n      <td>NaN</td>\n      <td>OTHER</td>\n      <td>...</td>\n      <td>NaN</td>\n      <td>NaN</td>\n      <td>NaN</td>\n      <td>NaN</td>\n      <td>NaN</td>\n      <td>NaN</td>\n      <td>NaN</td>\n      <td>Y</td>\n      <td>M</td>\n      <td>CA917541172MO600XXAVEX402</td>\n    </tr>\n    <tr>\n      <th>9917</th>\n      <td>1154393437</td>\n      <td>5698840734</td>\n      <td>I20100116000248</td>\n      <td>BENTLEY</td>\n      <td>FELICIA</td>\n      <td>R</td>\n      <td>NaN</td>\n      <td>F</td>\n      <td>NaN</td>\n      <td>UNIVERSITY OF MISSOURI, KANSAS CITY, SCHOOL OF...</td>\n      <td>...</td>\n      <td>OSF SAINT ANTHONY'S HEALTH CENTER</td>\n      <td>260104.0</td>\n      <td>SSM HEALTH DEPAUL HOSPITAL ST LOUIS</td>\n      <td>260180.0</td>\n      <td>CHRISTIAN HOSPITAL NORTHEAST</td>\n      <td>140289.0</td>\n      <td>ANDERSON HOSPITAL</td>\n      <td>Y</td>\n      <td>M</td>\n      <td>IL620628500MA6800X162X400</td>\n    </tr>\n  </tbody>\n</table>\n<p>1017 rows × 40 columns</p>\n</div>"
     },
     "metadata": {}
    }
   ]
  },
  {
   "cell_type": "code",
   "metadata": {
    "tags": [],
    "deepnote_to_be_reexecuted": false,
    "source_hash": "1c1c3b62",
    "execution_start": 1645036491045,
    "execution_millis": 64,
    "deepnote_app_coordinates": {
     "x": 0,
     "y": 473,
     "w": 12,
     "h": 15
    },
    "cell_id": "00021-620d67b1-2e68-468e-a2ad-f9d7855486bb",
    "deepnote_cell_type": "code"
   },
   "source": "df.drop(' sec_spec_1',inplace=True,axis=1)\ndf.drop(' sec_spec_2',inplace=True,axis=1)\ndf.drop(' sec_spec_3',inplace=True,axis=1)\ndf.drop(' sec_spec_4',inplace=True,axis=1)\ndf.drop(' ln_2_sprs',inplace=True,axis=1)\ndf.drop(' ind_assgn',inplace=True,axis=1)\ndf.drop(' grp_assgn',inplace=True,axis=1)\ndf.drop(' Ind_PAC_ID',inplace=True,axis=1)\ndf.drop(' org_pac_id',inplace=True,axis=1)\ndf.drop(' org_nm',inplace=True,axis=1)\ndf.drop(' num_org_mem',inplace=True,axis=1)\ndf.drop(' adrs_id',inplace=True,axis=1)\ndf.drop(' Ind_enrl_ID',inplace=True,axis=1)\ndf.drop(' hosp_afl_1',inplace=True,axis=1)\ndf.drop(' hosp_afl_2',inplace=True,axis=1)\ndf.drop(' hosp_afl_3',inplace=True,axis=1)\ndf.drop(' hosp_afl_4',inplace=True,axis=1)\ndf.drop(' hosp_afl_5',inplace=True,axis=1)",
   "execution_count": null,
   "outputs": []
  },
  {
   "cell_type": "code",
   "metadata": {
    "tags": [],
    "deepnote_to_be_reexecuted": false,
    "source_hash": "9811f76f",
    "execution_start": 1645036491188,
    "execution_millis": 1554,
    "deepnote_app_coordinates": {
     "x": 0,
     "y": 489,
     "w": 12,
     "h": 9
    },
    "cell_id": "00022-4438189f-46ea-4387-9ed3-e3369fa3c071",
    "deepnote_cell_type": "code"
   },
   "source": "df.rename(columns={' frst_nm':'frst_nm', ' mid_name':'mid_name',' lst_nm':'lst_nm',' mid_nm':'mid_nm',' suff':'suff','gndr':'gndr',' Cred':'Cred',' Med_sch':'Med_sch',' Grd_yr':'Grd_yr',' pri_spec':'pri_spec',' sec_spec_all':'sec_spec_all',' org_nm':'org_nm',' org_pac_id':'org_pac_id',' num_org_mem':'num_org_mem',' adr_ln_1':'adr_ln_1',' adr_ln_2':'adr_ln_2',' city':'city',' st':'st',' zip':'zip',' phn_numbr':'phn_numbr',' hosp_afl_1':'hosp_afl_1',' hosp_afl_lbn_1':'hosp_afl_lbn_1',' hosp_afl_2':'hosp_afl_2',' hosp_afl_lbn_2':'hosp_afl_lbn_2',' hosp_afl_3':'hosp_afl_3',' hosp_afl_lbn_3':'hosp_afl_lbn_3',' hosp_afl_4':'hosp_afl_4',' hosp_afl_lbn_4':'hosp_afl_lbn_4',' hosp_afl_5':'hosp_afl_5',' hosp_afl_lbn_5':'hosp_afl_lbn_5',' cty':'cty'},inplace=True)\ndf['mid_nm'] = df['mid_nm'].str[0]\ndf.suff = df.suff.fillna('')\ndf.mid_nm = df.mid_nm.fillna('')\ndf.adr_ln_2 = df.adr_ln_2.fillna('')\n\ndf['full_name'] = df[['frst_nm', 'mid_nm','lst_nm','suff']].agg(' '.join, axis=1)\ndf['adr'] = df[['adr_ln_1', 'adr_ln_2']].agg(' '.join,axis=1)",
   "execution_count": null,
   "outputs": []
  },
  {
   "cell_type": "code",
   "metadata": {
    "tags": [],
    "deepnote_to_be_reexecuted": false,
    "source_hash": "670fd6d2",
    "execution_start": 1645036492768,
    "execution_millis": 324,
    "deepnote_app_coordinates": {
     "x": 0,
     "y": 499,
     "w": 12,
     "h": 38
    },
    "cell_id": "00023-0dfc3baa-d4ea-4a9d-ad30-1de59cad55a8",
    "deepnote_cell_type": "code"
   },
   "source": "\ndf.drop('suff',inplace=True,axis=1)\ndf.drop('lst_nm',inplace=True,axis=1)\ndf.drop('mid_nm',inplace=True,axis=1)\ndf.drop('frst_nm',inplace=True,axis=1)\ndf.drop('adr_ln_1',inplace=True,axis=1)\ndf.drop('adr_ln_2',inplace=True,axis=1)\n\nsec_column = df.pop('full_name')\ndf.insert(1, 'full_name', sec_column)\nadr_column = df.pop('adr')\ndf.insert(8,'adr', adr_column)\n\ndf['full_name'] = df['full_name'].str.title()\ndf['Med_sch']= df['Med_sch'].str.title()\ndf['pri_spec']= df['pri_spec'].str.title()\ndf['sec_spec_all']= df['sec_spec_all'].str.title()\ndf['adr']= df['adr'].str.title()\ndf['cty']=df['cty'].str.title()\ndf['hosp_afl_lbn_1']=df['hosp_afl_lbn_1'].str.title()\ndf",
   "execution_count": null,
   "outputs": [
    {
     "output_type": "execute_result",
     "execution_count": 18,
     "data": {
      "application/vnd.deepnote.dataframe.v3+json": {
       "column_count": 18,
       "row_count": 10000,
       "columns": [
        {
         "name": "NPI",
         "dtype": "int64",
         "stats": {
          "unique_count": 8983,
          "nan_count": 0,
          "min": "1154356152",
          "max": "1215356100",
          "histogram": [
           {
            "bin_start": 1154356152,
            "bin_end": 1160456146.8,
            "count": 634
           },
           {
            "bin_start": 1160456146.8,
            "bin_end": 1166556141.6,
            "count": 1781
           },
           {
            "bin_start": 1166556141.6,
            "bin_end": 1172656136.4,
            "count": 0
           },
           {
            "bin_start": 1172656136.4,
            "bin_end": 1178756131.2,
            "count": 1677
           },
           {
            "bin_start": 1178756131.2,
            "bin_end": 1184856126,
            "count": 1535
           },
           {
            "bin_start": 1184856126,
            "bin_end": 1190956120.8,
            "count": 201
           },
           {
            "bin_start": 1190956120.8,
            "bin_end": 1197056115.6,
            "count": 1660
           },
           {
            "bin_start": 1197056115.6,
            "bin_end": 1203156110.4,
            "count": 0
           },
           {
            "bin_start": 1203156110.4,
            "bin_end": 1209256105.2,
            "count": 1636
           },
           {
            "bin_start": 1209256105.2,
            "bin_end": 1215356100,
            "count": 876
           }
          ]
         }
        },
        {
         "name": "full_name",
         "dtype": "object",
         "stats": {
          "unique_count": 8977,
          "nan_count": 0,
          "categories": [
           {
            "name": "Christopher H Surtman ",
            "count": 31
           },
           {
            "name": "Manjit S Gulati ",
            "count": 11
           },
           {
            "name": "8975 others",
            "count": 9958
           }
          ]
         }
        },
        {
         "name": " gndr",
         "dtype": "object",
         "stats": {
          "unique_count": 2,
          "nan_count": 0,
          "categories": [
           {
            "name": "M",
            "count": 6300
           },
           {
            "name": "F",
            "count": 3700
           }
          ]
         }
        },
        {
         "name": "Cred",
         "dtype": "object",
         "stats": {
          "unique_count": 19,
          "nan_count": 6380,
          "categories": [
           {
            "name": "MD",
            "count": 1786
           },
           {
            "name": "18 others",
            "count": 1834
           },
           {
            "name": "Missing",
            "count": 6380
           }
          ]
         }
        },
        {
         "name": "Med_sch",
         "dtype": "object",
         "stats": {
          "unique_count": 252,
          "nan_count": 0,
          "categories": [
           {
            "name": "Other",
            "count": 5246
           },
           {
            "name": "Palmer College Chiropractic - Davenport",
            "count": 250
           },
           {
            "name": "250 others",
            "count": 4504
           }
          ]
         }
        },
        {
         "name": "Grd_yr",
         "dtype": "float64",
         "stats": {
          "unique_count": 68,
          "nan_count": 5,
          "min": "1951.0",
          "max": "2021.0",
          "histogram": [
           {
            "bin_start": 1951,
            "bin_end": 1958,
            "count": 7
           },
           {
            "bin_start": 1958,
            "bin_end": 1965,
            "count": 75
           },
           {
            "bin_start": 1965,
            "bin_end": 1972,
            "count": 326
           },
           {
            "bin_start": 1972,
            "bin_end": 1979,
            "count": 881
           },
           {
            "bin_start": 1979,
            "bin_end": 1986,
            "count": 1598
           },
           {
            "bin_start": 1986,
            "bin_end": 1993,
            "count": 1787
           },
           {
            "bin_start": 1993,
            "bin_end": 2000,
            "count": 1845
           },
           {
            "bin_start": 2000,
            "bin_end": 2007,
            "count": 1550
           },
           {
            "bin_start": 2007,
            "bin_end": 2014,
            "count": 1259
           },
           {
            "bin_start": 2014,
            "bin_end": 2021,
            "count": 667
           }
          ]
         }
        },
        {
         "name": "pri_spec",
         "dtype": "object",
         "stats": {
          "unique_count": 77,
          "nan_count": 0,
          "categories": [
           {
            "name": "Chiropractic",
            "count": 1629
           },
           {
            "name": "Clinical Social Worker",
            "count": 1072
           },
           {
            "name": "75 others",
            "count": 7299
           }
          ]
         }
        },
        {
         "name": "sec_spec_all",
         "dtype": "object",
         "stats": {
          "unique_count": 166,
          "nan_count": 8791,
          "categories": [
           {
            "name": "Internal Medicine",
            "count": 311
           },
           {
            "name": "165 others",
            "count": 898
           },
           {
            "name": "Missing",
            "count": 8791
           }
          ]
         }
        },
        {
         "name": "adr",
         "dtype": "object",
         "stats": {
          "unique_count": 9875,
          "nan_count": 0,
          "categories": [
           {
            "name": "1216 2Nd St Sw ",
            "count": 13
           },
           {
            "name": "27005 76Th Ave ",
            "count": 4
           },
           {
            "name": "9873 others",
            "count": 9983
           }
          ]
         }
        },
        {
         "name": "cty",
         "dtype": "object",
         "stats": {
          "unique_count": 3095,
          "nan_count": 0,
          "categories": [
           {
            "name": "New York",
            "count": 163
           },
           {
            "name": "Brooklyn",
            "count": 106
           },
           {
            "name": "3093 others",
            "count": 9731
           }
          ]
         }
        },
        {
         "name": "st",
         "dtype": "object"
        },
        {
         "name": "zip",
         "dtype": "object"
        },
        {
         "name": "phn_numbr",
         "dtype": "float64"
        },
        {
         "name": "hosp_afl_lbn_1",
         "dtype": "object"
        },
        {
         "name": "hosp_afl_lbn_2",
         "dtype": "object"
        },
        {
         "name": "hosp_afl_lbn_3",
         "dtype": "object"
        },
        {
         "name": "hosp_afl_lbn_4",
         "dtype": "object"
        },
        {
         "name": "hosp_afl_lbn_5",
         "dtype": "object"
        },
        {
         "name": "_deepnote_index_column",
         "dtype": "int64"
        }
       ],
       "rows": [
        {
         "NPI": 1215321872,
         "full_name": "Eve  Masiello ",
         " gndr": "F",
         "Cred": "nan",
         "Med_sch": "Other",
         "Grd_yr": 1982,
         "pri_spec": "Clinical Social Worker",
         "sec_spec_all": "nan",
         "adr": "120 Court St ",
         "cty": "Plymouth",
         "st": "MA",
         "zip": "023603826",
         "phn_numbr": 7817107356,
         "hosp_afl_lbn_1": "nan",
         "hosp_afl_lbn_2": "nan",
         "hosp_afl_lbn_3": "nan",
         "hosp_afl_lbn_4": "nan",
         "hosp_afl_lbn_5": "nan",
         "_deepnote_index_column": 0
        },
        {
         "NPI": 1215195664,
         "full_name": "Celestina N Duru ",
         " gndr": "F",
         "Cred": "nan",
         "Med_sch": "New York College Of Podiatric Medicine",
         "Grd_yr": 2007,
         "pri_spec": "Podiatry",
         "sec_spec_all": "nan",
         "adr": "2000 Esters Rd Suite 104",
         "cty": "Irving",
         "st": "TX",
         "zip": "750619580",
         "phn_numbr": "nan",
         "hosp_afl_lbn_1": "nan",
         "hosp_afl_lbn_2": "nan",
         "hosp_afl_lbn_3": "nan",
         "hosp_afl_lbn_4": "nan",
         "hosp_afl_lbn_5": "nan",
         "_deepnote_index_column": 1
        },
        {
         "NPI": 1215188925,
         "full_name": "Reza  Keshavarzi ",
         " gndr": "M",
         "Cred": "nan",
         "Med_sch": "University Of Kentucky College Of Medicine",
         "Grd_yr": 2005,
         "pri_spec": "General Surgery",
         "sec_spec_all": "nan",
         "adr": "7330 Sw 62Nd Pl Suite 210",
         "cty": "South Miami",
         "st": "FL",
         "zip": "331434825",
         "phn_numbr": "nan",
         "hosp_afl_lbn_1": "nan",
         "hosp_afl_lbn_2": "nan",
         "hosp_afl_lbn_3": "nan",
         "hosp_afl_lbn_4": "nan",
         "hosp_afl_lbn_5": "nan",
         "_deepnote_index_column": 2
        },
        {
         "NPI": 1215138714,
         "full_name": "Anthony  Pham ",
         " gndr": "M",
         "Cred": "nan",
         "Med_sch": "University Of North Texas Hsc, College Of Osteopathic Med",
         "Grd_yr": 2003,
         "pri_spec": "Physical Medicine And Rehabilitation",
         "sec_spec_all": "Interventional Pain Management",
         "adr": "11799 Beechnut St Suite A",
         "cty": "Houston",
         "st": "TX",
         "zip": "770724116",
         "phn_numbr": "nan",
         "hosp_afl_lbn_1": "nan",
         "hosp_afl_lbn_2": "nan",
         "hosp_afl_lbn_3": "nan",
         "hosp_afl_lbn_4": "nan",
         "hosp_afl_lbn_5": "nan",
         "_deepnote_index_column": 3
        },
        {
         "NPI": 1215127840,
         "full_name": "Marcia E Nelson Vancini ",
         " gndr": "F",
         "Cred": "CNS",
         "Med_sch": "Other",
         "Grd_yr": 2002,
         "pri_spec": "Certified Clinical Nurse Specialist (Cns)",
         "sec_spec_all": "nan",
         "adr": "2 Brentwood Cir ",
         "cty": "Andover",
         "st": "MA",
         "zip": "018105129",
         "phn_numbr": 9783358785,
         "hosp_afl_lbn_1": "Lawrence General Hospital",
         "hosp_afl_lbn_2": "nan",
         "hosp_afl_lbn_3": "nan",
         "hosp_afl_lbn_4": "nan",
         "hosp_afl_lbn_5": "nan",
         "_deepnote_index_column": 4
        },
        {
         "NPI": 1215349154,
         "full_name": "Nana F Arkhurst-Arthur ",
         " gndr": "F",
         "Cred": "nan",
         "Med_sch": "Other",
         "Grd_yr": 2013,
         "pri_spec": "Nurse Practitioner",
         "sec_spec_all": "nan",
         "adr": "1006 N Arendell Ave ",
         "cty": "Zebulon",
         "st": "NC",
         "zip": "275972352",
         "phn_numbr": "nan",
         "hosp_afl_lbn_1": "Nash General Hospital",
         "hosp_afl_lbn_2": "nan",
         "hosp_afl_lbn_3": "nan",
         "hosp_afl_lbn_4": "nan",
         "hosp_afl_lbn_5": "nan",
         "_deepnote_index_column": 5
        },
        {
         "NPI": 1215186309,
         "full_name": "Tania L Ramirez Perez ",
         " gndr": "F",
         "Cred": "nan",
         "Med_sch": "University Of Puerto Rico School Of Medicine",
         "Grd_yr": 2008,
         "pri_spec": "Nephrology",
         "sec_spec_all": "nan",
         "adr": "313 Calle Manuel Domenech Suite 101",
         "cty": "San Juan",
         "st": "PR",
         "zip": "009183532",
         "phn_numbr": 7877637423,
         "hosp_afl_lbn_1": "Auxilio Mutuo Hospital",
         "hosp_afl_lbn_2": "BAYAMON MEDICAL CENTER",
         "hosp_afl_lbn_3": "nan",
         "hosp_afl_lbn_4": "nan",
         "hosp_afl_lbn_5": "nan",
         "_deepnote_index_column": 6
        },
        {
         "NPI": 1215254925,
         "full_name": "Laurene L Clossey ",
         " gndr": "F",
         "Cred": "nan",
         "Med_sch": "Other",
         "Grd_yr": 2004,
         "pri_spec": "Clinical Social Worker",
         "sec_spec_all": "nan",
         "adr": "101 Mountain Ct Suite 101B",
         "cty": "Hackettstown",
         "st": "NJ",
         "zip": "078402300",
         "phn_numbr": "nan",
         "hosp_afl_lbn_1": "nan",
         "hosp_afl_lbn_2": "nan",
         "hosp_afl_lbn_3": "nan",
         "hosp_afl_lbn_4": "nan",
         "hosp_afl_lbn_5": "nan",
         "_deepnote_index_column": 7
        },
        {
         "NPI": 1215284070,
         "full_name": "Megan  Franklin ",
         " gndr": "F",
         "Cred": "nan",
         "Med_sch": "Other",
         "Grd_yr": 2012,
         "pri_spec": "Chiropractic",
         "sec_spec_all": "nan",
         "adr": "900 N Swallowtail Dr 104 D",
         "cty": "Port Orange",
         "st": "FL",
         "zip": "321296103",
         "phn_numbr": "nan",
         "hosp_afl_lbn_1": "nan",
         "hosp_afl_lbn_2": "nan",
         "hosp_afl_lbn_3": "nan",
         "hosp_afl_lbn_4": "nan",
         "hosp_afl_lbn_5": "nan",
         "_deepnote_index_column": 8
        },
        {
         "NPI": 1215161161,
         "full_name": "Margaret L Aguilar ",
         " gndr": "F",
         "Cred": "nan",
         "Med_sch": "Other",
         "Grd_yr": 1999,
         "pri_spec": "Clinical Social Worker",
         "sec_spec_all": "nan",
         "adr": "1232 Barker Rd ",
         "cty": "Las Cruces",
         "st": "NM",
         "zip": "880053182",
         "phn_numbr": 5756525263,
         "hosp_afl_lbn_1": "nan",
         "hosp_afl_lbn_2": "nan",
         "hosp_afl_lbn_3": "nan",
         "hosp_afl_lbn_4": "nan",
         "hosp_afl_lbn_5": "nan",
         "_deepnote_index_column": 9
        }
       ]
      },
      "text/plain": "             NPI                 full_name  gndr Cred  \\\n0     1215321872            Eve  Masiello      F  NaN   \n1     1215195664         Celestina N Duru      F  NaN   \n2     1215188925         Reza  Keshavarzi      M  NaN   \n3     1215138714            Anthony  Pham      M  NaN   \n4     1215127840  Marcia E Nelson Vancini      F  CNS   \n...          ...                       ...   ...  ...   \n9995  1154398477          Richard S Faulk      M  NaN   \n9996  1154405488   Maria E Chirino-Socias      F  NaN   \n9997  1154377315             Alex A Lazar      M   MD   \n9998  1154359230          Vasif A Humayun      M   MD   \n9999  1154376473          Richard S Feher      M  NaN   \n\n                                                Med_sch  Grd_yr  \\\n0                                                 Other  1982.0   \n1                New York College Of Podiatric Medicine  2007.0   \n2            University Of Kentucky College Of Medicine  2005.0   \n3     University Of North Texas Hsc, College Of Oste...  2003.0   \n4                                                 Other  2002.0   \n...                                                 ...     ...   \n9995  Medical University Of South Carolina College O...  1993.0   \n9996  University Central Del Caribe Escuela De Medicina  1992.0   \n9997             New York University School Of Medicine  1996.0   \n9998                                              Other  1984.0   \n9999            Palmer College Chiropractic - Davenport  1993.0   \n\n                                       pri_spec  \\\n0                        Clinical Social Worker   \n1                                      Podiatry   \n2                               General Surgery   \n3          Physical Medicine And Rehabilitation   \n4     Certified Clinical Nurse Specialist (Cns)   \n...                                         ...   \n9995                                 Psychiatry   \n9996                               Rheumatology   \n9997                                 Psychiatry   \n9998                          Internal Medicine   \n9999                               Chiropractic   \n\n                        sec_spec_all                                 adr  \\\n0                                NaN                       120 Court St    \n1                                NaN            2000 Esters Rd Suite 104   \n2                                NaN           7330 Sw 62Nd Pl Suite 210   \n3     Interventional Pain Management           11799 Beechnut St Suite A   \n4                                NaN                    2 Brentwood Cir    \n...                              ...                                 ...   \n9995                             NaN  2601 E Oakland Park Blvd Suite 207   \n9996               Internal Medicine  690 Calle Cesar Gonzalez Suite 500   \n9997                             NaN        16055 Ventura Blvd Suite 601   \n9998                             NaN               11410 E Fwy Suite 168   \n9999                             NaN          5005 John Stockbauer Dr B    \n\n                  cty  st        zip     phn_numbr             hosp_afl_lbn_1  \\\n0            Plymouth  MA  023603826  7.817107e+09                        NaN   \n1              Irving  TX  750619580           NaN                        NaN   \n2         South Miami  FL  331434825           NaN                        NaN   \n3             Houston  TX  770724116           NaN                        NaN   \n4             Andover  MA  018105129  9.783359e+09  Lawrence General Hospital   \n...               ...  ..        ...           ...                        ...   \n9995  Fort Lauderdale  FL  333061658           NaN                        NaN   \n9996         San Juan  PR  009183917  7.877535e+09     Auxilio Mutuo Hospital   \n9997           Encino  CA  914362618           NaN                        NaN   \n9998          Houston  TX  770291986           NaN                        NaN   \n9999         Victoria  TX  779041901  3.615769e+09                        NaN   \n\n     hosp_afl_lbn_2 hosp_afl_lbn_3 hosp_afl_lbn_4 hosp_afl_lbn_5  \n0               NaN            NaN            NaN            NaN  \n1               NaN            NaN            NaN            NaN  \n2               NaN            NaN            NaN            NaN  \n3               NaN            NaN            NaN            NaN  \n4               NaN            NaN            NaN            NaN  \n...             ...            ...            ...            ...  \n9995            NaN            NaN            NaN            NaN  \n9996            NaN            NaN            NaN            NaN  \n9997            NaN            NaN            NaN            NaN  \n9998            NaN            NaN            NaN            NaN  \n9999            NaN            NaN            NaN            NaN  \n\n[10000 rows x 18 columns]",
      "text/html": "<div>\n<style scoped>\n    .dataframe tbody tr th:only-of-type {\n        vertical-align: middle;\n    }\n\n    .dataframe tbody tr th {\n        vertical-align: top;\n    }\n\n    .dataframe thead th {\n        text-align: right;\n    }\n</style>\n<table border=\"1\" class=\"dataframe\">\n  <thead>\n    <tr style=\"text-align: right;\">\n      <th></th>\n      <th>NPI</th>\n      <th>full_name</th>\n      <th>gndr</th>\n      <th>Cred</th>\n      <th>Med_sch</th>\n      <th>Grd_yr</th>\n      <th>pri_spec</th>\n      <th>sec_spec_all</th>\n      <th>adr</th>\n      <th>cty</th>\n      <th>st</th>\n      <th>zip</th>\n      <th>phn_numbr</th>\n      <th>hosp_afl_lbn_1</th>\n      <th>hosp_afl_lbn_2</th>\n      <th>hosp_afl_lbn_3</th>\n      <th>hosp_afl_lbn_4</th>\n      <th>hosp_afl_lbn_5</th>\n    </tr>\n  </thead>\n  <tbody>\n    <tr>\n      <th>0</th>\n      <td>1215321872</td>\n      <td>Eve  Masiello</td>\n      <td>F</td>\n      <td>NaN</td>\n      <td>Other</td>\n      <td>1982.0</td>\n      <td>Clinical Social Worker</td>\n      <td>NaN</td>\n      <td>120 Court St</td>\n      <td>Plymouth</td>\n      <td>MA</td>\n      <td>023603826</td>\n      <td>7.817107e+09</td>\n      <td>NaN</td>\n      <td>NaN</td>\n      <td>NaN</td>\n      <td>NaN</td>\n      <td>NaN</td>\n    </tr>\n    <tr>\n      <th>1</th>\n      <td>1215195664</td>\n      <td>Celestina N Duru</td>\n      <td>F</td>\n      <td>NaN</td>\n      <td>New York College Of Podiatric Medicine</td>\n      <td>2007.0</td>\n      <td>Podiatry</td>\n      <td>NaN</td>\n      <td>2000 Esters Rd Suite 104</td>\n      <td>Irving</td>\n      <td>TX</td>\n      <td>750619580</td>\n      <td>NaN</td>\n      <td>NaN</td>\n      <td>NaN</td>\n      <td>NaN</td>\n      <td>NaN</td>\n      <td>NaN</td>\n    </tr>\n    <tr>\n      <th>2</th>\n      <td>1215188925</td>\n      <td>Reza  Keshavarzi</td>\n      <td>M</td>\n      <td>NaN</td>\n      <td>University Of Kentucky College Of Medicine</td>\n      <td>2005.0</td>\n      <td>General Surgery</td>\n      <td>NaN</td>\n      <td>7330 Sw 62Nd Pl Suite 210</td>\n      <td>South Miami</td>\n      <td>FL</td>\n      <td>331434825</td>\n      <td>NaN</td>\n      <td>NaN</td>\n      <td>NaN</td>\n      <td>NaN</td>\n      <td>NaN</td>\n      <td>NaN</td>\n    </tr>\n    <tr>\n      <th>3</th>\n      <td>1215138714</td>\n      <td>Anthony  Pham</td>\n      <td>M</td>\n      <td>NaN</td>\n      <td>University Of North Texas Hsc, College Of Oste...</td>\n      <td>2003.0</td>\n      <td>Physical Medicine And Rehabilitation</td>\n      <td>Interventional Pain Management</td>\n      <td>11799 Beechnut St Suite A</td>\n      <td>Houston</td>\n      <td>TX</td>\n      <td>770724116</td>\n      <td>NaN</td>\n      <td>NaN</td>\n      <td>NaN</td>\n      <td>NaN</td>\n      <td>NaN</td>\n      <td>NaN</td>\n    </tr>\n    <tr>\n      <th>4</th>\n      <td>1215127840</td>\n      <td>Marcia E Nelson Vancini</td>\n      <td>F</td>\n      <td>CNS</td>\n      <td>Other</td>\n      <td>2002.0</td>\n      <td>Certified Clinical Nurse Specialist (Cns)</td>\n      <td>NaN</td>\n      <td>2 Brentwood Cir</td>\n      <td>Andover</td>\n      <td>MA</td>\n      <td>018105129</td>\n      <td>9.783359e+09</td>\n      <td>Lawrence General Hospital</td>\n      <td>NaN</td>\n      <td>NaN</td>\n      <td>NaN</td>\n      <td>NaN</td>\n    </tr>\n    <tr>\n      <th>...</th>\n      <td>...</td>\n      <td>...</td>\n      <td>...</td>\n      <td>...</td>\n      <td>...</td>\n      <td>...</td>\n      <td>...</td>\n      <td>...</td>\n      <td>...</td>\n      <td>...</td>\n      <td>...</td>\n      <td>...</td>\n      <td>...</td>\n      <td>...</td>\n      <td>...</td>\n      <td>...</td>\n      <td>...</td>\n      <td>...</td>\n    </tr>\n    <tr>\n      <th>9995</th>\n      <td>1154398477</td>\n      <td>Richard S Faulk</td>\n      <td>M</td>\n      <td>NaN</td>\n      <td>Medical University Of South Carolina College O...</td>\n      <td>1993.0</td>\n      <td>Psychiatry</td>\n      <td>NaN</td>\n      <td>2601 E Oakland Park Blvd Suite 207</td>\n      <td>Fort Lauderdale</td>\n      <td>FL</td>\n      <td>333061658</td>\n      <td>NaN</td>\n      <td>NaN</td>\n      <td>NaN</td>\n      <td>NaN</td>\n      <td>NaN</td>\n      <td>NaN</td>\n    </tr>\n    <tr>\n      <th>9996</th>\n      <td>1154405488</td>\n      <td>Maria E Chirino-Socias</td>\n      <td>F</td>\n      <td>NaN</td>\n      <td>University Central Del Caribe Escuela De Medicina</td>\n      <td>1992.0</td>\n      <td>Rheumatology</td>\n      <td>Internal Medicine</td>\n      <td>690 Calle Cesar Gonzalez Suite 500</td>\n      <td>San Juan</td>\n      <td>PR</td>\n      <td>009183917</td>\n      <td>7.877535e+09</td>\n      <td>Auxilio Mutuo Hospital</td>\n      <td>NaN</td>\n      <td>NaN</td>\n      <td>NaN</td>\n      <td>NaN</td>\n    </tr>\n    <tr>\n      <th>9997</th>\n      <td>1154377315</td>\n      <td>Alex A Lazar</td>\n      <td>M</td>\n      <td>MD</td>\n      <td>New York University School Of Medicine</td>\n      <td>1996.0</td>\n      <td>Psychiatry</td>\n      <td>NaN</td>\n      <td>16055 Ventura Blvd Suite 601</td>\n      <td>Encino</td>\n      <td>CA</td>\n      <td>914362618</td>\n      <td>NaN</td>\n      <td>NaN</td>\n      <td>NaN</td>\n      <td>NaN</td>\n      <td>NaN</td>\n      <td>NaN</td>\n    </tr>\n    <tr>\n      <th>9998</th>\n      <td>1154359230</td>\n      <td>Vasif A Humayun</td>\n      <td>M</td>\n      <td>MD</td>\n      <td>Other</td>\n      <td>1984.0</td>\n      <td>Internal Medicine</td>\n      <td>NaN</td>\n      <td>11410 E Fwy Suite 168</td>\n      <td>Houston</td>\n      <td>TX</td>\n      <td>770291986</td>\n      <td>NaN</td>\n      <td>NaN</td>\n      <td>NaN</td>\n      <td>NaN</td>\n      <td>NaN</td>\n      <td>NaN</td>\n    </tr>\n    <tr>\n      <th>9999</th>\n      <td>1154376473</td>\n      <td>Richard S Feher</td>\n      <td>M</td>\n      <td>NaN</td>\n      <td>Palmer College Chiropractic - Davenport</td>\n      <td>1993.0</td>\n      <td>Chiropractic</td>\n      <td>NaN</td>\n      <td>5005 John Stockbauer Dr B</td>\n      <td>Victoria</td>\n      <td>TX</td>\n      <td>779041901</td>\n      <td>3.615769e+09</td>\n      <td>NaN</td>\n      <td>NaN</td>\n      <td>NaN</td>\n      <td>NaN</td>\n      <td>NaN</td>\n    </tr>\n  </tbody>\n</table>\n<p>10000 rows × 18 columns</p>\n</div>"
     },
     "metadata": {}
    }
   ]
  },
  {
   "cell_type": "markdown",
   "source": "I&nbsp;notice&nbsp;there&nbsp;are&nbsp;still&nbsp;a&nbsp;lot&nbsp;of&nbsp;empty&nbsp;boxes,&nbsp;so I will further reduce this using function that evaluates the percentage of nan in a column.",
   "metadata": {
    "tags": [],
    "is_collapsed": false,
    "deepnote_app_coordinates": {
     "x": 0,
     "y": 538,
     "w": 12,
     "h": 2
    },
    "cell_id": "00024-6b973a9f-40c7-40c2-bccb-4eb5d4ec6a3b",
    "deepnote_cell_type": "text-cell-p"
   }
  },
  {
   "cell_type": "code",
   "metadata": {
    "tags": [],
    "deepnote_to_be_reexecuted": false,
    "source_hash": "801c2159",
    "execution_start": 1645036493016,
    "execution_millis": 235,
    "deepnote_table_state": {
     "pageSize": 10,
     "pageIndex": 0,
     "filters": [],
     "sortBy": [
      {
       "id": "full_name",
       "type": "asc"
      }
     ]
    },
    "deepnote_table_loading": false,
    "deepnote_app_coordinates": {
     "x": 0,
     "y": 541,
     "w": 12,
     "h": 28
    },
    "cell_id": "00025-55665032-f901-4b86-b618-82a5ffd14c64",
    "deepnote_cell_type": "code"
   },
   "source": "perc = 75\nmin_count =  int(((100-perc)/100)*df.shape[0] + 1)\ndf = df.dropna( axis=1, \n                thresh=min_count)\ndf",
   "execution_count": null,
   "outputs": [
    {
     "output_type": "execute_result",
     "execution_count": 19,
     "data": {
      "application/vnd.deepnote.dataframe.v3+json": {
       "column_count": 13,
       "row_count": 10000,
       "columns": [
        {
         "name": "NPI",
         "dtype": "int64",
         "stats": {
          "unique_count": 8983,
          "nan_count": 0,
          "min": "1154356152",
          "max": "1215356100",
          "histogram": [
           {
            "bin_start": 1154356152,
            "bin_end": 1160456146.8,
            "count": 634
           },
           {
            "bin_start": 1160456146.8,
            "bin_end": 1166556141.6,
            "count": 1781
           },
           {
            "bin_start": 1166556141.6,
            "bin_end": 1172656136.4,
            "count": 0
           },
           {
            "bin_start": 1172656136.4,
            "bin_end": 1178756131.2,
            "count": 1677
           },
           {
            "bin_start": 1178756131.2,
            "bin_end": 1184856126,
            "count": 1535
           },
           {
            "bin_start": 1184856126,
            "bin_end": 1190956120.8,
            "count": 201
           },
           {
            "bin_start": 1190956120.8,
            "bin_end": 1197056115.6,
            "count": 1660
           },
           {
            "bin_start": 1197056115.6,
            "bin_end": 1203156110.4,
            "count": 0
           },
           {
            "bin_start": 1203156110.4,
            "bin_end": 1209256105.2,
            "count": 1636
           },
           {
            "bin_start": 1209256105.2,
            "bin_end": 1215356100,
            "count": 876
           }
          ]
         }
        },
        {
         "name": "full_name",
         "dtype": "object",
         "stats": {
          "unique_count": 8977,
          "nan_count": 0,
          "categories": [
           {
            "name": "Christopher H Surtman ",
            "count": 31
           },
           {
            "name": "Manjit S Gulati ",
            "count": 11
           },
           {
            "name": "8975 others",
            "count": 9958
           }
          ]
         }
        },
        {
         "name": " gndr",
         "dtype": "object",
         "stats": {
          "unique_count": 2,
          "nan_count": 0,
          "categories": [
           {
            "name": "M",
            "count": 6300
           },
           {
            "name": "F",
            "count": 3700
           }
          ]
         }
        },
        {
         "name": "Cred",
         "dtype": "object",
         "stats": {
          "unique_count": 19,
          "nan_count": 6380,
          "categories": [
           {
            "name": "MD",
            "count": 1786
           },
           {
            "name": "18 others",
            "count": 1834
           },
           {
            "name": "Missing",
            "count": 6380
           }
          ]
         }
        },
        {
         "name": "Med_sch",
         "dtype": "object",
         "stats": {
          "unique_count": 252,
          "nan_count": 0,
          "categories": [
           {
            "name": "Other",
            "count": 5246
           },
           {
            "name": "Palmer College Chiropractic - Davenport",
            "count": 250
           },
           {
            "name": "250 others",
            "count": 4504
           }
          ]
         }
        },
        {
         "name": "Grd_yr",
         "dtype": "float64",
         "stats": {
          "unique_count": 68,
          "nan_count": 5,
          "min": "1951.0",
          "max": "2021.0",
          "histogram": [
           {
            "bin_start": 1951,
            "bin_end": 1958,
            "count": 7
           },
           {
            "bin_start": 1958,
            "bin_end": 1965,
            "count": 75
           },
           {
            "bin_start": 1965,
            "bin_end": 1972,
            "count": 326
           },
           {
            "bin_start": 1972,
            "bin_end": 1979,
            "count": 881
           },
           {
            "bin_start": 1979,
            "bin_end": 1986,
            "count": 1598
           },
           {
            "bin_start": 1986,
            "bin_end": 1993,
            "count": 1787
           },
           {
            "bin_start": 1993,
            "bin_end": 2000,
            "count": 1845
           },
           {
            "bin_start": 2000,
            "bin_end": 2007,
            "count": 1550
           },
           {
            "bin_start": 2007,
            "bin_end": 2014,
            "count": 1259
           },
           {
            "bin_start": 2014,
            "bin_end": 2021,
            "count": 667
           }
          ]
         }
        },
        {
         "name": "pri_spec",
         "dtype": "object",
         "stats": {
          "unique_count": 77,
          "nan_count": 0,
          "categories": [
           {
            "name": "Chiropractic",
            "count": 1629
           },
           {
            "name": "Clinical Social Worker",
            "count": 1072
           },
           {
            "name": "75 others",
            "count": 7299
           }
          ]
         }
        },
        {
         "name": "adr",
         "dtype": "object",
         "stats": {
          "unique_count": 9875,
          "nan_count": 0,
          "categories": [
           {
            "name": "1216 2Nd St Sw ",
            "count": 13
           },
           {
            "name": "27005 76Th Ave ",
            "count": 4
           },
           {
            "name": "9873 others",
            "count": 9983
           }
          ]
         }
        },
        {
         "name": "cty",
         "dtype": "object",
         "stats": {
          "unique_count": 3095,
          "nan_count": 0,
          "categories": [
           {
            "name": "New York",
            "count": 163
           },
           {
            "name": "Brooklyn",
            "count": 106
           },
           {
            "name": "3093 others",
            "count": 9731
           }
          ]
         }
        },
        {
         "name": "st",
         "dtype": "object",
         "stats": {
          "unique_count": 54,
          "nan_count": 0,
          "categories": [
           {
            "name": "CA",
            "count": 1313
           },
           {
            "name": "NY",
            "count": 957
           },
           {
            "name": "52 others",
            "count": 7730
           }
          ]
         }
        },
        {
         "name": "zip",
         "dtype": "object"
        },
        {
         "name": "phn_numbr",
         "dtype": "float64"
        },
        {
         "name": "hosp_afl_lbn_1",
         "dtype": "object"
        },
        {
         "name": "_deepnote_index_column",
         "dtype": "int64"
        }
       ],
       "rows": [
        {
         "NPI": 1184735557,
         "full_name": "A Linda  Blair ",
         " gndr": "F",
         "Cred": "nan",
         "Med_sch": "Other",
         "Grd_yr": 1996,
         "pri_spec": "Clinical Social Worker",
         "adr": "29 Jacqueline Dr ",
         "cty": "Paoli",
         "st": "PA",
         "zip": "193011715",
         "phn_numbr": 6106472799,
         "hosp_afl_lbn_1": "nan",
         "_deepnote_index_column": 4508
        },
        {
         "NPI": 1184619447,
         "full_name": "Aamir A Faruqui ",
         " gndr": "M",
         "Cred": "MD",
         "Med_sch": "Other",
         "Grd_yr": 1991,
         "pri_spec": "Pulmonary Disease",
         "adr": "2121 Ygnacio Valley Rd Suite E104",
         "cty": "Walnut Creek",
         "st": "CA",
         "zip": "945983340",
         "phn_numbr": "nan",
         "hosp_afl_lbn_1": "John Muir Medical Center - Walnut Creek Campus",
         "_deepnote_index_column": 5391
        },
        {
         "NPI": 1174725667,
         "full_name": "Aanchal  Taneja ",
         " gndr": "F",
         "Cred": "nan",
         "Med_sch": "Other",
         "Grd_yr": 2002,
         "pri_spec": "Neurology",
         "adr": "10455 N Central Expressway Suite 110",
         "cty": "Dallas",
         "st": "TX",
         "zip": "752312211",
         "phn_numbr": "nan",
         "hosp_afl_lbn_1": "Texas Health Presbyterian Hospital Dallas",
         "_deepnote_index_column": 6341
        },
        {
         "NPI": 1215259841,
         "full_name": "Aaron  Aldape ",
         " gndr": "M",
         "Cred": "nan",
         "Med_sch": "University Of North Texas Hsc, College Of Osteopathic Med",
         "Grd_yr": 2008,
         "pri_spec": "Family Medicine",
         "adr": "1775 York Ave Apt 28G",
         "cty": "New York",
         "st": "NY",
         "zip": "101286920",
         "phn_numbr": "nan",
         "hosp_afl_lbn_1": "nan",
         "_deepnote_index_column": 183
        },
        {
         "NPI": 1215259841,
         "full_name": "Aaron  Aldape ",
         " gndr": "M",
         "Cred": "nan",
         "Med_sch": "University Of North Texas Hsc, College Of Osteopathic Med",
         "Grd_yr": 2008,
         "pri_spec": "Family Medicine",
         "adr": "5902 Us Hwy 87 ",
         "cty": "Dumas",
         "st": "TX",
         "zip": "790296830",
         "phn_numbr": "nan",
         "hosp_afl_lbn_1": "nan",
         "_deepnote_index_column": 227
        },
        {
         "NPI": 1184924631,
         "full_name": "Aaron  Quamina ",
         " gndr": "M",
         "Cred": "nan",
         "Med_sch": "Other",
         "Grd_yr": 2006,
         "pri_spec": "Hospitalist",
         "adr": "374 Stockholm St ",
         "cty": "Brooklyn",
         "st": "NY",
         "zip": "112374006",
         "phn_numbr": "nan",
         "hosp_afl_lbn_1": "Wyckoff Heights Medical Center",
         "_deepnote_index_column": 4136
        },
        {
         "NPI": 1184629800,
         "full_name": "Aaron  Schwartz ",
         " gndr": "M",
         "Cred": "nan",
         "Med_sch": "Philadelphia College Of Osteopathic Medicine",
         "Grd_yr": 1984,
         "pri_spec": "Pulmonary Disease",
         "adr": "5000 W Oakland Park Blvd ",
         "cty": "Lauderdale Lake",
         "st": "FL",
         "zip": "333131503",
         "phn_numbr": "nan",
         "hosp_afl_lbn_1": "Westside Regional Medical Center",
         "_deepnote_index_column": 5634
        },
        {
         "NPI": 1184629800,
         "full_name": "Aaron  Schwartz ",
         " gndr": "M",
         "Cred": "nan",
         "Med_sch": "Philadelphia College Of Osteopathic Medicine",
         "Grd_yr": 1984,
         "pri_spec": "Pulmonary Disease",
         "adr": "4399 Nob Hill Rd ",
         "cty": "Sunrise",
         "st": "FL",
         "zip": "333515813",
         "phn_numbr": "nan",
         "hosp_afl_lbn_1": "Westside Regional Medical Center",
         "_deepnote_index_column": 5593
        },
        {
         "NPI": 1184629800,
         "full_name": "Aaron  Schwartz ",
         " gndr": "M",
         "Cred": "nan",
         "Med_sch": "Philadelphia College Of Osteopathic Medicine",
         "Grd_yr": 1984,
         "pri_spec": "Pulmonary Disease",
         "adr": "2801 N State Rd Suite 7",
         "cty": "Margate",
         "st": "FL",
         "zip": "330635727",
         "phn_numbr": "nan",
         "hosp_afl_lbn_1": "Westside Regional Medical Center",
         "_deepnote_index_column": 5321
        },
        {
         "NPI": 1184629800,
         "full_name": "Aaron  Schwartz ",
         " gndr": "M",
         "Cred": "nan",
         "Med_sch": "Philadelphia College Of Osteopathic Medicine",
         "Grd_yr": 1984,
         "pri_spec": "Pulmonary Disease",
         "adr": "7201 N University Dr ",
         "cty": "Tamarac",
         "st": "FL",
         "zip": "333212913",
         "phn_numbr": "nan",
         "hosp_afl_lbn_1": "Westside Regional Medical Center",
         "_deepnote_index_column": 5731
        }
       ]
      },
      "text/plain": "             NPI                 full_name  gndr Cred  \\\n0     1215321872            Eve  Masiello      F  NaN   \n1     1215195664         Celestina N Duru      F  NaN   \n2     1215188925         Reza  Keshavarzi      M  NaN   \n3     1215138714            Anthony  Pham      M  NaN   \n4     1215127840  Marcia E Nelson Vancini      F  CNS   \n...          ...                       ...   ...  ...   \n9995  1154398477          Richard S Faulk      M  NaN   \n9996  1154405488   Maria E Chirino-Socias      F  NaN   \n9997  1154377315             Alex A Lazar      M   MD   \n9998  1154359230          Vasif A Humayun      M   MD   \n9999  1154376473          Richard S Feher      M  NaN   \n\n                                                Med_sch  Grd_yr  \\\n0                                                 Other  1982.0   \n1                New York College Of Podiatric Medicine  2007.0   \n2            University Of Kentucky College Of Medicine  2005.0   \n3     University Of North Texas Hsc, College Of Oste...  2003.0   \n4                                                 Other  2002.0   \n...                                                 ...     ...   \n9995  Medical University Of South Carolina College O...  1993.0   \n9996  University Central Del Caribe Escuela De Medicina  1992.0   \n9997             New York University School Of Medicine  1996.0   \n9998                                              Other  1984.0   \n9999            Palmer College Chiropractic - Davenport  1993.0   \n\n                                       pri_spec  \\\n0                        Clinical Social Worker   \n1                                      Podiatry   \n2                               General Surgery   \n3          Physical Medicine And Rehabilitation   \n4     Certified Clinical Nurse Specialist (Cns)   \n...                                         ...   \n9995                                 Psychiatry   \n9996                               Rheumatology   \n9997                                 Psychiatry   \n9998                          Internal Medicine   \n9999                               Chiropractic   \n\n                                     adr              cty  st        zip  \\\n0                          120 Court St          Plymouth  MA  023603826   \n1               2000 Esters Rd Suite 104           Irving  TX  750619580   \n2              7330 Sw 62Nd Pl Suite 210      South Miami  FL  331434825   \n3              11799 Beechnut St Suite A          Houston  TX  770724116   \n4                       2 Brentwood Cir           Andover  MA  018105129   \n...                                  ...              ...  ..        ...   \n9995  2601 E Oakland Park Blvd Suite 207  Fort Lauderdale  FL  333061658   \n9996  690 Calle Cesar Gonzalez Suite 500         San Juan  PR  009183917   \n9997        16055 Ventura Blvd Suite 601           Encino  CA  914362618   \n9998               11410 E Fwy Suite 168          Houston  TX  770291986   \n9999          5005 John Stockbauer Dr B          Victoria  TX  779041901   \n\n         phn_numbr             hosp_afl_lbn_1  \n0     7.817107e+09                        NaN  \n1              NaN                        NaN  \n2              NaN                        NaN  \n3              NaN                        NaN  \n4     9.783359e+09  Lawrence General Hospital  \n...            ...                        ...  \n9995           NaN                        NaN  \n9996  7.877535e+09     Auxilio Mutuo Hospital  \n9997           NaN                        NaN  \n9998           NaN                        NaN  \n9999  3.615769e+09                        NaN  \n\n[10000 rows x 13 columns]",
      "text/html": "<div>\n<style scoped>\n    .dataframe tbody tr th:only-of-type {\n        vertical-align: middle;\n    }\n\n    .dataframe tbody tr th {\n        vertical-align: top;\n    }\n\n    .dataframe thead th {\n        text-align: right;\n    }\n</style>\n<table border=\"1\" class=\"dataframe\">\n  <thead>\n    <tr style=\"text-align: right;\">\n      <th></th>\n      <th>NPI</th>\n      <th>full_name</th>\n      <th>gndr</th>\n      <th>Cred</th>\n      <th>Med_sch</th>\n      <th>Grd_yr</th>\n      <th>pri_spec</th>\n      <th>adr</th>\n      <th>cty</th>\n      <th>st</th>\n      <th>zip</th>\n      <th>phn_numbr</th>\n      <th>hosp_afl_lbn_1</th>\n    </tr>\n  </thead>\n  <tbody>\n    <tr>\n      <th>0</th>\n      <td>1215321872</td>\n      <td>Eve  Masiello</td>\n      <td>F</td>\n      <td>NaN</td>\n      <td>Other</td>\n      <td>1982.0</td>\n      <td>Clinical Social Worker</td>\n      <td>120 Court St</td>\n      <td>Plymouth</td>\n      <td>MA</td>\n      <td>023603826</td>\n      <td>7.817107e+09</td>\n      <td>NaN</td>\n    </tr>\n    <tr>\n      <th>1</th>\n      <td>1215195664</td>\n      <td>Celestina N Duru</td>\n      <td>F</td>\n      <td>NaN</td>\n      <td>New York College Of Podiatric Medicine</td>\n      <td>2007.0</td>\n      <td>Podiatry</td>\n      <td>2000 Esters Rd Suite 104</td>\n      <td>Irving</td>\n      <td>TX</td>\n      <td>750619580</td>\n      <td>NaN</td>\n      <td>NaN</td>\n    </tr>\n    <tr>\n      <th>2</th>\n      <td>1215188925</td>\n      <td>Reza  Keshavarzi</td>\n      <td>M</td>\n      <td>NaN</td>\n      <td>University Of Kentucky College Of Medicine</td>\n      <td>2005.0</td>\n      <td>General Surgery</td>\n      <td>7330 Sw 62Nd Pl Suite 210</td>\n      <td>South Miami</td>\n      <td>FL</td>\n      <td>331434825</td>\n      <td>NaN</td>\n      <td>NaN</td>\n    </tr>\n    <tr>\n      <th>3</th>\n      <td>1215138714</td>\n      <td>Anthony  Pham</td>\n      <td>M</td>\n      <td>NaN</td>\n      <td>University Of North Texas Hsc, College Of Oste...</td>\n      <td>2003.0</td>\n      <td>Physical Medicine And Rehabilitation</td>\n      <td>11799 Beechnut St Suite A</td>\n      <td>Houston</td>\n      <td>TX</td>\n      <td>770724116</td>\n      <td>NaN</td>\n      <td>NaN</td>\n    </tr>\n    <tr>\n      <th>4</th>\n      <td>1215127840</td>\n      <td>Marcia E Nelson Vancini</td>\n      <td>F</td>\n      <td>CNS</td>\n      <td>Other</td>\n      <td>2002.0</td>\n      <td>Certified Clinical Nurse Specialist (Cns)</td>\n      <td>2 Brentwood Cir</td>\n      <td>Andover</td>\n      <td>MA</td>\n      <td>018105129</td>\n      <td>9.783359e+09</td>\n      <td>Lawrence General Hospital</td>\n    </tr>\n    <tr>\n      <th>...</th>\n      <td>...</td>\n      <td>...</td>\n      <td>...</td>\n      <td>...</td>\n      <td>...</td>\n      <td>...</td>\n      <td>...</td>\n      <td>...</td>\n      <td>...</td>\n      <td>...</td>\n      <td>...</td>\n      <td>...</td>\n      <td>...</td>\n    </tr>\n    <tr>\n      <th>9995</th>\n      <td>1154398477</td>\n      <td>Richard S Faulk</td>\n      <td>M</td>\n      <td>NaN</td>\n      <td>Medical University Of South Carolina College O...</td>\n      <td>1993.0</td>\n      <td>Psychiatry</td>\n      <td>2601 E Oakland Park Blvd Suite 207</td>\n      <td>Fort Lauderdale</td>\n      <td>FL</td>\n      <td>333061658</td>\n      <td>NaN</td>\n      <td>NaN</td>\n    </tr>\n    <tr>\n      <th>9996</th>\n      <td>1154405488</td>\n      <td>Maria E Chirino-Socias</td>\n      <td>F</td>\n      <td>NaN</td>\n      <td>University Central Del Caribe Escuela De Medicina</td>\n      <td>1992.0</td>\n      <td>Rheumatology</td>\n      <td>690 Calle Cesar Gonzalez Suite 500</td>\n      <td>San Juan</td>\n      <td>PR</td>\n      <td>009183917</td>\n      <td>7.877535e+09</td>\n      <td>Auxilio Mutuo Hospital</td>\n    </tr>\n    <tr>\n      <th>9997</th>\n      <td>1154377315</td>\n      <td>Alex A Lazar</td>\n      <td>M</td>\n      <td>MD</td>\n      <td>New York University School Of Medicine</td>\n      <td>1996.0</td>\n      <td>Psychiatry</td>\n      <td>16055 Ventura Blvd Suite 601</td>\n      <td>Encino</td>\n      <td>CA</td>\n      <td>914362618</td>\n      <td>NaN</td>\n      <td>NaN</td>\n    </tr>\n    <tr>\n      <th>9998</th>\n      <td>1154359230</td>\n      <td>Vasif A Humayun</td>\n      <td>M</td>\n      <td>MD</td>\n      <td>Other</td>\n      <td>1984.0</td>\n      <td>Internal Medicine</td>\n      <td>11410 E Fwy Suite 168</td>\n      <td>Houston</td>\n      <td>TX</td>\n      <td>770291986</td>\n      <td>NaN</td>\n      <td>NaN</td>\n    </tr>\n    <tr>\n      <th>9999</th>\n      <td>1154376473</td>\n      <td>Richard S Feher</td>\n      <td>M</td>\n      <td>NaN</td>\n      <td>Palmer College Chiropractic - Davenport</td>\n      <td>1993.0</td>\n      <td>Chiropractic</td>\n      <td>5005 John Stockbauer Dr B</td>\n      <td>Victoria</td>\n      <td>TX</td>\n      <td>779041901</td>\n      <td>3.615769e+09</td>\n      <td>NaN</td>\n    </tr>\n  </tbody>\n</table>\n<p>10000 rows × 13 columns</p>\n</div>"
     },
     "metadata": {}
    }
   ]
  },
  {
   "cell_type": "markdown",
   "source": "# Cleaning Facilities and Facility Investigators Before Merge",
   "metadata": {
    "tags": [],
    "is_collapsed": false,
    "deepnote_app_coordinates": {
     "x": 0,
     "y": 570,
     "w": 12,
     "h": 6
    },
    "cell_id": "00026-e3b1a2bd-6870-4c6f-9bdd-6648f92b0860",
    "deepnote_cell_type": "text-cell-h1"
   }
  },
  {
   "cell_type": "code",
   "metadata": {
    "tags": [],
    "deepnote_to_be_reexecuted": false,
    "source_hash": "74c944ac",
    "execution_start": 1645036493259,
    "execution_millis": 6,
    "deepnote_table_state": {
     "pageSize": 10,
     "pageIndex": 0,
     "filters": [],
     "sortBy": []
    },
    "deepnote_table_loading": false,
    "cell_id": "00027-2f5cca40-6900-4f59-a4d6-e7edfa5b57c3",
    "deepnote_cell_type": "code"
   },
   "source": "#previewing dataset\ndf_fi.head(n=100)",
   "execution_count": null,
   "outputs": [
    {
     "output_type": "execute_result",
     "execution_count": 20,
     "data": {
      "application/vnd.deepnote.dataframe.v3+json": {
       "column_count": 5,
       "row_count": 100,
       "columns": [
        {
         "name": "id",
         "dtype": "int64",
         "stats": {
          "unique_count": 100,
          "nan_count": 0,
          "min": "1384590",
          "max": "1969694",
          "histogram": [
           {
            "bin_start": 1384590,
            "bin_end": 1443100.4,
            "count": 17
           },
           {
            "bin_start": 1443100.4,
            "bin_end": 1501610.8,
            "count": 0
           },
           {
            "bin_start": 1501610.8,
            "bin_end": 1560121.2,
            "count": 13
           },
           {
            "bin_start": 1560121.2,
            "bin_end": 1618631.6,
            "count": 3
           },
           {
            "bin_start": 1618631.6,
            "bin_end": 1677142,
            "count": 60
           },
           {
            "bin_start": 1677142,
            "bin_end": 1735652.4,
            "count": 0
           },
           {
            "bin_start": 1735652.4,
            "bin_end": 1794162.8,
            "count": 2
           },
           {
            "bin_start": 1794162.8,
            "bin_end": 1852673.2,
            "count": 0
           },
           {
            "bin_start": 1852673.2,
            "bin_end": 1911183.6,
            "count": 4
           },
           {
            "bin_start": 1911183.6,
            "bin_end": 1969694,
            "count": 1
           }
          ]
         }
        },
        {
         "name": "nct_id",
         "dtype": "object",
         "stats": {
          "unique_count": 33,
          "nan_count": 0,
          "categories": [
           {
            "name": "NCT02567422",
            "count": 13
           },
           {
            "name": "NCT04630782",
            "count": 11
           },
           {
            "name": "31 others",
            "count": 76
           }
          ]
         }
        },
        {
         "name": "facility_id",
         "dtype": "int64",
         "stats": {
          "unique_count": 71,
          "nan_count": 0,
          "min": "7963012",
          "max": "11271109",
          "histogram": [
           {
            "bin_start": 7963012,
            "bin_end": 8293821.7,
            "count": 17
           },
           {
            "bin_start": 8293821.7,
            "bin_end": 8624631.4,
            "count": 16
           },
           {
            "bin_start": 8624631.4,
            "bin_end": 8955441.1,
            "count": 60
           },
           {
            "bin_start": 8955441.1,
            "bin_end": 9286250.8,
            "count": 0
           },
           {
            "bin_start": 9286250.8,
            "bin_end": 9617060.5,
            "count": 0
           },
           {
            "bin_start": 9617060.5,
            "bin_end": 9947870.2,
            "count": 0
           },
           {
            "bin_start": 9947870.2,
            "bin_end": 10278679.9,
            "count": 0
           },
           {
            "bin_start": 10278679.9,
            "bin_end": 10609489.6,
            "count": 0
           },
           {
            "bin_start": 10609489.6,
            "bin_end": 10940299.3,
            "count": 2
           },
           {
            "bin_start": 10940299.3,
            "bin_end": 11271109,
            "count": 5
           }
          ]
         }
        },
        {
         "name": "role",
         "dtype": "object",
         "stats": {
          "unique_count": 2,
          "nan_count": 0,
          "categories": [
           {
            "name": "Principal Investigator",
            "count": 72
           },
           {
            "name": "Sub-Investigator",
            "count": 28
           }
          ]
         }
        },
        {
         "name": "name",
         "dtype": "object",
         "stats": {
          "unique_count": 97,
          "nan_count": 0,
          "categories": [
           {
            "name": "Barbara A. Burtness",
            "count": 3
           },
           {
            "name": "Conor E. Steuer",
            "count": 2
           },
           {
            "name": "95 others",
            "count": 95
           }
          ]
         }
        },
        {
         "name": "_deepnote_index_column",
         "dtype": "int64"
        }
       ],
       "rows": [
        {
         "id": 1653475,
         "nct_id": "NCT04631068",
         "facility_id": 8707217,
         "role": "Principal Investigator",
         "name": "Cedric Schweitzer, MD",
         "_deepnote_index_column": 0
        },
        {
         "id": 1653476,
         "nct_id": "NCT04631068",
         "facility_id": 8707217,
         "role": "Sub-Investigator",
         "name": "David Toubol, MD",
         "_deepnote_index_column": 1
        },
        {
         "id": 1653477,
         "nct_id": "NCT04631068",
         "facility_id": 8707218,
         "role": "Principal Investigator",
         "name": "Tiago Monteiro, MD",
         "_deepnote_index_column": 2
        },
        {
         "id": 1653478,
         "nct_id": "NCT04631068",
         "facility_id": 8707219,
         "role": "Principal Investigator",
         "name": "Paul Rosen, FRCOphth",
         "_deepnote_index_column": 3
        },
        {
         "id": 1653479,
         "nct_id": "NCT04631146",
         "facility_id": 8707230,
         "role": "Principal Investigator",
         "name": "Yilong Wu, MD",
         "_deepnote_index_column": 4
        },
        {
         "id": 1384590,
         "nct_id": "NCT04070768",
         "facility_id": 7963012,
         "role": "Principal Investigator",
         "name": "John Sean Quigley, MD",
         "_deepnote_index_column": 5
        },
        {
         "id": 1384591,
         "nct_id": "NCT04070768",
         "facility_id": 7963013,
         "role": "Principal Investigator",
         "name": "Heiko Konig, MD",
         "_deepnote_index_column": 6
        },
        {
         "id": 1384592,
         "nct_id": "NCT04070768",
         "facility_id": 7963014,
         "role": "Principal Investigator",
         "name": "Brian Parkin, MD",
         "_deepnote_index_column": 7
        },
        {
         "id": 1653480,
         "nct_id": "NCT04631146",
         "facility_id": 8707230,
         "role": "Sub-Investigator",
         "name": "Chongrui Xu, MD",
         "_deepnote_index_column": 8
        },
        {
         "id": 1653481,
         "nct_id": "NCT04630769",
         "facility_id": 8707242,
         "role": "Principal Investigator",
         "name": "Melissa Geller, MD, MS",
         "_deepnote_index_column": 9
        }
       ]
      },
      "text/plain": "         id       nct_id  facility_id                    role  \\\n0   1653475  NCT04631068      8707217  Principal Investigator   \n1   1653476  NCT04631068      8707217        Sub-Investigator   \n2   1653477  NCT04631068      8707218  Principal Investigator   \n3   1653478  NCT04631068      8707219  Principal Investigator   \n4   1653479  NCT04631146      8707230  Principal Investigator   \n..      ...          ...          ...                     ...   \n95  1518668  NCT02567422      8342869  Principal Investigator   \n96  1518669  NCT02567422      8342870  Principal Investigator   \n97  1518670  NCT02567422      8342871  Principal Investigator   \n98  1653537  NCT04629105      8707525  Principal Investigator   \n99  1653538  NCT04629170      8707529  Principal Investigator   \n\n                     name  \n0   Cedric Schweitzer, MD  \n1        David Toubol, MD  \n2      Tiago Monteiro, MD  \n3    Paul Rosen, FRCOphth  \n4           Yilong Wu, MD  \n..                    ...  \n95    Darrion L. Mitchell  \n96        Dan P. Zandberg  \n97          Varinder Kaur  \n98    John P Galliard, MD  \n99       Susan Kalota, MD  \n\n[100 rows x 5 columns]",
      "text/html": "<div>\n<style scoped>\n    .dataframe tbody tr th:only-of-type {\n        vertical-align: middle;\n    }\n\n    .dataframe tbody tr th {\n        vertical-align: top;\n    }\n\n    .dataframe thead th {\n        text-align: right;\n    }\n</style>\n<table border=\"1\" class=\"dataframe\">\n  <thead>\n    <tr style=\"text-align: right;\">\n      <th></th>\n      <th>id</th>\n      <th>nct_id</th>\n      <th>facility_id</th>\n      <th>role</th>\n      <th>name</th>\n    </tr>\n  </thead>\n  <tbody>\n    <tr>\n      <th>0</th>\n      <td>1653475</td>\n      <td>NCT04631068</td>\n      <td>8707217</td>\n      <td>Principal Investigator</td>\n      <td>Cedric Schweitzer, MD</td>\n    </tr>\n    <tr>\n      <th>1</th>\n      <td>1653476</td>\n      <td>NCT04631068</td>\n      <td>8707217</td>\n      <td>Sub-Investigator</td>\n      <td>David Toubol, MD</td>\n    </tr>\n    <tr>\n      <th>2</th>\n      <td>1653477</td>\n      <td>NCT04631068</td>\n      <td>8707218</td>\n      <td>Principal Investigator</td>\n      <td>Tiago Monteiro, MD</td>\n    </tr>\n    <tr>\n      <th>3</th>\n      <td>1653478</td>\n      <td>NCT04631068</td>\n      <td>8707219</td>\n      <td>Principal Investigator</td>\n      <td>Paul Rosen, FRCOphth</td>\n    </tr>\n    <tr>\n      <th>4</th>\n      <td>1653479</td>\n      <td>NCT04631146</td>\n      <td>8707230</td>\n      <td>Principal Investigator</td>\n      <td>Yilong Wu, MD</td>\n    </tr>\n    <tr>\n      <th>...</th>\n      <td>...</td>\n      <td>...</td>\n      <td>...</td>\n      <td>...</td>\n      <td>...</td>\n    </tr>\n    <tr>\n      <th>95</th>\n      <td>1518668</td>\n      <td>NCT02567422</td>\n      <td>8342869</td>\n      <td>Principal Investigator</td>\n      <td>Darrion L. Mitchell</td>\n    </tr>\n    <tr>\n      <th>96</th>\n      <td>1518669</td>\n      <td>NCT02567422</td>\n      <td>8342870</td>\n      <td>Principal Investigator</td>\n      <td>Dan P. Zandberg</td>\n    </tr>\n    <tr>\n      <th>97</th>\n      <td>1518670</td>\n      <td>NCT02567422</td>\n      <td>8342871</td>\n      <td>Principal Investigator</td>\n      <td>Varinder Kaur</td>\n    </tr>\n    <tr>\n      <th>98</th>\n      <td>1653537</td>\n      <td>NCT04629105</td>\n      <td>8707525</td>\n      <td>Principal Investigator</td>\n      <td>John P Galliard, MD</td>\n    </tr>\n    <tr>\n      <th>99</th>\n      <td>1653538</td>\n      <td>NCT04629170</td>\n      <td>8707529</td>\n      <td>Principal Investigator</td>\n      <td>Susan Kalota, MD</td>\n    </tr>\n  </tbody>\n</table>\n<p>100 rows × 5 columns</p>\n</div>"
     },
     "metadata": {}
    }
   ]
  },
  {
   "cell_type": "code",
   "metadata": {
    "tags": [],
    "deepnote_to_be_reexecuted": false,
    "source_hash": "d984f833",
    "execution_start": 1645036493316,
    "execution_millis": 189,
    "deepnote_app_coordinates": {
     "x": 0,
     "y": 577,
     "w": 12,
     "h": 5
    },
    "cell_id": "00028-abe6ee96-0681-4bc4-9977-0cc235513b67",
    "deepnote_cell_type": "code"
   },
   "source": "df_fac.drop('status',inplace=True,axis=1)\ndf_fac.rename(columns = {'name':'hospital'},inplace=True)\n#note: id = facility id",
   "execution_count": null,
   "outputs": []
  },
  {
   "cell_type": "code",
   "metadata": {
    "tags": [],
    "deepnote_to_be_reexecuted": false,
    "source_hash": "1e97ca31",
    "execution_start": 1645036493549,
    "execution_millis": 46,
    "cell_id": "00029-61c8c184-e2c7-4295-b529-a9cf51af10c3",
    "deepnote_cell_type": "code"
   },
   "source": "df_fac.head()",
   "execution_count": null,
   "outputs": [
    {
     "output_type": "execute_result",
     "execution_count": 22,
     "data": {
      "application/vnd.deepnote.dataframe.v3+json": {
       "column_count": 7,
       "row_count": 5,
       "columns": [
        {
         "name": "id",
         "dtype": "int64",
         "stats": {
          "unique_count": 5,
          "nan_count": 0,
          "min": "8790702",
          "max": "8790706",
          "histogram": [
           {
            "bin_start": 8790702,
            "bin_end": 8790702.4,
            "count": 1
           },
           {
            "bin_start": 8790702.4,
            "bin_end": 8790702.8,
            "count": 0
           },
           {
            "bin_start": 8790702.8,
            "bin_end": 8790703.2,
            "count": 1
           },
           {
            "bin_start": 8790703.2,
            "bin_end": 8790703.6,
            "count": 0
           },
           {
            "bin_start": 8790703.6,
            "bin_end": 8790704,
            "count": 0
           },
           {
            "bin_start": 8790704,
            "bin_end": 8790704.4,
            "count": 1
           },
           {
            "bin_start": 8790704.4,
            "bin_end": 8790704.8,
            "count": 0
           },
           {
            "bin_start": 8790704.8,
            "bin_end": 8790705.2,
            "count": 1
           },
           {
            "bin_start": 8790705.2,
            "bin_end": 8790705.6,
            "count": 0
           },
           {
            "bin_start": 8790705.6,
            "bin_end": 8790706,
            "count": 1
           }
          ]
         }
        },
        {
         "name": "nct_id",
         "dtype": "object",
         "stats": {
          "unique_count": 3,
          "nan_count": 0,
          "categories": [
           {
            "name": "NCT03724162",
            "count": 2
           },
           {
            "name": "NCT03723668",
            "count": 2
           },
           {
            "name": "NCT03723954",
            "count": 1
           }
          ]
         }
        },
        {
         "name": "hospital",
         "dtype": "object",
         "stats": {
          "unique_count": 5,
          "nan_count": 0,
          "categories": [
           {
            "name": "Oslo University Hospital",
            "count": 1
           },
           {
            "name": "Department of vascular surgery, Oslo University Hospital",
            "count": 1
           },
           {
            "name": "3 others",
            "count": 3
           }
          ]
         }
        },
        {
         "name": "city",
         "dtype": "object",
         "stats": {
          "unique_count": 4,
          "nan_count": 0,
          "categories": [
           {
            "name": "Oslo",
            "count": 2
           },
           {
            "name": "Saint-Quentin-en-Yvelines",
            "count": 1
           },
           {
            "name": "2 others",
            "count": 2
           }
          ]
         }
        },
        {
         "name": "state",
         "dtype": "object",
         "stats": {
          "unique_count": 1,
          "nan_count": 4,
          "categories": [
           {
            "name": "Pennsylvania",
            "count": 1
           },
           {
            "name": "Missing",
            "count": 4
           }
          ]
         }
        },
        {
         "name": "zip",
         "dtype": "object",
         "stats": {
          "unique_count": 4,
          "nan_count": 1,
          "categories": [
           {
            "name": "0424",
            "count": 1
           },
           {
            "name": "3 others",
            "count": 3
           },
           {
            "name": "Missing",
            "count": 1
           }
          ]
         }
        },
        {
         "name": "country",
         "dtype": "object",
         "stats": {
          "unique_count": 3,
          "nan_count": 0,
          "categories": [
           {
            "name": "Norway",
            "count": 2
           },
           {
            "name": "France",
            "count": 2
           },
           {
            "name": "United States",
            "count": 1
           }
          ]
         }
        },
        {
         "name": "_deepnote_index_column",
         "dtype": "int64"
        }
       ],
       "rows": [
        {
         "id": 8790702,
         "nct_id": "NCT03724162",
         "hospital": "Oslo University Hospital",
         "city": "Oslo",
         "state": "nan",
         "zip": "0424",
         "country": "Norway",
         "_deepnote_index_column": 0
        },
        {
         "id": 8790703,
         "nct_id": "NCT03724162",
         "hospital": "Department of vascular surgery, Oslo University Hospital",
         "city": "Oslo",
         "state": "nan",
         "zip": "nan",
         "country": "Norway",
         "_deepnote_index_column": 1
        },
        {
         "id": 8790704,
         "nct_id": "NCT03723954",
         "hospital": "Golf National",
         "city": "Saint-Quentin-en-Yvelines",
         "state": "nan",
         "zip": "78280",
         "country": "France",
         "_deepnote_index_column": 2
        },
        {
         "id": 8790705,
         "nct_id": "NCT03723668",
         "hospital": "Kidney Transplantation Care at Veteran's Affairs Medical Center",
         "city": "Philadelphia",
         "state": "Pennsylvania",
         "zip": "19104",
         "country": "United States",
         "_deepnote_index_column": 3
        },
        {
         "id": 8790706,
         "nct_id": "NCT03723668",
         "hospital": "Paris Transplant Group",
         "city": "Paris",
         "state": "nan",
         "zip": "75015",
         "country": "France",
         "_deepnote_index_column": 4
        }
       ]
      },
      "text/plain": "        id       nct_id                                           hospital  \\\n0  8790702  NCT03724162                           Oslo University Hospital   \n1  8790703  NCT03724162  Department of vascular surgery, Oslo Universit...   \n2  8790704  NCT03723954                                      Golf National   \n3  8790705  NCT03723668  Kidney Transplantation Care at Veteran's Affai...   \n4  8790706  NCT03723668                             Paris Transplant Group   \n\n                        city         state    zip        country  \n0                       Oslo           NaN   0424         Norway  \n1                       Oslo           NaN    NaN         Norway  \n2  Saint-Quentin-en-Yvelines           NaN  78280         France  \n3               Philadelphia  Pennsylvania  19104  United States  \n4                      Paris           NaN  75015         France  ",
      "text/html": "<div>\n<style scoped>\n    .dataframe tbody tr th:only-of-type {\n        vertical-align: middle;\n    }\n\n    .dataframe tbody tr th {\n        vertical-align: top;\n    }\n\n    .dataframe thead th {\n        text-align: right;\n    }\n</style>\n<table border=\"1\" class=\"dataframe\">\n  <thead>\n    <tr style=\"text-align: right;\">\n      <th></th>\n      <th>id</th>\n      <th>nct_id</th>\n      <th>hospital</th>\n      <th>city</th>\n      <th>state</th>\n      <th>zip</th>\n      <th>country</th>\n    </tr>\n  </thead>\n  <tbody>\n    <tr>\n      <th>0</th>\n      <td>8790702</td>\n      <td>NCT03724162</td>\n      <td>Oslo University Hospital</td>\n      <td>Oslo</td>\n      <td>NaN</td>\n      <td>0424</td>\n      <td>Norway</td>\n    </tr>\n    <tr>\n      <th>1</th>\n      <td>8790703</td>\n      <td>NCT03724162</td>\n      <td>Department of vascular surgery, Oslo Universit...</td>\n      <td>Oslo</td>\n      <td>NaN</td>\n      <td>NaN</td>\n      <td>Norway</td>\n    </tr>\n    <tr>\n      <th>2</th>\n      <td>8790704</td>\n      <td>NCT03723954</td>\n      <td>Golf National</td>\n      <td>Saint-Quentin-en-Yvelines</td>\n      <td>NaN</td>\n      <td>78280</td>\n      <td>France</td>\n    </tr>\n    <tr>\n      <th>3</th>\n      <td>8790705</td>\n      <td>NCT03723668</td>\n      <td>Kidney Transplantation Care at Veteran's Affai...</td>\n      <td>Philadelphia</td>\n      <td>Pennsylvania</td>\n      <td>19104</td>\n      <td>United States</td>\n    </tr>\n    <tr>\n      <th>4</th>\n      <td>8790706</td>\n      <td>NCT03723668</td>\n      <td>Paris Transplant Group</td>\n      <td>Paris</td>\n      <td>NaN</td>\n      <td>75015</td>\n      <td>France</td>\n    </tr>\n  </tbody>\n</table>\n</div>"
     },
     "metadata": {}
    }
   ]
  },
  {
   "cell_type": "code",
   "metadata": {
    "tags": [],
    "deepnote_to_be_reexecuted": false,
    "source_hash": "d4c08dd0",
    "execution_start": 1645036493594,
    "execution_millis": 47,
    "cell_id": "00030-982f2154-5663-4985-837c-0b5ee6a6a188",
    "deepnote_cell_type": "code"
   },
   "source": "df_fac_extract = df_fac[[\"hospital\"]]\ndf_fac_extract",
   "execution_count": null,
   "outputs": [
    {
     "output_type": "execute_result",
     "execution_count": 23,
     "data": {
      "application/vnd.deepnote.dataframe.v3+json": {
       "column_count": 1,
       "row_count": 2619514,
       "columns": [
        {
         "name": "hospital",
         "dtype": "object"
        },
        {
         "name": "_deepnote_index_column",
         "dtype": "int64"
        }
       ],
       "rows": [
        {
         "hospital": "Oslo University Hospital",
         "_deepnote_index_column": 0
        },
        {
         "hospital": "Department of vascular surgery, Oslo University Hospital",
         "_deepnote_index_column": 1
        },
        {
         "hospital": "Golf National",
         "_deepnote_index_column": 2
        },
        {
         "hospital": "Kidney Transplantation Care at Veteran's Affairs Medical Center",
         "_deepnote_index_column": 3
        },
        {
         "hospital": "Paris Transplant Group",
         "_deepnote_index_column": 4
        },
        {
         "hospital": "azienda ospedaliero universitaria Sant'Andrea",
         "_deepnote_index_column": 5
        },
        {
         "hospital": "University Health Network, Toronto General Hospital",
         "_deepnote_index_column": 6
        },
        {
         "hospital": "ShinKongHospital",
         "_deepnote_index_column": 7
        },
        {
         "hospital": "Clinical Research Center, Department of Nephrology and Hypertension, University of Erlangen-Nurembe…",
         "_deepnote_index_column": 8
        },
        {
         "hospital": "Kanuni Sultan Suleyman Education and Training Hospital",
         "_deepnote_index_column": 9
        }
       ]
      },
      "text/plain": "                                                  hospital\n0                                 Oslo University Hospital\n1        Department of vascular surgery, Oslo Universit...\n2                                            Golf National\n3        Kidney Transplantation Care at Veteran's Affai...\n4                                   Paris Transplant Group\n...                                                    ...\n2619509  Akademicki Szpital Kliniczny im. Jana Mikulicz...\n2619510  New York State Psychiatric Institute at Columb...\n2619511     Masonic Cancer Center, University of Minnesota\n2619512                                               UCLA\n2619513                King Khaled Eye Specialist Hospital\n\n[2619514 rows x 1 columns]",
      "text/html": "<div>\n<style scoped>\n    .dataframe tbody tr th:only-of-type {\n        vertical-align: middle;\n    }\n\n    .dataframe tbody tr th {\n        vertical-align: top;\n    }\n\n    .dataframe thead th {\n        text-align: right;\n    }\n</style>\n<table border=\"1\" class=\"dataframe\">\n  <thead>\n    <tr style=\"text-align: right;\">\n      <th></th>\n      <th>hospital</th>\n    </tr>\n  </thead>\n  <tbody>\n    <tr>\n      <th>0</th>\n      <td>Oslo University Hospital</td>\n    </tr>\n    <tr>\n      <th>1</th>\n      <td>Department of vascular surgery, Oslo Universit...</td>\n    </tr>\n    <tr>\n      <th>2</th>\n      <td>Golf National</td>\n    </tr>\n    <tr>\n      <th>3</th>\n      <td>Kidney Transplantation Care at Veteran's Affai...</td>\n    </tr>\n    <tr>\n      <th>4</th>\n      <td>Paris Transplant Group</td>\n    </tr>\n    <tr>\n      <th>...</th>\n      <td>...</td>\n    </tr>\n    <tr>\n      <th>2619509</th>\n      <td>Akademicki Szpital Kliniczny im. Jana Mikulicz...</td>\n    </tr>\n    <tr>\n      <th>2619510</th>\n      <td>New York State Psychiatric Institute at Columb...</td>\n    </tr>\n    <tr>\n      <th>2619511</th>\n      <td>Masonic Cancer Center, University of Minnesota</td>\n    </tr>\n    <tr>\n      <th>2619512</th>\n      <td>UCLA</td>\n    </tr>\n    <tr>\n      <th>2619513</th>\n      <td>King Khaled Eye Specialist Hospital</td>\n    </tr>\n  </tbody>\n</table>\n<p>2619514 rows × 1 columns</p>\n</div>"
     },
     "metadata": {}
    }
   ]
  },
  {
   "cell_type": "code",
   "metadata": {
    "tags": [],
    "deepnote_to_be_reexecuted": false,
    "source_hash": "75e0ba04",
    "execution_start": 1645036493650,
    "execution_millis": 40,
    "cell_id": "00031-726ae088-30a8-4343-b62d-05d7f9850c8f",
    "deepnote_cell_type": "code"
   },
   "source": "#previewing facility investigator data\ndf_fi.head(n=100)",
   "execution_count": null,
   "outputs": [
    {
     "output_type": "execute_result",
     "execution_count": 24,
     "data": {
      "application/vnd.deepnote.dataframe.v3+json": {
       "column_count": 5,
       "row_count": 100,
       "columns": [
        {
         "name": "id",
         "dtype": "int64",
         "stats": {
          "unique_count": 100,
          "nan_count": 0,
          "min": "1384590",
          "max": "1969694",
          "histogram": [
           {
            "bin_start": 1384590,
            "bin_end": 1443100.4,
            "count": 17
           },
           {
            "bin_start": 1443100.4,
            "bin_end": 1501610.8,
            "count": 0
           },
           {
            "bin_start": 1501610.8,
            "bin_end": 1560121.2,
            "count": 13
           },
           {
            "bin_start": 1560121.2,
            "bin_end": 1618631.6,
            "count": 3
           },
           {
            "bin_start": 1618631.6,
            "bin_end": 1677142,
            "count": 60
           },
           {
            "bin_start": 1677142,
            "bin_end": 1735652.4,
            "count": 0
           },
           {
            "bin_start": 1735652.4,
            "bin_end": 1794162.8,
            "count": 2
           },
           {
            "bin_start": 1794162.8,
            "bin_end": 1852673.2,
            "count": 0
           },
           {
            "bin_start": 1852673.2,
            "bin_end": 1911183.6,
            "count": 4
           },
           {
            "bin_start": 1911183.6,
            "bin_end": 1969694,
            "count": 1
           }
          ]
         }
        },
        {
         "name": "nct_id",
         "dtype": "object",
         "stats": {
          "unique_count": 33,
          "nan_count": 0,
          "categories": [
           {
            "name": "NCT02567422",
            "count": 13
           },
           {
            "name": "NCT04630782",
            "count": 11
           },
           {
            "name": "31 others",
            "count": 76
           }
          ]
         }
        },
        {
         "name": "facility_id",
         "dtype": "int64",
         "stats": {
          "unique_count": 71,
          "nan_count": 0,
          "min": "7963012",
          "max": "11271109",
          "histogram": [
           {
            "bin_start": 7963012,
            "bin_end": 8293821.7,
            "count": 17
           },
           {
            "bin_start": 8293821.7,
            "bin_end": 8624631.4,
            "count": 16
           },
           {
            "bin_start": 8624631.4,
            "bin_end": 8955441.1,
            "count": 60
           },
           {
            "bin_start": 8955441.1,
            "bin_end": 9286250.8,
            "count": 0
           },
           {
            "bin_start": 9286250.8,
            "bin_end": 9617060.5,
            "count": 0
           },
           {
            "bin_start": 9617060.5,
            "bin_end": 9947870.2,
            "count": 0
           },
           {
            "bin_start": 9947870.2,
            "bin_end": 10278679.9,
            "count": 0
           },
           {
            "bin_start": 10278679.9,
            "bin_end": 10609489.6,
            "count": 0
           },
           {
            "bin_start": 10609489.6,
            "bin_end": 10940299.3,
            "count": 2
           },
           {
            "bin_start": 10940299.3,
            "bin_end": 11271109,
            "count": 5
           }
          ]
         }
        },
        {
         "name": "role",
         "dtype": "object",
         "stats": {
          "unique_count": 2,
          "nan_count": 0,
          "categories": [
           {
            "name": "Principal Investigator",
            "count": 72
           },
           {
            "name": "Sub-Investigator",
            "count": 28
           }
          ]
         }
        },
        {
         "name": "name",
         "dtype": "object",
         "stats": {
          "unique_count": 97,
          "nan_count": 0,
          "categories": [
           {
            "name": "Barbara A. Burtness",
            "count": 3
           },
           {
            "name": "Conor E. Steuer",
            "count": 2
           },
           {
            "name": "95 others",
            "count": 95
           }
          ]
         }
        },
        {
         "name": "_deepnote_index_column",
         "dtype": "int64"
        }
       ],
       "rows": [
        {
         "id": 1653475,
         "nct_id": "NCT04631068",
         "facility_id": 8707217,
         "role": "Principal Investigator",
         "name": "Cedric Schweitzer, MD",
         "_deepnote_index_column": 0
        },
        {
         "id": 1653476,
         "nct_id": "NCT04631068",
         "facility_id": 8707217,
         "role": "Sub-Investigator",
         "name": "David Toubol, MD",
         "_deepnote_index_column": 1
        },
        {
         "id": 1653477,
         "nct_id": "NCT04631068",
         "facility_id": 8707218,
         "role": "Principal Investigator",
         "name": "Tiago Monteiro, MD",
         "_deepnote_index_column": 2
        },
        {
         "id": 1653478,
         "nct_id": "NCT04631068",
         "facility_id": 8707219,
         "role": "Principal Investigator",
         "name": "Paul Rosen, FRCOphth",
         "_deepnote_index_column": 3
        },
        {
         "id": 1653479,
         "nct_id": "NCT04631146",
         "facility_id": 8707230,
         "role": "Principal Investigator",
         "name": "Yilong Wu, MD",
         "_deepnote_index_column": 4
        },
        {
         "id": 1384590,
         "nct_id": "NCT04070768",
         "facility_id": 7963012,
         "role": "Principal Investigator",
         "name": "John Sean Quigley, MD",
         "_deepnote_index_column": 5
        },
        {
         "id": 1384591,
         "nct_id": "NCT04070768",
         "facility_id": 7963013,
         "role": "Principal Investigator",
         "name": "Heiko Konig, MD",
         "_deepnote_index_column": 6
        },
        {
         "id": 1384592,
         "nct_id": "NCT04070768",
         "facility_id": 7963014,
         "role": "Principal Investigator",
         "name": "Brian Parkin, MD",
         "_deepnote_index_column": 7
        },
        {
         "id": 1653480,
         "nct_id": "NCT04631146",
         "facility_id": 8707230,
         "role": "Sub-Investigator",
         "name": "Chongrui Xu, MD",
         "_deepnote_index_column": 8
        },
        {
         "id": 1653481,
         "nct_id": "NCT04630769",
         "facility_id": 8707242,
         "role": "Principal Investigator",
         "name": "Melissa Geller, MD, MS",
         "_deepnote_index_column": 9
        }
       ]
      },
      "text/plain": "         id       nct_id  facility_id                    role  \\\n0   1653475  NCT04631068      8707217  Principal Investigator   \n1   1653476  NCT04631068      8707217        Sub-Investigator   \n2   1653477  NCT04631068      8707218  Principal Investigator   \n3   1653478  NCT04631068      8707219  Principal Investigator   \n4   1653479  NCT04631146      8707230  Principal Investigator   \n..      ...          ...          ...                     ...   \n95  1518668  NCT02567422      8342869  Principal Investigator   \n96  1518669  NCT02567422      8342870  Principal Investigator   \n97  1518670  NCT02567422      8342871  Principal Investigator   \n98  1653537  NCT04629105      8707525  Principal Investigator   \n99  1653538  NCT04629170      8707529  Principal Investigator   \n\n                     name  \n0   Cedric Schweitzer, MD  \n1        David Toubol, MD  \n2      Tiago Monteiro, MD  \n3    Paul Rosen, FRCOphth  \n4           Yilong Wu, MD  \n..                    ...  \n95    Darrion L. Mitchell  \n96        Dan P. Zandberg  \n97          Varinder Kaur  \n98    John P Galliard, MD  \n99       Susan Kalota, MD  \n\n[100 rows x 5 columns]",
      "text/html": "<div>\n<style scoped>\n    .dataframe tbody tr th:only-of-type {\n        vertical-align: middle;\n    }\n\n    .dataframe tbody tr th {\n        vertical-align: top;\n    }\n\n    .dataframe thead th {\n        text-align: right;\n    }\n</style>\n<table border=\"1\" class=\"dataframe\">\n  <thead>\n    <tr style=\"text-align: right;\">\n      <th></th>\n      <th>id</th>\n      <th>nct_id</th>\n      <th>facility_id</th>\n      <th>role</th>\n      <th>name</th>\n    </tr>\n  </thead>\n  <tbody>\n    <tr>\n      <th>0</th>\n      <td>1653475</td>\n      <td>NCT04631068</td>\n      <td>8707217</td>\n      <td>Principal Investigator</td>\n      <td>Cedric Schweitzer, MD</td>\n    </tr>\n    <tr>\n      <th>1</th>\n      <td>1653476</td>\n      <td>NCT04631068</td>\n      <td>8707217</td>\n      <td>Sub-Investigator</td>\n      <td>David Toubol, MD</td>\n    </tr>\n    <tr>\n      <th>2</th>\n      <td>1653477</td>\n      <td>NCT04631068</td>\n      <td>8707218</td>\n      <td>Principal Investigator</td>\n      <td>Tiago Monteiro, MD</td>\n    </tr>\n    <tr>\n      <th>3</th>\n      <td>1653478</td>\n      <td>NCT04631068</td>\n      <td>8707219</td>\n      <td>Principal Investigator</td>\n      <td>Paul Rosen, FRCOphth</td>\n    </tr>\n    <tr>\n      <th>4</th>\n      <td>1653479</td>\n      <td>NCT04631146</td>\n      <td>8707230</td>\n      <td>Principal Investigator</td>\n      <td>Yilong Wu, MD</td>\n    </tr>\n    <tr>\n      <th>...</th>\n      <td>...</td>\n      <td>...</td>\n      <td>...</td>\n      <td>...</td>\n      <td>...</td>\n    </tr>\n    <tr>\n      <th>95</th>\n      <td>1518668</td>\n      <td>NCT02567422</td>\n      <td>8342869</td>\n      <td>Principal Investigator</td>\n      <td>Darrion L. Mitchell</td>\n    </tr>\n    <tr>\n      <th>96</th>\n      <td>1518669</td>\n      <td>NCT02567422</td>\n      <td>8342870</td>\n      <td>Principal Investigator</td>\n      <td>Dan P. Zandberg</td>\n    </tr>\n    <tr>\n      <th>97</th>\n      <td>1518670</td>\n      <td>NCT02567422</td>\n      <td>8342871</td>\n      <td>Principal Investigator</td>\n      <td>Varinder Kaur</td>\n    </tr>\n    <tr>\n      <th>98</th>\n      <td>1653537</td>\n      <td>NCT04629105</td>\n      <td>8707525</td>\n      <td>Principal Investigator</td>\n      <td>John P Galliard, MD</td>\n    </tr>\n    <tr>\n      <th>99</th>\n      <td>1653538</td>\n      <td>NCT04629170</td>\n      <td>8707529</td>\n      <td>Principal Investigator</td>\n      <td>Susan Kalota, MD</td>\n    </tr>\n  </tbody>\n</table>\n<p>100 rows × 5 columns</p>\n</div>"
     },
     "metadata": {}
    }
   ]
  },
  {
   "cell_type": "code",
   "metadata": {
    "tags": [],
    "deepnote_to_be_reexecuted": false,
    "source_hash": "6e5e5fd1",
    "execution_start": 1645036493705,
    "execution_millis": 43,
    "deepnote_app_coordinates": {
     "x": 0,
     "y": 583,
     "w": 12,
     "h": 23
    },
    "cell_id": "00032-a81a197f-9351-4f61-800d-d02623f689ad",
    "deepnote_cell_type": "code"
   },
   "source": "#decided to drop id bc there are so many different ids for each dataset. can add back in later if needed.\ndf_fi.drop('id',inplace=True,axis=1)\ndf_fi",
   "execution_count": null,
   "outputs": [
    {
     "output_type": "execute_result",
     "execution_count": 25,
     "data": {
      "application/vnd.deepnote.dataframe.v3+json": {
       "column_count": 4,
       "row_count": 221916,
       "columns": [
        {
         "name": "nct_id",
         "dtype": "object"
        },
        {
         "name": "facility_id",
         "dtype": "int64"
        },
        {
         "name": "role",
         "dtype": "object"
        },
        {
         "name": "name",
         "dtype": "object"
        },
        {
         "name": "_deepnote_index_column",
         "dtype": "int64"
        }
       ],
       "rows": [
        {
         "nct_id": "NCT04631068",
         "facility_id": 8707217,
         "role": "Principal Investigator",
         "name": "Cedric Schweitzer, MD",
         "_deepnote_index_column": 0
        },
        {
         "nct_id": "NCT04631068",
         "facility_id": 8707217,
         "role": "Sub-Investigator",
         "name": "David Toubol, MD",
         "_deepnote_index_column": 1
        },
        {
         "nct_id": "NCT04631068",
         "facility_id": 8707218,
         "role": "Principal Investigator",
         "name": "Tiago Monteiro, MD",
         "_deepnote_index_column": 2
        },
        {
         "nct_id": "NCT04631068",
         "facility_id": 8707219,
         "role": "Principal Investigator",
         "name": "Paul Rosen, FRCOphth",
         "_deepnote_index_column": 3
        },
        {
         "nct_id": "NCT04631146",
         "facility_id": 8707230,
         "role": "Principal Investigator",
         "name": "Yilong Wu, MD",
         "_deepnote_index_column": 4
        },
        {
         "nct_id": "NCT04070768",
         "facility_id": 7963012,
         "role": "Principal Investigator",
         "name": "John Sean Quigley, MD",
         "_deepnote_index_column": 5
        },
        {
         "nct_id": "NCT04070768",
         "facility_id": 7963013,
         "role": "Principal Investigator",
         "name": "Heiko Konig, MD",
         "_deepnote_index_column": 6
        },
        {
         "nct_id": "NCT04070768",
         "facility_id": 7963014,
         "role": "Principal Investigator",
         "name": "Brian Parkin, MD",
         "_deepnote_index_column": 7
        },
        {
         "nct_id": "NCT04631146",
         "facility_id": 8707230,
         "role": "Sub-Investigator",
         "name": "Chongrui Xu, MD",
         "_deepnote_index_column": 8
        },
        {
         "nct_id": "NCT04630769",
         "facility_id": 8707242,
         "role": "Principal Investigator",
         "name": "Melissa Geller, MD, MS",
         "_deepnote_index_column": 9
        }
       ]
      },
      "text/plain": "             nct_id  facility_id                    role  \\\n0       NCT04631068      8707217  Principal Investigator   \n1       NCT04631068      8707217        Sub-Investigator   \n2       NCT04631068      8707218  Principal Investigator   \n3       NCT04631068      8707219  Principal Investigator   \n4       NCT04631146      8707230  Principal Investigator   \n...             ...          ...                     ...   \n221911  NCT03726320      7718790  Principal Investigator   \n221912  NCT03709134      7718908  Principal Investigator   \n221913  NCT03706482      7718909  Principal Investigator   \n221914  NCT03706482      7718909        Sub-Investigator   \n221915  NCT03706482      7718909        Sub-Investigator   \n\n                           name  \n0         Cedric Schweitzer, MD  \n1              David Toubol, MD  \n2            Tiago Monteiro, MD  \n3          Paul Rosen, FRCOphth  \n4                 Yilong Wu, MD  \n...                         ...  \n221911        Danil Makarov, MD  \n221912  Kasia J Jerzak, MD, MSc  \n221913       Eva Åström, MD PhD  \n221914    Mikael Sundin, MD PhD  \n221915  Magnus Westgren, MD PhD  \n\n[221916 rows x 4 columns]",
      "text/html": "<div>\n<style scoped>\n    .dataframe tbody tr th:only-of-type {\n        vertical-align: middle;\n    }\n\n    .dataframe tbody tr th {\n        vertical-align: top;\n    }\n\n    .dataframe thead th {\n        text-align: right;\n    }\n</style>\n<table border=\"1\" class=\"dataframe\">\n  <thead>\n    <tr style=\"text-align: right;\">\n      <th></th>\n      <th>nct_id</th>\n      <th>facility_id</th>\n      <th>role</th>\n      <th>name</th>\n    </tr>\n  </thead>\n  <tbody>\n    <tr>\n      <th>0</th>\n      <td>NCT04631068</td>\n      <td>8707217</td>\n      <td>Principal Investigator</td>\n      <td>Cedric Schweitzer, MD</td>\n    </tr>\n    <tr>\n      <th>1</th>\n      <td>NCT04631068</td>\n      <td>8707217</td>\n      <td>Sub-Investigator</td>\n      <td>David Toubol, MD</td>\n    </tr>\n    <tr>\n      <th>2</th>\n      <td>NCT04631068</td>\n      <td>8707218</td>\n      <td>Principal Investigator</td>\n      <td>Tiago Monteiro, MD</td>\n    </tr>\n    <tr>\n      <th>3</th>\n      <td>NCT04631068</td>\n      <td>8707219</td>\n      <td>Principal Investigator</td>\n      <td>Paul Rosen, FRCOphth</td>\n    </tr>\n    <tr>\n      <th>4</th>\n      <td>NCT04631146</td>\n      <td>8707230</td>\n      <td>Principal Investigator</td>\n      <td>Yilong Wu, MD</td>\n    </tr>\n    <tr>\n      <th>...</th>\n      <td>...</td>\n      <td>...</td>\n      <td>...</td>\n      <td>...</td>\n    </tr>\n    <tr>\n      <th>221911</th>\n      <td>NCT03726320</td>\n      <td>7718790</td>\n      <td>Principal Investigator</td>\n      <td>Danil Makarov, MD</td>\n    </tr>\n    <tr>\n      <th>221912</th>\n      <td>NCT03709134</td>\n      <td>7718908</td>\n      <td>Principal Investigator</td>\n      <td>Kasia J Jerzak, MD, MSc</td>\n    </tr>\n    <tr>\n      <th>221913</th>\n      <td>NCT03706482</td>\n      <td>7718909</td>\n      <td>Principal Investigator</td>\n      <td>Eva Åström, MD PhD</td>\n    </tr>\n    <tr>\n      <th>221914</th>\n      <td>NCT03706482</td>\n      <td>7718909</td>\n      <td>Sub-Investigator</td>\n      <td>Mikael Sundin, MD PhD</td>\n    </tr>\n    <tr>\n      <th>221915</th>\n      <td>NCT03706482</td>\n      <td>7718909</td>\n      <td>Sub-Investigator</td>\n      <td>Magnus Westgren, MD PhD</td>\n    </tr>\n  </tbody>\n</table>\n<p>221916 rows × 4 columns</p>\n</div>"
     },
     "metadata": {}
    }
   ]
  },
  {
   "cell_type": "markdown",
   "source": "# Combining Facility and Facility Investigator Data",
   "metadata": {
    "tags": [],
    "is_collapsed": false,
    "deepnote_app_coordinates": {
     "x": 0,
     "y": 607,
     "w": 12,
     "h": 6
    },
    "cell_id": "00033-02c0b30b-de60-4ae7-8c4e-8209f8258543",
    "deepnote_cell_type": "text-cell-h1"
   }
  },
  {
   "cell_type": "code",
   "metadata": {
    "tags": [],
    "deepnote_to_be_reexecuted": false,
    "source_hash": "7e8710ca",
    "execution_start": 1645036493751,
    "execution_millis": 696,
    "deepnote_app_coordinates": {
     "x": 0,
     "y": 614,
     "w": 12,
     "h": 4
    },
    "cell_id": "00034-f2f0a3ec-ca45-43a1-8a41-6e3c8ae336c0",
    "deepnote_cell_type": "code"
   },
   "source": "\ndf_joined = pd.merge(df_fi,df_fac,how=\"left\", left_on='facility_id',right_on='id')",
   "execution_count": null,
   "outputs": []
  },
  {
   "cell_type": "code",
   "metadata": {
    "tags": [],
    "deepnote_to_be_reexecuted": false,
    "source_hash": "5978635f",
    "execution_start": 1645036494458,
    "execution_millis": 73,
    "deepnote_output_heights": [
     208.1875
    ],
    "deepnote_table_state": {
     "pageSize": 10,
     "pageIndex": 2,
     "filters": [],
     "sortBy": [
      {
       "id": "full_name",
       "type": "asc"
      }
     ]
    },
    "deepnote_table_loading": false,
    "cell_id": "00035-3c275993-dc4e-4809-95df-4107d0c781a6",
    "deepnote_cell_type": "code"
   },
   "source": "df_joined.head(n=1000)",
   "execution_count": null,
   "outputs": [
    {
     "output_type": "execute_result",
     "execution_count": 27,
     "data": {
      "application/vnd.deepnote.dataframe.v3+json": {
       "column_count": 11,
       "row_count": 1000,
       "columns": [
        {
         "name": "nct_id_x",
         "dtype": "object",
         "stats": {
          "unique_count": 183,
          "nan_count": 0,
          "categories": [
           {
            "name": "NCT04255433",
            "count": 297
           },
           {
            "name": "NCT04016935",
            "count": 50
           },
           {
            "name": "181 others",
            "count": 653
           }
          ]
         }
        },
        {
         "name": "facility_id",
         "dtype": "int64",
         "stats": {
          "unique_count": 792,
          "nan_count": 0,
          "min": "7719837",
          "max": "11271428",
          "histogram": [
           {
            "bin_start": 7719837,
            "bin_end": 8074996.1,
            "count": 51
           },
           {
            "bin_start": 8074996.1,
            "bin_end": 8430155.2,
            "count": 14
           },
           {
            "bin_start": 8430155.2,
            "bin_end": 8785314.3,
            "count": 381
           },
           {
            "bin_start": 8785314.3,
            "bin_end": 9140473.4,
            "count": 0
           },
           {
            "bin_start": 9140473.4,
            "bin_end": 9495632.5,
            "count": 0
           },
           {
            "bin_start": 9495632.5,
            "bin_end": 9850791.6,
            "count": 0
           },
           {
            "bin_start": 9850791.6,
            "bin_end": 10205950.7,
            "count": 0
           },
           {
            "bin_start": 10205950.7,
            "bin_end": 10561109.8,
            "count": 10
           },
           {
            "bin_start": 10561109.8,
            "bin_end": 10916268.9,
            "count": 62
           },
           {
            "bin_start": 10916268.9,
            "bin_end": 11271428,
            "count": 482
           }
          ]
         }
        },
        {
         "name": "role",
         "dtype": "object",
         "stats": {
          "unique_count": 2,
          "nan_count": 0,
          "categories": [
           {
            "name": "Principal Investigator",
            "count": 794
           },
           {
            "name": "Sub-Investigator",
            "count": 206
           }
          ]
         }
        },
        {
         "name": "name",
         "dtype": "object",
         "stats": {
          "unique_count": 955,
          "nan_count": 0,
          "categories": [
           {
            "name": "Adam M. Brufsky, M.D.",
            "count": 22
           },
           {
            "name": "Barbara A. Burtness",
            "count": 3
           },
           {
            "name": "953 others",
            "count": 975
           }
          ]
         }
        },
        {
         "name": "id",
         "dtype": "int64",
         "stats": {
          "unique_count": 792,
          "nan_count": 0,
          "min": "7719837",
          "max": "11271428",
          "histogram": [
           {
            "bin_start": 7719837,
            "bin_end": 8074996.1,
            "count": 51
           },
           {
            "bin_start": 8074996.1,
            "bin_end": 8430155.2,
            "count": 14
           },
           {
            "bin_start": 8430155.2,
            "bin_end": 8785314.3,
            "count": 381
           },
           {
            "bin_start": 8785314.3,
            "bin_end": 9140473.4,
            "count": 0
           },
           {
            "bin_start": 9140473.4,
            "bin_end": 9495632.5,
            "count": 0
           },
           {
            "bin_start": 9495632.5,
            "bin_end": 9850791.6,
            "count": 0
           },
           {
            "bin_start": 9850791.6,
            "bin_end": 10205950.7,
            "count": 0
           },
           {
            "bin_start": 10205950.7,
            "bin_end": 10561109.8,
            "count": 10
           },
           {
            "bin_start": 10561109.8,
            "bin_end": 10916268.9,
            "count": 62
           },
           {
            "bin_start": 10916268.9,
            "bin_end": 11271428,
            "count": 482
           }
          ]
         }
        },
        {
         "name": "nct_id_y",
         "dtype": "object",
         "stats": {
          "unique_count": 183,
          "nan_count": 0,
          "categories": [
           {
            "name": "NCT04255433",
            "count": 297
           },
           {
            "name": "NCT04016935",
            "count": 50
           },
           {
            "name": "181 others",
            "count": 653
           }
          ]
         }
        },
        {
         "name": "hospital",
         "dtype": "object",
         "stats": {
          "unique_count": 722,
          "nan_count": 0,
          "categories": [
           {
            "name": "Washington University School of Medicine",
            "count": 29
           },
           {
            "name": "IRCCS San Raffaele",
            "count": 12
           },
           {
            "name": "720 others",
            "count": 959
           }
          ]
         }
        },
        {
         "name": "city",
         "dtype": "object",
         "stats": {
          "unique_count": 460,
          "nan_count": 0,
          "categories": [
           {
            "name": "Saint Louis",
            "count": 30
           },
           {
            "name": "Boston",
            "count": 24
           },
           {
            "name": "458 others",
            "count": 946
           }
          ]
         }
        },
        {
         "name": "state",
         "dtype": "object",
         "stats": {
          "unique_count": 135,
          "nan_count": 266,
          "categories": [
           {
            "name": "California",
            "count": 56
           },
           {
            "name": "134 others",
            "count": 678
           },
           {
            "name": "Missing",
            "count": 266
           }
          ]
         }
        },
        {
         "name": "zip",
         "dtype": "object",
         "stats": {
          "unique_count": 578,
          "nan_count": 79,
          "categories": [
           {
            "name": "63110",
            "count": 29
           },
           {
            "name": "577 others",
            "count": 892
           },
           {
            "name": "Missing",
            "count": 79
           }
          ]
         }
        },
        {
         "name": "country",
         "dtype": "object",
         "stats": {
          "unique_count": 33,
          "nan_count": 0,
          "categories": [
           {
            "name": "United States",
            "count": 475
           },
           {
            "name": "France",
            "count": 113
           },
           {
            "name": "31 others",
            "count": 412
           }
          ]
         }
        },
        {
         "name": "_deepnote_index_column",
         "dtype": "int64"
        }
       ],
       "rows": [
        {
         "nct_id_x": "NCT04630782",
         "facility_id": 8707269,
         "role": "Sub-Investigator",
         "name": "Amelia Santosa",
         "id": 8707269,
         "nct_id_y": "NCT04630782",
         "hospital": "National University Hospital",
         "city": "Singapore",
         "state": "nan",
         "zip": "119074",
         "country": "Singapore",
         "_deepnote_index_column": 20
        },
        {
         "nct_id_x": "NCT04630782",
         "facility_id": 8707270,
         "role": "Sub-Investigator",
         "name": "Sue-Ann Ng",
         "id": 8707270,
         "nct_id_y": "NCT04630782",
         "hospital": "Singapore General Hospital",
         "city": "Singapore",
         "state": "nan",
         "zip": "169608",
         "country": "Singapore",
         "_deepnote_index_column": 21
        },
        {
         "nct_id_x": "NCT04630782",
         "facility_id": 8707270,
         "role": "Sub-Investigator",
         "name": "Cassandra Hong",
         "id": 8707270,
         "nct_id_y": "NCT04630782",
         "hospital": "Singapore General Hospital",
         "city": "Singapore",
         "state": "nan",
         "zip": "169608",
         "country": "Singapore",
         "_deepnote_index_column": 22
        },
        {
         "nct_id_x": "NCT04630782",
         "facility_id": 8707270,
         "role": "Sub-Investigator",
         "name": "Wanying Xie",
         "id": 8707270,
         "nct_id_y": "NCT04630782",
         "hospital": "Singapore General Hospital",
         "city": "Singapore",
         "state": "nan",
         "zip": "169608",
         "country": "Singapore",
         "_deepnote_index_column": 23
        },
        {
         "nct_id_x": "NCT04630782",
         "facility_id": 8707270,
         "role": "Sub-Investigator",
         "name": "Julian Thumboo",
         "id": 8707270,
         "nct_id_y": "NCT04630782",
         "hospital": "Singapore General Hospital",
         "city": "Singapore",
         "state": "nan",
         "zip": "169608",
         "country": "Singapore",
         "_deepnote_index_column": 24
        },
        {
         "nct_id_x": "NCT04630782",
         "facility_id": 8707270,
         "role": "Principal Investigator",
         "name": "Andrea Low",
         "id": 8707270,
         "nct_id_y": "NCT04630782",
         "hospital": "Singapore General Hospital",
         "city": "Singapore",
         "state": "nan",
         "zip": "169608",
         "country": "Singapore",
         "_deepnote_index_column": 25
        },
        {
         "nct_id_x": "NCT04630782",
         "facility_id": 8707271,
         "role": "Principal Investigator",
         "name": "Weng Giap Law",
         "id": 8707271,
         "nct_id_y": "NCT04630782",
         "hospital": "Tan Tock Seng Hospital",
         "city": "Singapore",
         "state": "nan",
         "zip": "308433",
         "country": "Singapore",
         "_deepnote_index_column": 26
        },
        {
         "nct_id_x": "NCT04630782",
         "facility_id": 8707271,
         "role": "Sub-Investigator",
         "name": "Grace Chan",
         "id": 8707271,
         "nct_id_y": "NCT04630782",
         "hospital": "Tan Tock Seng Hospital",
         "city": "Singapore",
         "state": "nan",
         "zip": "308433",
         "country": "Singapore",
         "_deepnote_index_column": 27
        },
        {
         "nct_id_x": "NCT04630782",
         "facility_id": 8707272,
         "role": "Principal Investigator",
         "name": "Anindita Santosa",
         "id": 8707272,
         "nct_id_y": "NCT04630782",
         "hospital": "Changi General Hospital",
         "city": "Singapore",
         "state": "nan",
         "zip": "529889",
         "country": "Singapore",
         "_deepnote_index_column": 28
        },
        {
         "nct_id_x": "NCT04630782",
         "facility_id": 8707273,
         "role": "Principal Investigator",
         "name": "Nur Emillia Binte Roslan",
         "id": 8707273,
         "nct_id_y": "NCT04630782",
         "hospital": "Sengkang General Hospital",
         "city": "Singapore",
         "state": "nan",
         "zip": "544886",
         "country": "Singapore",
         "_deepnote_index_column": 29
        }
       ]
      },
      "text/plain": "        nct_id_x  facility_id                    role  \\\n0    NCT04631068      8707217  Principal Investigator   \n1    NCT04631068      8707217        Sub-Investigator   \n2    NCT04631068      8707218  Principal Investigator   \n3    NCT04631068      8707219  Principal Investigator   \n4    NCT04631146      8707230  Principal Investigator   \n..           ...          ...                     ...   \n995  NCT04015700     11121906        Sub-Investigator   \n996  NCT04015726     11121911  Principal Investigator   \n997  NCT04015635     11121919  Principal Investigator   \n998  NCT04015778     11122009  Principal Investigator   \n999  NCT04620564      8708591        Sub-Investigator   \n\n                                  name        id     nct_id_y  \\\n0                Cedric Schweitzer, MD   8707217  NCT04631068   \n1                     David Toubol, MD   8707217  NCT04631068   \n2                   Tiago Monteiro, MD   8707218  NCT04631068   \n3                 Paul Rosen, FRCOphth   8707219  NCT04631068   \n4                        Yilong Wu, MD   8707230  NCT04631146   \n..                                 ...       ...          ...   \n995                  Jiayi Huang, M.D.  11121906  NCT04015700   \n996  Ambady Ramachandran, MD, PhD, DSc  11121911  NCT04015726   \n997                   eleanor c murray  11121919  NCT04015635   \n998                     Yi-Long Wu, MD  11122009  NCT04015778   \n999                   Ute Goerling, Dr   8708591  NCT04620564   \n\n                                              hospital         city  \\\n0                        University Hospital Pellegrin     Bordeaux   \n1                        University Hospital Pellegrin     Bordeaux   \n2                                    Hospital de Braga        Braga   \n3                                  Oxford Eye Hospital       Oxford   \n4    Guangdong Lung Cancer Institute, Guangdong Gen...    Guangzhou   \n..                                                 ...          ...   \n995           Washington University School of Medicine  Saint Louis   \n996                 India Diabetes Research Foundation      Chennai   \n997                         Clinical Research Facility      Glasgow   \n998  Guangdong Lung Cancer Institute, Guangdong Gen...    Guangzhou   \n999  Department of Medical Psychology and Medical S...      Leipzig   \n\n               state       zip         country  \n0              Cedex     33076          France  \n1              Cedex     33076          France  \n2                NaN  4710-243        Portugal  \n3                NaN   OX3 9DU  United Kingdom  \n4          Guangdong    510080           China  \n..               ...       ...             ...  \n995         Missouri     63110   United States  \n996       Tamil Nadu    600008           India  \n997  City Of Glasgow   G51 4LB  United Kingdom  \n998        Guangdong    510080           China  \n999           Saxony     04103         Germany  \n\n[1000 rows x 11 columns]",
      "text/html": "<div>\n<style scoped>\n    .dataframe tbody tr th:only-of-type {\n        vertical-align: middle;\n    }\n\n    .dataframe tbody tr th {\n        vertical-align: top;\n    }\n\n    .dataframe thead th {\n        text-align: right;\n    }\n</style>\n<table border=\"1\" class=\"dataframe\">\n  <thead>\n    <tr style=\"text-align: right;\">\n      <th></th>\n      <th>nct_id_x</th>\n      <th>facility_id</th>\n      <th>role</th>\n      <th>name</th>\n      <th>id</th>\n      <th>nct_id_y</th>\n      <th>hospital</th>\n      <th>city</th>\n      <th>state</th>\n      <th>zip</th>\n      <th>country</th>\n    </tr>\n  </thead>\n  <tbody>\n    <tr>\n      <th>0</th>\n      <td>NCT04631068</td>\n      <td>8707217</td>\n      <td>Principal Investigator</td>\n      <td>Cedric Schweitzer, MD</td>\n      <td>8707217</td>\n      <td>NCT04631068</td>\n      <td>University Hospital Pellegrin</td>\n      <td>Bordeaux</td>\n      <td>Cedex</td>\n      <td>33076</td>\n      <td>France</td>\n    </tr>\n    <tr>\n      <th>1</th>\n      <td>NCT04631068</td>\n      <td>8707217</td>\n      <td>Sub-Investigator</td>\n      <td>David Toubol, MD</td>\n      <td>8707217</td>\n      <td>NCT04631068</td>\n      <td>University Hospital Pellegrin</td>\n      <td>Bordeaux</td>\n      <td>Cedex</td>\n      <td>33076</td>\n      <td>France</td>\n    </tr>\n    <tr>\n      <th>2</th>\n      <td>NCT04631068</td>\n      <td>8707218</td>\n      <td>Principal Investigator</td>\n      <td>Tiago Monteiro, MD</td>\n      <td>8707218</td>\n      <td>NCT04631068</td>\n      <td>Hospital de Braga</td>\n      <td>Braga</td>\n      <td>NaN</td>\n      <td>4710-243</td>\n      <td>Portugal</td>\n    </tr>\n    <tr>\n      <th>3</th>\n      <td>NCT04631068</td>\n      <td>8707219</td>\n      <td>Principal Investigator</td>\n      <td>Paul Rosen, FRCOphth</td>\n      <td>8707219</td>\n      <td>NCT04631068</td>\n      <td>Oxford Eye Hospital</td>\n      <td>Oxford</td>\n      <td>NaN</td>\n      <td>OX3 9DU</td>\n      <td>United Kingdom</td>\n    </tr>\n    <tr>\n      <th>4</th>\n      <td>NCT04631146</td>\n      <td>8707230</td>\n      <td>Principal Investigator</td>\n      <td>Yilong Wu, MD</td>\n      <td>8707230</td>\n      <td>NCT04631146</td>\n      <td>Guangdong Lung Cancer Institute, Guangdong Gen...</td>\n      <td>Guangzhou</td>\n      <td>Guangdong</td>\n      <td>510080</td>\n      <td>China</td>\n    </tr>\n    <tr>\n      <th>...</th>\n      <td>...</td>\n      <td>...</td>\n      <td>...</td>\n      <td>...</td>\n      <td>...</td>\n      <td>...</td>\n      <td>...</td>\n      <td>...</td>\n      <td>...</td>\n      <td>...</td>\n      <td>...</td>\n    </tr>\n    <tr>\n      <th>995</th>\n      <td>NCT04015700</td>\n      <td>11121906</td>\n      <td>Sub-Investigator</td>\n      <td>Jiayi Huang, M.D.</td>\n      <td>11121906</td>\n      <td>NCT04015700</td>\n      <td>Washington University School of Medicine</td>\n      <td>Saint Louis</td>\n      <td>Missouri</td>\n      <td>63110</td>\n      <td>United States</td>\n    </tr>\n    <tr>\n      <th>996</th>\n      <td>NCT04015726</td>\n      <td>11121911</td>\n      <td>Principal Investigator</td>\n      <td>Ambady Ramachandran, MD, PhD, DSc</td>\n      <td>11121911</td>\n      <td>NCT04015726</td>\n      <td>India Diabetes Research Foundation</td>\n      <td>Chennai</td>\n      <td>Tamil Nadu</td>\n      <td>600008</td>\n      <td>India</td>\n    </tr>\n    <tr>\n      <th>997</th>\n      <td>NCT04015635</td>\n      <td>11121919</td>\n      <td>Principal Investigator</td>\n      <td>eleanor c murray</td>\n      <td>11121919</td>\n      <td>NCT04015635</td>\n      <td>Clinical Research Facility</td>\n      <td>Glasgow</td>\n      <td>City Of Glasgow</td>\n      <td>G51 4LB</td>\n      <td>United Kingdom</td>\n    </tr>\n    <tr>\n      <th>998</th>\n      <td>NCT04015778</td>\n      <td>11122009</td>\n      <td>Principal Investigator</td>\n      <td>Yi-Long Wu, MD</td>\n      <td>11122009</td>\n      <td>NCT04015778</td>\n      <td>Guangdong Lung Cancer Institute, Guangdong Gen...</td>\n      <td>Guangzhou</td>\n      <td>Guangdong</td>\n      <td>510080</td>\n      <td>China</td>\n    </tr>\n    <tr>\n      <th>999</th>\n      <td>NCT04620564</td>\n      <td>8708591</td>\n      <td>Sub-Investigator</td>\n      <td>Ute Goerling, Dr</td>\n      <td>8708591</td>\n      <td>NCT04620564</td>\n      <td>Department of Medical Psychology and Medical S...</td>\n      <td>Leipzig</td>\n      <td>Saxony</td>\n      <td>04103</td>\n      <td>Germany</td>\n    </tr>\n  </tbody>\n</table>\n<p>1000 rows × 11 columns</p>\n</div>"
     },
     "metadata": {}
    }
   ]
  },
  {
   "cell_type": "markdown",
   "source": "# Adding Facility Datasets to Medicare Dataset",
   "metadata": {
    "tags": [],
    "is_collapsed": false,
    "deepnote_app_coordinates": {
     "x": 0,
     "y": 619,
     "w": 12,
     "h": 6
    },
    "cell_id": "00036-eaecc837-1295-43c3-9ea5-9188c95b50fb",
    "deepnote_cell_type": "text-cell-h1"
   }
  },
  {
   "cell_type": "code",
   "metadata": {
    "tags": [],
    "deepnote_to_be_reexecuted": false,
    "source_hash": "37f1c43c",
    "execution_start": 1645036494581,
    "execution_millis": 274,
    "deepnote_app_coordinates": {
     "x": 0,
     "y": 626,
     "w": 12,
     "h": 25
    },
    "cell_id": "00037-11609e29-82c5-4d65-8fe5-dc1f3a97bfff",
    "deepnote_cell_type": "code"
   },
   "source": "df_all = pd.merge(df,df_joined,how=\"left\", left_on=['full_name','hosp_afl_lbn_1'],right_on=['name','hospital'])\ndf_all",
   "execution_count": null,
   "outputs": [
    {
     "output_type": "execute_result",
     "execution_count": 28,
     "data": {
      "application/vnd.deepnote.dataframe.v3+json": {
       "column_count": 24,
       "row_count": 10000,
       "columns": [
        {
         "name": "NPI",
         "dtype": "int64",
         "stats": {
          "unique_count": 8983,
          "nan_count": 0,
          "min": "1154356152",
          "max": "1215356100",
          "histogram": [
           {
            "bin_start": 1154356152,
            "bin_end": 1160456146.8,
            "count": 634
           },
           {
            "bin_start": 1160456146.8,
            "bin_end": 1166556141.6,
            "count": 1781
           },
           {
            "bin_start": 1166556141.6,
            "bin_end": 1172656136.4,
            "count": 0
           },
           {
            "bin_start": 1172656136.4,
            "bin_end": 1178756131.2,
            "count": 1677
           },
           {
            "bin_start": 1178756131.2,
            "bin_end": 1184856126,
            "count": 1535
           },
           {
            "bin_start": 1184856126,
            "bin_end": 1190956120.8,
            "count": 201
           },
           {
            "bin_start": 1190956120.8,
            "bin_end": 1197056115.6,
            "count": 1660
           },
           {
            "bin_start": 1197056115.6,
            "bin_end": 1203156110.4,
            "count": 0
           },
           {
            "bin_start": 1203156110.4,
            "bin_end": 1209256105.2,
            "count": 1636
           },
           {
            "bin_start": 1209256105.2,
            "bin_end": 1215356100,
            "count": 876
           }
          ]
         }
        },
        {
         "name": "full_name",
         "dtype": "object",
         "stats": {
          "unique_count": 8977,
          "nan_count": 0,
          "categories": [
           {
            "name": "Christopher H Surtman ",
            "count": 31
           },
           {
            "name": "Manjit S Gulati ",
            "count": 11
           },
           {
            "name": "8975 others",
            "count": 9958
           }
          ]
         }
        },
        {
         "name": " gndr",
         "dtype": "object",
         "stats": {
          "unique_count": 2,
          "nan_count": 0,
          "categories": [
           {
            "name": "M",
            "count": 6300
           },
           {
            "name": "F",
            "count": 3700
           }
          ]
         }
        },
        {
         "name": "Cred",
         "dtype": "object",
         "stats": {
          "unique_count": 19,
          "nan_count": 6380,
          "categories": [
           {
            "name": "MD",
            "count": 1786
           },
           {
            "name": "18 others",
            "count": 1834
           },
           {
            "name": "Missing",
            "count": 6380
           }
          ]
         }
        },
        {
         "name": "Med_sch",
         "dtype": "object",
         "stats": {
          "unique_count": 252,
          "nan_count": 0,
          "categories": [
           {
            "name": "Other",
            "count": 5246
           },
           {
            "name": "Palmer College Chiropractic - Davenport",
            "count": 250
           },
           {
            "name": "250 others",
            "count": 4504
           }
          ]
         }
        },
        {
         "name": "Grd_yr",
         "dtype": "float64",
         "stats": {
          "unique_count": 68,
          "nan_count": 5,
          "min": "1951.0",
          "max": "2021.0",
          "histogram": [
           {
            "bin_start": 1951,
            "bin_end": 1958,
            "count": 7
           },
           {
            "bin_start": 1958,
            "bin_end": 1965,
            "count": 75
           },
           {
            "bin_start": 1965,
            "bin_end": 1972,
            "count": 326
           },
           {
            "bin_start": 1972,
            "bin_end": 1979,
            "count": 881
           },
           {
            "bin_start": 1979,
            "bin_end": 1986,
            "count": 1598
           },
           {
            "bin_start": 1986,
            "bin_end": 1993,
            "count": 1787
           },
           {
            "bin_start": 1993,
            "bin_end": 2000,
            "count": 1845
           },
           {
            "bin_start": 2000,
            "bin_end": 2007,
            "count": 1550
           },
           {
            "bin_start": 2007,
            "bin_end": 2014,
            "count": 1259
           },
           {
            "bin_start": 2014,
            "bin_end": 2021,
            "count": 667
           }
          ]
         }
        },
        {
         "name": "pri_spec",
         "dtype": "object",
         "stats": {
          "unique_count": 77,
          "nan_count": 0,
          "categories": [
           {
            "name": "Chiropractic",
            "count": 1629
           },
           {
            "name": "Clinical Social Worker",
            "count": 1072
           },
           {
            "name": "75 others",
            "count": 7299
           }
          ]
         }
        },
        {
         "name": "adr",
         "dtype": "object",
         "stats": {
          "unique_count": 9875,
          "nan_count": 0,
          "categories": [
           {
            "name": "1216 2Nd St Sw ",
            "count": 13
           },
           {
            "name": "27005 76Th Ave ",
            "count": 4
           },
           {
            "name": "9873 others",
            "count": 9983
           }
          ]
         }
        },
        {
         "name": "cty",
         "dtype": "object",
         "stats": {
          "unique_count": 3095,
          "nan_count": 0,
          "categories": [
           {
            "name": "New York",
            "count": 163
           },
           {
            "name": "Brooklyn",
            "count": 106
           },
           {
            "name": "3093 others",
            "count": 9731
           }
          ]
         }
        },
        {
         "name": "st",
         "dtype": "object",
         "stats": {
          "unique_count": 54,
          "nan_count": 0,
          "categories": [
           {
            "name": "CA",
            "count": 1313
           },
           {
            "name": "NY",
            "count": 957
           },
           {
            "name": "52 others",
            "count": 7730
           }
          ]
         }
        },
        {
         "name": "zip_x",
         "dtype": "object"
        },
        {
         "name": "phn_numbr",
         "dtype": "float64"
        },
        {
         "name": "hosp_afl_lbn_1",
         "dtype": "object"
        },
        {
         "name": "nct_id_x",
         "dtype": "object"
        },
        {
         "name": "facility_id",
         "dtype": "float64"
        },
        {
         "name": "role",
         "dtype": "object"
        },
        {
         "name": "name",
         "dtype": "object"
        },
        {
         "name": "id",
         "dtype": "float64"
        },
        {
         "name": "nct_id_y",
         "dtype": "object"
        },
        {
         "name": "hospital",
         "dtype": "object"
        },
        {
         "name": "city",
         "dtype": "object"
        },
        {
         "name": "state",
         "dtype": "object"
        },
        {
         "name": "zip_y",
         "dtype": "object"
        },
        {
         "name": "country",
         "dtype": "object"
        },
        {
         "name": "_deepnote_index_column",
         "dtype": "int64"
        }
       ],
       "rows": [
        {
         "NPI": 1215321872,
         "full_name": "Eve  Masiello ",
         " gndr": "F",
         "Cred": "nan",
         "Med_sch": "Other",
         "Grd_yr": 1982,
         "pri_spec": "Clinical Social Worker",
         "adr": "120 Court St ",
         "cty": "Plymouth",
         "st": "MA",
         "zip_x": "023603826",
         "phn_numbr": 7817107356,
         "hosp_afl_lbn_1": "nan",
         "nct_id_x": "nan",
         "facility_id": "nan",
         "role": "nan",
         "name": "nan",
         "id": "nan",
         "nct_id_y": "nan",
         "hospital": "nan",
         "city": "nan",
         "state": "nan",
         "zip_y": "nan",
         "country": "nan",
         "_deepnote_index_column": 0
        },
        {
         "NPI": 1215195664,
         "full_name": "Celestina N Duru ",
         " gndr": "F",
         "Cred": "nan",
         "Med_sch": "New York College Of Podiatric Medicine",
         "Grd_yr": 2007,
         "pri_spec": "Podiatry",
         "adr": "2000 Esters Rd Suite 104",
         "cty": "Irving",
         "st": "TX",
         "zip_x": "750619580",
         "phn_numbr": "nan",
         "hosp_afl_lbn_1": "nan",
         "nct_id_x": "nan",
         "facility_id": "nan",
         "role": "nan",
         "name": "nan",
         "id": "nan",
         "nct_id_y": "nan",
         "hospital": "nan",
         "city": "nan",
         "state": "nan",
         "zip_y": "nan",
         "country": "nan",
         "_deepnote_index_column": 1
        },
        {
         "NPI": 1215188925,
         "full_name": "Reza  Keshavarzi ",
         " gndr": "M",
         "Cred": "nan",
         "Med_sch": "University Of Kentucky College Of Medicine",
         "Grd_yr": 2005,
         "pri_spec": "General Surgery",
         "adr": "7330 Sw 62Nd Pl Suite 210",
         "cty": "South Miami",
         "st": "FL",
         "zip_x": "331434825",
         "phn_numbr": "nan",
         "hosp_afl_lbn_1": "nan",
         "nct_id_x": "nan",
         "facility_id": "nan",
         "role": "nan",
         "name": "nan",
         "id": "nan",
         "nct_id_y": "nan",
         "hospital": "nan",
         "city": "nan",
         "state": "nan",
         "zip_y": "nan",
         "country": "nan",
         "_deepnote_index_column": 2
        },
        {
         "NPI": 1215138714,
         "full_name": "Anthony  Pham ",
         " gndr": "M",
         "Cred": "nan",
         "Med_sch": "University Of North Texas Hsc, College Of Osteopathic Med",
         "Grd_yr": 2003,
         "pri_spec": "Physical Medicine And Rehabilitation",
         "adr": "11799 Beechnut St Suite A",
         "cty": "Houston",
         "st": "TX",
         "zip_x": "770724116",
         "phn_numbr": "nan",
         "hosp_afl_lbn_1": "nan",
         "nct_id_x": "nan",
         "facility_id": "nan",
         "role": "nan",
         "name": "nan",
         "id": "nan",
         "nct_id_y": "nan",
         "hospital": "nan",
         "city": "nan",
         "state": "nan",
         "zip_y": "nan",
         "country": "nan",
         "_deepnote_index_column": 3
        },
        {
         "NPI": 1215127840,
         "full_name": "Marcia E Nelson Vancini ",
         " gndr": "F",
         "Cred": "CNS",
         "Med_sch": "Other",
         "Grd_yr": 2002,
         "pri_spec": "Certified Clinical Nurse Specialist (Cns)",
         "adr": "2 Brentwood Cir ",
         "cty": "Andover",
         "st": "MA",
         "zip_x": "018105129",
         "phn_numbr": 9783358785,
         "hosp_afl_lbn_1": "Lawrence General Hospital",
         "nct_id_x": "nan",
         "facility_id": "nan",
         "role": "nan",
         "name": "nan",
         "id": "nan",
         "nct_id_y": "nan",
         "hospital": "nan",
         "city": "nan",
         "state": "nan",
         "zip_y": "nan",
         "country": "nan",
         "_deepnote_index_column": 4
        },
        {
         "NPI": 1215349154,
         "full_name": "Nana F Arkhurst-Arthur ",
         " gndr": "F",
         "Cred": "nan",
         "Med_sch": "Other",
         "Grd_yr": 2013,
         "pri_spec": "Nurse Practitioner",
         "adr": "1006 N Arendell Ave ",
         "cty": "Zebulon",
         "st": "NC",
         "zip_x": "275972352",
         "phn_numbr": "nan",
         "hosp_afl_lbn_1": "Nash General Hospital",
         "nct_id_x": "nan",
         "facility_id": "nan",
         "role": "nan",
         "name": "nan",
         "id": "nan",
         "nct_id_y": "nan",
         "hospital": "nan",
         "city": "nan",
         "state": "nan",
         "zip_y": "nan",
         "country": "nan",
         "_deepnote_index_column": 5
        },
        {
         "NPI": 1215186309,
         "full_name": "Tania L Ramirez Perez ",
         " gndr": "F",
         "Cred": "nan",
         "Med_sch": "University Of Puerto Rico School Of Medicine",
         "Grd_yr": 2008,
         "pri_spec": "Nephrology",
         "adr": "313 Calle Manuel Domenech Suite 101",
         "cty": "San Juan",
         "st": "PR",
         "zip_x": "009183532",
         "phn_numbr": 7877637423,
         "hosp_afl_lbn_1": "Auxilio Mutuo Hospital",
         "nct_id_x": "nan",
         "facility_id": "nan",
         "role": "nan",
         "name": "nan",
         "id": "nan",
         "nct_id_y": "nan",
         "hospital": "nan",
         "city": "nan",
         "state": "nan",
         "zip_y": "nan",
         "country": "nan",
         "_deepnote_index_column": 6
        },
        {
         "NPI": 1215254925,
         "full_name": "Laurene L Clossey ",
         " gndr": "F",
         "Cred": "nan",
         "Med_sch": "Other",
         "Grd_yr": 2004,
         "pri_spec": "Clinical Social Worker",
         "adr": "101 Mountain Ct Suite 101B",
         "cty": "Hackettstown",
         "st": "NJ",
         "zip_x": "078402300",
         "phn_numbr": "nan",
         "hosp_afl_lbn_1": "nan",
         "nct_id_x": "nan",
         "facility_id": "nan",
         "role": "nan",
         "name": "nan",
         "id": "nan",
         "nct_id_y": "nan",
         "hospital": "nan",
         "city": "nan",
         "state": "nan",
         "zip_y": "nan",
         "country": "nan",
         "_deepnote_index_column": 7
        },
        {
         "NPI": 1215284070,
         "full_name": "Megan  Franklin ",
         " gndr": "F",
         "Cred": "nan",
         "Med_sch": "Other",
         "Grd_yr": 2012,
         "pri_spec": "Chiropractic",
         "adr": "900 N Swallowtail Dr 104 D",
         "cty": "Port Orange",
         "st": "FL",
         "zip_x": "321296103",
         "phn_numbr": "nan",
         "hosp_afl_lbn_1": "nan",
         "nct_id_x": "nan",
         "facility_id": "nan",
         "role": "nan",
         "name": "nan",
         "id": "nan",
         "nct_id_y": "nan",
         "hospital": "nan",
         "city": "nan",
         "state": "nan",
         "zip_y": "nan",
         "country": "nan",
         "_deepnote_index_column": 8
        },
        {
         "NPI": 1215161161,
         "full_name": "Margaret L Aguilar ",
         " gndr": "F",
         "Cred": "nan",
         "Med_sch": "Other",
         "Grd_yr": 1999,
         "pri_spec": "Clinical Social Worker",
         "adr": "1232 Barker Rd ",
         "cty": "Las Cruces",
         "st": "NM",
         "zip_x": "880053182",
         "phn_numbr": 5756525263,
         "hosp_afl_lbn_1": "nan",
         "nct_id_x": "nan",
         "facility_id": "nan",
         "role": "nan",
         "name": "nan",
         "id": "nan",
         "nct_id_y": "nan",
         "hospital": "nan",
         "city": "nan",
         "state": "nan",
         "zip_y": "nan",
         "country": "nan",
         "_deepnote_index_column": 9
        }
       ]
      },
      "text/plain": "             NPI                 full_name  gndr Cred  \\\n0     1215321872            Eve  Masiello      F  NaN   \n1     1215195664         Celestina N Duru      F  NaN   \n2     1215188925         Reza  Keshavarzi      M  NaN   \n3     1215138714            Anthony  Pham      M  NaN   \n4     1215127840  Marcia E Nelson Vancini      F  CNS   \n...          ...                       ...   ...  ...   \n9995  1154398477          Richard S Faulk      M  NaN   \n9996  1154405488   Maria E Chirino-Socias      F  NaN   \n9997  1154377315             Alex A Lazar      M   MD   \n9998  1154359230          Vasif A Humayun      M   MD   \n9999  1154376473          Richard S Feher      M  NaN   \n\n                                                Med_sch  Grd_yr  \\\n0                                                 Other  1982.0   \n1                New York College Of Podiatric Medicine  2007.0   \n2            University Of Kentucky College Of Medicine  2005.0   \n3     University Of North Texas Hsc, College Of Oste...  2003.0   \n4                                                 Other  2002.0   \n...                                                 ...     ...   \n9995  Medical University Of South Carolina College O...  1993.0   \n9996  University Central Del Caribe Escuela De Medicina  1992.0   \n9997             New York University School Of Medicine  1996.0   \n9998                                              Other  1984.0   \n9999            Palmer College Chiropractic - Davenport  1993.0   \n\n                                       pri_spec  \\\n0                        Clinical Social Worker   \n1                                      Podiatry   \n2                               General Surgery   \n3          Physical Medicine And Rehabilitation   \n4     Certified Clinical Nurse Specialist (Cns)   \n...                                         ...   \n9995                                 Psychiatry   \n9996                               Rheumatology   \n9997                                 Psychiatry   \n9998                          Internal Medicine   \n9999                               Chiropractic   \n\n                                     adr              cty  st  ...  \\\n0                          120 Court St          Plymouth  MA  ...   \n1               2000 Esters Rd Suite 104           Irving  TX  ...   \n2              7330 Sw 62Nd Pl Suite 210      South Miami  FL  ...   \n3              11799 Beechnut St Suite A          Houston  TX  ...   \n4                       2 Brentwood Cir           Andover  MA  ...   \n...                                  ...              ...  ..  ...   \n9995  2601 E Oakland Park Blvd Suite 207  Fort Lauderdale  FL  ...   \n9996  690 Calle Cesar Gonzalez Suite 500         San Juan  PR  ...   \n9997        16055 Ventura Blvd Suite 601           Encino  CA  ...   \n9998               11410 E Fwy Suite 168          Houston  TX  ...   \n9999          5005 John Stockbauer Dr B          Victoria  TX  ...   \n\n     facility_id  role name  id  nct_id_y hospital city  state zip_y country  \n0            NaN   NaN  NaN NaN       NaN      NaN  NaN    NaN   NaN     NaN  \n1            NaN   NaN  NaN NaN       NaN      NaN  NaN    NaN   NaN     NaN  \n2            NaN   NaN  NaN NaN       NaN      NaN  NaN    NaN   NaN     NaN  \n3            NaN   NaN  NaN NaN       NaN      NaN  NaN    NaN   NaN     NaN  \n4            NaN   NaN  NaN NaN       NaN      NaN  NaN    NaN   NaN     NaN  \n...          ...   ...  ...  ..       ...      ...  ...    ...   ...     ...  \n9995         NaN   NaN  NaN NaN       NaN      NaN  NaN    NaN   NaN     NaN  \n9996         NaN   NaN  NaN NaN       NaN      NaN  NaN    NaN   NaN     NaN  \n9997         NaN   NaN  NaN NaN       NaN      NaN  NaN    NaN   NaN     NaN  \n9998         NaN   NaN  NaN NaN       NaN      NaN  NaN    NaN   NaN     NaN  \n9999         NaN   NaN  NaN NaN       NaN      NaN  NaN    NaN   NaN     NaN  \n\n[10000 rows x 24 columns]",
      "text/html": "<div>\n<style scoped>\n    .dataframe tbody tr th:only-of-type {\n        vertical-align: middle;\n    }\n\n    .dataframe tbody tr th {\n        vertical-align: top;\n    }\n\n    .dataframe thead th {\n        text-align: right;\n    }\n</style>\n<table border=\"1\" class=\"dataframe\">\n  <thead>\n    <tr style=\"text-align: right;\">\n      <th></th>\n      <th>NPI</th>\n      <th>full_name</th>\n      <th>gndr</th>\n      <th>Cred</th>\n      <th>Med_sch</th>\n      <th>Grd_yr</th>\n      <th>pri_spec</th>\n      <th>adr</th>\n      <th>cty</th>\n      <th>st</th>\n      <th>...</th>\n      <th>facility_id</th>\n      <th>role</th>\n      <th>name</th>\n      <th>id</th>\n      <th>nct_id_y</th>\n      <th>hospital</th>\n      <th>city</th>\n      <th>state</th>\n      <th>zip_y</th>\n      <th>country</th>\n    </tr>\n  </thead>\n  <tbody>\n    <tr>\n      <th>0</th>\n      <td>1215321872</td>\n      <td>Eve  Masiello</td>\n      <td>F</td>\n      <td>NaN</td>\n      <td>Other</td>\n      <td>1982.0</td>\n      <td>Clinical Social Worker</td>\n      <td>120 Court St</td>\n      <td>Plymouth</td>\n      <td>MA</td>\n      <td>...</td>\n      <td>NaN</td>\n      <td>NaN</td>\n      <td>NaN</td>\n      <td>NaN</td>\n      <td>NaN</td>\n      <td>NaN</td>\n      <td>NaN</td>\n      <td>NaN</td>\n      <td>NaN</td>\n      <td>NaN</td>\n    </tr>\n    <tr>\n      <th>1</th>\n      <td>1215195664</td>\n      <td>Celestina N Duru</td>\n      <td>F</td>\n      <td>NaN</td>\n      <td>New York College Of Podiatric Medicine</td>\n      <td>2007.0</td>\n      <td>Podiatry</td>\n      <td>2000 Esters Rd Suite 104</td>\n      <td>Irving</td>\n      <td>TX</td>\n      <td>...</td>\n      <td>NaN</td>\n      <td>NaN</td>\n      <td>NaN</td>\n      <td>NaN</td>\n      <td>NaN</td>\n      <td>NaN</td>\n      <td>NaN</td>\n      <td>NaN</td>\n      <td>NaN</td>\n      <td>NaN</td>\n    </tr>\n    <tr>\n      <th>2</th>\n      <td>1215188925</td>\n      <td>Reza  Keshavarzi</td>\n      <td>M</td>\n      <td>NaN</td>\n      <td>University Of Kentucky College Of Medicine</td>\n      <td>2005.0</td>\n      <td>General Surgery</td>\n      <td>7330 Sw 62Nd Pl Suite 210</td>\n      <td>South Miami</td>\n      <td>FL</td>\n      <td>...</td>\n      <td>NaN</td>\n      <td>NaN</td>\n      <td>NaN</td>\n      <td>NaN</td>\n      <td>NaN</td>\n      <td>NaN</td>\n      <td>NaN</td>\n      <td>NaN</td>\n      <td>NaN</td>\n      <td>NaN</td>\n    </tr>\n    <tr>\n      <th>3</th>\n      <td>1215138714</td>\n      <td>Anthony  Pham</td>\n      <td>M</td>\n      <td>NaN</td>\n      <td>University Of North Texas Hsc, College Of Oste...</td>\n      <td>2003.0</td>\n      <td>Physical Medicine And Rehabilitation</td>\n      <td>11799 Beechnut St Suite A</td>\n      <td>Houston</td>\n      <td>TX</td>\n      <td>...</td>\n      <td>NaN</td>\n      <td>NaN</td>\n      <td>NaN</td>\n      <td>NaN</td>\n      <td>NaN</td>\n      <td>NaN</td>\n      <td>NaN</td>\n      <td>NaN</td>\n      <td>NaN</td>\n      <td>NaN</td>\n    </tr>\n    <tr>\n      <th>4</th>\n      <td>1215127840</td>\n      <td>Marcia E Nelson Vancini</td>\n      <td>F</td>\n      <td>CNS</td>\n      <td>Other</td>\n      <td>2002.0</td>\n      <td>Certified Clinical Nurse Specialist (Cns)</td>\n      <td>2 Brentwood Cir</td>\n      <td>Andover</td>\n      <td>MA</td>\n      <td>...</td>\n      <td>NaN</td>\n      <td>NaN</td>\n      <td>NaN</td>\n      <td>NaN</td>\n      <td>NaN</td>\n      <td>NaN</td>\n      <td>NaN</td>\n      <td>NaN</td>\n      <td>NaN</td>\n      <td>NaN</td>\n    </tr>\n    <tr>\n      <th>...</th>\n      <td>...</td>\n      <td>...</td>\n      <td>...</td>\n      <td>...</td>\n      <td>...</td>\n      <td>...</td>\n      <td>...</td>\n      <td>...</td>\n      <td>...</td>\n      <td>...</td>\n      <td>...</td>\n      <td>...</td>\n      <td>...</td>\n      <td>...</td>\n      <td>...</td>\n      <td>...</td>\n      <td>...</td>\n      <td>...</td>\n      <td>...</td>\n      <td>...</td>\n      <td>...</td>\n    </tr>\n    <tr>\n      <th>9995</th>\n      <td>1154398477</td>\n      <td>Richard S Faulk</td>\n      <td>M</td>\n      <td>NaN</td>\n      <td>Medical University Of South Carolina College O...</td>\n      <td>1993.0</td>\n      <td>Psychiatry</td>\n      <td>2601 E Oakland Park Blvd Suite 207</td>\n      <td>Fort Lauderdale</td>\n      <td>FL</td>\n      <td>...</td>\n      <td>NaN</td>\n      <td>NaN</td>\n      <td>NaN</td>\n      <td>NaN</td>\n      <td>NaN</td>\n      <td>NaN</td>\n      <td>NaN</td>\n      <td>NaN</td>\n      <td>NaN</td>\n      <td>NaN</td>\n    </tr>\n    <tr>\n      <th>9996</th>\n      <td>1154405488</td>\n      <td>Maria E Chirino-Socias</td>\n      <td>F</td>\n      <td>NaN</td>\n      <td>University Central Del Caribe Escuela De Medicina</td>\n      <td>1992.0</td>\n      <td>Rheumatology</td>\n      <td>690 Calle Cesar Gonzalez Suite 500</td>\n      <td>San Juan</td>\n      <td>PR</td>\n      <td>...</td>\n      <td>NaN</td>\n      <td>NaN</td>\n      <td>NaN</td>\n      <td>NaN</td>\n      <td>NaN</td>\n      <td>NaN</td>\n      <td>NaN</td>\n      <td>NaN</td>\n      <td>NaN</td>\n      <td>NaN</td>\n    </tr>\n    <tr>\n      <th>9997</th>\n      <td>1154377315</td>\n      <td>Alex A Lazar</td>\n      <td>M</td>\n      <td>MD</td>\n      <td>New York University School Of Medicine</td>\n      <td>1996.0</td>\n      <td>Psychiatry</td>\n      <td>16055 Ventura Blvd Suite 601</td>\n      <td>Encino</td>\n      <td>CA</td>\n      <td>...</td>\n      <td>NaN</td>\n      <td>NaN</td>\n      <td>NaN</td>\n      <td>NaN</td>\n      <td>NaN</td>\n      <td>NaN</td>\n      <td>NaN</td>\n      <td>NaN</td>\n      <td>NaN</td>\n      <td>NaN</td>\n    </tr>\n    <tr>\n      <th>9998</th>\n      <td>1154359230</td>\n      <td>Vasif A Humayun</td>\n      <td>M</td>\n      <td>MD</td>\n      <td>Other</td>\n      <td>1984.0</td>\n      <td>Internal Medicine</td>\n      <td>11410 E Fwy Suite 168</td>\n      <td>Houston</td>\n      <td>TX</td>\n      <td>...</td>\n      <td>NaN</td>\n      <td>NaN</td>\n      <td>NaN</td>\n      <td>NaN</td>\n      <td>NaN</td>\n      <td>NaN</td>\n      <td>NaN</td>\n      <td>NaN</td>\n      <td>NaN</td>\n      <td>NaN</td>\n    </tr>\n    <tr>\n      <th>9999</th>\n      <td>1154376473</td>\n      <td>Richard S Feher</td>\n      <td>M</td>\n      <td>NaN</td>\n      <td>Palmer College Chiropractic - Davenport</td>\n      <td>1993.0</td>\n      <td>Chiropractic</td>\n      <td>5005 John Stockbauer Dr B</td>\n      <td>Victoria</td>\n      <td>TX</td>\n      <td>...</td>\n      <td>NaN</td>\n      <td>NaN</td>\n      <td>NaN</td>\n      <td>NaN</td>\n      <td>NaN</td>\n      <td>NaN</td>\n      <td>NaN</td>\n      <td>NaN</td>\n      <td>NaN</td>\n      <td>NaN</td>\n    </tr>\n  </tbody>\n</table>\n<p>10000 rows × 24 columns</p>\n</div>"
     },
     "metadata": {}
    }
   ]
  },
  {
   "cell_type": "markdown",
   "source": "# The Merged Dataset Consisting of Medicare, Facility, and Facility Investigator Data",
   "metadata": {
    "tags": [],
    "is_collapsed": false,
    "deepnote_app_coordinates": {
     "x": 0,
     "y": 37,
     "w": 24,
     "h": 12
    },
    "cell_id": "00038-078263ae-ac78-47d4-8bfc-2ba0d213faaa",
    "deepnote_cell_type": "text-cell-h1"
   }
  },
  {
   "cell_type": "code",
   "metadata": {
    "tags": [],
    "deepnote_to_be_reexecuted": false,
    "source_hash": "a0401c5",
    "execution_start": 1645036494904,
    "execution_millis": 96,
    "deepnote_table_state": {
     "pageSize": 25,
     "pageIndex": 0,
     "filters": [],
     "sortBy": [
      {
       "id": "full_name",
       "type": "asc"
      }
     ]
    },
    "deepnote_table_loading": false,
    "deepnote_app_is_code_hidden": true,
    "deepnote_app_coordinates": {
     "x": 0,
     "y": 50,
     "w": 24,
     "h": 44
    },
    "cell_id": "00039-3e4f844e-c0bb-415e-9fff-7e9362c3b821",
    "deepnote_cell_type": "code"
   },
   "source": "#eliminating null columns\n\ndf_nodupes = df_all.drop_duplicates(\n  subset = ['full_name', 'hosp_afl_lbn_1'],\n  keep = 'first').reset_index(drop = True)\n\nperc = 75\nmin_count =  int(((100-perc)/100)*df.shape[0] + 1)\ndf_nodupes = df_nodupes.dropna( axis=1, \n                thresh=min_count)\ndf_nodupes.head(n=50)",
   "execution_count": null,
   "outputs": [
    {
     "output_type": "execute_result",
     "execution_count": 29,
     "data": {
      "application/vnd.deepnote.dataframe.v3+json": {
       "column_count": 13,
       "row_count": 50,
       "columns": [
        {
         "name": "NPI",
         "dtype": "int64",
         "stats": {
          "unique_count": 50,
          "nan_count": 0,
          "min": "1215123161",
          "max": "1215355276",
          "histogram": [
           {
            "bin_start": 1215123161,
            "bin_end": 1215146372.5,
            "count": 14
           },
           {
            "bin_start": 1215146372.5,
            "bin_end": 1215169584,
            "count": 7
           },
           {
            "bin_start": 1215169584,
            "bin_end": 1215192795.5,
            "count": 3
           },
           {
            "bin_start": 1215192795.5,
            "bin_end": 1215216007,
            "count": 2
           },
           {
            "bin_start": 1215216007,
            "bin_end": 1215239218.5,
            "count": 4
           },
           {
            "bin_start": 1215239218.5,
            "bin_end": 1215262430,
            "count": 8
           },
           {
            "bin_start": 1215262430,
            "bin_end": 1215285641.5,
            "count": 2
           },
           {
            "bin_start": 1215285641.5,
            "bin_end": 1215308853,
            "count": 2
           },
           {
            "bin_start": 1215308853,
            "bin_end": 1215332064.5,
            "count": 4
           },
           {
            "bin_start": 1215332064.5,
            "bin_end": 1215355276,
            "count": 4
           }
          ]
         }
        },
        {
         "name": "full_name",
         "dtype": "object",
         "stats": {
          "unique_count": 50,
          "nan_count": 0,
          "categories": [
           {
            "name": "Aaron T Shapiro ",
            "count": 1
           },
           {
            "name": "Abdelhalim Z Nada ",
            "count": 1
           },
           {
            "name": "48 others",
            "count": 48
           }
          ]
         }
        },
        {
         "name": " gndr",
         "dtype": "object",
         "stats": {
          "unique_count": 2,
          "nan_count": 0,
          "categories": [
           {
            "name": "F",
            "count": 33
           },
           {
            "name": "M",
            "count": 17
           }
          ]
         }
        },
        {
         "name": "Cred",
         "dtype": "object",
         "stats": {
          "unique_count": 5,
          "nan_count": 45,
          "categories": [
           {
            "name": "DC",
            "count": 1
           },
           {
            "name": "4 others",
            "count": 4
           },
           {
            "name": "Missing",
            "count": 45
           }
          ]
         }
        },
        {
         "name": "Med_sch",
         "dtype": "object",
         "stats": {
          "unique_count": 15,
          "nan_count": 0,
          "categories": [
           {
            "name": "Other",
            "count": 34
           },
           {
            "name": "University Alabama Birmingham  - School Of Optometry",
            "count": 2
           },
           {
            "name": "13 others",
            "count": 14
           }
          ]
         }
        },
        {
         "name": "Grd_yr",
         "dtype": "float64",
         "stats": {
          "unique_count": 27,
          "nan_count": 0,
          "min": "1974.0",
          "max": "2017.0",
          "histogram": [
           {
            "bin_start": 1974,
            "bin_end": 1978.3,
            "count": 1
           },
           {
            "bin_start": 1978.3,
            "bin_end": 1982.6,
            "count": 2
           },
           {
            "bin_start": 1982.6,
            "bin_end": 1986.9,
            "count": 2
           },
           {
            "bin_start": 1986.9,
            "bin_end": 1991.2,
            "count": 4
           },
           {
            "bin_start": 1991.2,
            "bin_end": 1995.5,
            "count": 2
           },
           {
            "bin_start": 1995.5,
            "bin_end": 1999.8,
            "count": 5
           },
           {
            "bin_start": 1999.8,
            "bin_end": 2004.1,
            "count": 8
           },
           {
            "bin_start": 2004.1,
            "bin_end": 2008.4,
            "count": 9
           },
           {
            "bin_start": 2008.4,
            "bin_end": 2012.7,
            "count": 10
           },
           {
            "bin_start": 2012.7,
            "bin_end": 2017,
            "count": 7
           }
          ]
         }
        },
        {
         "name": "pri_spec",
         "dtype": "object",
         "stats": {
          "unique_count": 23,
          "nan_count": 0,
          "categories": [
           {
            "name": "Clinical Social Worker",
            "count": 9
           },
           {
            "name": "Chiropractic",
            "count": 8
           },
           {
            "name": "21 others",
            "count": 33
           }
          ]
         }
        },
        {
         "name": "adr",
         "dtype": "object",
         "stats": {
          "unique_count": 50,
          "nan_count": 0,
          "categories": [
           {
            "name": "1122 S Greenfield Rd Suite 102",
            "count": 1
           },
           {
            "name": "427 Broadway Suite 3",
            "count": 1
           },
           {
            "name": "48 others",
            "count": 48
           }
          ]
         }
        },
        {
         "name": "cty",
         "dtype": "object",
         "stats": {
          "unique_count": 48,
          "nan_count": 0,
          "categories": [
           {
            "name": "Houston",
            "count": 2
           },
           {
            "name": "Fresno",
            "count": 2
           },
           {
            "name": "46 others",
            "count": 46
           }
          ]
         }
        },
        {
         "name": "st",
         "dtype": "object",
         "stats": {
          "unique_count": 23,
          "nan_count": 0,
          "categories": [
           {
            "name": "CA",
            "count": 7
           },
           {
            "name": "PR",
            "count": 4
           },
           {
            "name": "21 others",
            "count": 39
           }
          ]
         }
        },
        {
         "name": "zip_x",
         "dtype": "object",
         "stats": {
          "unique_count": 50,
          "nan_count": 0,
          "categories": [
           {
            "name": "852062681",
            "count": 1
           },
           {
            "name": "127011743",
            "count": 1
           },
           {
            "name": "48 others",
            "count": 48
           }
          ]
         }
        },
        {
         "name": "phn_numbr",
         "dtype": "float64",
         "stats": {
          "unique_count": 18,
          "nan_count": 32,
          "min": "2532698888.0",
          "max": "9788538742.0",
          "histogram": [
           {
            "bin_start": 2532698888,
            "bin_end": 3258282873.4,
            "count": 1
           },
           {
            "bin_start": 3258282873.4,
            "bin_end": 3983866858.8,
            "count": 0
           },
           {
            "bin_start": 3983866858.8,
            "bin_end": 4709450844.2,
            "count": 2
           },
           {
            "bin_start": 4709450844.2,
            "bin_end": 5435034829.6,
            "count": 0
           },
           {
            "bin_start": 5435034829.6,
            "bin_end": 6160618815,
            "count": 1
           },
           {
            "bin_start": 6160618815,
            "bin_end": 6886202800.4,
            "count": 1
           },
           {
            "bin_start": 6886202800.4,
            "bin_end": 7611786785.8,
            "count": 2
           },
           {
            "bin_start": 7611786785.8,
            "bin_end": 8337370771.2,
            "count": 6
           },
           {
            "bin_start": 8337370771.2,
            "bin_end": 9062954756.599998,
            "count": 1
           },
           {
            "bin_start": 9062954756.599998,
            "bin_end": 9788538742,
            "count": 4
           }
          ]
         }
        },
        {
         "name": "hosp_afl_lbn_1",
         "dtype": "object",
         "stats": {
          "unique_count": 14,
          "nan_count": 36,
          "categories": [
           {
            "name": "California Pacific Medical Center- Van Ness Campus",
            "count": 1
           },
           {
            "name": "13 others",
            "count": 13
           },
           {
            "name": "Missing",
            "count": 36
           }
          ]
         }
        },
        {
         "name": "_deepnote_index_column",
         "dtype": "int64"
        }
       ],
       "rows": [
        {
         "NPI": 1215131297,
         "full_name": "Aaron T Shapiro ",
         " gndr": "M",
         "Cred": "DC",
         "Med_sch": "Palmer College Chiropractic - Davenport",
         "Grd_yr": 1994,
         "pri_spec": "Chiropractic",
         "adr": "1122 S Greenfield Rd Suite 102",
         "cty": "Mesa",
         "st": "AZ",
         "zip_x": "852062681",
         "phn_numbr": "nan",
         "hosp_afl_lbn_1": "nan",
         "_deepnote_index_column": 11
        },
        {
         "NPI": 1215354592,
         "full_name": "Abdelhalim Z Nada ",
         " gndr": "M",
         "Cred": "nan",
         "Med_sch": "Other",
         "Grd_yr": 2013,
         "pri_spec": "Physical Therapy",
         "adr": "427 Broadway Suite 3",
         "cty": "Monticello",
         "st": "NY",
         "zip_x": "127011743",
         "phn_numbr": "nan",
         "hosp_afl_lbn_1": "nan",
         "_deepnote_index_column": 28
        },
        {
         "NPI": 1215265202,
         "full_name": "Ada  Colon Gavillan ",
         " gndr": "F",
         "Cred": "nan",
         "Med_sch": "Other",
         "Grd_yr": 1982,
         "pri_spec": "Physical Therapy",
         "adr": "8 Sucalle Flor Gerena ",
         "cty": "Humacao",
         "st": "PR",
         "zip_x": "007913912",
         "phn_numbr": 7878501337,
         "hosp_afl_lbn_1": "nan",
         "_deepnote_index_column": 24
        },
        {
         "NPI": 1215310701,
         "full_name": "Almira  Tassone ",
         " gndr": "F",
         "Cred": "nan",
         "Med_sch": "Other",
         "Grd_yr": 2014,
         "pri_spec": "Clinical Social Worker",
         "adr": "24 Victory Rd ",
         "cty": "Suffern",
         "st": "NY",
         "zip_x": "109013718",
         "phn_numbr": 8455584686,
         "hosp_afl_lbn_1": "nan",
         "_deepnote_index_column": 30
        },
        {
         "NPI": 1215355276,
         "full_name": "Amber  Rakoczy ",
         " gndr": "F",
         "Cred": "nan",
         "Med_sch": "Other",
         "Grd_yr": 2006,
         "pri_spec": "Clinical Social Worker",
         "adr": "1095 Pingree Rd Suite 202",
         "cty": "Crystal Lake",
         "st": "IL",
         "zip_x": "600141727",
         "phn_numbr": "nan",
         "hosp_afl_lbn_1": "nan",
         "_deepnote_index_column": 44
        },
        {
         "NPI": 1215149240,
         "full_name": "Andrea D Heitz ",
         " gndr": "F",
         "Cred": "nan",
         "Med_sch": "Other",
         "Grd_yr": 1999,
         "pri_spec": "Clinical Social Worker",
         "adr": "219 N Indian Hill Blvd Suite 101",
         "cty": "Claremont",
         "st": "CA",
         "zip_x": "917114644",
         "phn_numbr": 9094384554,
         "hosp_afl_lbn_1": "nan",
         "_deepnote_index_column": 40
        },
        {
         "NPI": 1215138714,
         "full_name": "Anthony  Pham ",
         " gndr": "M",
         "Cred": "nan",
         "Med_sch": "University Of North Texas Hsc, College Of Osteopathic Med",
         "Grd_yr": 2003,
         "pri_spec": "Physical Medicine And Rehabilitation",
         "adr": "11799 Beechnut St Suite A",
         "cty": "Houston",
         "st": "TX",
         "zip_x": "770724116",
         "phn_numbr": "nan",
         "hosp_afl_lbn_1": "nan",
         "_deepnote_index_column": 3
        },
        {
         "NPI": 1215290689,
         "full_name": "Ashley M Ott ",
         " gndr": "F",
         "Cred": "nan",
         "Med_sch": "University Alabama Birmingham  - School Of Optometry",
         "Grd_yr": 2012,
         "pri_spec": "Optometry",
         "adr": "21530 Professional Dr Suite D",
         "cty": "Robertsdale",
         "st": "AL",
         "zip_x": "365679911",
         "phn_numbr": "nan",
         "hosp_afl_lbn_1": "nan",
         "_deepnote_index_column": 10
        },
        {
         "NPI": 1215250444,
         "full_name": "Astrid  Hesse ",
         " gndr": "F",
         "Cred": "nan",
         "Med_sch": "Other",
         "Grd_yr": 2008,
         "pri_spec": "Psychologist, Clinical",
         "adr": "580 Roger Williams Ave Suite 22",
         "cty": "Highland Park",
         "st": "IL",
         "zip_x": "600354820",
         "phn_numbr": 7739683117,
         "hosp_afl_lbn_1": "nan",
         "_deepnote_index_column": 20
        },
        {
         "NPI": 1215168943,
         "full_name": "Barbaraann F Dausend ",
         " gndr": "F",
         "Cred": "nan",
         "Med_sch": "Other",
         "Grd_yr": 2005,
         "pri_spec": "Occupational Therapy",
         "adr": "22983 N 104Th Ave ",
         "cty": "Peoria",
         "st": "AZ",
         "zip_x": "853832764",
         "phn_numbr": "nan",
         "hosp_afl_lbn_1": "nan",
         "_deepnote_index_column": 46
        },
        {
         "NPI": 1215239959,
         "full_name": "Cathy  Hains ",
         " gndr": "F",
         "Cred": "nan",
         "Med_sch": "Other",
         "Grd_yr": 2010,
         "pri_spec": "Registered Dietitian Or Nutrition Professional",
         "adr": "7116 Stinson Ave Suite A206",
         "cty": "Gig Harbor",
         "st": "WA",
         "zip_x": "983351100",
         "phn_numbr": 2532698888,
         "hosp_afl_lbn_1": "nan",
         "_deepnote_index_column": 29
        },
        {
         "NPI": 1215195664,
         "full_name": "Celestina N Duru ",
         " gndr": "F",
         "Cred": "nan",
         "Med_sch": "New York College Of Podiatric Medicine",
         "Grd_yr": 2007,
         "pri_spec": "Podiatry",
         "adr": "2000 Esters Rd Suite 104",
         "cty": "Irving",
         "st": "TX",
         "zip_x": "750619580",
         "phn_numbr": "nan",
         "hosp_afl_lbn_1": "nan",
         "_deepnote_index_column": 1
        },
        {
         "NPI": 1215128335,
         "full_name": "Charlezetta  Roberson ",
         " gndr": "F",
         "Cred": "nan",
         "Med_sch": "Other",
         "Grd_yr": 1997,
         "pri_spec": "Physician Assistant",
         "adr": "3211 W Charleston Blvd ",
         "cty": "Las Vegas",
         "st": "NV",
         "zip_x": "891021953",
         "phn_numbr": "nan",
         "hosp_afl_lbn_1": "nan",
         "_deepnote_index_column": 13
        },
        {
         "NPI": 1215138391,
         "full_name": "Dale W Oneal ",
         " gndr": "M",
         "Cred": "nan",
         "Med_sch": "Other",
         "Grd_yr": 1983,
         "pri_spec": "Psychologist, Clinical",
         "adr": "366 San Miguel Dr Suite 309",
         "cty": "Newport Beach",
         "st": "CA",
         "zip_x": "926607810",
         "phn_numbr": 9494976734,
         "hosp_afl_lbn_1": "nan",
         "_deepnote_index_column": 27
        },
        {
         "NPI": 1215191846,
         "full_name": "Denise R Wong ",
         " gndr": "F",
         "Cred": "nan",
         "Med_sch": "Virginia Commonwealth Univ School Of Dentistry",
         "Grd_yr": 2005,
         "pri_spec": "Otolaryngology",
         "adr": "595 Buckingham Way Suite 324",
         "cty": "San Francisco",
         "st": "CA",
         "zip_x": "941321911",
         "phn_numbr": 4156651877,
         "hosp_afl_lbn_1": "California Pacific Medical Center- Van Ness Campus",
         "_deepnote_index_column": 36
        },
        {
         "NPI": 1215139076,
         "full_name": "Djimmer  Bosman ",
         " gndr": "M",
         "Cred": "nan",
         "Med_sch": "Other",
         "Grd_yr": 1990,
         "pri_spec": "Physical Therapy",
         "adr": "8101 E Belleview Ave Unit I",
         "cty": "Denver",
         "st": "CO",
         "zip_x": "802372998",
         "phn_numbr": "nan",
         "hosp_afl_lbn_1": "nan",
         "_deepnote_index_column": 41
        },
        {
         "NPI": 1215140546,
         "full_name": "Douglas G Kimmey ",
         " gndr": "M",
         "Cred": "nan",
         "Med_sch": "Life Chiropractic College",
         "Grd_yr": 1991,
         "pri_spec": "Chiropractic",
         "adr": "5332 William Flynn Hwy ",
         "cty": "Gibsonia",
         "st": "PA",
         "zip_x": "150449650",
         "phn_numbr": "nan",
         "hosp_afl_lbn_1": "nan",
         "_deepnote_index_column": 34
        },
        {
         "NPI": 1215150099,
         "full_name": "Ellen M Blau ",
         " gndr": "F",
         "Cred": "CP",
         "Med_sch": "Other",
         "Grd_yr": 1987,
         "pri_spec": "Psychologist, Clinical",
         "adr": "3946 Sw Kenyon St ",
         "cty": "Seattle",
         "st": "WA",
         "zip_x": "981362331",
         "phn_numbr": 4252761776,
         "hosp_afl_lbn_1": "nan",
         "_deepnote_index_column": 38
        },
        {
         "NPI": 1215140306,
         "full_name": "Erica  Saltz ",
         " gndr": "F",
         "Cred": "nan",
         "Med_sch": "Other",
         "Grd_yr": 1999,
         "pri_spec": "Clinical Social Worker",
         "adr": "11 Tanglewood Dr ",
         "cty": "Smithtown",
         "st": "NY",
         "zip_x": "117874952",
         "phn_numbr": 6462427902,
         "hosp_afl_lbn_1": "nan",
         "_deepnote_index_column": 31
        },
        {
         "NPI": 1215321872,
         "full_name": "Eve  Masiello ",
         " gndr": "F",
         "Cred": "nan",
         "Med_sch": "Other",
         "Grd_yr": 1982,
         "pri_spec": "Clinical Social Worker",
         "adr": "120 Court St ",
         "cty": "Plymouth",
         "st": "MA",
         "zip_x": "023603826",
         "phn_numbr": 7817107356,
         "hosp_afl_lbn_1": "nan",
         "_deepnote_index_column": 0
        },
        {
         "NPI": 1215144167,
         "full_name": "Gretchen A Harig ",
         " gndr": "F",
         "Cred": "nan",
         "Med_sch": "Life Chiropractic College - West",
         "Grd_yr": 1989,
         "pri_spec": "Chiropractic",
         "adr": "1235 N Dutton Ave Suite D",
         "cty": "Santa Rosa",
         "st": "CA",
         "zip_x": "954014642",
         "phn_numbr": 7075469822,
         "hosp_afl_lbn_1": "nan",
         "_deepnote_index_column": 17
        },
        {
         "NPI": 1215148457,
         "full_name": "Jaime F Rubio ",
         " gndr": "M",
         "Cred": "nan",
         "Med_sch": "Other",
         "Grd_yr": 1985,
         "pri_spec": "General Practice",
         "adr": "2114 Manatee Ave E ",
         "cty": "Bradenton",
         "st": "FL",
         "zip_x": "342081660",
         "phn_numbr": "nan",
         "hosp_afl_lbn_1": "nan",
         "_deepnote_index_column": 25
        },
        {
         "NPI": 1215161914,
         "full_name": "Jennifer L Soares ",
         " gndr": "F",
         "Cred": "nan",
         "Med_sch": "Other",
         "Grd_yr": 2004,
         "pri_spec": "Psychologist, Clinical",
         "adr": "2575 E Perrin Ave Suite 110",
         "cty": "Fresno",
         "st": "CA",
         "zip_x": "937205204",
         "phn_numbr": "nan",
         "hosp_afl_lbn_1": "nan",
         "_deepnote_index_column": 12
        },
        {
         "NPI": 1215254925,
         "full_name": "Laurene L Clossey ",
         " gndr": "F",
         "Cred": "nan",
         "Med_sch": "Other",
         "Grd_yr": 2004,
         "pri_spec": "Clinical Social Worker",
         "adr": "101 Mountain Ct Suite 101B",
         "cty": "Hackettstown",
         "st": "NJ",
         "zip_x": "078402300",
         "phn_numbr": "nan",
         "hosp_afl_lbn_1": "nan",
         "_deepnote_index_column": 7
        },
        {
         "NPI": 1215249479,
         "full_name": "Leslie W Cecil ",
         " gndr": "F",
         "Cred": "nan",
         "Med_sch": "University Alabama Birmingham  - School Of Optometry",
         "Grd_yr": 2010,
         "pri_spec": "Optometry",
         "adr": "633 N 3Rd St ",
         "cty": "Bardstown",
         "st": "KY",
         "zip_x": "400041750",
         "phn_numbr": "nan",
         "hosp_afl_lbn_1": "nan",
         "_deepnote_index_column": 35
        }
       ]
      },
      "text/plain": "           NPI                      full_name  gndr Cred  \\\n0   1215321872                 Eve  Masiello      F  NaN   \n1   1215195664              Celestina N Duru      F  NaN   \n2   1215188925              Reza  Keshavarzi      M  NaN   \n3   1215138714                 Anthony  Pham      M  NaN   \n4   1215127840       Marcia E Nelson Vancini      F  CNS   \n5   1215349154        Nana F Arkhurst-Arthur      F  NaN   \n6   1215186309         Tania L Ramirez Perez      F  NaN   \n7   1215254925             Laurene L Clossey      F  NaN   \n8   1215284070               Megan  Franklin      F  NaN   \n9   1215161161            Margaret L Aguilar      F  NaN   \n10  1215290689                  Ashley M Ott      F  NaN   \n11  1215131297               Aaron T Shapiro      M   DC   \n12  1215161914             Jennifer L Soares      F  NaN   \n13  1215128335         Charlezetta  Roberson      F  NaN   \n14  1215237664                Sonja  Vincola      F  NaN   \n15  1215195029              Sallie M Bradley      F  CSW   \n16  1215138805                   Sneha G Lin      F  NaN   \n17  1215144167              Gretchen A Harig      F  NaN   \n18  1215234513               Matthew L Hecht      M  NaN   \n19  1215256102                 Robert D Bado      M  NaN   \n20  1215250444                 Astrid  Hesse      F  NaN   \n21  1215298823                 Nader G Javan      M  NaN   \n22  1215258736               Michael G Azzam      M  NaN   \n23  1215167812                Vivian G Matti      F  NaN   \n24  1215265202           Ada  Colon Gavillan      F  NaN   \n25  1215148457                 Jaime F Rubio      M  NaN   \n26  1215221288           Nicholas B Chicoine      M  NaN   \n27  1215138391                  Dale W Oneal      M  NaN   \n28  1215354592             Abdelhalim Z Nada      M  NaN   \n29  1215239959                  Cathy  Hains      F  NaN   \n30  1215310701               Almira  Tassone      F  NaN   \n31  1215140306                  Erica  Saltz      F  NaN   \n32  1215137559               William  Appiah      M  NaN   \n33  1215134176                 Mark E Patron      M  NaN   \n34  1215140546              Douglas G Kimmey      M  NaN   \n35  1215249479                Leslie W Cecil      F  NaN   \n36  1215191846                 Denise R Wong      F  NaN   \n37  1215236864                  Nitie I Sroa      F  NaN   \n38  1215150099                  Ellen M Blau      F   CP   \n39  1215243621  Michelle  Castellanos Martin      F  NaN   \n40  1215149240                Andrea D Heitz      F  NaN   \n41  1215139076               Djimmer  Bosman      M  NaN   \n42  1215343884               Valerie E Stone      F  NaN   \n43  1215330949                Trista M Platz      F  NaN   \n44  1215355276                Amber  Rakoczy      F  NaN   \n45  1215248273               Mehboob  Ghulam      M  NaN   \n46  1215168943          Barbaraann F Dausend      F  NaN   \n47  1215328521                  Thea L Koltz      F  NaN   \n48  1215125927               Vanessa M Hagan      F   MD   \n49  1215123161      Roberto E Osorio Manotas      M  NaN   \n\n                                              Med_sch  Grd_yr  \\\n0                                               Other  1982.0   \n1              New York College Of Podiatric Medicine  2007.0   \n2          University Of Kentucky College Of Medicine  2005.0   \n3   University Of North Texas Hsc, College Of Oste...  2003.0   \n4                                               Other  2002.0   \n5                                               Other  2013.0   \n6        University Of Puerto Rico School Of Medicine  2008.0   \n7                                               Other  2004.0   \n8                                               Other  2012.0   \n9                                               Other  1999.0   \n10  University Alabama Birmingham  - School Of Opt...  2012.0   \n11            Palmer College Chiropractic - Davenport  1994.0   \n12                                              Other  2004.0   \n13                                              Other  1997.0   \n14                                              Other  2004.0   \n15                                              Other  1974.0   \n16  University Of Missouri St Louis - School Of Op...  2007.0   \n17                   Life Chiropractic College - West  1989.0   \n18                      Logan College Of Chiropractic  2011.0   \n19                                              Other  1992.0   \n20                                              Other  2008.0   \n21                                              Other  2012.0   \n22          Saint Louis University School Of Medicine  2010.0   \n23                                              Other  1998.0   \n24                                              Other  1982.0   \n25                                              Other  1985.0   \n26                                              Other  2010.0   \n27                                              Other  1983.0   \n28                                              Other  2013.0   \n29                                              Other  2010.0   \n30                                              Other  2014.0   \n31                                              Other  1999.0   \n32                                              Other  2004.0   \n33                Tufts University School Of Medicine  2006.0   \n34                          Life Chiropractic College  1991.0   \n35  University Alabama Birmingham  - School Of Opt...  2010.0   \n36     Virginia Commonwealth Univ School Of Dentistry  2005.0   \n37  Kent State University College Of Podiatric Med...  2010.0   \n38                                              Other  1987.0   \n39                                              Other  2014.0   \n40                                              Other  1999.0   \n41                                              Other  1990.0   \n42                                              Other  2017.0   \n43                      Logan College Of Chiropractic  2014.0   \n44                                              Other  2006.0   \n45                                              Other  2010.0   \n46                                              Other  2005.0   \n47                                              Other  2014.0   \n48                                              Other  2001.0   \n49                                              Other  2002.0   \n\n                                          pri_spec  \\\n0                           Clinical Social Worker   \n1                                         Podiatry   \n2                                  General Surgery   \n3             Physical Medicine And Rehabilitation   \n4        Certified Clinical Nurse Specialist (Cns)   \n5                               Nurse Practitioner   \n6                                       Nephrology   \n7                           Clinical Social Worker   \n8                                     Chiropractic   \n9                           Clinical Social Worker   \n10                                       Optometry   \n11                                    Chiropractic   \n12                          Psychologist, Clinical   \n13                             Physician Assistant   \n14                          Clinical Social Worker   \n15                          Clinical Social Worker   \n16                                       Optometry   \n17                                    Chiropractic   \n18                                    Chiropractic   \n19                                    Chiropractic   \n20                          Psychologist, Clinical   \n21                                 Family Medicine   \n22                              Orthopedic Surgery   \n23                                 Family Medicine   \n24                                Physical Therapy   \n25                                General Practice   \n26                                    Chiropractic   \n27                          Psychologist, Clinical   \n28                                Physical Therapy   \n29  Registered Dietitian Or Nutrition Professional   \n30                          Clinical Social Worker   \n31                          Clinical Social Worker   \n32                              Emergency Medicine   \n33                                   Ophthalmology   \n34                                    Chiropractic   \n35                                       Optometry   \n36                                  Otolaryngology   \n37                                        Podiatry   \n38                          Psychologist, Clinical   \n39                               Internal Medicine   \n40                          Clinical Social Worker   \n41                                Physical Therapy   \n42                          Psychologist, Clinical   \n43                                    Chiropractic   \n44                          Clinical Social Worker   \n45                               Internal Medicine   \n46                            Occupational Therapy   \n47   Certified Registered Nurse Anesthetist (Crna)   \n48                               Internal Medicine   \n49                                Gastroenterology   \n\n                                                  adr              cty  st  \\\n0                                       120 Court St          Plymouth  MA   \n1                            2000 Esters Rd Suite 104           Irving  TX   \n2                           7330 Sw 62Nd Pl Suite 210      South Miami  FL   \n3                           11799 Beechnut St Suite A          Houston  TX   \n4                                    2 Brentwood Cir           Andover  MA   \n5                                1006 N Arendell Ave           Zebulon  NC   \n6                 313 Calle Manuel Domenech Suite 101         San Juan  PR   \n7                          101 Mountain Ct Suite 101B     Hackettstown  NJ   \n8                          900 N Swallowtail Dr 104 D      Port Orange  FL   \n9                                     1232 Barker Rd        Las Cruces  NM   \n10                      21530 Professional Dr Suite D      Robertsdale  AL   \n11                     1122 S Greenfield Rd Suite 102             Mesa  AZ   \n12                        2575 E Perrin Ave Suite 110           Fresno  CA   \n13                            3211 W Charleston Blvd         Las Vegas  NV   \n14                                     61 Boxford Rd            Rowley  MA   \n15                                 117 E Escalon Ave            Fresno  CA   \n16                                        2512 Hwy K          O Fallon  MO   \n17                          1235 N Dutton Ave Suite D       Santa Rosa  CA   \n18                      2110 Priest Bridge Dr Suite 6          Crofton  MD   \n19                                  3088 N Robert Rd   Prescott Valley  AZ   \n20                    580 Roger Williams Ave Suite 22    Highland Park  IL   \n21                        699 Harrisburg Pike Suite A         Columbus  OH   \n22                          5200 W 94Th Ter Suite 113  Prairie Village  KS   \n23                              15819 Schoolcraft St           Detroit  MI   \n24                             8 Sucalle Flor Gerena           Humacao  PR   \n25                                2114 Manatee Ave E         Bradenton  FL   \n26                                     833 Gordon Dr        Sioux City  IA   \n27                        366 San Miguel Dr Suite 309    Newport Beach  CA   \n28                               427 Broadway Suite 3       Monticello  NY   \n29                        7116 Stinson Ave Suite A206       Gig Harbor  WA   \n30                                     24 Victory Rd           Suffern  NY   \n31                                  11 Tanglewood Dr         Smithtown  NY   \n32  1007 Westheimer Rd Signaturecare Emergency Cen...          Houston  TX   \n33                                      220 W 2Nd St          Goodland  KS   \n34                            5332 William Flynn Hwy          Gibsonia  PA   \n35                                      633 N 3Rd St         Bardstown  KY   \n36                       595 Buckingham Way Suite 324    San Francisco  CA   \n37                          208 Columbus St Suite 200       Hicksville  OH   \n38                                 3946 Sw Kenyon St           Seattle  WA   \n39             80100 Calle Munoz Rivera Esq Molinillo         Carolina  PR   \n40                   219 N Indian Hill Blvd Suite 101        Claremont  CA   \n41                        8101 E Belleview Ave Unit I           Denver  CO   \n42                                  8241 W Pomona Dr            Arvada  CO   \n43                       16231 W 14 Mile Rd Suite 100    Beverly Hills  MI   \n44                          1095 Pingree Rd Suite 202     Crystal Lake  IL   \n45                                   207 W Legion Rd           Brawley  CA   \n46                                 22983 N 104Th Ave            Peoria  AZ   \n47                            19 Fontana Ln Suite 104        Baltimore  MD   \n48                           4400 W 95Th St Suite 302         Oak Lawn  IL   \n49                               100 Paseo San Pablo           Bayamon  PR   \n\n        zip_x     phn_numbr                                     hosp_afl_lbn_1  \n0   023603826  7.817107e+09                                                NaN  \n1   750619580           NaN                                                NaN  \n2   331434825           NaN                                                NaN  \n3   770724116           NaN                                                NaN  \n4   018105129  9.783359e+09                          Lawrence General Hospital  \n5   275972352           NaN                              Nash General Hospital  \n6   009183532  7.877637e+09                             Auxilio Mutuo Hospital  \n7   078402300           NaN                                                NaN  \n8   321296103           NaN                                                NaN  \n9   880053182  5.756525e+09                                                NaN  \n10  365679911           NaN                                                NaN  \n11  852062681           NaN                                                NaN  \n12  937205204           NaN                                                NaN  \n13  891021953           NaN                                                NaN  \n14  019692419  9.788539e+09                                                NaN  \n15  937105109           NaN                                                NaN  \n16  633686625           NaN                                                NaN  \n17  954014642  7.075470e+09                                                NaN  \n18  211142472           NaN                                                NaN  \n19  863148429           NaN                                                NaN  \n20  600354820  7.739683e+09                                                NaN  \n21  432232141           NaN                       Riverside Methodist Hospital  \n22  662072522           NaN                             Menorah Medical Center  \n23  482271749           NaN                         Ascension St John Hospital  \n24  007913912  7.878501e+09                                                NaN  \n25  342081660           NaN                                                NaN  \n26  511011829           NaN                                                NaN  \n27  926607810  9.494977e+09                                                NaN  \n28  127011743           NaN                                                NaN  \n29  983351100  2.532699e+09                                                NaN  \n30  109013718  8.455585e+09                                                NaN  \n31  117874952  6.462428e+09                                                NaN  \n32  770062724           NaN                                                NaN  \n33  677351602           NaN                   Goodland Regional Medical Center  \n34  150449650           NaN                                                NaN  \n35  400041750           NaN                                                NaN  \n36  941321911  4.156652e+09  California Pacific Medical Center- Van Ness Ca...  \n37  435261250           NaN                        Community Memorial Hospital  \n38  981362331  4.252762e+09                                                NaN  \n39  009856179  7.876263e+09  Doctor Center Hospital San Fernando De La Caro...  \n40  917114644  9.094385e+09                                                NaN  \n41  802372998           NaN                                                NaN  \n42  800052572           NaN                                                NaN  \n43  480253326           NaN                                                NaN  \n44  600141727           NaN                                                NaN  \n45  922277780  7.603513e+09              Pioneers Memorial Healthcare District  \n46  853832764           NaN                                                NaN  \n47  212373027           NaN              University Of Maryland Medical Center  \n48  604532659           NaN          Advocate Christ Hospital & Medical Center  \n49  009617019  7.877804e+09                             Hima San Pablo Bayamon  ",
      "text/html": "<div>\n<style scoped>\n    .dataframe tbody tr th:only-of-type {\n        vertical-align: middle;\n    }\n\n    .dataframe tbody tr th {\n        vertical-align: top;\n    }\n\n    .dataframe thead th {\n        text-align: right;\n    }\n</style>\n<table border=\"1\" class=\"dataframe\">\n  <thead>\n    <tr style=\"text-align: right;\">\n      <th></th>\n      <th>NPI</th>\n      <th>full_name</th>\n      <th>gndr</th>\n      <th>Cred</th>\n      <th>Med_sch</th>\n      <th>Grd_yr</th>\n      <th>pri_spec</th>\n      <th>adr</th>\n      <th>cty</th>\n      <th>st</th>\n      <th>zip_x</th>\n      <th>phn_numbr</th>\n      <th>hosp_afl_lbn_1</th>\n    </tr>\n  </thead>\n  <tbody>\n    <tr>\n      <th>0</th>\n      <td>1215321872</td>\n      <td>Eve  Masiello</td>\n      <td>F</td>\n      <td>NaN</td>\n      <td>Other</td>\n      <td>1982.0</td>\n      <td>Clinical Social Worker</td>\n      <td>120 Court St</td>\n      <td>Plymouth</td>\n      <td>MA</td>\n      <td>023603826</td>\n      <td>7.817107e+09</td>\n      <td>NaN</td>\n    </tr>\n    <tr>\n      <th>1</th>\n      <td>1215195664</td>\n      <td>Celestina N Duru</td>\n      <td>F</td>\n      <td>NaN</td>\n      <td>New York College Of Podiatric Medicine</td>\n      <td>2007.0</td>\n      <td>Podiatry</td>\n      <td>2000 Esters Rd Suite 104</td>\n      <td>Irving</td>\n      <td>TX</td>\n      <td>750619580</td>\n      <td>NaN</td>\n      <td>NaN</td>\n    </tr>\n    <tr>\n      <th>2</th>\n      <td>1215188925</td>\n      <td>Reza  Keshavarzi</td>\n      <td>M</td>\n      <td>NaN</td>\n      <td>University Of Kentucky College Of Medicine</td>\n      <td>2005.0</td>\n      <td>General Surgery</td>\n      <td>7330 Sw 62Nd Pl Suite 210</td>\n      <td>South Miami</td>\n      <td>FL</td>\n      <td>331434825</td>\n      <td>NaN</td>\n      <td>NaN</td>\n    </tr>\n    <tr>\n      <th>3</th>\n      <td>1215138714</td>\n      <td>Anthony  Pham</td>\n      <td>M</td>\n      <td>NaN</td>\n      <td>University Of North Texas Hsc, College Of Oste...</td>\n      <td>2003.0</td>\n      <td>Physical Medicine And Rehabilitation</td>\n      <td>11799 Beechnut St Suite A</td>\n      <td>Houston</td>\n      <td>TX</td>\n      <td>770724116</td>\n      <td>NaN</td>\n      <td>NaN</td>\n    </tr>\n    <tr>\n      <th>4</th>\n      <td>1215127840</td>\n      <td>Marcia E Nelson Vancini</td>\n      <td>F</td>\n      <td>CNS</td>\n      <td>Other</td>\n      <td>2002.0</td>\n      <td>Certified Clinical Nurse Specialist (Cns)</td>\n      <td>2 Brentwood Cir</td>\n      <td>Andover</td>\n      <td>MA</td>\n      <td>018105129</td>\n      <td>9.783359e+09</td>\n      <td>Lawrence General Hospital</td>\n    </tr>\n    <tr>\n      <th>5</th>\n      <td>1215349154</td>\n      <td>Nana F Arkhurst-Arthur</td>\n      <td>F</td>\n      <td>NaN</td>\n      <td>Other</td>\n      <td>2013.0</td>\n      <td>Nurse Practitioner</td>\n      <td>1006 N Arendell Ave</td>\n      <td>Zebulon</td>\n      <td>NC</td>\n      <td>275972352</td>\n      <td>NaN</td>\n      <td>Nash General Hospital</td>\n    </tr>\n    <tr>\n      <th>6</th>\n      <td>1215186309</td>\n      <td>Tania L Ramirez Perez</td>\n      <td>F</td>\n      <td>NaN</td>\n      <td>University Of Puerto Rico School Of Medicine</td>\n      <td>2008.0</td>\n      <td>Nephrology</td>\n      <td>313 Calle Manuel Domenech Suite 101</td>\n      <td>San Juan</td>\n      <td>PR</td>\n      <td>009183532</td>\n      <td>7.877637e+09</td>\n      <td>Auxilio Mutuo Hospital</td>\n    </tr>\n    <tr>\n      <th>7</th>\n      <td>1215254925</td>\n      <td>Laurene L Clossey</td>\n      <td>F</td>\n      <td>NaN</td>\n      <td>Other</td>\n      <td>2004.0</td>\n      <td>Clinical Social Worker</td>\n      <td>101 Mountain Ct Suite 101B</td>\n      <td>Hackettstown</td>\n      <td>NJ</td>\n      <td>078402300</td>\n      <td>NaN</td>\n      <td>NaN</td>\n    </tr>\n    <tr>\n      <th>8</th>\n      <td>1215284070</td>\n      <td>Megan  Franklin</td>\n      <td>F</td>\n      <td>NaN</td>\n      <td>Other</td>\n      <td>2012.0</td>\n      <td>Chiropractic</td>\n      <td>900 N Swallowtail Dr 104 D</td>\n      <td>Port Orange</td>\n      <td>FL</td>\n      <td>321296103</td>\n      <td>NaN</td>\n      <td>NaN</td>\n    </tr>\n    <tr>\n      <th>9</th>\n      <td>1215161161</td>\n      <td>Margaret L Aguilar</td>\n      <td>F</td>\n      <td>NaN</td>\n      <td>Other</td>\n      <td>1999.0</td>\n      <td>Clinical Social Worker</td>\n      <td>1232 Barker Rd</td>\n      <td>Las Cruces</td>\n      <td>NM</td>\n      <td>880053182</td>\n      <td>5.756525e+09</td>\n      <td>NaN</td>\n    </tr>\n    <tr>\n      <th>10</th>\n      <td>1215290689</td>\n      <td>Ashley M Ott</td>\n      <td>F</td>\n      <td>NaN</td>\n      <td>University Alabama Birmingham  - School Of Opt...</td>\n      <td>2012.0</td>\n      <td>Optometry</td>\n      <td>21530 Professional Dr Suite D</td>\n      <td>Robertsdale</td>\n      <td>AL</td>\n      <td>365679911</td>\n      <td>NaN</td>\n      <td>NaN</td>\n    </tr>\n    <tr>\n      <th>11</th>\n      <td>1215131297</td>\n      <td>Aaron T Shapiro</td>\n      <td>M</td>\n      <td>DC</td>\n      <td>Palmer College Chiropractic - Davenport</td>\n      <td>1994.0</td>\n      <td>Chiropractic</td>\n      <td>1122 S Greenfield Rd Suite 102</td>\n      <td>Mesa</td>\n      <td>AZ</td>\n      <td>852062681</td>\n      <td>NaN</td>\n      <td>NaN</td>\n    </tr>\n    <tr>\n      <th>12</th>\n      <td>1215161914</td>\n      <td>Jennifer L Soares</td>\n      <td>F</td>\n      <td>NaN</td>\n      <td>Other</td>\n      <td>2004.0</td>\n      <td>Psychologist, Clinical</td>\n      <td>2575 E Perrin Ave Suite 110</td>\n      <td>Fresno</td>\n      <td>CA</td>\n      <td>937205204</td>\n      <td>NaN</td>\n      <td>NaN</td>\n    </tr>\n    <tr>\n      <th>13</th>\n      <td>1215128335</td>\n      <td>Charlezetta  Roberson</td>\n      <td>F</td>\n      <td>NaN</td>\n      <td>Other</td>\n      <td>1997.0</td>\n      <td>Physician Assistant</td>\n      <td>3211 W Charleston Blvd</td>\n      <td>Las Vegas</td>\n      <td>NV</td>\n      <td>891021953</td>\n      <td>NaN</td>\n      <td>NaN</td>\n    </tr>\n    <tr>\n      <th>14</th>\n      <td>1215237664</td>\n      <td>Sonja  Vincola</td>\n      <td>F</td>\n      <td>NaN</td>\n      <td>Other</td>\n      <td>2004.0</td>\n      <td>Clinical Social Worker</td>\n      <td>61 Boxford Rd</td>\n      <td>Rowley</td>\n      <td>MA</td>\n      <td>019692419</td>\n      <td>9.788539e+09</td>\n      <td>NaN</td>\n    </tr>\n    <tr>\n      <th>15</th>\n      <td>1215195029</td>\n      <td>Sallie M Bradley</td>\n      <td>F</td>\n      <td>CSW</td>\n      <td>Other</td>\n      <td>1974.0</td>\n      <td>Clinical Social Worker</td>\n      <td>117 E Escalon Ave</td>\n      <td>Fresno</td>\n      <td>CA</td>\n      <td>937105109</td>\n      <td>NaN</td>\n      <td>NaN</td>\n    </tr>\n    <tr>\n      <th>16</th>\n      <td>1215138805</td>\n      <td>Sneha G Lin</td>\n      <td>F</td>\n      <td>NaN</td>\n      <td>University Of Missouri St Louis - School Of Op...</td>\n      <td>2007.0</td>\n      <td>Optometry</td>\n      <td>2512 Hwy K</td>\n      <td>O Fallon</td>\n      <td>MO</td>\n      <td>633686625</td>\n      <td>NaN</td>\n      <td>NaN</td>\n    </tr>\n    <tr>\n      <th>17</th>\n      <td>1215144167</td>\n      <td>Gretchen A Harig</td>\n      <td>F</td>\n      <td>NaN</td>\n      <td>Life Chiropractic College - West</td>\n      <td>1989.0</td>\n      <td>Chiropractic</td>\n      <td>1235 N Dutton Ave Suite D</td>\n      <td>Santa Rosa</td>\n      <td>CA</td>\n      <td>954014642</td>\n      <td>7.075470e+09</td>\n      <td>NaN</td>\n    </tr>\n    <tr>\n      <th>18</th>\n      <td>1215234513</td>\n      <td>Matthew L Hecht</td>\n      <td>M</td>\n      <td>NaN</td>\n      <td>Logan College Of Chiropractic</td>\n      <td>2011.0</td>\n      <td>Chiropractic</td>\n      <td>2110 Priest Bridge Dr Suite 6</td>\n      <td>Crofton</td>\n      <td>MD</td>\n      <td>211142472</td>\n      <td>NaN</td>\n      <td>NaN</td>\n    </tr>\n    <tr>\n      <th>19</th>\n      <td>1215256102</td>\n      <td>Robert D Bado</td>\n      <td>M</td>\n      <td>NaN</td>\n      <td>Other</td>\n      <td>1992.0</td>\n      <td>Chiropractic</td>\n      <td>3088 N Robert Rd</td>\n      <td>Prescott Valley</td>\n      <td>AZ</td>\n      <td>863148429</td>\n      <td>NaN</td>\n      <td>NaN</td>\n    </tr>\n    <tr>\n      <th>20</th>\n      <td>1215250444</td>\n      <td>Astrid  Hesse</td>\n      <td>F</td>\n      <td>NaN</td>\n      <td>Other</td>\n      <td>2008.0</td>\n      <td>Psychologist, Clinical</td>\n      <td>580 Roger Williams Ave Suite 22</td>\n      <td>Highland Park</td>\n      <td>IL</td>\n      <td>600354820</td>\n      <td>7.739683e+09</td>\n      <td>NaN</td>\n    </tr>\n    <tr>\n      <th>21</th>\n      <td>1215298823</td>\n      <td>Nader G Javan</td>\n      <td>M</td>\n      <td>NaN</td>\n      <td>Other</td>\n      <td>2012.0</td>\n      <td>Family Medicine</td>\n      <td>699 Harrisburg Pike Suite A</td>\n      <td>Columbus</td>\n      <td>OH</td>\n      <td>432232141</td>\n      <td>NaN</td>\n      <td>Riverside Methodist Hospital</td>\n    </tr>\n    <tr>\n      <th>22</th>\n      <td>1215258736</td>\n      <td>Michael G Azzam</td>\n      <td>M</td>\n      <td>NaN</td>\n      <td>Saint Louis University School Of Medicine</td>\n      <td>2010.0</td>\n      <td>Orthopedic Surgery</td>\n      <td>5200 W 94Th Ter Suite 113</td>\n      <td>Prairie Village</td>\n      <td>KS</td>\n      <td>662072522</td>\n      <td>NaN</td>\n      <td>Menorah Medical Center</td>\n    </tr>\n    <tr>\n      <th>23</th>\n      <td>1215167812</td>\n      <td>Vivian G Matti</td>\n      <td>F</td>\n      <td>NaN</td>\n      <td>Other</td>\n      <td>1998.0</td>\n      <td>Family Medicine</td>\n      <td>15819 Schoolcraft St</td>\n      <td>Detroit</td>\n      <td>MI</td>\n      <td>482271749</td>\n      <td>NaN</td>\n      <td>Ascension St John Hospital</td>\n    </tr>\n    <tr>\n      <th>24</th>\n      <td>1215265202</td>\n      <td>Ada  Colon Gavillan</td>\n      <td>F</td>\n      <td>NaN</td>\n      <td>Other</td>\n      <td>1982.0</td>\n      <td>Physical Therapy</td>\n      <td>8 Sucalle Flor Gerena</td>\n      <td>Humacao</td>\n      <td>PR</td>\n      <td>007913912</td>\n      <td>7.878501e+09</td>\n      <td>NaN</td>\n    </tr>\n    <tr>\n      <th>25</th>\n      <td>1215148457</td>\n      <td>Jaime F Rubio</td>\n      <td>M</td>\n      <td>NaN</td>\n      <td>Other</td>\n      <td>1985.0</td>\n      <td>General Practice</td>\n      <td>2114 Manatee Ave E</td>\n      <td>Bradenton</td>\n      <td>FL</td>\n      <td>342081660</td>\n      <td>NaN</td>\n      <td>NaN</td>\n    </tr>\n    <tr>\n      <th>26</th>\n      <td>1215221288</td>\n      <td>Nicholas B Chicoine</td>\n      <td>M</td>\n      <td>NaN</td>\n      <td>Other</td>\n      <td>2010.0</td>\n      <td>Chiropractic</td>\n      <td>833 Gordon Dr</td>\n      <td>Sioux City</td>\n      <td>IA</td>\n      <td>511011829</td>\n      <td>NaN</td>\n      <td>NaN</td>\n    </tr>\n    <tr>\n      <th>27</th>\n      <td>1215138391</td>\n      <td>Dale W Oneal</td>\n      <td>M</td>\n      <td>NaN</td>\n      <td>Other</td>\n      <td>1983.0</td>\n      <td>Psychologist, Clinical</td>\n      <td>366 San Miguel Dr Suite 309</td>\n      <td>Newport Beach</td>\n      <td>CA</td>\n      <td>926607810</td>\n      <td>9.494977e+09</td>\n      <td>NaN</td>\n    </tr>\n    <tr>\n      <th>28</th>\n      <td>1215354592</td>\n      <td>Abdelhalim Z Nada</td>\n      <td>M</td>\n      <td>NaN</td>\n      <td>Other</td>\n      <td>2013.0</td>\n      <td>Physical Therapy</td>\n      <td>427 Broadway Suite 3</td>\n      <td>Monticello</td>\n      <td>NY</td>\n      <td>127011743</td>\n      <td>NaN</td>\n      <td>NaN</td>\n    </tr>\n    <tr>\n      <th>29</th>\n      <td>1215239959</td>\n      <td>Cathy  Hains</td>\n      <td>F</td>\n      <td>NaN</td>\n      <td>Other</td>\n      <td>2010.0</td>\n      <td>Registered Dietitian Or Nutrition Professional</td>\n      <td>7116 Stinson Ave Suite A206</td>\n      <td>Gig Harbor</td>\n      <td>WA</td>\n      <td>983351100</td>\n      <td>2.532699e+09</td>\n      <td>NaN</td>\n    </tr>\n    <tr>\n      <th>30</th>\n      <td>1215310701</td>\n      <td>Almira  Tassone</td>\n      <td>F</td>\n      <td>NaN</td>\n      <td>Other</td>\n      <td>2014.0</td>\n      <td>Clinical Social Worker</td>\n      <td>24 Victory Rd</td>\n      <td>Suffern</td>\n      <td>NY</td>\n      <td>109013718</td>\n      <td>8.455585e+09</td>\n      <td>NaN</td>\n    </tr>\n    <tr>\n      <th>31</th>\n      <td>1215140306</td>\n      <td>Erica  Saltz</td>\n      <td>F</td>\n      <td>NaN</td>\n      <td>Other</td>\n      <td>1999.0</td>\n      <td>Clinical Social Worker</td>\n      <td>11 Tanglewood Dr</td>\n      <td>Smithtown</td>\n      <td>NY</td>\n      <td>117874952</td>\n      <td>6.462428e+09</td>\n      <td>NaN</td>\n    </tr>\n    <tr>\n      <th>32</th>\n      <td>1215137559</td>\n      <td>William  Appiah</td>\n      <td>M</td>\n      <td>NaN</td>\n      <td>Other</td>\n      <td>2004.0</td>\n      <td>Emergency Medicine</td>\n      <td>1007 Westheimer Rd Signaturecare Emergency Cen...</td>\n      <td>Houston</td>\n      <td>TX</td>\n      <td>770062724</td>\n      <td>NaN</td>\n      <td>NaN</td>\n    </tr>\n    <tr>\n      <th>33</th>\n      <td>1215134176</td>\n      <td>Mark E Patron</td>\n      <td>M</td>\n      <td>NaN</td>\n      <td>Tufts University School Of Medicine</td>\n      <td>2006.0</td>\n      <td>Ophthalmology</td>\n      <td>220 W 2Nd St</td>\n      <td>Goodland</td>\n      <td>KS</td>\n      <td>677351602</td>\n      <td>NaN</td>\n      <td>Goodland Regional Medical Center</td>\n    </tr>\n    <tr>\n      <th>34</th>\n      <td>1215140546</td>\n      <td>Douglas G Kimmey</td>\n      <td>M</td>\n      <td>NaN</td>\n      <td>Life Chiropractic College</td>\n      <td>1991.0</td>\n      <td>Chiropractic</td>\n      <td>5332 William Flynn Hwy</td>\n      <td>Gibsonia</td>\n      <td>PA</td>\n      <td>150449650</td>\n      <td>NaN</td>\n      <td>NaN</td>\n    </tr>\n    <tr>\n      <th>35</th>\n      <td>1215249479</td>\n      <td>Leslie W Cecil</td>\n      <td>F</td>\n      <td>NaN</td>\n      <td>University Alabama Birmingham  - School Of Opt...</td>\n      <td>2010.0</td>\n      <td>Optometry</td>\n      <td>633 N 3Rd St</td>\n      <td>Bardstown</td>\n      <td>KY</td>\n      <td>400041750</td>\n      <td>NaN</td>\n      <td>NaN</td>\n    </tr>\n    <tr>\n      <th>36</th>\n      <td>1215191846</td>\n      <td>Denise R Wong</td>\n      <td>F</td>\n      <td>NaN</td>\n      <td>Virginia Commonwealth Univ School Of Dentistry</td>\n      <td>2005.0</td>\n      <td>Otolaryngology</td>\n      <td>595 Buckingham Way Suite 324</td>\n      <td>San Francisco</td>\n      <td>CA</td>\n      <td>941321911</td>\n      <td>4.156652e+09</td>\n      <td>California Pacific Medical Center- Van Ness Ca...</td>\n    </tr>\n    <tr>\n      <th>37</th>\n      <td>1215236864</td>\n      <td>Nitie I Sroa</td>\n      <td>F</td>\n      <td>NaN</td>\n      <td>Kent State University College Of Podiatric Med...</td>\n      <td>2010.0</td>\n      <td>Podiatry</td>\n      <td>208 Columbus St Suite 200</td>\n      <td>Hicksville</td>\n      <td>OH</td>\n      <td>435261250</td>\n      <td>NaN</td>\n      <td>Community Memorial Hospital</td>\n    </tr>\n    <tr>\n      <th>38</th>\n      <td>1215150099</td>\n      <td>Ellen M Blau</td>\n      <td>F</td>\n      <td>CP</td>\n      <td>Other</td>\n      <td>1987.0</td>\n      <td>Psychologist, Clinical</td>\n      <td>3946 Sw Kenyon St</td>\n      <td>Seattle</td>\n      <td>WA</td>\n      <td>981362331</td>\n      <td>4.252762e+09</td>\n      <td>NaN</td>\n    </tr>\n    <tr>\n      <th>39</th>\n      <td>1215243621</td>\n      <td>Michelle  Castellanos Martin</td>\n      <td>F</td>\n      <td>NaN</td>\n      <td>Other</td>\n      <td>2014.0</td>\n      <td>Internal Medicine</td>\n      <td>80100 Calle Munoz Rivera Esq Molinillo</td>\n      <td>Carolina</td>\n      <td>PR</td>\n      <td>009856179</td>\n      <td>7.876263e+09</td>\n      <td>Doctor Center Hospital San Fernando De La Caro...</td>\n    </tr>\n    <tr>\n      <th>40</th>\n      <td>1215149240</td>\n      <td>Andrea D Heitz</td>\n      <td>F</td>\n      <td>NaN</td>\n      <td>Other</td>\n      <td>1999.0</td>\n      <td>Clinical Social Worker</td>\n      <td>219 N Indian Hill Blvd Suite 101</td>\n      <td>Claremont</td>\n      <td>CA</td>\n      <td>917114644</td>\n      <td>9.094385e+09</td>\n      <td>NaN</td>\n    </tr>\n    <tr>\n      <th>41</th>\n      <td>1215139076</td>\n      <td>Djimmer  Bosman</td>\n      <td>M</td>\n      <td>NaN</td>\n      <td>Other</td>\n      <td>1990.0</td>\n      <td>Physical Therapy</td>\n      <td>8101 E Belleview Ave Unit I</td>\n      <td>Denver</td>\n      <td>CO</td>\n      <td>802372998</td>\n      <td>NaN</td>\n      <td>NaN</td>\n    </tr>\n    <tr>\n      <th>42</th>\n      <td>1215343884</td>\n      <td>Valerie E Stone</td>\n      <td>F</td>\n      <td>NaN</td>\n      <td>Other</td>\n      <td>2017.0</td>\n      <td>Psychologist, Clinical</td>\n      <td>8241 W Pomona Dr</td>\n      <td>Arvada</td>\n      <td>CO</td>\n      <td>800052572</td>\n      <td>NaN</td>\n      <td>NaN</td>\n    </tr>\n    <tr>\n      <th>43</th>\n      <td>1215330949</td>\n      <td>Trista M Platz</td>\n      <td>F</td>\n      <td>NaN</td>\n      <td>Logan College Of Chiropractic</td>\n      <td>2014.0</td>\n      <td>Chiropractic</td>\n      <td>16231 W 14 Mile Rd Suite 100</td>\n      <td>Beverly Hills</td>\n      <td>MI</td>\n      <td>480253326</td>\n      <td>NaN</td>\n      <td>NaN</td>\n    </tr>\n    <tr>\n      <th>44</th>\n      <td>1215355276</td>\n      <td>Amber  Rakoczy</td>\n      <td>F</td>\n      <td>NaN</td>\n      <td>Other</td>\n      <td>2006.0</td>\n      <td>Clinical Social Worker</td>\n      <td>1095 Pingree Rd Suite 202</td>\n      <td>Crystal Lake</td>\n      <td>IL</td>\n      <td>600141727</td>\n      <td>NaN</td>\n      <td>NaN</td>\n    </tr>\n    <tr>\n      <th>45</th>\n      <td>1215248273</td>\n      <td>Mehboob  Ghulam</td>\n      <td>M</td>\n      <td>NaN</td>\n      <td>Other</td>\n      <td>2010.0</td>\n      <td>Internal Medicine</td>\n      <td>207 W Legion Rd</td>\n      <td>Brawley</td>\n      <td>CA</td>\n      <td>922277780</td>\n      <td>7.603513e+09</td>\n      <td>Pioneers Memorial Healthcare District</td>\n    </tr>\n    <tr>\n      <th>46</th>\n      <td>1215168943</td>\n      <td>Barbaraann F Dausend</td>\n      <td>F</td>\n      <td>NaN</td>\n      <td>Other</td>\n      <td>2005.0</td>\n      <td>Occupational Therapy</td>\n      <td>22983 N 104Th Ave</td>\n      <td>Peoria</td>\n      <td>AZ</td>\n      <td>853832764</td>\n      <td>NaN</td>\n      <td>NaN</td>\n    </tr>\n    <tr>\n      <th>47</th>\n      <td>1215328521</td>\n      <td>Thea L Koltz</td>\n      <td>F</td>\n      <td>NaN</td>\n      <td>Other</td>\n      <td>2014.0</td>\n      <td>Certified Registered Nurse Anesthetist (Crna)</td>\n      <td>19 Fontana Ln Suite 104</td>\n      <td>Baltimore</td>\n      <td>MD</td>\n      <td>212373027</td>\n      <td>NaN</td>\n      <td>University Of Maryland Medical Center</td>\n    </tr>\n    <tr>\n      <th>48</th>\n      <td>1215125927</td>\n      <td>Vanessa M Hagan</td>\n      <td>F</td>\n      <td>MD</td>\n      <td>Other</td>\n      <td>2001.0</td>\n      <td>Internal Medicine</td>\n      <td>4400 W 95Th St Suite 302</td>\n      <td>Oak Lawn</td>\n      <td>IL</td>\n      <td>604532659</td>\n      <td>NaN</td>\n      <td>Advocate Christ Hospital &amp; Medical Center</td>\n    </tr>\n    <tr>\n      <th>49</th>\n      <td>1215123161</td>\n      <td>Roberto E Osorio Manotas</td>\n      <td>M</td>\n      <td>NaN</td>\n      <td>Other</td>\n      <td>2002.0</td>\n      <td>Gastroenterology</td>\n      <td>100 Paseo San Pablo</td>\n      <td>Bayamon</td>\n      <td>PR</td>\n      <td>009617019</td>\n      <td>7.877804e+09</td>\n      <td>Hima San Pablo Bayamon</td>\n    </tr>\n  </tbody>\n</table>\n</div>"
     },
     "metadata": {}
    }
   ]
  },
  {
   "cell_type": "code",
   "metadata": {
    "tags": [],
    "deepnote_to_be_reexecuted": false,
    "source_hash": "e6ac3b12",
    "execution_start": 1645036495056,
    "execution_millis": 44,
    "cell_id": "00040-1867d523-e067-4381-9431-89dae4c0a260",
    "deepnote_cell_type": "code"
   },
   "source": "df_nodupes.to_csv('merged.csv')",
   "execution_count": null,
   "outputs": []
  },
  {
   "cell_type": "code",
   "metadata": {
    "tags": [],
    "deepnote_to_be_reexecuted": false,
    "source_hash": "d90c88e4",
    "execution_start": 1645036495101,
    "execution_millis": 43,
    "deepnote_output_heights": [
     21.1875
    ],
    "cell_id": "00041-d58ae435-53a3-4a74-9728-2b47bafde529",
    "deepnote_cell_type": "code"
   },
   "source": "df_nodupes.full_name.duplicated().sum()",
   "execution_count": null,
   "outputs": [
    {
     "output_type": "execute_result",
     "execution_count": 31,
     "data": {
      "text/plain": "2"
     },
     "metadata": {}
    }
   ]
  },
  {
   "cell_type": "code",
   "metadata": {
    "tags": [],
    "deepnote_to_be_reexecuted": false,
    "source_hash": "cf7e8a98",
    "execution_start": 1645036495169,
    "execution_millis": 383,
    "cell_id": "00042-66143e08-920d-4de2-8210-ed0cf0d2ba13",
    "deepnote_cell_type": "code"
   },
   "source": "df_nodupes.loc[df_nodupes.full_name.duplicated(),:]",
   "execution_count": null,
   "outputs": [
    {
     "output_type": "execute_result",
     "execution_count": 32,
     "data": {
      "application/vnd.deepnote.dataframe.v3+json": {
       "column_count": 13,
       "row_count": 2,
       "columns": [
        {
         "name": "NPI",
         "dtype": "int64",
         "stats": {
          "unique_count": 2,
          "nan_count": 0,
          "min": "1164652418",
          "max": "1184725897",
          "histogram": [
           {
            "bin_start": 1164652418,
            "bin_end": 1166659765.9,
            "count": 1
           },
           {
            "bin_start": 1166659765.9,
            "bin_end": 1168667113.8,
            "count": 0
           },
           {
            "bin_start": 1168667113.8,
            "bin_end": 1170674461.7,
            "count": 0
           },
           {
            "bin_start": 1170674461.7,
            "bin_end": 1172681809.6,
            "count": 0
           },
           {
            "bin_start": 1172681809.6,
            "bin_end": 1174689157.5,
            "count": 0
           },
           {
            "bin_start": 1174689157.5,
            "bin_end": 1176696505.4,
            "count": 0
           },
           {
            "bin_start": 1176696505.4,
            "bin_end": 1178703853.3,
            "count": 0
           },
           {
            "bin_start": 1178703853.3,
            "bin_end": 1180711201.2,
            "count": 0
           },
           {
            "bin_start": 1180711201.2,
            "bin_end": 1182718549.1,
            "count": 0
           },
           {
            "bin_start": 1182718549.1,
            "bin_end": 1184725897,
            "count": 1
           }
          ]
         }
        },
        {
         "name": "full_name",
         "dtype": "object",
         "stats": {
          "unique_count": 2,
          "nan_count": 0,
          "categories": [
           {
            "name": "Jeffrey A Miller ",
            "count": 1
           },
           {
            "name": "Sandeep  Gupta ",
            "count": 1
           }
          ]
         }
        },
        {
         "name": " gndr",
         "dtype": "object",
         "stats": {
          "unique_count": 1,
          "nan_count": 0,
          "categories": [
           {
            "name": "M",
            "count": 2
           }
          ]
         }
        },
        {
         "name": "Cred",
         "dtype": "object",
         "stats": {
          "unique_count": 1,
          "nan_count": 1,
          "categories": [
           {
            "name": "MD",
            "count": 1
           },
           {
            "name": "Missing",
            "count": 1
           }
          ]
         }
        },
        {
         "name": "Med_sch",
         "dtype": "object",
         "stats": {
          "unique_count": 2,
          "nan_count": 0,
          "categories": [
           {
            "name": "New York College Of Osteo Medicine Of New York Institute Of Technology",
            "count": 1
           },
           {
            "name": "Ohio State University College Of Medicine",
            "count": 1
           }
          ]
         }
        },
        {
         "name": "Grd_yr",
         "dtype": "float64",
         "stats": {
          "unique_count": 2,
          "nan_count": 0,
          "min": "1987.0",
          "max": "2009.0",
          "histogram": [
           {
            "bin_start": 1987,
            "bin_end": 1989.2,
            "count": 1
           },
           {
            "bin_start": 1989.2,
            "bin_end": 1991.4,
            "count": 0
           },
           {
            "bin_start": 1991.4,
            "bin_end": 1993.6,
            "count": 0
           },
           {
            "bin_start": 1993.6,
            "bin_end": 1995.8,
            "count": 0
           },
           {
            "bin_start": 1995.8,
            "bin_end": 1998,
            "count": 0
           },
           {
            "bin_start": 1998,
            "bin_end": 2000.2,
            "count": 0
           },
           {
            "bin_start": 2000.2,
            "bin_end": 2002.4,
            "count": 0
           },
           {
            "bin_start": 2002.4,
            "bin_end": 2004.6,
            "count": 0
           },
           {
            "bin_start": 2004.6,
            "bin_end": 2006.8,
            "count": 0
           },
           {
            "bin_start": 2006.8,
            "bin_end": 2009,
            "count": 1
           }
          ]
         }
        },
        {
         "name": "pri_spec",
         "dtype": "object",
         "stats": {
          "unique_count": 2,
          "nan_count": 0,
          "categories": [
           {
            "name": "Pulmonary Disease",
            "count": 1
           },
           {
            "name": "Psychiatry",
            "count": 1
           }
          ]
         }
        },
        {
         "name": "adr",
         "dtype": "object",
         "stats": {
          "unique_count": 2,
          "nan_count": 0,
          "categories": [
           {
            "name": "6 Brighton Rd Suite 106",
            "count": 1
           },
           {
            "name": "4447 Talmadge Rd ",
            "count": 1
           }
          ]
         }
        },
        {
         "name": "cty",
         "dtype": "object",
         "stats": {
          "unique_count": 2,
          "nan_count": 0,
          "categories": [
           {
            "name": "Clifton",
            "count": 1
           },
           {
            "name": "Toledo",
            "count": 1
           }
          ]
         }
        },
        {
         "name": "st",
         "dtype": "object",
         "stats": {
          "unique_count": 2,
          "nan_count": 0,
          "categories": [
           {
            "name": "NJ",
            "count": 1
           },
           {
            "name": "OH",
            "count": 1
           }
          ]
         }
        },
        {
         "name": "zip_x",
         "dtype": "object",
         "stats": {
          "unique_count": 2,
          "nan_count": 0,
          "categories": [
           {
            "name": "070121647",
            "count": 1
           },
           {
            "name": "436233500",
            "count": 1
           }
          ]
         }
        },
        {
         "name": "phn_numbr",
         "dtype": "float64",
         "stats": {
          "unique_count": 0,
          "nan_count": 2,
          "min": null,
          "max": null,
          "histogram": [
           {
            "bin_start": 0,
            "bin_end": 0.1,
            "count": 0
           },
           {
            "bin_start": 0.1,
            "bin_end": 0.2,
            "count": 0
           },
           {
            "bin_start": 0.2,
            "bin_end": 0.30000000000000004,
            "count": 0
           },
           {
            "bin_start": 0.30000000000000004,
            "bin_end": 0.4,
            "count": 0
           },
           {
            "bin_start": 0.4,
            "bin_end": 0.5,
            "count": 0
           },
           {
            "bin_start": 0.5,
            "bin_end": 0.6000000000000001,
            "count": 0
           },
           {
            "bin_start": 0.6000000000000001,
            "bin_end": 0.7000000000000001,
            "count": 0
           },
           {
            "bin_start": 0.7000000000000001,
            "bin_end": 0.8,
            "count": 0
           },
           {
            "bin_start": 0.8,
            "bin_end": 0.9,
            "count": 0
           },
           {
            "bin_start": 0.9,
            "bin_end": 1,
            "count": 0
           }
          ]
         }
        },
        {
         "name": "hosp_afl_lbn_1",
         "dtype": "object",
         "stats": {
          "unique_count": 1,
          "nan_count": 1,
          "categories": [
           {
            "name": "Saint Barnabas Medical Center",
            "count": 1
           },
           {
            "name": "Missing",
            "count": 1
           }
          ]
         }
        },
        {
         "name": "_deepnote_index_column",
         "dtype": "int64"
        }
       ],
       "rows": [
        {
         "NPI": 1184725897,
         "full_name": "Jeffrey A Miller ",
         " gndr": "M",
         "Cred": "MD",
         "Med_sch": "New York College Of Osteo Medicine Of New York Institute Of Technology",
         "Grd_yr": 1987,
         "pri_spec": "Pulmonary Disease",
         "adr": "6 Brighton Rd Suite 106",
         "cty": "Clifton",
         "st": "NJ",
         "zip_x": "070121647",
         "phn_numbr": "nan",
         "hosp_afl_lbn_1": "Saint Barnabas Medical Center",
         "_deepnote_index_column": 4181
        },
        {
         "NPI": 1164652418,
         "full_name": "Sandeep  Gupta ",
         " gndr": "M",
         "Cred": "nan",
         "Med_sch": "Ohio State University College Of Medicine",
         "Grd_yr": 2009,
         "pri_spec": "Psychiatry",
         "adr": "4447 Talmadge Rd ",
         "cty": "Toledo",
         "st": "OH",
         "zip_x": "436233500",
         "phn_numbr": "nan",
         "hosp_afl_lbn_1": "nan",
         "_deepnote_index_column": 7358
        }
       ]
      },
      "text/plain": "             NPI          full_name  gndr Cred  \\\n4181  1184725897  Jeffrey A Miller      M   MD   \n7358  1164652418    Sandeep  Gupta      M  NaN   \n\n                                                Med_sch  Grd_yr  \\\n4181  New York College Of Osteo Medicine Of New York...  1987.0   \n7358          Ohio State University College Of Medicine  2009.0   \n\n               pri_spec                      adr      cty  st      zip_x  \\\n4181  Pulmonary Disease  6 Brighton Rd Suite 106  Clifton  NJ  070121647   \n7358         Psychiatry        4447 Talmadge Rd    Toledo  OH  436233500   \n\n      phn_numbr                 hosp_afl_lbn_1  \n4181        NaN  Saint Barnabas Medical Center  \n7358        NaN                            NaN  ",
      "text/html": "<div>\n<style scoped>\n    .dataframe tbody tr th:only-of-type {\n        vertical-align: middle;\n    }\n\n    .dataframe tbody tr th {\n        vertical-align: top;\n    }\n\n    .dataframe thead th {\n        text-align: right;\n    }\n</style>\n<table border=\"1\" class=\"dataframe\">\n  <thead>\n    <tr style=\"text-align: right;\">\n      <th></th>\n      <th>NPI</th>\n      <th>full_name</th>\n      <th>gndr</th>\n      <th>Cred</th>\n      <th>Med_sch</th>\n      <th>Grd_yr</th>\n      <th>pri_spec</th>\n      <th>adr</th>\n      <th>cty</th>\n      <th>st</th>\n      <th>zip_x</th>\n      <th>phn_numbr</th>\n      <th>hosp_afl_lbn_1</th>\n    </tr>\n  </thead>\n  <tbody>\n    <tr>\n      <th>4181</th>\n      <td>1184725897</td>\n      <td>Jeffrey A Miller</td>\n      <td>M</td>\n      <td>MD</td>\n      <td>New York College Of Osteo Medicine Of New York...</td>\n      <td>1987.0</td>\n      <td>Pulmonary Disease</td>\n      <td>6 Brighton Rd Suite 106</td>\n      <td>Clifton</td>\n      <td>NJ</td>\n      <td>070121647</td>\n      <td>NaN</td>\n      <td>Saint Barnabas Medical Center</td>\n    </tr>\n    <tr>\n      <th>7358</th>\n      <td>1164652418</td>\n      <td>Sandeep  Gupta</td>\n      <td>M</td>\n      <td>NaN</td>\n      <td>Ohio State University College Of Medicine</td>\n      <td>2009.0</td>\n      <td>Psychiatry</td>\n      <td>4447 Talmadge Rd</td>\n      <td>Toledo</td>\n      <td>OH</td>\n      <td>436233500</td>\n      <td>NaN</td>\n      <td>NaN</td>\n    </tr>\n  </tbody>\n</table>\n</div>"
     },
     "metadata": {}
    }
   ]
  },
  {
   "cell_type": "markdown",
   "source": "# How Many Matches Were There?",
   "metadata": {
    "tags": [],
    "is_collapsed": false,
    "deepnote_app_coordinates": {
     "x": 0,
     "y": 102,
     "w": 12,
     "h": 6
    },
    "cell_id": "00043-c85aee6f-5f04-4593-b3e1-f2f033657869",
    "deepnote_cell_type": "text-cell-h1"
   }
  },
  {
   "cell_type": "code",
   "metadata": {
    "tags": [],
    "deepnote_to_be_reexecuted": false,
    "source_hash": "81b7934e",
    "execution_start": 1645036495230,
    "execution_millis": 47280730,
    "deepnote_output_heights": [
     21.1875,
     21.1875
    ],
    "deepnote_app_coordinates": {
     "x": 0,
     "y": 115,
     "w": 12,
     "h": 15
    },
    "cell_id": "00044-c3d00104-c1cf-4ee9-b128-b5e5d7fd3e56",
    "deepnote_cell_type": "code"
   },
   "source": "import numpy as np\nbefore = df_all.shape[0]\nafter = df_nodupes.shape[0]\n  \nprint (\"Before Eliminating Duplicates : \", before)\nprint (\"After Eliminating Duplicates : \", after)\n    \nmatched = np.subtract(before, after) \nprint (\"Total Matched : \", matched) \n\nm = np.divide(matched,before)\npercentage = \"{:.0%}\". format(m)\nprint (\"Percent Matched: \",percentage)",
   "execution_count": null,
   "outputs": [
    {
     "name": "stdout",
     "text": "Before Eliminating Duplicates :  10000\nAfter Eliminating Duplicates :  8979\nTotal Matched :  1021\nPercent Matched:  10%\n",
     "output_type": "stream"
    }
   ]
  },
  {
   "cell_type": "markdown",
   "source": "# Visualization of Data",
   "metadata": {
    "tags": [],
    "is_collapsed": false,
    "deepnote_app_coordinates": {
     "x": 0,
     "y": 131,
     "w": 12,
     "h": 4
    },
    "cell_id": "00045-1500f45b-8c7e-4e7e-84aa-35987a69fa59",
    "deepnote_cell_type": "text-cell-h1"
   }
  },
  {
   "cell_type": "code",
   "metadata": {
    "tags": [],
    "deepnote_to_be_reexecuted": false,
    "source_hash": "87d15b2e",
    "execution_start": 1645036495230,
    "execution_millis": 325,
    "deepnote_table_state": {
     "pageSize": 10,
     "pageIndex": 3,
     "filters": [],
     "sortBy": []
    },
    "deepnote_table_loading": false,
    "cell_id": "00046-679c0ee9-427b-4d8c-b48e-617d4fadaea7",
    "deepnote_cell_type": "code"
   },
   "source": "#looking at all of the categories\ndf_nodupes.head(n=10000)",
   "execution_count": null,
   "outputs": [
    {
     "output_type": "execute_result",
     "execution_count": 34,
     "data": {
      "application/vnd.deepnote.dataframe.v3+json": {
       "column_count": 13,
       "row_count": 8979,
       "columns": [
        {
         "name": "NPI",
         "dtype": "int64",
         "stats": {
          "unique_count": 8979,
          "nan_count": 0,
          "min": "1154356152",
          "max": "1215356100",
          "histogram": [
           {
            "bin_start": 1154356152,
            "bin_end": 1160456146.8,
            "count": 605
           },
           {
            "bin_start": 1160456146.8,
            "bin_end": 1166556141.6,
            "count": 1578
           },
           {
            "bin_start": 1166556141.6,
            "bin_end": 1172656136.4,
            "count": 0
           },
           {
            "bin_start": 1172656136.4,
            "bin_end": 1178756131.2,
            "count": 1493
           },
           {
            "bin_start": 1178756131.2,
            "bin_end": 1184856126,
            "count": 1361
           },
           {
            "bin_start": 1184856126,
            "bin_end": 1190956120.8,
            "count": 188
           },
           {
            "bin_start": 1190956120.8,
            "bin_end": 1197056115.6,
            "count": 1483
           },
           {
            "bin_start": 1197056115.6,
            "bin_end": 1203156110.4,
            "count": 0
           },
           {
            "bin_start": 1203156110.4,
            "bin_end": 1209256105.2,
            "count": 1467
           },
           {
            "bin_start": 1209256105.2,
            "bin_end": 1215356100,
            "count": 804
           }
          ]
         }
        },
        {
         "name": "full_name",
         "dtype": "object",
         "stats": {
          "unique_count": 8977,
          "nan_count": 0,
          "categories": [
           {
            "name": "Sandeep  Gupta ",
            "count": 2
           },
           {
            "name": "Jeffrey A Miller ",
            "count": 2
           },
           {
            "name": "8975 others",
            "count": 8975
           }
          ]
         }
        },
        {
         "name": " gndr",
         "dtype": "object",
         "stats": {
          "unique_count": 2,
          "nan_count": 0,
          "categories": [
           {
            "name": "M",
            "count": 5535
           },
           {
            "name": "F",
            "count": 3444
           }
          ]
         }
        },
        {
         "name": "Cred",
         "dtype": "object",
         "stats": {
          "unique_count": 19,
          "nan_count": 5817,
          "categories": [
           {
            "name": "MD",
            "count": 1509
           },
           {
            "name": "18 others",
            "count": 1653
           },
           {
            "name": "Missing",
            "count": 5817
           }
          ]
         }
        },
        {
         "name": "Med_sch",
         "dtype": "object",
         "stats": {
          "unique_count": 252,
          "nan_count": 0,
          "categories": [
           {
            "name": "Other",
            "count": 4712
           },
           {
            "name": "Palmer College Chiropractic - Davenport",
            "count": 246
           },
           {
            "name": "250 others",
            "count": 4021
           }
          ]
         }
        },
        {
         "name": "Grd_yr",
         "dtype": "float64",
         "stats": {
          "unique_count": 68,
          "nan_count": 5,
          "min": "1951.0",
          "max": "2021.0",
          "histogram": [
           {
            "bin_start": 1951,
            "bin_end": 1958,
            "count": 7
           },
           {
            "bin_start": 1958,
            "bin_end": 1965,
            "count": 65
           },
           {
            "bin_start": 1965,
            "bin_end": 1972,
            "count": 287
           },
           {
            "bin_start": 1972,
            "bin_end": 1979,
            "count": 785
           },
           {
            "bin_start": 1979,
            "bin_end": 1986,
            "count": 1433
           },
           {
            "bin_start": 1986,
            "bin_end": 1993,
            "count": 1582
           },
           {
            "bin_start": 1993,
            "bin_end": 2000,
            "count": 1643
           },
           {
            "bin_start": 2000,
            "bin_end": 2007,
            "count": 1381
           },
           {
            "bin_start": 2007,
            "bin_end": 2014,
            "count": 1168
           },
           {
            "bin_start": 2014,
            "bin_end": 2021,
            "count": 623
           }
          ]
         }
        },
        {
         "name": "pri_spec",
         "dtype": "object",
         "stats": {
          "unique_count": 77,
          "nan_count": 0,
          "categories": [
           {
            "name": "Chiropractic",
            "count": 1586
           },
           {
            "name": "Clinical Social Worker",
            "count": 1020
           },
           {
            "name": "75 others",
            "count": 6373
           }
          ]
         }
        },
        {
         "name": "adr",
         "dtype": "object",
         "stats": {
          "unique_count": 8895,
          "nan_count": 0,
          "categories": [
           {
            "name": "1216 2Nd St Sw ",
            "count": 13
           },
           {
            "name": "8700 Beverly Blvd ",
            "count": 4
           },
           {
            "name": "8893 others",
            "count": 8962
           }
          ]
         }
        },
        {
         "name": "cty",
         "dtype": "object",
         "stats": {
          "unique_count": 2961,
          "nan_count": 0,
          "categories": [
           {
            "name": "New York",
            "count": 151
           },
           {
            "name": "Brooklyn",
            "count": 86
           },
           {
            "name": "2959 others",
            "count": 8742
           }
          ]
         }
        },
        {
         "name": "st",
         "dtype": "object",
         "stats": {
          "unique_count": 54,
          "nan_count": 0,
          "categories": [
           {
            "name": "CA",
            "count": 1170
           },
           {
            "name": "NY",
            "count": 846
           },
           {
            "name": "52 others",
            "count": 6963
           }
          ]
         }
        },
        {
         "name": "zip_x",
         "dtype": "object",
         "stats": {
          "unique_count": 8751,
          "nan_count": 0,
          "categories": [
           {
            "name": "559021906",
            "count": 13
           },
           {
            "name": "00680",
            "count": 8
           },
           {
            "name": "8749 others",
            "count": 8958
           }
          ]
         }
        },
        {
         "name": "phn_numbr",
         "dtype": "float64"
        },
        {
         "name": "hosp_afl_lbn_1",
         "dtype": "object"
        },
        {
         "name": "_deepnote_index_column",
         "dtype": "int64"
        }
       ],
       "rows": [
        {
         "NPI": 1215310701,
         "full_name": "Almira  Tassone ",
         " gndr": "F",
         "Cred": "nan",
         "Med_sch": "Other",
         "Grd_yr": 2014,
         "pri_spec": "Clinical Social Worker",
         "adr": "24 Victory Rd ",
         "cty": "Suffern",
         "st": "NY",
         "zip_x": "109013718",
         "phn_numbr": 8455584686,
         "hosp_afl_lbn_1": "nan",
         "_deepnote_index_column": 30
        },
        {
         "NPI": 1215140306,
         "full_name": "Erica  Saltz ",
         " gndr": "F",
         "Cred": "nan",
         "Med_sch": "Other",
         "Grd_yr": 1999,
         "pri_spec": "Clinical Social Worker",
         "adr": "11 Tanglewood Dr ",
         "cty": "Smithtown",
         "st": "NY",
         "zip_x": "117874952",
         "phn_numbr": 6462427902,
         "hosp_afl_lbn_1": "nan",
         "_deepnote_index_column": 31
        },
        {
         "NPI": 1215137559,
         "full_name": "William  Appiah ",
         " gndr": "M",
         "Cred": "nan",
         "Med_sch": "Other",
         "Grd_yr": 2004,
         "pri_spec": "Emergency Medicine",
         "adr": "1007 Westheimer Rd Signaturecare Emergency Center Montrose",
         "cty": "Houston",
         "st": "TX",
         "zip_x": "770062724",
         "phn_numbr": "nan",
         "hosp_afl_lbn_1": "nan",
         "_deepnote_index_column": 32
        },
        {
         "NPI": 1215134176,
         "full_name": "Mark E Patron ",
         " gndr": "M",
         "Cred": "nan",
         "Med_sch": "Tufts University School Of Medicine",
         "Grd_yr": 2006,
         "pri_spec": "Ophthalmology",
         "adr": "220 W 2Nd St ",
         "cty": "Goodland",
         "st": "KS",
         "zip_x": "677351602",
         "phn_numbr": "nan",
         "hosp_afl_lbn_1": "Goodland Regional Medical Center",
         "_deepnote_index_column": 33
        },
        {
         "NPI": 1215140546,
         "full_name": "Douglas G Kimmey ",
         " gndr": "M",
         "Cred": "nan",
         "Med_sch": "Life Chiropractic College",
         "Grd_yr": 1991,
         "pri_spec": "Chiropractic",
         "adr": "5332 William Flynn Hwy ",
         "cty": "Gibsonia",
         "st": "PA",
         "zip_x": "150449650",
         "phn_numbr": "nan",
         "hosp_afl_lbn_1": "nan",
         "_deepnote_index_column": 34
        },
        {
         "NPI": 1215249479,
         "full_name": "Leslie W Cecil ",
         " gndr": "F",
         "Cred": "nan",
         "Med_sch": "University Alabama Birmingham  - School Of Optometry",
         "Grd_yr": 2010,
         "pri_spec": "Optometry",
         "adr": "633 N 3Rd St ",
         "cty": "Bardstown",
         "st": "KY",
         "zip_x": "400041750",
         "phn_numbr": "nan",
         "hosp_afl_lbn_1": "nan",
         "_deepnote_index_column": 35
        },
        {
         "NPI": 1215191846,
         "full_name": "Denise R Wong ",
         " gndr": "F",
         "Cred": "nan",
         "Med_sch": "Virginia Commonwealth Univ School Of Dentistry",
         "Grd_yr": 2005,
         "pri_spec": "Otolaryngology",
         "adr": "595 Buckingham Way Suite 324",
         "cty": "San Francisco",
         "st": "CA",
         "zip_x": "941321911",
         "phn_numbr": 4156651877,
         "hosp_afl_lbn_1": "California Pacific Medical Center- Van Ness Campus",
         "_deepnote_index_column": 36
        },
        {
         "NPI": 1215236864,
         "full_name": "Nitie I Sroa ",
         " gndr": "F",
         "Cred": "nan",
         "Med_sch": "Kent State University College Of Podiatric Medicine",
         "Grd_yr": 2010,
         "pri_spec": "Podiatry",
         "adr": "208 Columbus St Suite 200",
         "cty": "Hicksville",
         "st": "OH",
         "zip_x": "435261250",
         "phn_numbr": "nan",
         "hosp_afl_lbn_1": "Community Memorial Hospital",
         "_deepnote_index_column": 37
        },
        {
         "NPI": 1215150099,
         "full_name": "Ellen M Blau ",
         " gndr": "F",
         "Cred": "CP",
         "Med_sch": "Other",
         "Grd_yr": 1987,
         "pri_spec": "Psychologist, Clinical",
         "adr": "3946 Sw Kenyon St ",
         "cty": "Seattle",
         "st": "WA",
         "zip_x": "981362331",
         "phn_numbr": 4252761776,
         "hosp_afl_lbn_1": "nan",
         "_deepnote_index_column": 38
        },
        {
         "NPI": 1215243621,
         "full_name": "Michelle  Castellanos Martin ",
         " gndr": "F",
         "Cred": "nan",
         "Med_sch": "Other",
         "Grd_yr": 2014,
         "pri_spec": "Internal Medicine",
         "adr": "80100 Calle Munoz Rivera Esq Molinillo",
         "cty": "Carolina",
         "st": "PR",
         "zip_x": "009856179",
         "phn_numbr": 7876263322,
         "hosp_afl_lbn_1": "Doctor Center Hospital San Fernando De La Carolina",
         "_deepnote_index_column": 39
        }
       ]
      },
      "text/plain": "             NPI                 full_name  gndr Cred  \\\n0     1215321872            Eve  Masiello      F  NaN   \n1     1215195664         Celestina N Duru      F  NaN   \n2     1215188925         Reza  Keshavarzi      M  NaN   \n3     1215138714            Anthony  Pham      M  NaN   \n4     1215127840  Marcia E Nelson Vancini      F  CNS   \n...          ...                       ...   ...  ...   \n8974  1154398477          Richard S Faulk      M  NaN   \n8975  1154405488   Maria E Chirino-Socias      F  NaN   \n8976  1154377315             Alex A Lazar      M   MD   \n8977  1154359230          Vasif A Humayun      M   MD   \n8978  1154376473          Richard S Feher      M  NaN   \n\n                                                Med_sch  Grd_yr  \\\n0                                                 Other  1982.0   \n1                New York College Of Podiatric Medicine  2007.0   \n2            University Of Kentucky College Of Medicine  2005.0   \n3     University Of North Texas Hsc, College Of Oste...  2003.0   \n4                                                 Other  2002.0   \n...                                                 ...     ...   \n8974  Medical University Of South Carolina College O...  1993.0   \n8975  University Central Del Caribe Escuela De Medicina  1992.0   \n8976             New York University School Of Medicine  1996.0   \n8977                                              Other  1984.0   \n8978            Palmer College Chiropractic - Davenport  1993.0   \n\n                                       pri_spec  \\\n0                        Clinical Social Worker   \n1                                      Podiatry   \n2                               General Surgery   \n3          Physical Medicine And Rehabilitation   \n4     Certified Clinical Nurse Specialist (Cns)   \n...                                         ...   \n8974                                 Psychiatry   \n8975                               Rheumatology   \n8976                                 Psychiatry   \n8977                          Internal Medicine   \n8978                               Chiropractic   \n\n                                     adr              cty  st      zip_x  \\\n0                          120 Court St          Plymouth  MA  023603826   \n1               2000 Esters Rd Suite 104           Irving  TX  750619580   \n2              7330 Sw 62Nd Pl Suite 210      South Miami  FL  331434825   \n3              11799 Beechnut St Suite A          Houston  TX  770724116   \n4                       2 Brentwood Cir           Andover  MA  018105129   \n...                                  ...              ...  ..        ...   \n8974  2601 E Oakland Park Blvd Suite 207  Fort Lauderdale  FL  333061658   \n8975  690 Calle Cesar Gonzalez Suite 500         San Juan  PR  009183917   \n8976        16055 Ventura Blvd Suite 601           Encino  CA  914362618   \n8977               11410 E Fwy Suite 168          Houston  TX  770291986   \n8978          5005 John Stockbauer Dr B          Victoria  TX  779041901   \n\n         phn_numbr             hosp_afl_lbn_1  \n0     7.817107e+09                        NaN  \n1              NaN                        NaN  \n2              NaN                        NaN  \n3              NaN                        NaN  \n4     9.783359e+09  Lawrence General Hospital  \n...            ...                        ...  \n8974           NaN                        NaN  \n8975  7.877535e+09     Auxilio Mutuo Hospital  \n8976           NaN                        NaN  \n8977           NaN                        NaN  \n8978  3.615769e+09                        NaN  \n\n[8979 rows x 13 columns]",
      "text/html": "<div>\n<style scoped>\n    .dataframe tbody tr th:only-of-type {\n        vertical-align: middle;\n    }\n\n    .dataframe tbody tr th {\n        vertical-align: top;\n    }\n\n    .dataframe thead th {\n        text-align: right;\n    }\n</style>\n<table border=\"1\" class=\"dataframe\">\n  <thead>\n    <tr style=\"text-align: right;\">\n      <th></th>\n      <th>NPI</th>\n      <th>full_name</th>\n      <th>gndr</th>\n      <th>Cred</th>\n      <th>Med_sch</th>\n      <th>Grd_yr</th>\n      <th>pri_spec</th>\n      <th>adr</th>\n      <th>cty</th>\n      <th>st</th>\n      <th>zip_x</th>\n      <th>phn_numbr</th>\n      <th>hosp_afl_lbn_1</th>\n    </tr>\n  </thead>\n  <tbody>\n    <tr>\n      <th>0</th>\n      <td>1215321872</td>\n      <td>Eve  Masiello</td>\n      <td>F</td>\n      <td>NaN</td>\n      <td>Other</td>\n      <td>1982.0</td>\n      <td>Clinical Social Worker</td>\n      <td>120 Court St</td>\n      <td>Plymouth</td>\n      <td>MA</td>\n      <td>023603826</td>\n      <td>7.817107e+09</td>\n      <td>NaN</td>\n    </tr>\n    <tr>\n      <th>1</th>\n      <td>1215195664</td>\n      <td>Celestina N Duru</td>\n      <td>F</td>\n      <td>NaN</td>\n      <td>New York College Of Podiatric Medicine</td>\n      <td>2007.0</td>\n      <td>Podiatry</td>\n      <td>2000 Esters Rd Suite 104</td>\n      <td>Irving</td>\n      <td>TX</td>\n      <td>750619580</td>\n      <td>NaN</td>\n      <td>NaN</td>\n    </tr>\n    <tr>\n      <th>2</th>\n      <td>1215188925</td>\n      <td>Reza  Keshavarzi</td>\n      <td>M</td>\n      <td>NaN</td>\n      <td>University Of Kentucky College Of Medicine</td>\n      <td>2005.0</td>\n      <td>General Surgery</td>\n      <td>7330 Sw 62Nd Pl Suite 210</td>\n      <td>South Miami</td>\n      <td>FL</td>\n      <td>331434825</td>\n      <td>NaN</td>\n      <td>NaN</td>\n    </tr>\n    <tr>\n      <th>3</th>\n      <td>1215138714</td>\n      <td>Anthony  Pham</td>\n      <td>M</td>\n      <td>NaN</td>\n      <td>University Of North Texas Hsc, College Of Oste...</td>\n      <td>2003.0</td>\n      <td>Physical Medicine And Rehabilitation</td>\n      <td>11799 Beechnut St Suite A</td>\n      <td>Houston</td>\n      <td>TX</td>\n      <td>770724116</td>\n      <td>NaN</td>\n      <td>NaN</td>\n    </tr>\n    <tr>\n      <th>4</th>\n      <td>1215127840</td>\n      <td>Marcia E Nelson Vancini</td>\n      <td>F</td>\n      <td>CNS</td>\n      <td>Other</td>\n      <td>2002.0</td>\n      <td>Certified Clinical Nurse Specialist (Cns)</td>\n      <td>2 Brentwood Cir</td>\n      <td>Andover</td>\n      <td>MA</td>\n      <td>018105129</td>\n      <td>9.783359e+09</td>\n      <td>Lawrence General Hospital</td>\n    </tr>\n    <tr>\n      <th>...</th>\n      <td>...</td>\n      <td>...</td>\n      <td>...</td>\n      <td>...</td>\n      <td>...</td>\n      <td>...</td>\n      <td>...</td>\n      <td>...</td>\n      <td>...</td>\n      <td>...</td>\n      <td>...</td>\n      <td>...</td>\n      <td>...</td>\n    </tr>\n    <tr>\n      <th>8974</th>\n      <td>1154398477</td>\n      <td>Richard S Faulk</td>\n      <td>M</td>\n      <td>NaN</td>\n      <td>Medical University Of South Carolina College O...</td>\n      <td>1993.0</td>\n      <td>Psychiatry</td>\n      <td>2601 E Oakland Park Blvd Suite 207</td>\n      <td>Fort Lauderdale</td>\n      <td>FL</td>\n      <td>333061658</td>\n      <td>NaN</td>\n      <td>NaN</td>\n    </tr>\n    <tr>\n      <th>8975</th>\n      <td>1154405488</td>\n      <td>Maria E Chirino-Socias</td>\n      <td>F</td>\n      <td>NaN</td>\n      <td>University Central Del Caribe Escuela De Medicina</td>\n      <td>1992.0</td>\n      <td>Rheumatology</td>\n      <td>690 Calle Cesar Gonzalez Suite 500</td>\n      <td>San Juan</td>\n      <td>PR</td>\n      <td>009183917</td>\n      <td>7.877535e+09</td>\n      <td>Auxilio Mutuo Hospital</td>\n    </tr>\n    <tr>\n      <th>8976</th>\n      <td>1154377315</td>\n      <td>Alex A Lazar</td>\n      <td>M</td>\n      <td>MD</td>\n      <td>New York University School Of Medicine</td>\n      <td>1996.0</td>\n      <td>Psychiatry</td>\n      <td>16055 Ventura Blvd Suite 601</td>\n      <td>Encino</td>\n      <td>CA</td>\n      <td>914362618</td>\n      <td>NaN</td>\n      <td>NaN</td>\n    </tr>\n    <tr>\n      <th>8977</th>\n      <td>1154359230</td>\n      <td>Vasif A Humayun</td>\n      <td>M</td>\n      <td>MD</td>\n      <td>Other</td>\n      <td>1984.0</td>\n      <td>Internal Medicine</td>\n      <td>11410 E Fwy Suite 168</td>\n      <td>Houston</td>\n      <td>TX</td>\n      <td>770291986</td>\n      <td>NaN</td>\n      <td>NaN</td>\n    </tr>\n    <tr>\n      <th>8978</th>\n      <td>1154376473</td>\n      <td>Richard S Feher</td>\n      <td>M</td>\n      <td>NaN</td>\n      <td>Palmer College Chiropractic - Davenport</td>\n      <td>1993.0</td>\n      <td>Chiropractic</td>\n      <td>5005 John Stockbauer Dr B</td>\n      <td>Victoria</td>\n      <td>TX</td>\n      <td>779041901</td>\n      <td>3.615769e+09</td>\n      <td>NaN</td>\n    </tr>\n  </tbody>\n</table>\n<p>8979 rows × 13 columns</p>\n</div>"
     },
     "metadata": {}
    }
   ]
  },
  {
   "cell_type": "code",
   "metadata": {
    "tags": [],
    "deepnote_to_be_reexecuted": false,
    "source_hash": "a470d667",
    "execution_start": 1645036495416,
    "execution_millis": 140,
    "deepnote_output_heights": [
     21.1875
    ],
    "cell_id": "00047-7f6aa5fc-55b1-42b4-a280-7c90a65de5fc",
    "deepnote_cell_type": "code"
   },
   "source": "# get top 10 most frequent states\nn = 10\npop_states = df_nodupes['st'].value_counts()[:n].index.tolist()\npop_states",
   "execution_count": null,
   "outputs": [
    {
     "output_type": "execute_result",
     "execution_count": 35,
     "data": {
      "text/plain": "['CA', 'NY', 'TX', 'FL', 'NJ', 'IL', 'MI', 'PA', 'MA', 'PR']"
     },
     "metadata": {}
    }
   ]
  },
  {
   "cell_type": "markdown",
   "source": "Top States in the Dataset",
   "metadata": {
    "tags": [],
    "is_collapsed": false,
    "deepnote_app_coordinates": {
     "x": 0,
     "y": 135,
     "w": 8,
     "h": 2
    },
    "cell_id": "00048-ba86f852-c754-4d93-94e7-653c0f09242d",
    "deepnote_cell_type": "text-cell-p"
   }
  },
  {
   "cell_type": "code",
   "metadata": {
    "tags": [],
    "deepnote_to_be_reexecuted": false,
    "source_hash": "f3939e97",
    "execution_start": 1645036495418,
    "execution_millis": 2597,
    "deepnote_output_heights": [
     null,
     215
    ],
    "deepnote_app_is_code_hidden": true,
    "deepnote_app_coordinates": {
     "x": 0,
     "y": 137,
     "w": 10,
     "h": 16
    },
    "cell_id": "00049-b70914ee-9519-46c7-9a50-b10852d9c9be",
    "deepnote_cell_type": "code"
   },
   "source": "import matplotlib.pyplot as plt\nimport seaborn as sns\nstates = sns.countplot(x='st', data=df_nodupes,order=df_nodupes.st.value_counts()[:10].index)\nstates.set_xlabel('states')\nstates.set_ylabel('frequency in dataset')\nstates.set_title('Top States in the Dataset')",
   "execution_count": null,
   "outputs": [
    {
     "output_type": "execute_result",
     "execution_count": 36,
     "data": {
      "text/plain": "Text(0.5, 1.0, 'Top States in the Dataset')"
     },
     "metadata": {}
    },
    {
     "data": {
      "text/plain": "<Figure size 432x288 with 1 Axes>",
      "image/png": "[encoded data removed]"
     },
     "metadata": {
      "needs_background": "light",
      "image/png": {
       "width": 395,
       "height": 278
      }
     },
     "output_type": "display_data"
    }
   ]
  },
  {
   "cell_type": "code",
   "metadata": {
    "tags": [],
    "deepnote_to_be_reexecuted": false,
    "source_hash": "6a77453d",
    "execution_start": 1645036498021,
    "execution_millis": 4,
    "cell_id": "00050-86f880d2-8eec-4fd5-97a6-8f4b6c9d4bc3",
    "deepnote_cell_type": "code"
   },
   "source": "import matplotlib.pyplot as plt",
   "execution_count": null,
   "outputs": []
  },
  {
   "cell_type": "markdown",
   "source": "Male to Female Ratio of Dataset",
   "metadata": {
    "tags": [],
    "is_collapsed": false,
    "deepnote_app_coordinates": {
     "x": 0,
     "y": 157,
     "w": 8,
     "h": 2
    },
    "cell_id": "00051-4995fdb3-a607-4fde-a2af-a1c389908ff3",
    "deepnote_cell_type": "text-cell-p"
   }
  },
  {
   "cell_type": "code",
   "metadata": {
    "tags": [],
    "deepnote_to_be_reexecuted": false,
    "source_hash": "3dc04809",
    "execution_start": 1645036498069,
    "execution_millis": 138,
    "deepnote_output_heights": [
     null,
     249
    ],
    "deepnote_app_is_code_hidden": true,
    "deepnote_app_coordinates": {
     "x": 0,
     "y": 160,
     "w": 7,
     "h": 14
    },
    "cell_id": "00052-0a30dc21-1a10-48ce-bb46-6dd867c18cf3",
    "deepnote_cell_type": "code"
   },
   "source": "gender_diff = df_nodupes[' gndr']. value_counts() \nplt.pie(gender_diff,labels=['Male','Female'], autopct='%1.0f%%', pctdistance=1.1, labeldistance=1.2)\nplt.title('Male to Female Ratio')",
   "execution_count": null,
   "outputs": [
    {
     "output_type": "execute_result",
     "execution_count": 38,
     "data": {
      "text/plain": "Text(0.5, 1.0, 'Male to Female Ratio')"
     },
     "metadata": {}
    },
    {
     "data": {
      "text/plain": "<Figure size 432x288 with 1 Axes>",
      "image/png": "[encoded data removed]"
     },
     "metadata": {
      "image/png": {
       "width": 231,
       "height": 247
      }
     },
     "output_type": "display_data"
    }
   ]
  },
  {
   "cell_type": "code",
   "metadata": {
    "tags": [],
    "deepnote_to_be_reexecuted": false,
    "source_hash": "3fd1ab5",
    "execution_start": 1645036498205,
    "execution_millis": 3,
    "deepnote_output_heights": [
     194
    ],
    "cell_id": "00053-66ca42a0-7607-469d-b224-34ef95b1aaeb",
    "deepnote_cell_type": "code"
   },
   "source": "# get top 10 most frequent specialties\nn = 10\ndf_nodupes['pri_spec'].value_counts()[:n].index.tolist()",
   "execution_count": null,
   "outputs": [
    {
     "output_type": "execute_result",
     "execution_count": 39,
     "data": {
      "text/plain": "['Chiropractic',\n 'Clinical Social Worker',\n 'Psychologist, Clinical',\n 'Internal Medicine',\n 'Optometry',\n 'Family Medicine',\n 'Physical Therapy',\n 'Nurse Practitioner',\n 'Podiatry',\n 'Psychiatry']"
     },
     "metadata": {}
    }
   ]
  },
  {
   "cell_type": "markdown",
   "source": "Which primary specialties are most abundant in this dataset?",
   "metadata": {
    "tags": [],
    "is_collapsed": false,
    "cell_id": "00054-60473cbd-4f7a-40e3-a61f-279963a6a0f1",
    "deepnote_cell_type": "text-cell-p"
   }
  },
  {
   "cell_type": "code",
   "metadata": {
    "tags": [],
    "deepnote_to_be_reexecuted": false,
    "source_hash": "72800abb",
    "execution_start": 1645036498206,
    "execution_millis": 2,
    "deepnote_output_heights": [
     232.390625
    ],
    "deepnote_app_is_code_hidden": true,
    "cell_id": "00055-8649f495-5703-4e09-be81-5942e0b3e822",
    "deepnote_cell_type": "code"
   },
   "source": "top_specs = df_nodupes.pivot_table(columns=['pri_spec'], aggfunc='size').nlargest(10)\ntop_specs",
   "execution_count": null,
   "outputs": [
    {
     "output_type": "execute_result",
     "execution_count": 40,
     "data": {
      "text/plain": "pri_spec\nChiropractic              1586\nClinical Social Worker    1020\nPsychologist, Clinical     807\nInternal Medicine          780\nOptometry                  553\nFamily Medicine            537\nPhysical Therapy           361\nNurse Practitioner         349\nPodiatry                   314\nPsychiatry                 248\ndtype: int64"
     },
     "metadata": {}
    }
   ]
  },
  {
   "cell_type": "code",
   "metadata": {
    "tags": [],
    "deepnote_to_be_reexecuted": false,
    "source_hash": "65bc8c74",
    "execution_start": 1645036498249,
    "execution_millis": 2,
    "cell_id": "00056-82bec011-e587-46f2-b4b2-fdcd67d21e78",
    "deepnote_cell_type": "code"
   },
   "source": "df_top_specs = pd.DataFrame(top_specs)\ndf_top_specs",
   "execution_count": null,
   "outputs": [
    {
     "output_type": "execute_result",
     "execution_count": 41,
     "data": {
      "application/vnd.deepnote.dataframe.v3+json": {
       "column_count": 1,
       "row_count": 10,
       "columns": [
        {
         "name": 0,
         "dtype": "int64",
         "stats": {
          "unique_count": 10,
          "nan_count": 0,
          "min": "248",
          "max": "1586",
          "histogram": [
           {
            "bin_start": 248,
            "bin_end": 381.8,
            "count": 4
           },
           {
            "bin_start": 381.8,
            "bin_end": 515.6,
            "count": 0
           },
           {
            "bin_start": 515.6,
            "bin_end": 649.4000000000001,
            "count": 2
           },
           {
            "bin_start": 649.4000000000001,
            "bin_end": 783.2,
            "count": 1
           },
           {
            "bin_start": 783.2,
            "bin_end": 917,
            "count": 1
           },
           {
            "bin_start": 917,
            "bin_end": 1050.8000000000002,
            "count": 1
           },
           {
            "bin_start": 1050.8000000000002,
            "bin_end": 1184.6000000000001,
            "count": 0
           },
           {
            "bin_start": 1184.6000000000001,
            "bin_end": 1318.4,
            "count": 0
           },
           {
            "bin_start": 1318.4,
            "bin_end": 1452.2,
            "count": 0
           },
           {
            "bin_start": 1452.2,
            "bin_end": 1586,
            "count": 1
           }
          ]
         }
        },
        {
         "name": "_deepnote_index_column",
         "dtype": "object"
        }
       ],
       "rows": [
        {
         "0": 1586,
         "_deepnote_index_column": "Chiropractic"
        },
        {
         "0": 1020,
         "_deepnote_index_column": "Clinical Social Worker"
        },
        {
         "0": 807,
         "_deepnote_index_column": "Psychologist, Clinical"
        },
        {
         "0": 780,
         "_deepnote_index_column": "Internal Medicine"
        },
        {
         "0": 553,
         "_deepnote_index_column": "Optometry"
        },
        {
         "0": 537,
         "_deepnote_index_column": "Family Medicine"
        },
        {
         "0": 361,
         "_deepnote_index_column": "Physical Therapy"
        },
        {
         "0": 349,
         "_deepnote_index_column": "Nurse Practitioner"
        },
        {
         "0": 314,
         "_deepnote_index_column": "Podiatry"
        },
        {
         "0": 248,
         "_deepnote_index_column": "Psychiatry"
        }
       ]
      },
      "text/plain": "                           0\npri_spec                    \nChiropractic            1586\nClinical Social Worker  1020\nPsychologist, Clinical   807\nInternal Medicine        780\nOptometry                553\nFamily Medicine          537\nPhysical Therapy         361\nNurse Practitioner       349\nPodiatry                 314\nPsychiatry               248",
      "text/html": "<div>\n<style scoped>\n    .dataframe tbody tr th:only-of-type {\n        vertical-align: middle;\n    }\n\n    .dataframe tbody tr th {\n        vertical-align: top;\n    }\n\n    .dataframe thead th {\n        text-align: right;\n    }\n</style>\n<table border=\"1\" class=\"dataframe\">\n  <thead>\n    <tr style=\"text-align: right;\">\n      <th></th>\n      <th>0</th>\n    </tr>\n    <tr>\n      <th>pri_spec</th>\n      <th></th>\n    </tr>\n  </thead>\n  <tbody>\n    <tr>\n      <th>Chiropractic</th>\n      <td>1586</td>\n    </tr>\n    <tr>\n      <th>Clinical Social Worker</th>\n      <td>1020</td>\n    </tr>\n    <tr>\n      <th>Psychologist, Clinical</th>\n      <td>807</td>\n    </tr>\n    <tr>\n      <th>Internal Medicine</th>\n      <td>780</td>\n    </tr>\n    <tr>\n      <th>Optometry</th>\n      <td>553</td>\n    </tr>\n    <tr>\n      <th>Family Medicine</th>\n      <td>537</td>\n    </tr>\n    <tr>\n      <th>Physical Therapy</th>\n      <td>361</td>\n    </tr>\n    <tr>\n      <th>Nurse Practitioner</th>\n      <td>349</td>\n    </tr>\n    <tr>\n      <th>Podiatry</th>\n      <td>314</td>\n    </tr>\n    <tr>\n      <th>Psychiatry</th>\n      <td>248</td>\n    </tr>\n  </tbody>\n</table>\n</div>"
     },
     "metadata": {}
    }
   ]
  },
  {
   "cell_type": "markdown",
   "source": "Top Specialties",
   "metadata": {
    "tags": [],
    "is_collapsed": false,
    "deepnote_app_coordinates": {
     "x": 11,
     "y": 135,
     "w": 8,
     "h": 2
    },
    "cell_id": "00057-d0a559c8-fc18-4458-b003-8b799ab50143",
    "deepnote_cell_type": "text-cell-p"
   }
  },
  {
   "cell_type": "code",
   "metadata": {
    "tags": [],
    "deepnote_to_be_reexecuted": false,
    "source_hash": "9246d562",
    "execution_start": 1645036498250,
    "execution_millis": 513,
    "deepnote_output_heights": [
     209.625
    ],
    "deepnote_app_is_code_hidden": true,
    "deepnote_app_coordinates": {
     "x": 11,
     "y": 137,
     "w": 9,
     "h": 13
    },
    "cell_id": "00058-10df4451-4c6b-4771-9a6c-08feb1663503",
    "deepnote_cell_type": "code"
   },
   "source": "plot = df_top_specs.plot.pie(subplots=True, figsize=(5, 5))",
   "execution_count": null,
   "outputs": [
    {
     "data": {
      "text/plain": "<Figure size 360x360 with 1 Axes>",
      "image/png": "[encoded data removed]"
     },
     "metadata": {
      "image/png": {
       "width": 416,
       "height": 286
      }
     },
     "output_type": "display_data"
    }
   ]
  },
  {
   "cell_type": "code",
   "metadata": {
    "tags": [],
    "deepnote_to_be_reexecuted": false,
    "source_hash": "11edfad5",
    "execution_start": 1645036498766,
    "execution_millis": 10,
    "deepnote_output_heights": [
     194
    ],
    "cell_id": "00059-7cfe1595-bbfa-437c-a9ee-9004560bc6f8",
    "deepnote_cell_type": "code"
   },
   "source": "# get top 10 most frequent med schools\nn = 10\ndf_nodupes['Med_sch'].value_counts()[:n].index.tolist()",
   "execution_count": null,
   "outputs": [
    {
     "output_type": "execute_result",
     "execution_count": 43,
     "data": {
      "text/plain": "['Other',\n 'Palmer College Chiropractic - Davenport',\n 'Life Chiropractic College',\n 'Logan College Of Chiropractic',\n 'New York Chiropractic College',\n 'Northwestern College Of Chiropractic',\n 'Palmer College Chiropractic -  West Sunnyvale',\n 'National College Of Chiropractic',\n 'Life Chiropractic College - West',\n 'Cleveland Chiropractic College - Kansas City']"
     },
     "metadata": {}
    }
   ]
  },
  {
   "cell_type": "code",
   "metadata": {
    "tags": [],
    "deepnote_to_be_reexecuted": false,
    "source_hash": "c4073d4d",
    "execution_start": 1645036498824,
    "execution_millis": 1,
    "cell_id": "00060-990f2d02-6cb7-4fab-8262-868f86821df4",
    "deepnote_cell_type": "code"
   },
   "source": "top_sch = df_nodupes.pivot_table(columns=['Med_sch'], aggfunc='size').nlargest(11)\ndf_top_sch = pd.DataFrame(top_sch)\ndf_top_sch = df_top_sch.drop(index=('Other'))",
   "execution_count": null,
   "outputs": []
  },
  {
   "cell_type": "code",
   "metadata": {
    "tags": [],
    "deepnote_to_be_reexecuted": false,
    "source_hash": "20bd2b4c",
    "execution_start": 1645036498825,
    "execution_millis": 44,
    "deepnote_output_heights": [
     232.390625
    ],
    "cell_id": "00061-c729d2a2-4594-4f00-aca0-6464fec4c52d",
    "deepnote_cell_type": "code"
   },
   "source": "df_top_sch.head",
   "execution_count": null,
   "outputs": [
    {
     "output_type": "execute_result",
     "execution_count": 45,
     "data": {
      "text/plain": "<bound method NDFrame.head of                                                  0\nMed_sch                                           \nPalmer College Chiropractic - Davenport        246\nLife Chiropractic College                      148\nLogan College Of Chiropractic                  144\nNew York Chiropractic College                   96\nNorthwestern College Of Chiropractic            92\nPalmer College Chiropractic -  West Sunnyvale   91\nNational College Of Chiropractic                89\nLife Chiropractic College - West                84\nCleveland Chiropractic College - Kansas City    69\nUniversity Of Puerto Rico School Of Medicine    69>"
     },
     "metadata": {}
    }
   ]
  },
  {
   "cell_type": "markdown",
   "source": "Which medical schools did these healthcare providers attend?",
   "metadata": {
    "tags": [],
    "is_collapsed": false,
    "deepnote_app_coordinates": {
     "x": 10,
     "y": 157,
     "w": 8,
     "h": 3
    },
    "cell_id": "00062-baee3900-7e96-41ee-a6b9-0121c7ec5166",
    "deepnote_cell_type": "text-cell-p"
   }
  },
  {
   "cell_type": "code",
   "metadata": {
    "tags": [],
    "deepnote_to_be_reexecuted": false,
    "source_hash": "29e189d8",
    "execution_start": 1645036498936,
    "execution_millis": 550,
    "deepnote_output_heights": [
     138
    ],
    "deepnote_app_is_code_hidden": true,
    "deepnote_app_coordinates": {
     "x": 10,
     "y": 160,
     "w": 12,
     "h": 12
    },
    "cell_id": "00063-3a42dc5e-39fd-4eb1-96a6-7650c088a4a8",
    "deepnote_cell_type": "code"
   },
   "source": "plot = df_top_sch.plot.pie(subplots=True, figsize=(5, 5))",
   "execution_count": null,
   "outputs": [
    {
     "data": {
      "text/plain": "<Figure size 360x360 with 1 Axes>",
      "image/png": "[encoded data removed]"
     },
     "metadata": {
      "image/png": {
       "width": 636,
       "height": 286
      }
     },
     "output_type": "display_data"
    }
   ]
  },
  {
   "cell_type": "markdown",
   "source": "# Interactive Query",
   "metadata": {
    "tags": [],
    "is_collapsed": false,
    "deepnote_app_coordinates": {
     "x": 0,
     "y": 175,
     "w": 12,
     "h": 4
    },
    "cell_id": "00064-0671a4f8-c879-4106-8a07-6c0b7992a7d9",
    "deepnote_cell_type": "text-cell-h1"
   }
  },
  {
   "cell_type": "code",
   "metadata": {
    "tags": [],
    "deepnote_to_be_reexecuted": false,
    "source_hash": "e3ef6364",
    "execution_start": 1645036499494,
    "execution_millis": 38,
    "deepnote_table_state": {
     "pageSize": 10,
     "pageIndex": 0,
     "filters": [],
     "sortBy": []
    },
    "deepnote_table_loading": false,
    "deepnote_table_invalid": false,
    "cell_id": "00065-99dd1118-3db9-446a-9e5c-c8be5e21fa61",
    "deepnote_cell_type": "code"
   },
   "source": "df_specialties = df_nodupes[[\"pri_spec\"]]\ndf_specialties.drop_duplicates('pri_spec')\ndf_state = df_nodupes[[\"st\"]]\ndf_state.loc[df_state.st.duplicated(),:]\n",
   "execution_count": null,
   "outputs": [
    {
     "output_type": "execute_result",
     "execution_count": 47,
     "data": {
      "application/vnd.deepnote.dataframe.v3+json": {
       "column_count": 1,
       "row_count": 8925,
       "columns": [
        {
         "name": "st",
         "dtype": "object",
         "stats": {
          "unique_count": 54,
          "nan_count": 0,
          "categories": [
           {
            "name": "CA",
            "count": 1169
           },
           {
            "name": "NY",
            "count": 845
           },
           {
            "name": "52 others",
            "count": 6911
           }
          ]
         }
        },
        {
         "name": "_deepnote_index_column",
         "dtype": "int64"
        }
       ],
       "rows": [
        {
         "st": "TX",
         "_deepnote_index_column": 3
        },
        {
         "st": "MA",
         "_deepnote_index_column": 4
        },
        {
         "st": "FL",
         "_deepnote_index_column": 8
        },
        {
         "st": "MA",
         "_deepnote_index_column": 14
        },
        {
         "st": "CA",
         "_deepnote_index_column": 15
        },
        {
         "st": "CA",
         "_deepnote_index_column": 17
        },
        {
         "st": "AZ",
         "_deepnote_index_column": 19
        },
        {
         "st": "PR",
         "_deepnote_index_column": 24
        },
        {
         "st": "FL",
         "_deepnote_index_column": 25
        },
        {
         "st": "CA",
         "_deepnote_index_column": 27
        }
       ]
      },
      "text/plain": "      st\n3     TX\n4     MA\n8     FL\n14    MA\n15    CA\n...   ..\n8974  FL\n8975  PR\n8976  CA\n8977  TX\n8978  TX\n\n[8925 rows x 1 columns]",
      "text/html": "<div>\n<style scoped>\n    .dataframe tbody tr th:only-of-type {\n        vertical-align: middle;\n    }\n\n    .dataframe tbody tr th {\n        vertical-align: top;\n    }\n\n    .dataframe thead th {\n        text-align: right;\n    }\n</style>\n<table border=\"1\" class=\"dataframe\">\n  <thead>\n    <tr style=\"text-align: right;\">\n      <th></th>\n      <th>st</th>\n    </tr>\n  </thead>\n  <tbody>\n    <tr>\n      <th>3</th>\n      <td>TX</td>\n    </tr>\n    <tr>\n      <th>4</th>\n      <td>MA</td>\n    </tr>\n    <tr>\n      <th>8</th>\n      <td>FL</td>\n    </tr>\n    <tr>\n      <th>14</th>\n      <td>MA</td>\n    </tr>\n    <tr>\n      <th>15</th>\n      <td>CA</td>\n    </tr>\n    <tr>\n      <th>...</th>\n      <td>...</td>\n    </tr>\n    <tr>\n      <th>8974</th>\n      <td>FL</td>\n    </tr>\n    <tr>\n      <th>8975</th>\n      <td>PR</td>\n    </tr>\n    <tr>\n      <th>8976</th>\n      <td>CA</td>\n    </tr>\n    <tr>\n      <th>8977</th>\n      <td>TX</td>\n    </tr>\n    <tr>\n      <th>8978</th>\n      <td>TX</td>\n    </tr>\n  </tbody>\n</table>\n<p>8925 rows × 1 columns</p>\n</div>"
     },
     "metadata": {}
    }
   ]
  },
  {
   "cell_type": "code",
   "metadata": {
    "tags": [],
    "deepnote_to_be_reexecuted": false,
    "source_hash": "cb11d364",
    "execution_start": 1645036499537,
    "execution_millis": 25,
    "cell_id": "00066-b7677624-4065-4bfb-88b4-366c254d3491",
    "deepnote_cell_type": "code"
   },
   "source": "df_state = df_state.drop_duplicates(subset=None, keep='first', inplace=False)\ndf_state",
   "execution_count": null,
   "outputs": [
    {
     "output_type": "execute_result",
     "execution_count": 48,
     "data": {
      "application/vnd.deepnote.dataframe.v3+json": {
       "column_count": 1,
       "row_count": 54,
       "columns": [
        {
         "name": "st",
         "dtype": "object",
         "stats": {
          "unique_count": 54,
          "nan_count": 0,
          "categories": [
           {
            "name": "MA",
            "count": 1
           },
           {
            "name": "TX",
            "count": 1
           },
           {
            "name": "52 others",
            "count": 52
           }
          ]
         }
        },
        {
         "name": "_deepnote_index_column",
         "dtype": "int64"
        }
       ],
       "rows": [
        {
         "st": "MA",
         "_deepnote_index_column": 0
        },
        {
         "st": "TX",
         "_deepnote_index_column": 1
        },
        {
         "st": "FL",
         "_deepnote_index_column": 2
        },
        {
         "st": "NC",
         "_deepnote_index_column": 5
        },
        {
         "st": "PR",
         "_deepnote_index_column": 6
        },
        {
         "st": "NJ",
         "_deepnote_index_column": 7
        },
        {
         "st": "NM",
         "_deepnote_index_column": 9
        },
        {
         "st": "AL",
         "_deepnote_index_column": 10
        },
        {
         "st": "AZ",
         "_deepnote_index_column": 11
        },
        {
         "st": "CA",
         "_deepnote_index_column": 12
        }
       ]
      },
      "text/plain": "      st\n0     MA\n1     TX\n2     FL\n5     NC\n6     PR\n7     NJ\n9     NM\n10    AL\n11    AZ\n12    CA\n13    NV\n16    MO\n18    MD\n20    IL\n21    OH\n22    KS\n23    MI\n26    IA\n28    NY\n29    WA\n34    PA\n35    KY\n41    CO\n55    LA\n56    WV\n60    DC\n69    VA\n70    ID\n73    GA\n76    TN\n80    MT\n89    MN\n97    OK\n100   IN\n107   CT\n125   WI\n137   OR\n153   ME\n185   HI\n192   MS\n202   SC\n206   AK\n210   VT\n254   SD\n290   ND\n292   UT\n310   NH\n341   AR\n370   WY\n392   RI\n413   DE\n434   NE\n573   VI\n3067  GU",
      "text/html": "<div>\n<style scoped>\n    .dataframe tbody tr th:only-of-type {\n        vertical-align: middle;\n    }\n\n    .dataframe tbody tr th {\n        vertical-align: top;\n    }\n\n    .dataframe thead th {\n        text-align: right;\n    }\n</style>\n<table border=\"1\" class=\"dataframe\">\n  <thead>\n    <tr style=\"text-align: right;\">\n      <th></th>\n      <th>st</th>\n    </tr>\n  </thead>\n  <tbody>\n    <tr>\n      <th>0</th>\n      <td>MA</td>\n    </tr>\n    <tr>\n      <th>1</th>\n      <td>TX</td>\n    </tr>\n    <tr>\n      <th>2</th>\n      <td>FL</td>\n    </tr>\n    <tr>\n      <th>5</th>\n      <td>NC</td>\n    </tr>\n    <tr>\n      <th>6</th>\n      <td>PR</td>\n    </tr>\n    <tr>\n      <th>7</th>\n      <td>NJ</td>\n    </tr>\n    <tr>\n      <th>9</th>\n      <td>NM</td>\n    </tr>\n    <tr>\n      <th>10</th>\n      <td>AL</td>\n    </tr>\n    <tr>\n      <th>11</th>\n      <td>AZ</td>\n    </tr>\n    <tr>\n      <th>12</th>\n      <td>CA</td>\n    </tr>\n    <tr>\n      <th>13</th>\n      <td>NV</td>\n    </tr>\n    <tr>\n      <th>16</th>\n      <td>MO</td>\n    </tr>\n    <tr>\n      <th>18</th>\n      <td>MD</td>\n    </tr>\n    <tr>\n      <th>20</th>\n      <td>IL</td>\n    </tr>\n    <tr>\n      <th>21</th>\n      <td>OH</td>\n    </tr>\n    <tr>\n      <th>22</th>\n      <td>KS</td>\n    </tr>\n    <tr>\n      <th>23</th>\n      <td>MI</td>\n    </tr>\n    <tr>\n      <th>26</th>\n      <td>IA</td>\n    </tr>\n    <tr>\n      <th>28</th>\n      <td>NY</td>\n    </tr>\n    <tr>\n      <th>29</th>\n      <td>WA</td>\n    </tr>\n    <tr>\n      <th>34</th>\n      <td>PA</td>\n    </tr>\n    <tr>\n      <th>35</th>\n      <td>KY</td>\n    </tr>\n    <tr>\n      <th>41</th>\n      <td>CO</td>\n    </tr>\n    <tr>\n      <th>55</th>\n      <td>LA</td>\n    </tr>\n    <tr>\n      <th>56</th>\n      <td>WV</td>\n    </tr>\n    <tr>\n      <th>60</th>\n      <td>DC</td>\n    </tr>\n    <tr>\n      <th>69</th>\n      <td>VA</td>\n    </tr>\n    <tr>\n      <th>70</th>\n      <td>ID</td>\n    </tr>\n    <tr>\n      <th>73</th>\n      <td>GA</td>\n    </tr>\n    <tr>\n      <th>76</th>\n      <td>TN</td>\n    </tr>\n    <tr>\n      <th>80</th>\n      <td>MT</td>\n    </tr>\n    <tr>\n      <th>89</th>\n      <td>MN</td>\n    </tr>\n    <tr>\n      <th>97</th>\n      <td>OK</td>\n    </tr>\n    <tr>\n      <th>100</th>\n      <td>IN</td>\n    </tr>\n    <tr>\n      <th>107</th>\n      <td>CT</td>\n    </tr>\n    <tr>\n      <th>125</th>\n      <td>WI</td>\n    </tr>\n    <tr>\n      <th>137</th>\n      <td>OR</td>\n    </tr>\n    <tr>\n      <th>153</th>\n      <td>ME</td>\n    </tr>\n    <tr>\n      <th>185</th>\n      <td>HI</td>\n    </tr>\n    <tr>\n      <th>192</th>\n      <td>MS</td>\n    </tr>\n    <tr>\n      <th>202</th>\n      <td>SC</td>\n    </tr>\n    <tr>\n      <th>206</th>\n      <td>AK</td>\n    </tr>\n    <tr>\n      <th>210</th>\n      <td>VT</td>\n    </tr>\n    <tr>\n      <th>254</th>\n      <td>SD</td>\n    </tr>\n    <tr>\n      <th>290</th>\n      <td>ND</td>\n    </tr>\n    <tr>\n      <th>292</th>\n      <td>UT</td>\n    </tr>\n    <tr>\n      <th>310</th>\n      <td>NH</td>\n    </tr>\n    <tr>\n      <th>341</th>\n      <td>AR</td>\n    </tr>\n    <tr>\n      <th>370</th>\n      <td>WY</td>\n    </tr>\n    <tr>\n      <th>392</th>\n      <td>RI</td>\n    </tr>\n    <tr>\n      <th>413</th>\n      <td>DE</td>\n    </tr>\n    <tr>\n      <th>434</th>\n      <td>NE</td>\n    </tr>\n    <tr>\n      <th>573</th>\n      <td>VI</td>\n    </tr>\n    <tr>\n      <th>3067</th>\n      <td>GU</td>\n    </tr>\n  </tbody>\n</table>\n</div>"
     },
     "metadata": {}
    }
   ]
  },
  {
   "cell_type": "markdown",
   "source": "# Begin By Searching for Information by State",
   "metadata": {
    "tags": [],
    "is_collapsed": false,
    "deepnote_app_coordinates": {
     "x": 0,
     "y": 180,
     "w": 12,
     "h": 8
    },
    "cell_id": "00067-b5ebff17-aa9d-4606-866d-eed46364938b",
    "deepnote_cell_type": "text-cell-h1"
   }
  },
  {
   "cell_type": "markdown",
   "source": "Please enter the state you would like to search for below.",
   "metadata": {
    "tags": [],
    "is_collapsed": false,
    "deepnote_app_coordinates": {
     "x": 0,
     "y": 188,
     "w": 8,
     "h": 2
    },
    "cell_id": "00068-0d31a1ef-5794-4e2a-a373-ac1ef108bc3e",
    "deepnote_cell_type": "text-cell-p"
   }
  },
  {
   "cell_type": "code",
   "metadata": {
    "deepnote_variable_name": "state",
    "deepnote_variable_value": "MA",
    "deepnote_variable_options": [
     "MA",
     "TX",
     "FL",
     "NC",
     "PR",
     "NJ",
     "NM",
     "AL",
     "AZ",
     "CA",
     "NV",
     "MO",
     "MD",
     "IL",
     "OH",
     "KS",
     "MI",
     "IA",
     "NY",
     "WA",
     "PA",
     "KY",
     "CO",
     "LA",
     "WV",
     "DC",
     "VA",
     "ID",
     "GA",
     "TN",
     "MT",
     "MN",
     "OK",
     "IN",
     "CT",
     "WI",
     "OR",
     "ME",
     "HI",
     "MS",
     "SC",
     "AK",
     "VT",
     "SD",
     "ND",
     "UT",
     "NH",
     "AR",
     "WY",
     "RI",
     "DE",
     "NE",
     "VI",
     "GU"
    ],
    "deepnote_variable_custom_options": [
     "Option 1",
     "Option 2"
    ],
    "deepnote_variable_selected_variable": "df_state",
    "deepnote_variable_select_type": "from-variable",
    "deepnote_to_be_reexecuted": false,
    "source_hash": "dee0c56a",
    "execution_start": 1645036499565,
    "execution_millis": 3,
    "cell_id": "00069-70f5ae1c-9a13-468d-8cdf-80838ffe0f25",
    "deepnote_cell_type": "input-select"
   },
   "source": "state = 'MA'",
   "execution_count": null,
   "outputs": []
  },
  {
   "cell_type": "code",
   "metadata": {
    "tags": [],
    "deepnote_to_be_reexecuted": false,
    "source_hash": "1af11cb1",
    "execution_start": 1645036499573,
    "execution_millis": 6,
    "deepnote_app_is_code_hidden": true,
    "deepnote_table_state": {
     "pageSize": 25,
     "pageIndex": 0,
     "filters": [],
     "sortBy": []
    },
    "deepnote_table_loading": false,
    "cell_id": "00070-cca8570a-ec5b-4ab4-b1b7-8deb014a8c76",
    "deepnote_cell_type": "code"
   },
   "source": "contains_state = df_nodupes[df_nodupes['st'].str.contains(state)]",
   "execution_count": null,
   "outputs": []
  },
  {
   "cell_type": "code",
   "metadata": {
    "tags": [],
    "deepnote_to_be_reexecuted": false,
    "source_hash": "7c058b53",
    "execution_start": 1645036499588,
    "execution_millis": 8,
    "deepnote_app_is_code_hidden": true,
    "deepnote_app_coordinates": {
     "x": 0,
     "y": 196,
     "w": 12,
     "h": 16
    },
    "cell_id": "00071-ce531a96-1e97-4da1-a938-818496b28aff",
    "deepnote_cell_type": "code"
   },
   "source": "pop_specs = contains_state.pivot_table(columns=['pri_spec'], aggfunc='size').nlargest(10)\nprint('These are the specialties that are most abundant in your selected state:')\nprint(pop_specs)",
   "execution_count": null,
   "outputs": [
    {
     "name": "stdout",
     "text": "These are the specialties that are most abundant in your selected state:\npri_spec\nClinical Social Worker                       98\nChiropractic                                 37\nPsychologist, Clinical                       34\nOptometry                                    17\nInternal Medicine                            15\nPhysical Therapy                             13\nPsychiatry                                   12\nCertified Clinical Nurse Specialist (Cns)     7\nPodiatry                                      5\nNurse Practitioner                            4\ndtype: int64\n",
     "output_type": "stream"
    }
   ]
  },
  {
   "cell_type": "markdown",
   "source": "These are the cities within your selected state with the most professionals in the dataset.",
   "metadata": {
    "tags": [],
    "is_collapsed": false,
    "deepnote_app_coordinates": {
     "x": 0,
     "y": 213,
     "w": 8,
     "h": 2
    },
    "cell_id": "00072-24fe37df-9413-423e-b558-77013fe67b5f",
    "deepnote_cell_type": "text-cell-p"
   }
  },
  {
   "cell_type": "code",
   "metadata": {
    "tags": [],
    "deepnote_to_be_reexecuted": false,
    "source_hash": "94dce51c",
    "execution_start": 1645036499605,
    "execution_millis": 245,
    "deepnote_output_heights": [
     288
    ],
    "deepnote_app_is_code_hidden": true,
    "deepnote_app_coordinates": {
     "x": 0,
     "y": 216,
     "w": 9,
     "h": 16
    },
    "cell_id": "00073-2d30e175-8068-48ae-a29e-8fc51be3e9e4",
    "deepnote_cell_type": "code"
   },
   "source": "cities = contains_state.pivot_table(columns=['cty'], aggfunc='size').nlargest(10)\nplot_cities = cities.plot.pie(subplots=True, figsize=(5, 5))",
   "execution_count": null,
   "outputs": [
    {
     "data": {
      "text/plain": "<Figure size 360x360 with 1 Axes>",
      "image/png": "[encoded data removed]"
     },
     "metadata": {
      "image/png": {
       "width": 338,
       "height": 286
      }
     },
     "output_type": "display_data"
    }
   ]
  },
  {
   "cell_type": "code",
   "metadata": {
    "tags": [],
    "deepnote_to_be_reexecuted": false,
    "source_hash": "64b6570f",
    "execution_start": 1645036499861,
    "execution_millis": 11,
    "deepnote_output_heights": [
     194
    ],
    "cell_id": "00074-e6a1dfec-d585-4e2d-8749-c97ef512266d",
    "deepnote_cell_type": "code"
   },
   "source": "list_cty = pd.DataFrame(contains_state.cty)\nn = 10\nlist_cty = list_cty['cty'].value_counts()[:n].index.tolist()\nlist_cty\n",
   "execution_count": null,
   "outputs": [
    {
     "output_type": "execute_result",
     "execution_count": 53,
     "data": {
      "text/plain": "['Cambridge',\n 'Worcester',\n 'Fall River',\n 'Boston',\n 'Lexington',\n 'Northampton',\n 'Newton',\n 'Brookline',\n 'Plymouth',\n 'Beverly']"
     },
     "metadata": {}
    }
   ]
  },
  {
   "cell_type": "code",
   "metadata": {
    "tags": [],
    "deepnote_to_be_reexecuted": false,
    "source_hash": "b1fc3996",
    "execution_start": 1645036499875,
    "execution_millis": 81,
    "cell_id": "00075-f4b6b5b7-3a7c-4f1a-b640-4383fdc88a78",
    "deepnote_cell_type": "code"
   },
   "source": "contains_state",
   "execution_count": null,
   "outputs": [
    {
     "output_type": "execute_result",
     "execution_count": 54,
     "data": {
      "application/vnd.deepnote.dataframe.v3+json": {
       "column_count": 13,
       "row_count": 276,
       "columns": [
        {
         "name": "NPI",
         "dtype": "int64",
         "stats": {
          "unique_count": 276,
          "nan_count": 0,
          "min": "1154385078",
          "max": "1215321872",
          "histogram": [
           {
            "bin_start": 1154385078,
            "bin_end": 1160478757.4,
            "count": 15
           },
           {
            "bin_start": 1160478757.4,
            "bin_end": 1166572436.8,
            "count": 45
           },
           {
            "bin_start": 1166572436.8,
            "bin_end": 1172666116.2,
            "count": 0
           },
           {
            "bin_start": 1172666116.2,
            "bin_end": 1178759795.6,
            "count": 48
           },
           {
            "bin_start": 1178759795.6,
            "bin_end": 1184853475,
            "count": 40
           },
           {
            "bin_start": 1184853475,
            "bin_end": 1190947154.4,
            "count": 8
           },
           {
            "bin_start": 1190947154.4,
            "bin_end": 1197040833.8,
            "count": 39
           },
           {
            "bin_start": 1197040833.8,
            "bin_end": 1203134513.2,
            "count": 0
           },
           {
            "bin_start": 1203134513.2,
            "bin_end": 1209228192.6,
            "count": 46
           },
           {
            "bin_start": 1209228192.6,
            "bin_end": 1215321872,
            "count": 35
           }
          ]
         }
        },
        {
         "name": "full_name",
         "dtype": "object",
         "stats": {
          "unique_count": 276,
          "nan_count": 0,
          "categories": [
           {
            "name": "Eve  Masiello ",
            "count": 1
           },
           {
            "name": "Marcia E Nelson Vancini ",
            "count": 1
           },
           {
            "name": "274 others",
            "count": 274
           }
          ]
         }
        },
        {
         "name": " gndr",
         "dtype": "object",
         "stats": {
          "unique_count": 2,
          "nan_count": 0,
          "categories": [
           {
            "name": "F",
            "count": 142
           },
           {
            "name": "M",
            "count": 134
           }
          ]
         }
        },
        {
         "name": "Cred",
         "dtype": "object",
         "stats": {
          "unique_count": 10,
          "nan_count": 132,
          "categories": [
           {
            "name": "CSW",
            "count": 52
           },
           {
            "name": "9 others",
            "count": 92
           },
           {
            "name": "Missing",
            "count": 132
           }
          ]
         }
        },
        {
         "name": "Med_sch",
         "dtype": "object",
         "stats": {
          "unique_count": 44,
          "nan_count": 0,
          "categories": [
           {
            "name": "Other",
            "count": 174
           },
           {
            "name": "New England College Of Optometry",
            "count": 14
           },
           {
            "name": "42 others",
            "count": 88
           }
          ]
         }
        },
        {
         "name": "Grd_yr",
         "dtype": "float64",
         "stats": {
          "unique_count": 51,
          "nan_count": 0,
          "min": "1962.0",
          "max": "2020.0",
          "histogram": [
           {
            "bin_start": 1962,
            "bin_end": 1967.8,
            "count": 5
           },
           {
            "bin_start": 1967.8,
            "bin_end": 1973.6,
            "count": 11
           },
           {
            "bin_start": 1973.6,
            "bin_end": 1979.4,
            "count": 33
           },
           {
            "bin_start": 1979.4,
            "bin_end": 1985.2,
            "count": 49
           },
           {
            "bin_start": 1985.2,
            "bin_end": 1991,
            "count": 44
           },
           {
            "bin_start": 1991,
            "bin_end": 1996.8,
            "count": 49
           },
           {
            "bin_start": 1996.8,
            "bin_end": 2002.6,
            "count": 36
           },
           {
            "bin_start": 2002.6,
            "bin_end": 2008.4,
            "count": 23
           },
           {
            "bin_start": 2008.4,
            "bin_end": 2014.2,
            "count": 21
           },
           {
            "bin_start": 2014.2,
            "bin_end": 2020,
            "count": 5
           }
          ]
         }
        },
        {
         "name": "pri_spec",
         "dtype": "object",
         "stats": {
          "unique_count": 34,
          "nan_count": 0,
          "categories": [
           {
            "name": "Clinical Social Worker",
            "count": 98
           },
           {
            "name": "Chiropractic",
            "count": 37
           },
           {
            "name": "32 others",
            "count": 141
           }
          ]
         }
        },
        {
         "name": "adr",
         "dtype": "object",
         "stats": {
          "unique_count": 274,
          "nan_count": 0,
          "categories": [
           {
            "name": "10 Concord Ave ",
            "count": 2
           },
           {
            "name": "259 Massachusetts Ave ",
            "count": 2
           },
           {
            "name": "272 others",
            "count": 272
           }
          ]
         }
        },
        {
         "name": "cty",
         "dtype": "object",
         "stats": {
          "unique_count": 144,
          "nan_count": 0,
          "categories": [
           {
            "name": "Cambridge",
            "count": 10
           },
           {
            "name": "Worcester",
            "count": 9
           },
           {
            "name": "142 others",
            "count": 257
           }
          ]
         }
        },
        {
         "name": "st",
         "dtype": "object",
         "stats": {
          "unique_count": 1,
          "nan_count": 0,
          "categories": [
           {
            "name": "MA",
            "count": 276
           }
          ]
         }
        },
        {
         "name": "zip_x",
         "dtype": "object",
         "stats": {
          "unique_count": 273,
          "nan_count": 0,
          "categories": [
           {
            "name": "021382322",
            "count": 2
           },
           {
            "name": "016052964",
            "count": 2
           },
           {
            "name": "271 others",
            "count": 272
           }
          ]
         }
        },
        {
         "name": "phn_numbr",
         "dtype": "float64",
         "stats": {
          "unique_count": 188,
          "nan_count": 88,
          "min": "2015439484.0",
          "max": "6175953232953232.0",
          "histogram": [
           {
            "bin_start": 2015439484,
            "bin_end": 617597137190858.8,
            "count": 187
           },
           {
            "bin_start": 617597137190858.8,
            "bin_end": 1235192258942233.5,
            "count": 0
           },
           {
            "bin_start": 1235192258942233.5,
            "bin_end": 1852787380693608.2,
            "count": 0
           },
           {
            "bin_start": 1852787380693608.2,
            "bin_end": 2470382502444983,
            "count": 0
           },
           {
            "bin_start": 2470382502444983,
            "bin_end": 3087977624196358,
            "count": 0
           },
           {
            "bin_start": 3087977624196358,
            "bin_end": 3705572745947732.5,
            "count": 0
           },
           {
            "bin_start": 3705572745947732.5,
            "bin_end": 4323167867699107,
            "count": 0
           },
           {
            "bin_start": 4323167867699107,
            "bin_end": 4940762989450482,
            "count": 0
           },
           {
            "bin_start": 4940762989450482,
            "bin_end": 5558358111201857,
            "count": 0
           },
           {
            "bin_start": 5558358111201857,
            "bin_end": 6175953232953232,
            "count": 1
           }
          ]
         }
        },
        {
         "name": "hosp_afl_lbn_1",
         "dtype": "object",
         "stats": {
          "unique_count": 34,
          "nan_count": 225,
          "categories": [
           {
            "name": "Northeast Hospital Corporation",
            "count": 5
           },
           {
            "name": "33 others",
            "count": 46
           },
           {
            "name": "Missing",
            "count": 225
           }
          ]
         }
        },
        {
         "name": "_deepnote_index_column",
         "dtype": "int64"
        }
       ],
       "rows": [
        {
         "NPI": 1215321872,
         "full_name": "Eve  Masiello ",
         " gndr": "F",
         "Cred": "nan",
         "Med_sch": "Other",
         "Grd_yr": 1982,
         "pri_spec": "Clinical Social Worker",
         "adr": "120 Court St ",
         "cty": "Plymouth",
         "st": "MA",
         "zip_x": "023603826",
         "phn_numbr": 7817107356,
         "hosp_afl_lbn_1": "nan",
         "_deepnote_index_column": 0
        },
        {
         "NPI": 1215127840,
         "full_name": "Marcia E Nelson Vancini ",
         " gndr": "F",
         "Cred": "CNS",
         "Med_sch": "Other",
         "Grd_yr": 2002,
         "pri_spec": "Certified Clinical Nurse Specialist (Cns)",
         "adr": "2 Brentwood Cir ",
         "cty": "Andover",
         "st": "MA",
         "zip_x": "018105129",
         "phn_numbr": 9783358785,
         "hosp_afl_lbn_1": "Lawrence General Hospital",
         "_deepnote_index_column": 4
        },
        {
         "NPI": 1215237664,
         "full_name": "Sonja  Vincola ",
         " gndr": "F",
         "Cred": "nan",
         "Med_sch": "Other",
         "Grd_yr": 2004,
         "pri_spec": "Clinical Social Worker",
         "adr": "61 Boxford Rd ",
         "cty": "Rowley",
         "st": "MA",
         "zip_x": "019692419",
         "phn_numbr": 9788538742,
         "hosp_afl_lbn_1": "nan",
         "_deepnote_index_column": 14
        },
        {
         "NPI": 1215158522,
         "full_name": "Laura  Debruin ",
         " gndr": "F",
         "Cred": "nan",
         "Med_sch": "Other",
         "Grd_yr": 2004,
         "pri_spec": "Physical Therapy",
         "adr": "18 Brimfield Way ",
         "cty": "Westfield",
         "st": "MA",
         "zip_x": "010854383",
         "phn_numbr": "nan",
         "hosp_afl_lbn_1": "nan",
         "_deepnote_index_column": 164
        },
        {
         "NPI": 1215256201,
         "full_name": "Joel A Krieg ",
         " gndr": "M",
         "Cred": "nan",
         "Med_sch": "Other",
         "Grd_yr": 2007,
         "pri_spec": "Clinical Social Worker",
         "adr": "10 Concord Ave ",
         "cty": "Cambridge",
         "st": "MA",
         "zip_x": "021382322",
         "phn_numbr": 6176820057,
         "hosp_afl_lbn_1": "nan",
         "_deepnote_index_column": 166
        },
        {
         "NPI": 1215245923,
         "full_name": "Deborah L Mccool ",
         " gndr": "F",
         "Cred": "nan",
         "Med_sch": "Other",
         "Grd_yr": 2011,
         "pri_spec": "Clinical Social Worker",
         "adr": "93 Main St Suite 213",
         "cty": "Andover",
         "st": "MA",
         "zip_x": "018103847",
         "phn_numbr": "nan",
         "hosp_afl_lbn_1": "nan",
         "_deepnote_index_column": 180
        },
        {
         "NPI": 1215138672,
         "full_name": "Constantinos  Laskarides ",
         " gndr": "M",
         "Cred": "nan",
         "Med_sch": "Tufts University School Of Dental Medicine",
         "Grd_yr": 1997,
         "pri_spec": "Oral Surgery",
         "adr": "9 A Dr Osman Babson Rd ",
         "cty": "Gloucester",
         "st": "MA",
         "zip_x": "019301812",
         "phn_numbr": "nan",
         "hosp_afl_lbn_1": "Tufts Medical Center",
         "_deepnote_index_column": 226
        },
        {
         "NPI": 1215263991,
         "full_name": "Collin  Reiners ",
         " gndr": "M",
         "Cred": "nan",
         "Med_sch": "New England College Of Optometry",
         "Grd_yr": 2009,
         "pri_spec": "Optometry",
         "adr": "50 Holyoke St ",
         "cty": "Holyoke",
         "st": "MA",
         "zip_x": "010402709",
         "phn_numbr": "nan",
         "hosp_afl_lbn_1": "nan",
         "_deepnote_index_column": 245
        },
        {
         "NPI": 1215221700,
         "full_name": "Catherine  Genaux ",
         " gndr": "F",
         "Cred": "nan",
         "Med_sch": "Other",
         "Grd_yr": 2011,
         "pri_spec": "Qualified Speech Language Pathologist",
         "adr": "20 Danforth Ct ",
         "cty": "Haverhill",
         "st": "MA",
         "zip_x": "018321193",
         "phn_numbr": "nan",
         "hosp_afl_lbn_1": "nan",
         "_deepnote_index_column": 246
        },
        {
         "NPI": 1215132402,
         "full_name": "Max  Chorowski ",
         " gndr": "M",
         "Cred": "MD",
         "Med_sch": "New York Medical College",
         "Grd_yr": 1975,
         "pri_spec": "Psychiatry",
         "adr": "299 Carew St Suite 215",
         "cty": "Springfield",
         "st": "MA",
         "zip_x": "011042301",
         "phn_numbr": "nan",
         "hosp_afl_lbn_1": "Baystate Medical Center",
         "_deepnote_index_column": 287
        },
        {
         "NPI": 1205932340,
         "full_name": "Craig H Davies ",
         " gndr": "M",
         "Cred": "DC",
         "Med_sch": "Logan College Of Chiropractic",
         "Grd_yr": 2001,
         "pri_spec": "Chiropractic",
         "adr": "63 S Main St Suite A",
         "cty": "Randolph",
         "st": "MA",
         "zip_x": "023684862",
         "phn_numbr": "nan",
         "hosp_afl_lbn_1": "nan",
         "_deepnote_index_column": 316
        },
        {
         "NPI": 1215014063,
         "full_name": "Martha E Woodard ",
         " gndr": "F",
         "Cred": "nan",
         "Med_sch": "Other",
         "Grd_yr": 1991,
         "pri_spec": "Psychologist, Clinical",
         "adr": "35 Post Office Park Suite 3504",
         "cty": "Wilbraham",
         "st": "MA",
         "zip_x": "010951186",
         "phn_numbr": 4135966922,
         "hosp_afl_lbn_1": "nan",
         "_deepnote_index_column": 317
        },
        {
         "NPI": 1215041108,
         "full_name": "Lilia  Feinberg ",
         " gndr": "F",
         "Cred": "nan",
         "Med_sch": "Other",
         "Grd_yr": 1986,
         "pri_spec": "Psychiatry",
         "adr": "30 Saint Cloud Ave ",
         "cty": "Needham",
         "st": "MA",
         "zip_x": "024924308",
         "phn_numbr": 7814538835,
         "hosp_afl_lbn_1": "nan",
         "_deepnote_index_column": 332
        },
        {
         "NPI": 1215036074,
         "full_name": "Elizabeth  Spark ",
         " gndr": "F",
         "Cred": "MD",
         "Med_sch": "Other",
         "Grd_yr": 1972,
         "pri_spec": "Internal Medicine",
         "adr": "7 Liberty St ",
         "cty": "Natick",
         "st": "MA",
         "zip_x": "017601217",
         "phn_numbr": 6179656300,
         "hosp_afl_lbn_1": "nan",
         "_deepnote_index_column": 335
        },
        {
         "NPI": 1215097548,
         "full_name": "Paul E Jansen ",
         " gndr": "M",
         "Cred": "nan",
         "Med_sch": "Other",
         "Grd_yr": 1971,
         "pri_spec": "Psychologist, Clinical",
         "adr": "11 Vanderbilt Ave Suite 240",
         "cty": "Norwood",
         "st": "MA",
         "zip_x": "020625056",
         "phn_numbr": 7817695050,
         "hosp_afl_lbn_1": "nan",
         "_deepnote_index_column": 429
        },
        {
         "NPI": 1215094503,
         "full_name": "Frances E Adams ",
         " gndr": "F",
         "Cred": "CNS",
         "Med_sch": "Other",
         "Grd_yr": 1976,
         "pri_spec": "Certified Clinical Nurse Specialist (Cns)",
         "adr": "35 State St ",
         "cty": "Northampton",
         "st": "MA",
         "zip_x": "010603035",
         "phn_numbr": 4132306737,
         "hosp_afl_lbn_1": "nan",
         "_deepnote_index_column": 443
        },
        {
         "NPI": 1215011622,
         "full_name": "Robert  Remillard ",
         " gndr": "M",
         "Cred": "CSW",
         "Med_sch": "Other",
         "Grd_yr": 1991,
         "pri_spec": "Clinical Social Worker",
         "adr": "139 Court St ",
         "cty": "Plymouth",
         "st": "MA",
         "zip_x": "023608711",
         "phn_numbr": 5089349228,
         "hosp_afl_lbn_1": "nan",
         "_deepnote_index_column": 451
        },
        {
         "NPI": 1205961190,
         "full_name": "Heather L Sykes ",
         " gndr": "F",
         "Cred": "CSW",
         "Med_sch": "Other",
         "Grd_yr": 1995,
         "pri_spec": "Clinical Social Worker",
         "adr": "136 Dwight Rd ",
         "cty": "Longmeadow",
         "st": "MA",
         "zip_x": "011062075",
         "phn_numbr": 4135657177,
         "hosp_afl_lbn_1": "nan",
         "_deepnote_index_column": 472
        },
        {
         "NPI": 1205989795,
         "full_name": "Molly Jane I Rubinger ",
         " gndr": "F",
         "Cred": "CSW",
         "Med_sch": "Boston University School Of Medicine",
         "Grd_yr": 1969,
         "pri_spec": "Clinical Social Worker",
         "adr": "118 Main St Suite 6",
         "cty": "Watertown",
         "st": "MA",
         "zip_x": "024724425",
         "phn_numbr": 6179248344,
         "hosp_afl_lbn_1": "nan",
         "_deepnote_index_column": 478
        },
        {
         "NPI": 1205946530,
         "full_name": "Camille G St Onge ",
         " gndr": "F",
         "Cred": "CSW",
         "Med_sch": "Other",
         "Grd_yr": 1991,
         "pri_spec": "Clinical Social Worker",
         "adr": "316 Wendell Rd ",
         "cty": "Millers Falls",
         "st": "MA",
         "zip_x": "013491315",
         "phn_numbr": 4137688013,
         "hosp_afl_lbn_1": "nan",
         "_deepnote_index_column": 480
        },
        {
         "NPI": 1215051966,
         "full_name": "Julie P Hill King ",
         " gndr": "F",
         "Cred": "nan",
         "Med_sch": "Other",
         "Grd_yr": 2006,
         "pri_spec": "Clinical Social Worker",
         "adr": "161 Summer St Suite 1B",
         "cty": "Kingston",
         "st": "MA",
         "zip_x": "023641275",
         "phn_numbr": 78158581993,
         "hosp_afl_lbn_1": "nan",
         "_deepnote_index_column": 526
        },
        {
         "NPI": 1205979770,
         "full_name": "Anita A Fast ",
         " gndr": "F",
         "Cred": "CSW",
         "Med_sch": "Other",
         "Grd_yr": 1962,
         "pri_spec": "Clinical Social Worker",
         "adr": "594 Marrett Rd Suite 19",
         "cty": "Lexington",
         "st": "MA",
         "zip_x": "024217605",
         "phn_numbr": 9782565626,
         "hosp_afl_lbn_1": "nan",
         "_deepnote_index_column": 577
        },
        {
         "NPI": 1215011853,
         "full_name": "Kurt H Schagen ",
         " gndr": "M",
         "Cred": "nan",
         "Med_sch": "New York Chiropractic College",
         "Grd_yr": 1988,
         "pri_spec": "Chiropractic",
         "adr": "100 Wendell Ave Suite 8",
         "cty": "Pittsfield",
         "st": "MA",
         "zip_x": "012016941",
         "phn_numbr": "nan",
         "hosp_afl_lbn_1": "nan",
         "_deepnote_index_column": 617
        },
        {
         "NPI": 1205994233,
         "full_name": "Kathleen A Keegan ",
         " gndr": "F",
         "Cred": "CSW",
         "Med_sch": "Other",
         "Grd_yr": 1976,
         "pri_spec": "Clinical Social Worker",
         "adr": "900 Cummings Ctr Suite 214U",
         "cty": "Beverly",
         "st": "MA",
         "zip_x": "019156182",
         "phn_numbr": 978998678213,
         "hosp_afl_lbn_1": "nan",
         "_deepnote_index_column": 625
        },
        {
         "NPI": 1215044946,
         "full_name": "Renee J Gottlieb ",
         " gndr": "F",
         "Cred": "nan",
         "Med_sch": "Other",
         "Grd_yr": 1983,
         "pri_spec": "Clinical Social Worker",
         "adr": "5 Edgell Rd Suite 27",
         "cty": "Framingham",
         "st": "MA",
         "zip_x": "017014868",
         "phn_numbr": 50837090563,
         "hosp_afl_lbn_1": "nan",
         "_deepnote_index_column": 632
        }
       ]
      },
      "text/plain": "             NPI                 full_name  gndr Cred  \\\n0     1215321872            Eve  Masiello      F  NaN   \n4     1215127840  Marcia E Nelson Vancini      F  CNS   \n14    1215237664           Sonja  Vincola      F  NaN   \n164   1215158522           Laura  Debruin      F  NaN   \n166   1215256201             Joel A Krieg      M  NaN   \n...          ...                       ...   ...  ...   \n8919  1154385078         Matthew P Butler      M  DPM   \n8922  1154478170          Thomas W Wright      M  CSW   \n8926  1154477644          Susan  Gottlieb      F  NaN   \n8967  1154461077  Gail  Karanikolas Perry      F  CNS   \n8969  1154387272            Dan  Seligman      M  DPM   \n\n                                      Med_sch  Grd_yr  \\\n0                                       Other  1982.0   \n4                                       Other  2002.0   \n14                                      Other  2004.0   \n164                                     Other  2004.0   \n166                                     Other  2007.0   \n...                                       ...     ...   \n8919     Temple University School Of Medicine  1993.0   \n8922                                    Other  1990.0   \n8926                                    Other  1977.0   \n8967                                    Other  1987.0   \n8969  California School Of Podiatric Medicine  1980.0   \n\n                                       pri_spec                        adr  \\\n0                        Clinical Social Worker              120 Court St    \n4     Certified Clinical Nurse Specialist (Cns)           2 Brentwood Cir    \n14                       Clinical Social Worker             61 Boxford Rd    \n164                            Physical Therapy          18 Brimfield Way    \n166                      Clinical Social Worker            10 Concord Ave    \n...                                         ...                        ...   \n8919                                   Podiatry  1153 Centre St Suite 5980   \n8922                     Clinical Social Worker            297 Russell Rd    \n8926                     Psychologist, Clinical     259 Massachusetts Ave    \n8967  Certified Clinical Nurse Specialist (Cns)               50 N 2Nd St    \n8969                                   Podiatry    0 Governors Ave Suite 7   \n\n              cty  st      zip_x     phn_numbr                  hosp_afl_lbn_1  \n0        Plymouth  MA  023603826  7.817107e+09                             NaN  \n4         Andover  MA  018105129  9.783359e+09       Lawrence General Hospital  \n14         Rowley  MA  019692419  9.788539e+09                             NaN  \n164     Westfield  MA  010854383           NaN                             NaN  \n166     Cambridge  MA  021382322  6.176820e+09                             NaN  \n...           ...  ..        ...           ...                             ...  \n8919       Boston  MA  021303446  6.179832e+09  Northeast Hospital Corporation  \n8922    Westfield  MA  010852101  4.138756e+09                             NaN  \n8926    Arlington  MA  024748406  7.816410e+09                             NaN  \n8967  New Bedford  MA  027406272  5.089976e+09      Southcoast Hospitals Group  \n8969      Medford  MA  021553084           NaN     Melrosewakefield Healthcare  \n\n[276 rows x 13 columns]",
      "text/html": "<div>\n<style scoped>\n    .dataframe tbody tr th:only-of-type {\n        vertical-align: middle;\n    }\n\n    .dataframe tbody tr th {\n        vertical-align: top;\n    }\n\n    .dataframe thead th {\n        text-align: right;\n    }\n</style>\n<table border=\"1\" class=\"dataframe\">\n  <thead>\n    <tr style=\"text-align: right;\">\n      <th></th>\n      <th>NPI</th>\n      <th>full_name</th>\n      <th>gndr</th>\n      <th>Cred</th>\n      <th>Med_sch</th>\n      <th>Grd_yr</th>\n      <th>pri_spec</th>\n      <th>adr</th>\n      <th>cty</th>\n      <th>st</th>\n      <th>zip_x</th>\n      <th>phn_numbr</th>\n      <th>hosp_afl_lbn_1</th>\n    </tr>\n  </thead>\n  <tbody>\n    <tr>\n      <th>0</th>\n      <td>1215321872</td>\n      <td>Eve  Masiello</td>\n      <td>F</td>\n      <td>NaN</td>\n      <td>Other</td>\n      <td>1982.0</td>\n      <td>Clinical Social Worker</td>\n      <td>120 Court St</td>\n      <td>Plymouth</td>\n      <td>MA</td>\n      <td>023603826</td>\n      <td>7.817107e+09</td>\n      <td>NaN</td>\n    </tr>\n    <tr>\n      <th>4</th>\n      <td>1215127840</td>\n      <td>Marcia E Nelson Vancini</td>\n      <td>F</td>\n      <td>CNS</td>\n      <td>Other</td>\n      <td>2002.0</td>\n      <td>Certified Clinical Nurse Specialist (Cns)</td>\n      <td>2 Brentwood Cir</td>\n      <td>Andover</td>\n      <td>MA</td>\n      <td>018105129</td>\n      <td>9.783359e+09</td>\n      <td>Lawrence General Hospital</td>\n    </tr>\n    <tr>\n      <th>14</th>\n      <td>1215237664</td>\n      <td>Sonja  Vincola</td>\n      <td>F</td>\n      <td>NaN</td>\n      <td>Other</td>\n      <td>2004.0</td>\n      <td>Clinical Social Worker</td>\n      <td>61 Boxford Rd</td>\n      <td>Rowley</td>\n      <td>MA</td>\n      <td>019692419</td>\n      <td>9.788539e+09</td>\n      <td>NaN</td>\n    </tr>\n    <tr>\n      <th>164</th>\n      <td>1215158522</td>\n      <td>Laura  Debruin</td>\n      <td>F</td>\n      <td>NaN</td>\n      <td>Other</td>\n      <td>2004.0</td>\n      <td>Physical Therapy</td>\n      <td>18 Brimfield Way</td>\n      <td>Westfield</td>\n      <td>MA</td>\n      <td>010854383</td>\n      <td>NaN</td>\n      <td>NaN</td>\n    </tr>\n    <tr>\n      <th>166</th>\n      <td>1215256201</td>\n      <td>Joel A Krieg</td>\n      <td>M</td>\n      <td>NaN</td>\n      <td>Other</td>\n      <td>2007.0</td>\n      <td>Clinical Social Worker</td>\n      <td>10 Concord Ave</td>\n      <td>Cambridge</td>\n      <td>MA</td>\n      <td>021382322</td>\n      <td>6.176820e+09</td>\n      <td>NaN</td>\n    </tr>\n    <tr>\n      <th>...</th>\n      <td>...</td>\n      <td>...</td>\n      <td>...</td>\n      <td>...</td>\n      <td>...</td>\n      <td>...</td>\n      <td>...</td>\n      <td>...</td>\n      <td>...</td>\n      <td>...</td>\n      <td>...</td>\n      <td>...</td>\n      <td>...</td>\n    </tr>\n    <tr>\n      <th>8919</th>\n      <td>1154385078</td>\n      <td>Matthew P Butler</td>\n      <td>M</td>\n      <td>DPM</td>\n      <td>Temple University School Of Medicine</td>\n      <td>1993.0</td>\n      <td>Podiatry</td>\n      <td>1153 Centre St Suite 5980</td>\n      <td>Boston</td>\n      <td>MA</td>\n      <td>021303446</td>\n      <td>6.179832e+09</td>\n      <td>Northeast Hospital Corporation</td>\n    </tr>\n    <tr>\n      <th>8922</th>\n      <td>1154478170</td>\n      <td>Thomas W Wright</td>\n      <td>M</td>\n      <td>CSW</td>\n      <td>Other</td>\n      <td>1990.0</td>\n      <td>Clinical Social Worker</td>\n      <td>297 Russell Rd</td>\n      <td>Westfield</td>\n      <td>MA</td>\n      <td>010852101</td>\n      <td>4.138756e+09</td>\n      <td>NaN</td>\n    </tr>\n    <tr>\n      <th>8926</th>\n      <td>1154477644</td>\n      <td>Susan  Gottlieb</td>\n      <td>F</td>\n      <td>NaN</td>\n      <td>Other</td>\n      <td>1977.0</td>\n      <td>Psychologist, Clinical</td>\n      <td>259 Massachusetts Ave</td>\n      <td>Arlington</td>\n      <td>MA</td>\n      <td>024748406</td>\n      <td>7.816410e+09</td>\n      <td>NaN</td>\n    </tr>\n    <tr>\n      <th>8967</th>\n      <td>1154461077</td>\n      <td>Gail  Karanikolas Perry</td>\n      <td>F</td>\n      <td>CNS</td>\n      <td>Other</td>\n      <td>1987.0</td>\n      <td>Certified Clinical Nurse Specialist (Cns)</td>\n      <td>50 N 2Nd St</td>\n      <td>New Bedford</td>\n      <td>MA</td>\n      <td>027406272</td>\n      <td>5.089976e+09</td>\n      <td>Southcoast Hospitals Group</td>\n    </tr>\n    <tr>\n      <th>8969</th>\n      <td>1154387272</td>\n      <td>Dan  Seligman</td>\n      <td>M</td>\n      <td>DPM</td>\n      <td>California School Of Podiatric Medicine</td>\n      <td>1980.0</td>\n      <td>Podiatry</td>\n      <td>0 Governors Ave Suite 7</td>\n      <td>Medford</td>\n      <td>MA</td>\n      <td>021553084</td>\n      <td>NaN</td>\n      <td>Melrosewakefield Healthcare</td>\n    </tr>\n  </tbody>\n</table>\n<p>276 rows × 13 columns</p>\n</div>"
     },
     "metadata": {}
    }
   ]
  },
  {
   "cell_type": "markdown",
   "source": "Choose a City to Find a Hospital",
   "metadata": {
    "tags": [],
    "is_collapsed": false,
    "deepnote_app_coordinates": {
     "x": 10,
     "y": 214,
     "w": 8,
     "h": 2
    },
    "cell_id": "00076-a0a268ff-a606-4071-88bd-5c199b573e6e",
    "deepnote_cell_type": "text-cell-p"
   }
  },
  {
   "cell_type": "code",
   "metadata": {
    "deepnote_variable_name": "city",
    "deepnote_variable_value": "Cambridge",
    "deepnote_variable_options": [
     "Cambridge",
     "Worcester",
     "Boston",
     "Fall River",
     "Lexington",
     "Northampton",
     "Newton",
     "Plymouth",
     "Brookline",
     "Beverly"
    ],
    "deepnote_variable_custom_options": [],
    "deepnote_variable_selected_variable": "list_cty",
    "deepnote_variable_select_type": "from-variable",
    "deepnote_to_be_reexecuted": false,
    "source_hash": "44a9a893",
    "execution_start": 1645036499962,
    "execution_millis": 1,
    "deepnote_app_coordinates": {
     "x": 10,
     "y": 218,
     "w": 8,
     "h": 4
    },
    "cell_id": "00077-f5f44fae-7f9a-4c1b-a310-175af478b25f",
    "deepnote_cell_type": "input-select"
   },
   "source": "city = 'Cambridge'",
   "execution_count": null,
   "outputs": []
  },
  {
   "cell_type": "code",
   "metadata": {
    "tags": [],
    "deepnote_to_be_reexecuted": false,
    "source_hash": "730b84de",
    "execution_start": 1645036500008,
    "execution_millis": 596,
    "deepnote_output_heights": [
     232.390625
    ],
    "cell_id": "00078-9dff68bb-f248-484f-81c3-c6ba36f024fd",
    "deepnote_cell_type": "code"
   },
   "source": "contains_cty = pd.DataFrame(df_nodupes[df_nodupes['cty'].str.contains(city)])\ncontains_cty",
   "execution_count": null,
   "outputs": [
    {
     "output_type": "execute_result",
     "execution_count": 56,
     "data": {
      "application/vnd.deepnote.dataframe.v3+json": {
       "column_count": 13,
       "row_count": 12,
       "columns": [
        {
         "name": "NPI",
         "dtype": "int64",
         "stats": {
          "unique_count": 12,
          "nan_count": 0,
          "min": "1164579264",
          "max": "1215256201",
          "histogram": [
           {
            "bin_start": 1164579264,
            "bin_end": 1169646957.7,
            "count": 3
           },
           {
            "bin_start": 1169646957.7,
            "bin_end": 1174714651.4,
            "count": 1
           },
           {
            "bin_start": 1174714651.4,
            "bin_end": 1179782345.1,
            "count": 0
           },
           {
            "bin_start": 1179782345.1,
            "bin_end": 1184850038.8,
            "count": 3
           },
           {
            "bin_start": 1184850038.8,
            "bin_end": 1189917732.5,
            "count": 0
           },
           {
            "bin_start": 1189917732.5,
            "bin_end": 1194985426.2,
            "count": 2
           },
           {
            "bin_start": 1194985426.2,
            "bin_end": 1200053119.9,
            "count": 0
           },
           {
            "bin_start": 1200053119.9,
            "bin_end": 1205120813.6,
            "count": 0
           },
           {
            "bin_start": 1205120813.6,
            "bin_end": 1210188507.3,
            "count": 0
           },
           {
            "bin_start": 1210188507.3,
            "bin_end": 1215256201,
            "count": 3
           }
          ]
         }
        },
        {
         "name": "full_name",
         "dtype": "object",
         "stats": {
          "unique_count": 12,
          "nan_count": 0,
          "categories": [
           {
            "name": "Joel A Krieg ",
            "count": 1
           },
           {
            "name": "Lynn R Bratman ",
            "count": 1
           },
           {
            "name": "10 others",
            "count": 10
           }
          ]
         }
        },
        {
         "name": " gndr",
         "dtype": "object",
         "stats": {
          "unique_count": 2,
          "nan_count": 0,
          "categories": [
           {
            "name": "F",
            "count": 7
           },
           {
            "name": "M",
            "count": 5
           }
          ]
         }
        },
        {
         "name": "Cred",
         "dtype": "object",
         "stats": {
          "unique_count": 2,
          "nan_count": 6,
          "categories": [
           {
            "name": "CSW",
            "count": 4
           },
           {
            "name": "MD",
            "count": 2
           },
           {
            "name": "Missing",
            "count": 6
           }
          ]
         }
        },
        {
         "name": "Med_sch",
         "dtype": "object",
         "stats": {
          "unique_count": 4,
          "nan_count": 0,
          "categories": [
           {
            "name": "Other",
            "count": 9
           },
           {
            "name": "National College Of Chiropractic",
            "count": 1
           },
           {
            "name": "2 others",
            "count": 2
           }
          ]
         }
        },
        {
         "name": "Grd_yr",
         "dtype": "float64",
         "stats": {
          "unique_count": 9,
          "nan_count": 0,
          "min": "1972.0",
          "max": "2007.0",
          "histogram": [
           {
            "bin_start": 1972,
            "bin_end": 1975.5,
            "count": 2
           },
           {
            "bin_start": 1975.5,
            "bin_end": 1979,
            "count": 2
           },
           {
            "bin_start": 1979,
            "bin_end": 1982.5,
            "count": 2
           },
           {
            "bin_start": 1982.5,
            "bin_end": 1986,
            "count": 0
           },
           {
            "bin_start": 1986,
            "bin_end": 1989.5,
            "count": 2
           },
           {
            "bin_start": 1989.5,
            "bin_end": 1993,
            "count": 0
           },
           {
            "bin_start": 1993,
            "bin_end": 1996.5,
            "count": 0
           },
           {
            "bin_start": 1996.5,
            "bin_end": 2000,
            "count": 2
           },
           {
            "bin_start": 2000,
            "bin_end": 2003.5,
            "count": 1
           },
           {
            "bin_start": 2003.5,
            "bin_end": 2007,
            "count": 1
           }
          ]
         }
        },
        {
         "name": "pri_spec",
         "dtype": "object",
         "stats": {
          "unique_count": 6,
          "nan_count": 0,
          "categories": [
           {
            "name": "Clinical Social Worker",
            "count": 6
           },
           {
            "name": "Psychologist, Clinical",
            "count": 2
           },
           {
            "name": "4 others",
            "count": 4
           }
          ]
         }
        },
        {
         "name": "adr",
         "dtype": "object",
         "stats": {
          "unique_count": 11,
          "nan_count": 0,
          "categories": [
           {
            "name": "10 Concord Ave ",
            "count": 2
           },
           {
            "name": "339 Broadway ",
            "count": 1
           },
           {
            "name": "9 others",
            "count": 9
           }
          ]
         }
        },
        {
         "name": "cty",
         "dtype": "object",
         "stats": {
          "unique_count": 1,
          "nan_count": 0,
          "categories": [
           {
            "name": "Cambridge",
            "count": 12
           }
          ]
         }
        },
        {
         "name": "st",
         "dtype": "object",
         "stats": {
          "unique_count": 3,
          "nan_count": 0,
          "categories": [
           {
            "name": "MA",
            "count": 10
           },
           {
            "name": "MN",
            "count": 1
           },
           {
            "name": "OH",
            "count": 1
           }
          ]
         }
        },
        {
         "name": "zip_x",
         "dtype": "object",
         "stats": {
          "unique_count": 11,
          "nan_count": 0,
          "categories": [
           {
            "name": "021382322",
            "count": 2
           },
           {
            "name": "021391839",
            "count": 1
           },
           {
            "name": "9 others",
            "count": 9
           }
          ]
         }
        },
        {
         "name": "phn_numbr",
         "dtype": "float64",
         "stats": {
          "unique_count": 11,
          "nan_count": 1,
          "min": "6172246222.0",
          "max": "7404391485.0",
          "histogram": [
           {
            "bin_start": 6172246222,
            "bin_end": 6295460748.3,
            "count": 10
           },
           {
            "bin_start": 6295460748.3,
            "bin_end": 6418675274.6,
            "count": 0
           },
           {
            "bin_start": 6418675274.6,
            "bin_end": 6541889800.9,
            "count": 0
           },
           {
            "bin_start": 6541889800.9,
            "bin_end": 6665104327.2,
            "count": 0
           },
           {
            "bin_start": 6665104327.2,
            "bin_end": 6788318853.5,
            "count": 0
           },
           {
            "bin_start": 6788318853.5,
            "bin_end": 6911533379.8,
            "count": 0
           },
           {
            "bin_start": 6911533379.8,
            "bin_end": 7034747906.1,
            "count": 0
           },
           {
            "bin_start": 7034747906.1,
            "bin_end": 7157962432.4,
            "count": 0
           },
           {
            "bin_start": 7157962432.4,
            "bin_end": 7281176958.7,
            "count": 0
           },
           {
            "bin_start": 7281176958.7,
            "bin_end": 7404391485,
            "count": 1
           }
          ]
         }
        },
        {
         "name": "hosp_afl_lbn_1",
         "dtype": "object",
         "stats": {
          "unique_count": 1,
          "nan_count": 11,
          "categories": [
           {
            "name": "Mount Auburn Hospital",
            "count": 1
           },
           {
            "name": "Missing",
            "count": 11
           }
          ]
         }
        },
        {
         "name": "_deepnote_index_column",
         "dtype": "int64"
        }
       ],
       "rows": [
        {
         "NPI": 1215256201,
         "full_name": "Joel A Krieg ",
         " gndr": "M",
         "Cred": "nan",
         "Med_sch": "Other",
         "Grd_yr": 2007,
         "pri_spec": "Clinical Social Worker",
         "adr": "10 Concord Ave ",
         "cty": "Cambridge",
         "st": "MA",
         "zip_x": "021382322",
         "phn_numbr": 6176820057,
         "hosp_afl_lbn_1": "nan",
         "_deepnote_index_column": 166
        },
        {
         "NPI": 1215039888,
         "full_name": "Lynn R Bratman ",
         " gndr": "F",
         "Cred": "nan",
         "Med_sch": "Other",
         "Grd_yr": 1978,
         "pri_spec": "Clinical Social Worker",
         "adr": "339 Broadway ",
         "cty": "Cambridge",
         "st": "MA",
         "zip_x": "021391839",
         "phn_numbr": 6174910201,
         "hosp_afl_lbn_1": "nan",
         "_deepnote_index_column": 639
        },
        {
         "NPI": 1215008321,
         "full_name": "Seward T Hunter ",
         " gndr": "M",
         "Cred": "CSW",
         "Med_sch": "Other",
         "Grd_yr": 1989,
         "pri_spec": "Clinical Social Worker",
         "adr": "49 Hancock St Suite 101",
         "cty": "Cambridge",
         "st": "MA",
         "zip_x": "021393188",
         "phn_numbr": 6176283163,
         "hosp_afl_lbn_1": "nan",
         "_deepnote_index_column": 909
        },
        {
         "NPI": 1194816413,
         "full_name": "Josephine Z Helmbrecht ",
         " gndr": "F",
         "Cred": "nan",
         "Med_sch": "Other",
         "Grd_yr": 2000,
         "pri_spec": "Qualified Audiologist",
         "adr": "110 1St Ave East 2 P.O. Box 589",
         "cty": "Cambridge",
         "st": "MN",
         "zip_x": "550081537",
         "phn_numbr": "nan",
         "hosp_afl_lbn_1": "nan",
         "_deepnote_index_column": 2647
        },
        {
         "NPI": 1194831685,
         "full_name": "Gail  Marsh ",
         " gndr": "F",
         "Cred": "CSW",
         "Med_sch": "Other",
         "Grd_yr": 1982,
         "pri_spec": "Clinical Social Worker",
         "adr": "2557 Massachusetts Ave 1A",
         "cty": "Cambridge",
         "st": "MA",
         "zip_x": "021401020",
         "phn_numbr": 6174923185,
         "hosp_afl_lbn_1": "nan",
         "_deepnote_index_column": 2706
        },
        {
         "NPI": 1184738635,
         "full_name": "Rick E Cox ",
         " gndr": "M",
         "Cred": "nan",
         "Med_sch": "National College Of Chiropractic",
         "Grd_yr": 1982,
         "pri_spec": "Chiropractic",
         "adr": "9433 Cadiz Rd ",
         "cty": "Cambridge",
         "st": "OH",
         "zip_x": "437259193",
         "phn_numbr": 7404391485,
         "hosp_afl_lbn_1": "nan",
         "_deepnote_index_column": 4429
        },
        {
         "NPI": 1184668691,
         "full_name": "Burton D Rabinowitz ",
         " gndr": "M",
         "Cred": "MD",
         "Med_sch": "Albert Einstein College Of Medicine Of Yeshiva University",
         "Grd_yr": 1972,
         "pri_spec": "Cardiovascular Disease (Cardiology)",
         "adr": "300 Mount Auburn St Suite 511",
         "cty": "Cambridge",
         "st": "MA",
         "zip_x": "021385665",
         "phn_numbr": 6178765656,
         "hosp_afl_lbn_1": "Mount Auburn Hospital",
         "_deepnote_index_column": 4490
        },
        {
         "NPI": 1184634784,
         "full_name": "Alison R Travis ",
         " gndr": "F",
         "Cred": "CSW",
         "Med_sch": "Other",
         "Grd_yr": 1997,
         "pri_spec": "Clinical Social Worker",
         "adr": "10 Concord Ave ",
         "cty": "Cambridge",
         "st": "MA",
         "zip_x": "021382322",
         "phn_numbr": 6172246222,
         "hosp_afl_lbn_1": "nan",
         "_deepnote_index_column": 5216
        },
        {
         "NPI": 1174665582,
         "full_name": "Michele L Millon ",
         " gndr": "F",
         "Cred": "nan",
         "Med_sch": "Other",
         "Grd_yr": 1998,
         "pri_spec": "Psychologist, Clinical",
         "adr": "333 Western Ave ",
         "cty": "Cambridge",
         "st": "MA",
         "zip_x": "021393747",
         "phn_numbr": 6175470703,
         "hosp_afl_lbn_1": "nan",
         "_deepnote_index_column": 5483
        },
        {
         "NPI": 1164592952,
         "full_name": "Cheryl M Sanders ",
         " gndr": "F",
         "Cred": "CSW",
         "Med_sch": "Other",
         "Grd_yr": 1972,
         "pri_spec": "Clinical Social Worker",
         "adr": "1 Arnold Cir ",
         "cty": "Cambridge",
         "st": "MA",
         "zip_x": "021392250",
         "phn_numbr": 6174384166,
         "hosp_afl_lbn_1": "nan",
         "_deepnote_index_column": 7000
        }
       ]
      },
      "text/plain": "             NPI                full_name  gndr Cred  \\\n166   1215256201            Joel A Krieg      M  NaN   \n639   1215039888          Lynn R Bratman      F  NaN   \n909   1215008321         Seward T Hunter      M  CSW   \n2647  1194816413  Josephine Z Helmbrecht      F  NaN   \n2706  1194831685             Gail  Marsh      F  CSW   \n4429  1184738635              Rick E Cox      M  NaN   \n4490  1184668691     Burton D Rabinowitz      M   MD   \n5216  1184634784         Alison R Travis      F  CSW   \n5483  1174665582        Michele L Millon      F  NaN   \n7000  1164592952        Cheryl M Sanders      F  CSW   \n7037  1164585030          Patricia A Rea      F   MD   \n7943  1164579264           James P Leone      M  NaN   \n\n                                                Med_sch  Grd_yr  \\\n166                                               Other  2007.0   \n639                                               Other  1978.0   \n909                                               Other  1989.0   \n2647                                              Other  2000.0   \n2706                                              Other  1982.0   \n4429                   National College Of Chiropractic  1982.0   \n4490  Albert Einstein College Of Medicine Of Yeshiva...  1972.0   \n5216                                              Other  1997.0   \n5483                                              Other  1998.0   \n7000                                              Other  1972.0   \n7037       University Of Cincinnati College Of Medicine  1987.0   \n7943                                              Other  1978.0   \n\n                                 pri_spec                              adr  \\\n166                Clinical Social Worker                  10 Concord Ave    \n639                Clinical Social Worker                    339 Broadway    \n909                Clinical Social Worker          49 Hancock St Suite 101   \n2647                Qualified Audiologist  110 1St Ave East 2 P.O. Box 589   \n2706               Clinical Social Worker        2557 Massachusetts Ave 1A   \n4429                         Chiropractic                   9433 Cadiz Rd    \n4490  Cardiovascular Disease (Cardiology)    300 Mount Auburn St Suite 511   \n5216               Clinical Social Worker                  10 Concord Ave    \n5483               Psychologist, Clinical                 333 Western Ave    \n7000               Clinical Social Worker                    1 Arnold Cir    \n7037                           Psychiatry                     2 Brewer St    \n7943               Psychologist, Clinical   875 Massachusetts Ave Suite 24   \n\n            cty  st      zip_x     phn_numbr         hosp_afl_lbn_1  \n166   Cambridge  MA  021382322  6.176820e+09                    NaN  \n639   Cambridge  MA  021391839  6.174910e+09                    NaN  \n909   Cambridge  MA  021393188  6.176283e+09                    NaN  \n2647  Cambridge  MN  550081537           NaN                    NaN  \n2706  Cambridge  MA  021401020  6.174923e+09                    NaN  \n4429  Cambridge  OH  437259193  7.404391e+09                    NaN  \n4490  Cambridge  MA  021385665  6.178766e+09  Mount Auburn Hospital  \n5216  Cambridge  MA  021382322  6.172246e+09                    NaN  \n5483  Cambridge  MA  021393747  6.175471e+09                    NaN  \n7000  Cambridge  MA  021392250  6.174384e+09                    NaN  \n7037  Cambridge  MA  021385710  6.176616e+09                    NaN  \n7943  Cambridge  MA  021393070  6.175478e+09                    NaN  ",
      "text/html": "<div>\n<style scoped>\n    .dataframe tbody tr th:only-of-type {\n        vertical-align: middle;\n    }\n\n    .dataframe tbody tr th {\n        vertical-align: top;\n    }\n\n    .dataframe thead th {\n        text-align: right;\n    }\n</style>\n<table border=\"1\" class=\"dataframe\">\n  <thead>\n    <tr style=\"text-align: right;\">\n      <th></th>\n      <th>NPI</th>\n      <th>full_name</th>\n      <th>gndr</th>\n      <th>Cred</th>\n      <th>Med_sch</th>\n      <th>Grd_yr</th>\n      <th>pri_spec</th>\n      <th>adr</th>\n      <th>cty</th>\n      <th>st</th>\n      <th>zip_x</th>\n      <th>phn_numbr</th>\n      <th>hosp_afl_lbn_1</th>\n    </tr>\n  </thead>\n  <tbody>\n    <tr>\n      <th>166</th>\n      <td>1215256201</td>\n      <td>Joel A Krieg</td>\n      <td>M</td>\n      <td>NaN</td>\n      <td>Other</td>\n      <td>2007.0</td>\n      <td>Clinical Social Worker</td>\n      <td>10 Concord Ave</td>\n      <td>Cambridge</td>\n      <td>MA</td>\n      <td>021382322</td>\n      <td>6.176820e+09</td>\n      <td>NaN</td>\n    </tr>\n    <tr>\n      <th>639</th>\n      <td>1215039888</td>\n      <td>Lynn R Bratman</td>\n      <td>F</td>\n      <td>NaN</td>\n      <td>Other</td>\n      <td>1978.0</td>\n      <td>Clinical Social Worker</td>\n      <td>339 Broadway</td>\n      <td>Cambridge</td>\n      <td>MA</td>\n      <td>021391839</td>\n      <td>6.174910e+09</td>\n      <td>NaN</td>\n    </tr>\n    <tr>\n      <th>909</th>\n      <td>1215008321</td>\n      <td>Seward T Hunter</td>\n      <td>M</td>\n      <td>CSW</td>\n      <td>Other</td>\n      <td>1989.0</td>\n      <td>Clinical Social Worker</td>\n      <td>49 Hancock St Suite 101</td>\n      <td>Cambridge</td>\n      <td>MA</td>\n      <td>021393188</td>\n      <td>6.176283e+09</td>\n      <td>NaN</td>\n    </tr>\n    <tr>\n      <th>2647</th>\n      <td>1194816413</td>\n      <td>Josephine Z Helmbrecht</td>\n      <td>F</td>\n      <td>NaN</td>\n      <td>Other</td>\n      <td>2000.0</td>\n      <td>Qualified Audiologist</td>\n      <td>110 1St Ave East 2 P.O. Box 589</td>\n      <td>Cambridge</td>\n      <td>MN</td>\n      <td>550081537</td>\n      <td>NaN</td>\n      <td>NaN</td>\n    </tr>\n    <tr>\n      <th>2706</th>\n      <td>1194831685</td>\n      <td>Gail  Marsh</td>\n      <td>F</td>\n      <td>CSW</td>\n      <td>Other</td>\n      <td>1982.0</td>\n      <td>Clinical Social Worker</td>\n      <td>2557 Massachusetts Ave 1A</td>\n      <td>Cambridge</td>\n      <td>MA</td>\n      <td>021401020</td>\n      <td>6.174923e+09</td>\n      <td>NaN</td>\n    </tr>\n    <tr>\n      <th>4429</th>\n      <td>1184738635</td>\n      <td>Rick E Cox</td>\n      <td>M</td>\n      <td>NaN</td>\n      <td>National College Of Chiropractic</td>\n      <td>1982.0</td>\n      <td>Chiropractic</td>\n      <td>9433 Cadiz Rd</td>\n      <td>Cambridge</td>\n      <td>OH</td>\n      <td>437259193</td>\n      <td>7.404391e+09</td>\n      <td>NaN</td>\n    </tr>\n    <tr>\n      <th>4490</th>\n      <td>1184668691</td>\n      <td>Burton D Rabinowitz</td>\n      <td>M</td>\n      <td>MD</td>\n      <td>Albert Einstein College Of Medicine Of Yeshiva...</td>\n      <td>1972.0</td>\n      <td>Cardiovascular Disease (Cardiology)</td>\n      <td>300 Mount Auburn St Suite 511</td>\n      <td>Cambridge</td>\n      <td>MA</td>\n      <td>021385665</td>\n      <td>6.178766e+09</td>\n      <td>Mount Auburn Hospital</td>\n    </tr>\n    <tr>\n      <th>5216</th>\n      <td>1184634784</td>\n      <td>Alison R Travis</td>\n      <td>F</td>\n      <td>CSW</td>\n      <td>Other</td>\n      <td>1997.0</td>\n      <td>Clinical Social Worker</td>\n      <td>10 Concord Ave</td>\n      <td>Cambridge</td>\n      <td>MA</td>\n      <td>021382322</td>\n      <td>6.172246e+09</td>\n      <td>NaN</td>\n    </tr>\n    <tr>\n      <th>5483</th>\n      <td>1174665582</td>\n      <td>Michele L Millon</td>\n      <td>F</td>\n      <td>NaN</td>\n      <td>Other</td>\n      <td>1998.0</td>\n      <td>Psychologist, Clinical</td>\n      <td>333 Western Ave</td>\n      <td>Cambridge</td>\n      <td>MA</td>\n      <td>021393747</td>\n      <td>6.175471e+09</td>\n      <td>NaN</td>\n    </tr>\n    <tr>\n      <th>7000</th>\n      <td>1164592952</td>\n      <td>Cheryl M Sanders</td>\n      <td>F</td>\n      <td>CSW</td>\n      <td>Other</td>\n      <td>1972.0</td>\n      <td>Clinical Social Worker</td>\n      <td>1 Arnold Cir</td>\n      <td>Cambridge</td>\n      <td>MA</td>\n      <td>021392250</td>\n      <td>6.174384e+09</td>\n      <td>NaN</td>\n    </tr>\n    <tr>\n      <th>7037</th>\n      <td>1164585030</td>\n      <td>Patricia A Rea</td>\n      <td>F</td>\n      <td>MD</td>\n      <td>University Of Cincinnati College Of Medicine</td>\n      <td>1987.0</td>\n      <td>Psychiatry</td>\n      <td>2 Brewer St</td>\n      <td>Cambridge</td>\n      <td>MA</td>\n      <td>021385710</td>\n      <td>6.176616e+09</td>\n      <td>NaN</td>\n    </tr>\n    <tr>\n      <th>7943</th>\n      <td>1164579264</td>\n      <td>James P Leone</td>\n      <td>M</td>\n      <td>NaN</td>\n      <td>Other</td>\n      <td>1978.0</td>\n      <td>Psychologist, Clinical</td>\n      <td>875 Massachusetts Ave Suite 24</td>\n      <td>Cambridge</td>\n      <td>MA</td>\n      <td>021393070</td>\n      <td>6.175478e+09</td>\n      <td>NaN</td>\n    </tr>\n  </tbody>\n</table>\n</div>"
     },
     "metadata": {}
    }
   ]
  },
  {
   "cell_type": "code",
   "metadata": {
    "tags": [],
    "deepnote_to_be_reexecuted": false,
    "source_hash": "c5619dcd",
    "execution_start": 1645036500063,
    "execution_millis": 552,
    "deepnote_output_heights": [
     59.59375,
     265
    ],
    "deepnote_app_coordinates": {
     "x": 10,
     "y": 222,
     "w": 8,
     "h": 8
    },
    "deepnote_app_is_code_hidden": true,
    "cell_id": "00079-0b42ba05-a2b3-4d96-9daf-d975bfd8f7ff",
    "deepnote_cell_type": "code"
   },
   "source": "hospitals = contains_cty.pivot_table(columns=['hosp_afl_lbn_1'], aggfunc='size').nlargest(10)\nprint('Hospitals in your city: ')\nprint(hospitals)",
   "execution_count": null,
   "outputs": [
    {
     "name": "stdout",
     "text": "Hospitals in your city: \nhosp_afl_lbn_1\nMount Auburn Hospital    1\ndtype: int64\n",
     "output_type": "stream"
    }
   ]
  },
  {
   "cell_type": "markdown",
   "source": "Please type the specialty you would like to search for below.",
   "metadata": {
    "tags": [],
    "is_collapsed": false,
    "deepnote_app_coordinates": {
     "x": 0,
     "y": 233,
     "w": 8,
     "h": 2
    },
    "cell_id": "00080-cdba3918-f87a-46c6-9978-8d2bd840c26b",
    "deepnote_cell_type": "text-cell-p"
   }
  },
  {
   "cell_type": "code",
   "metadata": {
    "deepnote_variable_name": "selected_specialty",
    "deepnote_variable_value": "Internal Medicine",
    "deepnote_to_be_reexecuted": false,
    "source_hash": "7e1d41e4",
    "execution_start": 1645036500113,
    "execution_millis": 47276308,
    "deepnote_app_coordinates": {
     "x": 0,
     "y": 236,
     "w": 8,
     "h": 4
    },
    "cell_id": "00081-2d86846b-8213-4e0a-8505-6016b245ddf7",
    "deepnote_cell_type": "input-text"
   },
   "source": "selected_specialty = 'Internal Medicine'",
   "execution_count": null,
   "outputs": []
  },
  {
   "cell_type": "code",
   "metadata": {
    "deepnote_variable_name": "years_of_experience",
    "deepnote_variable_value": "24",
    "deepnote_slider_min_value": 1,
    "deepnote_slider_max_value": 50,
    "deepnote_slider_step": 1,
    "deepnote_to_be_reexecuted": false,
    "source_hash": "d9532981",
    "execution_start": 1645036500115,
    "execution_millis": 47276283,
    "deepnote_app_coordinates": {
     "x": 0,
     "y": 241,
     "w": 8,
     "h": 4
    },
    "cell_id": "00082-5a74da91-1dc2-4e88-b6e9-30499b488d81",
    "deepnote_cell_type": "input-slider"
   },
   "source": "years_of_experience = 24",
   "execution_count": null,
   "outputs": []
  },
  {
   "cell_type": "code",
   "metadata": {
    "tags": [],
    "deepnote_to_be_reexecuted": false,
    "source_hash": "29c78b79",
    "execution_start": 1645036500117,
    "execution_millis": 507,
    "deepnote_app_is_code_hidden": true,
    "cell_id": "00083-2e9b8654-0c18-4fd1-9b40-e75f0f31aa0c",
    "deepnote_cell_type": "code"
   },
   "source": "contains_spec = df_nodupes[df_nodupes['pri_spec'].str.contains(selected_specialty)]\nspec_st = contains_spec[df_nodupes['st'].str.contains(state)]\ndf_spec_st = pd.DataFrame(contains_spec)",
   "execution_count": null,
   "outputs": [
    {
     "name": "stderr",
     "text": "/shared-libs/python3.7/py-core/lib/python3.7/site-packages/ipykernel_launcher.py:2: UserWarning: Boolean Series key will be reindexed to match DataFrame index.\n  \n",
     "output_type": "stream"
    }
   ]
  },
  {
   "cell_type": "code",
   "metadata": {
    "tags": [],
    "deepnote_to_be_reexecuted": false,
    "source_hash": "7bebd75",
    "execution_start": 1645036500120,
    "execution_millis": 519,
    "deepnote_output_heights": [
     21.1875
    ],
    "deepnote_app_coordinates": {
     "x": 0,
     "y": 246,
     "w": 12,
     "h": 6
    },
    "cell_id": "00084-8e763c22-5ff8-4bc1-bfc9-b4907e927078",
    "deepnote_cell_type": "code"
   },
   "source": "max_yr_grad = 2022 - years_of_experience\nmax_yr_grad",
   "execution_count": null,
   "outputs": [
    {
     "output_type": "execute_result",
     "execution_count": 61,
     "data": {
      "text/plain": "1998"
     },
     "metadata": {}
    }
   ]
  },
  {
   "cell_type": "markdown",
   "source": "# Table Featuring Doctors Meeting Your Requests",
   "metadata": {
    "tags": [],
    "is_collapsed": false,
    "deepnote_app_coordinates": {
     "x": 0,
     "y": 253,
     "w": 18,
     "h": 8
    },
    "cell_id": "00085-4c0daade-81a5-4f46-9ed7-60ad690bb66a",
    "deepnote_cell_type": "text-cell-h1"
   }
  },
  {
   "cell_type": "code",
   "metadata": {
    "tags": [],
    "deepnote_to_be_reexecuted": false,
    "source_hash": "6139f554",
    "execution_start": 1645036500124,
    "execution_millis": 517,
    "deepnote_output_heights": [
     232.390625
    ],
    "deepnote_app_coordinates": {
     "x": 0,
     "y": 262,
     "w": 24,
     "h": 26
    },
    "cell_id": "00086-f177592d-ee46-4483-97eb-745b593e3df5",
    "deepnote_cell_type": "code"
   },
   "source": "qual_df= df_spec_st.loc[df_spec_st['Grd_yr']<=max_yr_grad]\nqual_df",
   "execution_count": null,
   "outputs": [
    {
     "output_type": "execute_result",
     "execution_count": 62,
     "data": {
      "application/vnd.deepnote.dataframe.v3+json": {
       "column_count": 13,
       "row_count": 643,
       "columns": [
        {
         "name": "NPI",
         "dtype": "int64",
         "stats": {
          "unique_count": 643,
          "nan_count": 0,
          "min": "1154359230",
          "max": "1215268875",
          "histogram": [
           {
            "bin_start": 1154359230,
            "bin_end": 1160450194.5,
            "count": 29
           },
           {
            "bin_start": 1160450194.5,
            "bin_end": 1166541159,
            "count": 119
           },
           {
            "bin_start": 1166541159,
            "bin_end": 1172632123.5,
            "count": 0
           },
           {
            "bin_start": 1172632123.5,
            "bin_end": 1178723088,
            "count": 109
           },
           {
            "bin_start": 1178723088,
            "bin_end": 1184814052.5,
            "count": 120
           },
           {
            "bin_start": 1184814052.5,
            "bin_end": 1190905017,
            "count": 5
           },
           {
            "bin_start": 1190905017,
            "bin_end": 1196995981.5,
            "count": 113
           },
           {
            "bin_start": 1196995981.5,
            "bin_end": 1203086946,
            "count": 0
           },
           {
            "bin_start": 1203086946,
            "bin_end": 1209177910.5,
            "count": 103
           },
           {
            "bin_start": 1209177910.5,
            "bin_end": 1215268875,
            "count": 45
           }
          ]
         }
        },
        {
         "name": "full_name",
         "dtype": "object",
         "stats": {
          "unique_count": 643,
          "nan_count": 0,
          "categories": [
           {
            "name": "Yevgeniy  Dyakovetsky ",
            "count": 1
           },
           {
            "name": "Hung  Ngo ",
            "count": 1
           },
           {
            "name": "641 others",
            "count": 641
           }
          ]
         }
        },
        {
         "name": " gndr",
         "dtype": "object",
         "stats": {
          "unique_count": 2,
          "nan_count": 0,
          "categories": [
           {
            "name": "M",
            "count": 496
           },
           {
            "name": "F",
            "count": 147
           }
          ]
         }
        },
        {
         "name": "Cred",
         "dtype": "object",
         "stats": {
          "unique_count": 2,
          "nan_count": 300,
          "categories": [
           {
            "name": "MD",
            "count": 326
           },
           {
            "name": "DO",
            "count": 17
           },
           {
            "name": "Missing",
            "count": 300
           }
          ]
         }
        },
        {
         "name": "Med_sch",
         "dtype": "object",
         "stats": {
          "unique_count": 109,
          "nan_count": 0,
          "categories": [
           {
            "name": "Other",
            "count": 390
           },
           {
            "name": "New York College Of Osteo Medicine Of New York Institute Of Technology",
            "count": 8
           },
           {
            "name": "107 others",
            "count": 245
           }
          ]
         }
        },
        {
         "name": "Grd_yr",
         "dtype": "float64",
         "stats": {
          "unique_count": 40,
          "nan_count": 0,
          "min": "1954.0",
          "max": "1998.0",
          "histogram": [
           {
            "bin_start": 1954,
            "bin_end": 1958.4,
            "count": 1
           },
           {
            "bin_start": 1958.4,
            "bin_end": 1962.8,
            "count": 4
           },
           {
            "bin_start": 1962.8,
            "bin_end": 1967.2,
            "count": 16
           },
           {
            "bin_start": 1967.2,
            "bin_end": 1971.6,
            "count": 21
           },
           {
            "bin_start": 1971.6,
            "bin_end": 1976,
            "count": 42
           },
           {
            "bin_start": 1976,
            "bin_end": 1980.4,
            "count": 90
           },
           {
            "bin_start": 1980.4,
            "bin_end": 1984.8,
            "count": 109
           },
           {
            "bin_start": 1984.8,
            "bin_end": 1989.2,
            "count": 124
           },
           {
            "bin_start": 1989.2,
            "bin_end": 1993.6,
            "count": 118
           },
           {
            "bin_start": 1993.6,
            "bin_end": 1998,
            "count": 118
           }
          ]
         }
        },
        {
         "name": "pri_spec",
         "dtype": "object",
         "stats": {
          "unique_count": 1,
          "nan_count": 0,
          "categories": [
           {
            "name": "Internal Medicine",
            "count": 643
           }
          ]
         }
        },
        {
         "name": "adr",
         "dtype": "object",
         "stats": {
          "unique_count": 642,
          "nan_count": 0,
          "categories": [
           {
            "name": "14 E 69Th St ",
            "count": 2
           },
           {
            "name": "201 Lakeside Park ",
            "count": 1
           },
           {
            "name": "640 others",
            "count": 640
           }
          ]
         }
        },
        {
         "name": "cty",
         "dtype": "object",
         "stats": {
          "unique_count": 461,
          "nan_count": 0,
          "categories": [
           {
            "name": "New York",
            "count": 21
           },
           {
            "name": "Brooklyn",
            "count": 12
           },
           {
            "name": "459 others",
            "count": 610
           }
          ]
         }
        },
        {
         "name": "st",
         "dtype": "object",
         "stats": {
          "unique_count": 47,
          "nan_count": 0,
          "categories": [
           {
            "name": "NY",
            "count": 93
           },
           {
            "name": "CA",
            "count": 86
           },
           {
            "name": "45 others",
            "count": 464
           }
          ]
         }
        },
        {
         "name": "zip_x",
         "dtype": "object",
         "stats": {
          "unique_count": 640,
          "nan_count": 0,
          "categories": [
           {
            "name": "009616942",
            "count": 2
           },
           {
            "name": "330281010",
            "count": 2
           },
           {
            "name": "638 others",
            "count": 639
           }
          ]
         }
        },
        {
         "name": "phn_numbr",
         "dtype": "float64",
         "stats": {
          "unique_count": 181,
          "nan_count": 462,
          "min": "2016648663.0",
          "max": "9896318300.0",
          "histogram": [
           {
            "bin_start": 2016648663,
            "bin_end": 2804615626.7,
            "count": 26
           },
           {
            "bin_start": 2804615626.7,
            "bin_end": 3592582590.4,
            "count": 15
           },
           {
            "bin_start": 3592582590.4,
            "bin_end": 4380549554.1,
            "count": 12
           },
           {
            "bin_start": 4380549554.1,
            "bin_end": 5168516517.8,
            "count": 14
           },
           {
            "bin_start": 5168516517.8,
            "bin_end": 5956483481.5,
            "count": 10
           },
           {
            "bin_start": 5956483481.5,
            "bin_end": 6744450445.200001,
            "count": 12
           },
           {
            "bin_start": 6744450445.200001,
            "bin_end": 7532417408.900001,
            "count": 22
           },
           {
            "bin_start": 7532417408.900001,
            "bin_end": 8320384372.6,
            "count": 42
           },
           {
            "bin_start": 8320384372.6,
            "bin_end": 9108351336.3,
            "count": 11
           },
           {
            "bin_start": 9108351336.3,
            "bin_end": 9896318300,
            "count": 17
           }
          ]
         }
        },
        {
         "name": "hosp_afl_lbn_1",
         "dtype": "object",
         "stats": {
          "unique_count": 395,
          "nan_count": 161,
          "categories": [
           {
            "name": "Maimonides Medical Center",
            "count": 4
           },
           {
            "name": "394 others",
            "count": 478
           },
           {
            "name": "Missing",
            "count": 161
           }
          ]
         }
        },
        {
         "name": "_deepnote_index_column",
         "dtype": "int64"
        }
       ],
       "rows": [
        {
         "NPI": 1215157987,
         "full_name": "Yevgeniy  Dyakovetsky ",
         " gndr": "M",
         "Cred": "nan",
         "Med_sch": "Other",
         "Grd_yr": 1981,
         "pri_spec": "Internal Medicine",
         "adr": "201 Lakeside Park ",
         "cty": "Southhampton",
         "st": "PA",
         "zip_x": "189664049",
         "phn_numbr": "nan",
         "hosp_afl_lbn_1": "nan",
         "_deepnote_index_column": 67
        },
        {
         "NPI": 1215115811,
         "full_name": "Hung  Ngo ",
         " gndr": "M",
         "Cred": "nan",
         "Med_sch": "Other",
         "Grd_yr": 1992,
         "pri_spec": "Internal Medicine",
         "adr": "5168 W Colonial Dr Suite 40",
         "cty": "Orlando",
         "st": "FL",
         "zip_x": "328087604",
         "phn_numbr": "nan",
         "hosp_afl_lbn_1": "Adventhealth Orlando",
         "_deepnote_index_column": 186
        },
        {
         "NPI": 1215268875,
         "full_name": "Roy M Arnold ",
         " gndr": "M",
         "Cred": "nan",
         "Med_sch": "University Of Alabama School Of Medicine",
         "Grd_yr": 1974,
         "pri_spec": "Internal Medicine",
         "adr": "445 N Cross Pointe Blvd Suite 140",
         "cty": "Evansville",
         "st": "IN",
         "zip_x": "477154011",
         "phn_numbr": "nan",
         "hosp_afl_lbn_1": "Deaconess Hospital Inc",
         "_deepnote_index_column": 217
        },
        {
         "NPI": 1215136254,
         "full_name": "Christian A Belliard Estevez ",
         " gndr": "M",
         "Cred": "nan",
         "Med_sch": "Other",
         "Grd_yr": 1998,
         "pri_spec": "Internal Medicine",
         "adr": "2270 University Ave 1 A",
         "cty": "Bronx",
         "st": "NY",
         "zip_x": "104686265",
         "phn_numbr": "nan",
         "hosp_afl_lbn_1": "nan",
         "_deepnote_index_column": 221
        },
        {
         "NPI": 1215215579,
         "full_name": "Noori  Al-Waili ",
         " gndr": "M",
         "Cred": "nan",
         "Med_sch": "Other",
         "Grd_yr": 1981,
         "pri_spec": "Internal Medicine",
         "adr": "10120 Lefferts Blvd ",
         "cty": "South Richmond Hill",
         "st": "NY",
         "zip_x": "114192006",
         "phn_numbr": "nan",
         "hosp_afl_lbn_1": "St John'S Episcopal Hospital At South Shore",
         "_deepnote_index_column": 272
        },
        {
         "NPI": 1205949906,
         "full_name": "Hector M Mendez Rivera ",
         " gndr": "M",
         "Cred": "MD",
         "Med_sch": "University Of Puerto Rico School Of Medicine",
         "Grd_yr": 1990,
         "pri_spec": "Internal Medicine",
         "adr": "Ac-5 Ave Monserrate ",
         "cty": "Carolina",
         "st": "PR",
         "zip_x": "00983",
         "phn_numbr": 7877681460,
         "hosp_afl_lbn_1": "nan",
         "_deepnote_index_column": 319
        },
        {
         "NPI": 1215036074,
         "full_name": "Elizabeth  Spark ",
         " gndr": "F",
         "Cred": "MD",
         "Med_sch": "Other",
         "Grd_yr": 1972,
         "pri_spec": "Internal Medicine",
         "adr": "7 Liberty St ",
         "cty": "Natick",
         "st": "MA",
         "zip_x": "017601217",
         "phn_numbr": 6179656300,
         "hosp_afl_lbn_1": "nan",
         "_deepnote_index_column": 335
        },
        {
         "NPI": 1215098702,
         "full_name": "Sheldon  Ceaser ",
         " gndr": "M",
         "Cred": "nan",
         "Med_sch": "University Of Illinois College Of Med (Chi/Peor/Rock/Chm-Urb)",
         "Grd_yr": 1982,
         "pri_spec": "Internal Medicine",
         "adr": "231 E 75Th St ",
         "cty": "Chicago",
         "st": "IL",
         "zip_x": "606192267",
         "phn_numbr": "nan",
         "hosp_afl_lbn_1": "Mercy Hospital And Medical Center",
         "_deepnote_index_column": 343
        },
        {
         "NPI": 1205918802,
         "full_name": "Bela  Shestopalova ",
         " gndr": "F",
         "Cred": "nan",
         "Med_sch": "Other",
         "Grd_yr": 1978,
         "pri_spec": "Internal Medicine",
         "adr": "1105 Spring St G ",
         "cty": "Silver Spring",
         "st": "MD",
         "zip_x": "209104026",
         "phn_numbr": 3015881181,
         "hosp_afl_lbn_1": "nan",
         "_deepnote_index_column": 353
        },
        {
         "NPI": 1205920626,
         "full_name": "Julian R Craig ",
         " gndr": "M",
         "Cred": "MD",
         "Med_sch": "Other",
         "Grd_yr": 1988,
         "pri_spec": "Internal Medicine",
         "adr": "1328 Southern Ave Se Suite 312",
         "cty": "Washington",
         "st": "DC",
         "zip_x": "200324689",
         "phn_numbr": "nan",
         "hosp_afl_lbn_1": "United Medical Center",
         "_deepnote_index_column": 359
        }
       ]
      },
      "text/plain": "             NPI                      full_name  gndr Cred  \\\n67    1215157987         Yevgeniy  Dyakovetsky      M  NaN   \n186   1215115811                     Hung  Ngo      M  NaN   \n217   1215268875                  Roy M Arnold      M  NaN   \n221   1215136254  Christian A Belliard Estevez      M  NaN   \n272   1215215579               Noori  Al-Waili      M  NaN   \n...          ...                            ...   ...  ...   \n8940  1154373975               William E Crowe      M  NaN   \n8952  1154438455                Benjamin  Udoh      M   MD   \n8956  1154407310                Ahmed G Haider      M  NaN   \n8970  1154389492              Vicente T Falgui      M  NaN   \n8977  1154359230               Vasif A Humayun      M   MD   \n\n                                        Med_sch  Grd_yr           pri_spec  \\\n67                                        Other  1981.0  Internal Medicine   \n186                                       Other  1992.0  Internal Medicine   \n217    University Of Alabama School Of Medicine  1974.0  Internal Medicine   \n221                                       Other  1998.0  Internal Medicine   \n272                                       Other  1981.0  Internal Medicine   \n...                                         ...     ...                ...   \n8940  Saint Louis University School Of Medicine  1972.0  Internal Medicine   \n8952                                      Other  1983.0  Internal Medicine   \n8956                                      Other  1988.0  Internal Medicine   \n8970                                      Other  1966.0  Internal Medicine   \n8977                                      Other  1984.0  Internal Medicine   \n\n                                    adr                  cty  st      zip_x  \\\n67                   201 Lakeside Park          Southhampton  PA  189664049   \n186         5168 W Colonial Dr Suite 40              Orlando  FL  328087604   \n217   445 N Cross Pointe Blvd Suite 140           Evansville  IN  477154011   \n221             2270 University Ave 1 A                Bronx  NY  104686265   \n272                10120 Lefferts Blvd   South Richmond Hill  NY  114192006   \n...                                 ...                  ...  ..        ...   \n8940            6681 Ridge Rd Suite 204                Parma  OH  441295705   \n8952                      2620 Owen Dr          Fayetteville  NC  283062933   \n8956             1466 Saint Peters Ave                 Bronx  NY  104613304   \n8970              212 S Main St Suite 3             Danville  VA  245412943   \n8977              11410 E Fwy Suite 168              Houston  TX  770291986   \n\n      phn_numbr                               hosp_afl_lbn_1  \n67          NaN                                          NaN  \n186         NaN                         Adventhealth Orlando  \n217         NaN                       Deaconess Hospital Inc  \n221         NaN                                          NaN  \n272         NaN  St John'S Episcopal Hospital At South Shore  \n...         ...                                          ...  \n8940        NaN             Parma Community General Hospital  \n8952        NaN                                          NaN  \n8956        NaN                                          NaN  \n8970        NaN                    Sovah Health Martinsville  \n8977        NaN                                          NaN  \n\n[643 rows x 13 columns]",
      "text/html": "<div>\n<style scoped>\n    .dataframe tbody tr th:only-of-type {\n        vertical-align: middle;\n    }\n\n    .dataframe tbody tr th {\n        vertical-align: top;\n    }\n\n    .dataframe thead th {\n        text-align: right;\n    }\n</style>\n<table border=\"1\" class=\"dataframe\">\n  <thead>\n    <tr style=\"text-align: right;\">\n      <th></th>\n      <th>NPI</th>\n      <th>full_name</th>\n      <th>gndr</th>\n      <th>Cred</th>\n      <th>Med_sch</th>\n      <th>Grd_yr</th>\n      <th>pri_spec</th>\n      <th>adr</th>\n      <th>cty</th>\n      <th>st</th>\n      <th>zip_x</th>\n      <th>phn_numbr</th>\n      <th>hosp_afl_lbn_1</th>\n    </tr>\n  </thead>\n  <tbody>\n    <tr>\n      <th>67</th>\n      <td>1215157987</td>\n      <td>Yevgeniy  Dyakovetsky</td>\n      <td>M</td>\n      <td>NaN</td>\n      <td>Other</td>\n      <td>1981.0</td>\n      <td>Internal Medicine</td>\n      <td>201 Lakeside Park</td>\n      <td>Southhampton</td>\n      <td>PA</td>\n      <td>189664049</td>\n      <td>NaN</td>\n      <td>NaN</td>\n    </tr>\n    <tr>\n      <th>186</th>\n      <td>1215115811</td>\n      <td>Hung  Ngo</td>\n      <td>M</td>\n      <td>NaN</td>\n      <td>Other</td>\n      <td>1992.0</td>\n      <td>Internal Medicine</td>\n      <td>5168 W Colonial Dr Suite 40</td>\n      <td>Orlando</td>\n      <td>FL</td>\n      <td>328087604</td>\n      <td>NaN</td>\n      <td>Adventhealth Orlando</td>\n    </tr>\n    <tr>\n      <th>217</th>\n      <td>1215268875</td>\n      <td>Roy M Arnold</td>\n      <td>M</td>\n      <td>NaN</td>\n      <td>University Of Alabama School Of Medicine</td>\n      <td>1974.0</td>\n      <td>Internal Medicine</td>\n      <td>445 N Cross Pointe Blvd Suite 140</td>\n      <td>Evansville</td>\n      <td>IN</td>\n      <td>477154011</td>\n      <td>NaN</td>\n      <td>Deaconess Hospital Inc</td>\n    </tr>\n    <tr>\n      <th>221</th>\n      <td>1215136254</td>\n      <td>Christian A Belliard Estevez</td>\n      <td>M</td>\n      <td>NaN</td>\n      <td>Other</td>\n      <td>1998.0</td>\n      <td>Internal Medicine</td>\n      <td>2270 University Ave 1 A</td>\n      <td>Bronx</td>\n      <td>NY</td>\n      <td>104686265</td>\n      <td>NaN</td>\n      <td>NaN</td>\n    </tr>\n    <tr>\n      <th>272</th>\n      <td>1215215579</td>\n      <td>Noori  Al-Waili</td>\n      <td>M</td>\n      <td>NaN</td>\n      <td>Other</td>\n      <td>1981.0</td>\n      <td>Internal Medicine</td>\n      <td>10120 Lefferts Blvd</td>\n      <td>South Richmond Hill</td>\n      <td>NY</td>\n      <td>114192006</td>\n      <td>NaN</td>\n      <td>St John'S Episcopal Hospital At South Shore</td>\n    </tr>\n    <tr>\n      <th>...</th>\n      <td>...</td>\n      <td>...</td>\n      <td>...</td>\n      <td>...</td>\n      <td>...</td>\n      <td>...</td>\n      <td>...</td>\n      <td>...</td>\n      <td>...</td>\n      <td>...</td>\n      <td>...</td>\n      <td>...</td>\n      <td>...</td>\n    </tr>\n    <tr>\n      <th>8940</th>\n      <td>1154373975</td>\n      <td>William E Crowe</td>\n      <td>M</td>\n      <td>NaN</td>\n      <td>Saint Louis University School Of Medicine</td>\n      <td>1972.0</td>\n      <td>Internal Medicine</td>\n      <td>6681 Ridge Rd Suite 204</td>\n      <td>Parma</td>\n      <td>OH</td>\n      <td>441295705</td>\n      <td>NaN</td>\n      <td>Parma Community General Hospital</td>\n    </tr>\n    <tr>\n      <th>8952</th>\n      <td>1154438455</td>\n      <td>Benjamin  Udoh</td>\n      <td>M</td>\n      <td>MD</td>\n      <td>Other</td>\n      <td>1983.0</td>\n      <td>Internal Medicine</td>\n      <td>2620 Owen Dr</td>\n      <td>Fayetteville</td>\n      <td>NC</td>\n      <td>283062933</td>\n      <td>NaN</td>\n      <td>NaN</td>\n    </tr>\n    <tr>\n      <th>8956</th>\n      <td>1154407310</td>\n      <td>Ahmed G Haider</td>\n      <td>M</td>\n      <td>NaN</td>\n      <td>Other</td>\n      <td>1988.0</td>\n      <td>Internal Medicine</td>\n      <td>1466 Saint Peters Ave</td>\n      <td>Bronx</td>\n      <td>NY</td>\n      <td>104613304</td>\n      <td>NaN</td>\n      <td>NaN</td>\n    </tr>\n    <tr>\n      <th>8970</th>\n      <td>1154389492</td>\n      <td>Vicente T Falgui</td>\n      <td>M</td>\n      <td>NaN</td>\n      <td>Other</td>\n      <td>1966.0</td>\n      <td>Internal Medicine</td>\n      <td>212 S Main St Suite 3</td>\n      <td>Danville</td>\n      <td>VA</td>\n      <td>245412943</td>\n      <td>NaN</td>\n      <td>Sovah Health Martinsville</td>\n    </tr>\n    <tr>\n      <th>8977</th>\n      <td>1154359230</td>\n      <td>Vasif A Humayun</td>\n      <td>M</td>\n      <td>MD</td>\n      <td>Other</td>\n      <td>1984.0</td>\n      <td>Internal Medicine</td>\n      <td>11410 E Fwy Suite 168</td>\n      <td>Houston</td>\n      <td>TX</td>\n      <td>770291986</td>\n      <td>NaN</td>\n      <td>NaN</td>\n    </tr>\n  </tbody>\n</table>\n<p>643 rows × 13 columns</p>\n</div>"
     },
     "metadata": {}
    }
   ]
  },
  {
   "cell_type": "code",
   "metadata": {
    "tags": [],
    "deepnote_to_be_reexecuted": false,
    "source_hash": "1cd71ee6",
    "execution_start": 1645036500268,
    "execution_millis": 373,
    "deepnote_app_is_code_hidden": true,
    "deepnote_app_coordinates": {
     "x": 0,
     "y": 289,
     "w": 12,
     "h": 15
    },
    "cell_id": "00087-d2ad44bc-164b-48c6-9d1d-368956bc2c19",
    "deepnote_cell_type": "code"
   },
   "source": "pop_hosp = qual_df.pivot_table(columns=['hosp_afl_lbn_1'], aggfunc='size').nlargest(10)\nprint('These are the facilities fitting your state, specialty, and experience requirements: ')\nprint(pop_hosp)",
   "execution_count": null,
   "outputs": [
    {
     "name": "stdout",
     "text": "These are the facilities fitting your state, specialty, and experience requirements: \nhosp_afl_lbn_1\nMaimonides Medical Center                          4\nMercy Medical Center                               4\nThe Queens Medical Center                          4\nUmass Memorial Medical Center/University Campus    4\nAdventhealth Orlando                               3\nHoag Memorial Hospital Presbyterian                3\nHospital Damas Inc                                 3\nJupiter Medical Center                             3\nMemorial Hospital West                             3\nMoses H. Cone Memorial Hospital, The               3\ndtype: int64\n",
     "output_type": "stream"
    }
   ]
  },
  {
   "cell_type": "markdown",
   "source": "# Code Index - How I Got to My Final Product.",
   "metadata": {
    "tags": [],
    "is_collapsed": false,
    "deepnote_app_coordinates": {
     "x": 0,
     "y": 305,
     "w": 21,
     "h": 8
    },
    "cell_id": "00088-c1752edc-b79a-47b2-b3c3-cbb0afe1ee5f",
    "deepnote_cell_type": "text-cell-h1"
   }
  },
  {
   "cell_type": "markdown",
   "source": "<a style='text-decoration:none;line-height:16px;display:flex;color:#5B5B62;padding:10px;justify-content:end;' href='https://deepnote.com?utm_source=created-in-deepnote-cell&projectId=a1b8c42c-9ad5-4d22-9dfc-fd617339544b' target=\"_blank\">\n<img alt='Created in deepnote.com' style='display:inline;max-height:16px;margin:0px;margin-right:7.5px;' src='data:image/svg+xml;base64,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' > </img>\nCreated in <span style='font-weight:600;margin-left:4px;'>Deepnote</span></a>",
   "metadata": {
    "tags": [],
    "created_in_deepnote_cell": true,
    "deepnote_cell_type": "markdown"
   }
  }
 ],
 "nbformat": 4,
 "nbformat_minor": 2,
 "metadata": {
  "orig_nbformat": 2,
  "deepnote": {
   "is_reactive": false
  },
  "deepnote_notebook_id": "a5babd36-fc54-4afa-b7ea-673c811ea208",
  "deepnote_execution_queue": [],
  "deepnote_app_layout": "dashboard"
 }
}