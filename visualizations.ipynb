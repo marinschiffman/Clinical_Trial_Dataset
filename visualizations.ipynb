{
 "cells": [
  {
   "cell_type": "code",
   "metadata": {
    "cell_id": "62f0ff6e-5d66-4b40-b84b-0b9dc541bca6",
    "tags": [],
    "deepnote_to_be_reexecuted": false,
    "source_hash": "9b82ee11",
    "execution_start": 1645049665222,
    "execution_millis": 513313,
    "deepnote_app_coordinates": {
     "x": 0,
     "y": 18,
     "w": 6,
     "h": 3
    },
    "deepnote_cell_type": "code"
   },
   "source": "import pandas as pd",
   "outputs": [],
   "execution_count": null
  },
  {
   "cell_type": "code",
   "metadata": {
    "tags": [],
    "cell_id": "ce993858-7070-45db-9178-9c7586e87488",
    "deepnote_to_be_reexecuted": false,
    "source_hash": "c20f9a44",
    "execution_start": 1645049665223,
    "execution_millis": 89,
    "deepnote_app_coordinates": {
     "x": 0,
     "y": 30,
     "w": 24,
     "h": 13
    },
    "deepnote_cell_type": "code"
   },
   "source": "df_v=pd.read_csv('merged.csv')\ndf_v.head()",
   "outputs": [
    {
     "output_type": "execute_result",
     "execution_count": 2,
     "data": {
      "application/vnd.deepnote.dataframe.v3+json": {
       "column_count": 14,
       "row_count": 5,
       "columns": [
        {
         "name": "Unnamed: 0",
         "dtype": "int64",
         "stats": {
          "unique_count": 5,
          "nan_count": 0,
          "min": "0",
          "max": "4",
          "histogram": [
           {
            "bin_start": 0,
            "bin_end": 0.4,
            "count": 1
           },
           {
            "bin_start": 0.4,
            "bin_end": 0.8,
            "count": 0
           },
           {
            "bin_start": 0.8,
            "bin_end": 1.2000000000000002,
            "count": 1
           },
           {
            "bin_start": 1.2000000000000002,
            "bin_end": 1.6,
            "count": 0
           },
           {
            "bin_start": 1.6,
            "bin_end": 2,
            "count": 0
           },
           {
            "bin_start": 2,
            "bin_end": 2.4000000000000004,
            "count": 1
           },
           {
            "bin_start": 2.4000000000000004,
            "bin_end": 2.8000000000000003,
            "count": 0
           },
           {
            "bin_start": 2.8000000000000003,
            "bin_end": 3.2,
            "count": 1
           },
           {
            "bin_start": 3.2,
            "bin_end": 3.6,
            "count": 0
           },
           {
            "bin_start": 3.6,
            "bin_end": 4,
            "count": 1
           }
          ]
         }
        },
        {
         "name": "NPI",
         "dtype": "int64",
         "stats": {
          "unique_count": 5,
          "nan_count": 0,
          "min": "1215127840",
          "max": "1215321872",
          "histogram": [
           {
            "bin_start": 1215127840,
            "bin_end": 1215147243.2,
            "count": 2
           },
           {
            "bin_start": 1215147243.2,
            "bin_end": 1215166646.4,
            "count": 0
           },
           {
            "bin_start": 1215166646.4,
            "bin_end": 1215186049.6,
            "count": 0
           },
           {
            "bin_start": 1215186049.6,
            "bin_end": 1215205452.8,
            "count": 2
           },
           {
            "bin_start": 1215205452.8,
            "bin_end": 1215224856,
            "count": 0
           },
           {
            "bin_start": 1215224856,
            "bin_end": 1215244259.2,
            "count": 0
           },
           {
            "bin_start": 1215244259.2,
            "bin_end": 1215263662.4,
            "count": 0
           },
           {
            "bin_start": 1215263662.4,
            "bin_end": 1215283065.6,
            "count": 0
           },
           {
            "bin_start": 1215283065.6,
            "bin_end": 1215302468.8,
            "count": 0
           },
           {
            "bin_start": 1215302468.8,
            "bin_end": 1215321872,
            "count": 1
           }
          ]
         }
        },
        {
         "name": "full_name",
         "dtype": "object",
         "stats": {
          "unique_count": 5,
          "nan_count": 0,
          "categories": [
           {
            "name": "Eve  Masiello ",
            "count": 1
           },
           {
            "name": "Celestina N Duru ",
            "count": 1
           },
           {
            "name": "3 others",
            "count": 3
           }
          ]
         }
        },
        {
         "name": " gndr",
         "dtype": "object",
         "stats": {
          "unique_count": 2,
          "nan_count": 0,
          "categories": [
           {
            "name": "F",
            "count": 3
           },
           {
            "name": "M",
            "count": 2
           }
          ]
         }
        },
        {
         "name": "Cred",
         "dtype": "object",
         "stats": {
          "unique_count": 1,
          "nan_count": 4,
          "categories": [
           {
            "name": "CNS",
            "count": 1
           },
           {
            "name": "Missing",
            "count": 4
           }
          ]
         }
        },
        {
         "name": "Med_sch",
         "dtype": "object",
         "stats": {
          "unique_count": 4,
          "nan_count": 0,
          "categories": [
           {
            "name": "Other",
            "count": 2
           },
           {
            "name": "New York College Of Podiatric Medicine",
            "count": 1
           },
           {
            "name": "2 others",
            "count": 2
           }
          ]
         }
        },
        {
         "name": "Grd_yr",
         "dtype": "float64",
         "stats": {
          "unique_count": 5,
          "nan_count": 0,
          "min": "1982.0",
          "max": "2007.0",
          "histogram": [
           {
            "bin_start": 1982,
            "bin_end": 1984.5,
            "count": 1
           },
           {
            "bin_start": 1984.5,
            "bin_end": 1987,
            "count": 0
           },
           {
            "bin_start": 1987,
            "bin_end": 1989.5,
            "count": 0
           },
           {
            "bin_start": 1989.5,
            "bin_end": 1992,
            "count": 0
           },
           {
            "bin_start": 1992,
            "bin_end": 1994.5,
            "count": 0
           },
           {
            "bin_start": 1994.5,
            "bin_end": 1997,
            "count": 0
           },
           {
            "bin_start": 1997,
            "bin_end": 1999.5,
            "count": 0
           },
           {
            "bin_start": 1999.5,
            "bin_end": 2002,
            "count": 0
           },
           {
            "bin_start": 2002,
            "bin_end": 2004.5,
            "count": 2
           },
           {
            "bin_start": 2004.5,
            "bin_end": 2007,
            "count": 2
           }
          ]
         }
        },
        {
         "name": "pri_spec",
         "dtype": "object",
         "stats": {
          "unique_count": 5,
          "nan_count": 0,
          "categories": [
           {
            "name": "Clinical Social Worker",
            "count": 1
           },
           {
            "name": "Podiatry",
            "count": 1
           },
           {
            "name": "3 others",
            "count": 3
           }
          ]
         }
        },
        {
         "name": "adr",
         "dtype": "object",
         "stats": {
          "unique_count": 5,
          "nan_count": 0,
          "categories": [
           {
            "name": "120 Court St ",
            "count": 1
           },
           {
            "name": "2000 Esters Rd Suite 104",
            "count": 1
           },
           {
            "name": "3 others",
            "count": 3
           }
          ]
         }
        },
        {
         "name": "cty",
         "dtype": "object",
         "stats": {
          "unique_count": 5,
          "nan_count": 0,
          "categories": [
           {
            "name": "Plymouth",
            "count": 1
           },
           {
            "name": "Irving",
            "count": 1
           },
           {
            "name": "3 others",
            "count": 3
           }
          ]
         }
        },
        {
         "name": "st",
         "dtype": "object",
         "stats": {
          "unique_count": 3,
          "nan_count": 0,
          "categories": [
           {
            "name": "MA",
            "count": 2
           },
           {
            "name": "TX",
            "count": 2
           },
           {
            "name": "FL",
            "count": 1
           }
          ]
         }
        },
        {
         "name": "zip_x",
         "dtype": "object",
         "stats": {
          "unique_count": 5,
          "nan_count": 0,
          "categories": [
           {
            "name": "023603826",
            "count": 1
           },
           {
            "name": "750619580",
            "count": 1
           },
           {
            "name": "3 others",
            "count": 3
           }
          ]
         }
        },
        {
         "name": "phn_numbr",
         "dtype": "float64",
         "stats": {
          "unique_count": 2,
          "nan_count": 3,
          "min": "7817107356.0",
          "max": "9783358785.0",
          "histogram": [
           {
            "bin_start": 7817107356,
            "bin_end": 8013732498.9,
            "count": 1
           },
           {
            "bin_start": 8013732498.9,
            "bin_end": 8210357641.8,
            "count": 0
           },
           {
            "bin_start": 8210357641.8,
            "bin_end": 8406982784.7,
            "count": 0
           },
           {
            "bin_start": 8406982784.7,
            "bin_end": 8603607927.6,
            "count": 0
           },
           {
            "bin_start": 8603607927.6,
            "bin_end": 8800233070.5,
            "count": 0
           },
           {
            "bin_start": 8800233070.5,
            "bin_end": 8996858213.4,
            "count": 0
           },
           {
            "bin_start": 8996858213.4,
            "bin_end": 9193483356.3,
            "count": 0
           },
           {
            "bin_start": 9193483356.3,
            "bin_end": 9390108499.2,
            "count": 0
           },
           {
            "bin_start": 9390108499.2,
            "bin_end": 9586733642.1,
            "count": 0
           },
           {
            "bin_start": 9586733642.1,
            "bin_end": 9783358785,
            "count": 1
           }
          ]
         }
        },
        {
         "name": "hosp_afl_lbn_1",
         "dtype": "object",
         "stats": {
          "unique_count": 1,
          "nan_count": 4,
          "categories": [
           {
            "name": "Lawrence General Hospital",
            "count": 1
           },
           {
            "name": "Missing",
            "count": 4
           }
          ]
         }
        },
        {
         "name": "_deepnote_index_column",
         "dtype": "int64"
        }
       ],
       "rows": [
        {
         "Unnamed: 0": 0,
         "NPI": 1215321872,
         "full_name": "Eve  Masiello ",
         " gndr": "F",
         "Cred": "nan",
         "Med_sch": "Other",
         "Grd_yr": 1982,
         "pri_spec": "Clinical Social Worker",
         "adr": "120 Court St ",
         "cty": "Plymouth",
         "st": "MA",
         "zip_x": "023603826",
         "phn_numbr": 7817107356,
         "hosp_afl_lbn_1": "nan",
         "_deepnote_index_column": 0
        },
        {
         "Unnamed: 0": 1,
         "NPI": 1215195664,
         "full_name": "Celestina N Duru ",
         " gndr": "F",
         "Cred": "nan",
         "Med_sch": "New York College Of Podiatric Medicine",
         "Grd_yr": 2007,
         "pri_spec": "Podiatry",
         "adr": "2000 Esters Rd Suite 104",
         "cty": "Irving",
         "st": "TX",
         "zip_x": "750619580",
         "phn_numbr": "nan",
         "hosp_afl_lbn_1": "nan",
         "_deepnote_index_column": 1
        },
        {
         "Unnamed: 0": 2,
         "NPI": 1215188925,
         "full_name": "Reza  Keshavarzi ",
         " gndr": "M",
         "Cred": "nan",
         "Med_sch": "University Of Kentucky College Of Medicine",
         "Grd_yr": 2005,
         "pri_spec": "General Surgery",
         "adr": "7330 Sw 62Nd Pl Suite 210",
         "cty": "South Miami",
         "st": "FL",
         "zip_x": "331434825",
         "phn_numbr": "nan",
         "hosp_afl_lbn_1": "nan",
         "_deepnote_index_column": 2
        },
        {
         "Unnamed: 0": 3,
         "NPI": 1215138714,
         "full_name": "Anthony  Pham ",
         " gndr": "M",
         "Cred": "nan",
         "Med_sch": "University Of North Texas Hsc, College Of Osteopathic Med",
         "Grd_yr": 2003,
         "pri_spec": "Physical Medicine And Rehabilitation",
         "adr": "11799 Beechnut St Suite A",
         "cty": "Houston",
         "st": "TX",
         "zip_x": "770724116",
         "phn_numbr": "nan",
         "hosp_afl_lbn_1": "nan",
         "_deepnote_index_column": 3
        },
        {
         "Unnamed: 0": 4,
         "NPI": 1215127840,
         "full_name": "Marcia E Nelson Vancini ",
         " gndr": "F",
         "Cred": "CNS",
         "Med_sch": "Other",
         "Grd_yr": 2002,
         "pri_spec": "Certified Clinical Nurse Specialist (Cns)",
         "adr": "2 Brentwood Cir ",
         "cty": "Andover",
         "st": "MA",
         "zip_x": "018105129",
         "phn_numbr": 9783358785,
         "hosp_afl_lbn_1": "Lawrence General Hospital",
         "_deepnote_index_column": 4
        }
       ]
      },
      "text/plain": "   Unnamed: 0         NPI                 full_name  gndr Cred  \\\n0           0  1215321872            Eve  Masiello      F  NaN   \n1           1  1215195664         Celestina N Duru      F  NaN   \n2           2  1215188925         Reza  Keshavarzi      M  NaN   \n3           3  1215138714            Anthony  Pham      M  NaN   \n4           4  1215127840  Marcia E Nelson Vancini      F  CNS   \n\n                                             Med_sch  Grd_yr  \\\n0                                              Other  1982.0   \n1             New York College Of Podiatric Medicine  2007.0   \n2         University Of Kentucky College Of Medicine  2005.0   \n3  University Of North Texas Hsc, College Of Oste...  2003.0   \n4                                              Other  2002.0   \n\n                                    pri_spec                        adr  \\\n0                     Clinical Social Worker              120 Court St    \n1                                   Podiatry   2000 Esters Rd Suite 104   \n2                            General Surgery  7330 Sw 62Nd Pl Suite 210   \n3       Physical Medicine And Rehabilitation  11799 Beechnut St Suite A   \n4  Certified Clinical Nurse Specialist (Cns)           2 Brentwood Cir    \n\n           cty  st      zip_x     phn_numbr             hosp_afl_lbn_1  \n0     Plymouth  MA  023603826  7.817107e+09                        NaN  \n1       Irving  TX  750619580           NaN                        NaN  \n2  South Miami  FL  331434825           NaN                        NaN  \n3      Houston  TX  770724116           NaN                        NaN  \n4      Andover  MA  018105129  9.783359e+09  Lawrence General Hospital  ",
      "text/html": "<div>\n<style scoped>\n    .dataframe tbody tr th:only-of-type {\n        vertical-align: middle;\n    }\n\n    .dataframe tbody tr th {\n        vertical-align: top;\n    }\n\n    .dataframe thead th {\n        text-align: right;\n    }\n</style>\n<table border=\"1\" class=\"dataframe\">\n  <thead>\n    <tr style=\"text-align: right;\">\n      <th></th>\n      <th>Unnamed: 0</th>\n      <th>NPI</th>\n      <th>full_name</th>\n      <th>gndr</th>\n      <th>Cred</th>\n      <th>Med_sch</th>\n      <th>Grd_yr</th>\n      <th>pri_spec</th>\n      <th>adr</th>\n      <th>cty</th>\n      <th>st</th>\n      <th>zip_x</th>\n      <th>phn_numbr</th>\n      <th>hosp_afl_lbn_1</th>\n    </tr>\n  </thead>\n  <tbody>\n    <tr>\n      <th>0</th>\n      <td>0</td>\n      <td>1215321872</td>\n      <td>Eve  Masiello</td>\n      <td>F</td>\n      <td>NaN</td>\n      <td>Other</td>\n      <td>1982.0</td>\n      <td>Clinical Social Worker</td>\n      <td>120 Court St</td>\n      <td>Plymouth</td>\n      <td>MA</td>\n      <td>023603826</td>\n      <td>7.817107e+09</td>\n      <td>NaN</td>\n    </tr>\n    <tr>\n      <th>1</th>\n      <td>1</td>\n      <td>1215195664</td>\n      <td>Celestina N Duru</td>\n      <td>F</td>\n      <td>NaN</td>\n      <td>New York College Of Podiatric Medicine</td>\n      <td>2007.0</td>\n      <td>Podiatry</td>\n      <td>2000 Esters Rd Suite 104</td>\n      <td>Irving</td>\n      <td>TX</td>\n      <td>750619580</td>\n      <td>NaN</td>\n      <td>NaN</td>\n    </tr>\n    <tr>\n      <th>2</th>\n      <td>2</td>\n      <td>1215188925</td>\n      <td>Reza  Keshavarzi</td>\n      <td>M</td>\n      <td>NaN</td>\n      <td>University Of Kentucky College Of Medicine</td>\n      <td>2005.0</td>\n      <td>General Surgery</td>\n      <td>7330 Sw 62Nd Pl Suite 210</td>\n      <td>South Miami</td>\n      <td>FL</td>\n      <td>331434825</td>\n      <td>NaN</td>\n      <td>NaN</td>\n    </tr>\n    <tr>\n      <th>3</th>\n      <td>3</td>\n      <td>1215138714</td>\n      <td>Anthony  Pham</td>\n      <td>M</td>\n      <td>NaN</td>\n      <td>University Of North Texas Hsc, College Of Oste...</td>\n      <td>2003.0</td>\n      <td>Physical Medicine And Rehabilitation</td>\n      <td>11799 Beechnut St Suite A</td>\n      <td>Houston</td>\n      <td>TX</td>\n      <td>770724116</td>\n      <td>NaN</td>\n      <td>NaN</td>\n    </tr>\n    <tr>\n      <th>4</th>\n      <td>4</td>\n      <td>1215127840</td>\n      <td>Marcia E Nelson Vancini</td>\n      <td>F</td>\n      <td>CNS</td>\n      <td>Other</td>\n      <td>2002.0</td>\n      <td>Certified Clinical Nurse Specialist (Cns)</td>\n      <td>2 Brentwood Cir</td>\n      <td>Andover</td>\n      <td>MA</td>\n      <td>018105129</td>\n      <td>9.783359e+09</td>\n      <td>Lawrence General Hospital</td>\n    </tr>\n  </tbody>\n</table>\n</div>"
     },
     "metadata": {}
    }
   ],
   "execution_count": null
  },
  {
   "cell_type": "markdown",
   "source": "# Constructing a Dataset to Help Plan a Clinical Trial",
   "metadata": {
    "cell_id": "0fc47e7f-0455-4447-a97e-a20bfb601707",
    "tags": [],
    "is_collapsed": false,
    "deepnote_app_coordinates": {
     "x": 0,
     "y": 0,
     "w": 11,
     "h": 5
    },
    "deepnote_cell_type": "text-cell-h1"
   }
  },
  {
   "cell_type": "markdown",
   "source": "# About Me",
   "metadata": {
    "cell_id": "66a36715-b45e-4386-ad01-2bb940f87f71",
    "tags": [],
    "is_collapsed": false,
    "deepnote_app_coordinates": {
     "x": 0,
     "y": 6,
     "w": 5,
     "h": 4
    },
    "deepnote_cell_type": "text-cell-h1"
   }
  },
  {
   "cell_type": "markdown",
   "source": "Hi, I’m Marin Schiffman, and I am a Biomedical Engineering student at Vanderbilt University. As I dive deeper into my academic career, it has become increasingly apparent that data analysis and the organization of information will be crucial in understanding the biomedical research that I hope to take part in. Through this notebook, I hope to demonstrate the new skills I have learned in data engineering.",
   "metadata": {
    "cell_id": "3dbd6fc8-b29a-4353-80f0-3a58ad785d6a",
    "tags": [],
    "is_collapsed": false,
    "deepnote_app_coordinates": {
     "x": 0,
     "y": 10,
     "w": 10,
     "h": 6
    },
    "deepnote_cell_type": "text-cell-p"
   }
  },
  {
   "cell_type": "markdown",
   "source": "# Project Summary",
   "metadata": {
    "cell_id": "d62a583c-b444-4469-a8af-7d5dd8ffc5e8",
    "tags": [],
    "is_collapsed": false,
    "deepnote_app_coordinates": {
     "x": 10,
     "y": 6,
     "w": 12,
     "h": 4
    },
    "deepnote_cell_type": "text-cell-h1"
   }
  },
  {
   "cell_type": "markdown",
   "source": "Clinical trials require lots of planning and are often quite particular in participants and requirements. Creating and organizing a dataset to help minimize the difficulty in identifying the right candidates to participate and/or run the trials would be valuable from both a physician and patient standpoint. Thus, the goal of this project was to construct a dataset that could be used to identify which physicians and hospitals should participate in various clinical trials. Moreover, constructing such a dataset would provide a wealth of information to the dataset viewer all in one place, providing multiple options, and therefore increasing the likelihood of a successful clinical trial. In this project, I completed an exploratory data analysis, cleaned and formatted data, merged datasets from multiple sources, and found multiple ways to highlight and visualize key insights that the dataset provides. The final result of this project is a comprehensive overview of vast datasets containing useful information for various clinical trials, with graphics that detail key characteristics to improve understanding, impact, and ease of use from those looking to design clinical trials.",
   "metadata": {
    "cell_id": "6574fd9e-3fb0-4605-8534-bce0ae5a87cb",
    "tags": [],
    "is_collapsed": false,
    "deepnote_app_coordinates": {
     "x": 10,
     "y": 10,
     "w": 8,
     "h": 19
    },
    "deepnote_cell_type": "text-cell-p"
   }
  },
  {
   "cell_type": "markdown",
   "source": "***Please feel free to check out the code behind this project at this link: https://deepnote.com/project/Session-1-Example-Notebooks-Duplicate-objELJrVTSKd_P1hczlUSw/%2FSession-1-Example-Notebooks-Duplicate%2FExamples%2FSession%201%2Fmerging_code.ipynb",
   "metadata": {
    "cell_id": "f592ef68-50be-4fd1-b2e6-6f65addb4a96",
    "tags": [],
    "is_collapsed": false,
    "deepnote_app_coordinates": {
     "x": 11,
     "y": 2,
     "w": 13,
     "h": 4
    },
    "deepnote_cell_type": "text-cell-p"
   }
  },
  {
   "cell_type": "code",
   "metadata": {
    "cell_id": "5041b536-d7e2-4013-ba69-8c3b84fee8be",
    "tags": [],
    "deepnote_to_be_reexecuted": false,
    "source_hash": "98e408c3",
    "execution_start": 1645049665356,
    "execution_millis": 2506,
    "deepnote_output_heights": [
     21.1875,
     214.53125
    ],
    "deepnote_app_coordinates": {
     "x": 0,
     "y": 47,
     "w": 12,
     "h": 21
    },
    "deepnote_cell_type": "code"
   },
   "source": "import matplotlib.pyplot as plt\nimport seaborn as sns\nstates = sns.countplot(x='st', data=df_v,order=df_v.st.value_counts()[:10].index)\nstates.set_xlabel('states')\nstates.set_ylabel('frequency in dataset')\nstates.set_title('Top States in the Dataset')",
   "outputs": [
    {
     "output_type": "execute_result",
     "execution_count": 3,
     "data": {
      "text/plain": "Text(0.5, 1.0, 'Top States in the Dataset')"
     },
     "metadata": {}
    },
    {
     "data": {
      "text/plain": "<Figure size 432x288 with 1 Axes>",
      "image/png": "[encoded data removed]"
     },
     "metadata": {
      "needs_background": "light",
      "image/png": {
       "width": 395,
       "height": 278
      }
     },
     "output_type": "display_data"
    }
   ],
   "execution_count": null
  },
  {
   "cell_type": "markdown",
   "source": "Male to Female Ratio of Dataset",
   "metadata": {
    "cell_id": "fbd0fc33-abd7-464b-ba33-47428c4c908e",
    "tags": [],
    "is_collapsed": false,
    "deepnote_app_coordinates": {
     "x": 0,
     "y": 69,
     "w": 8,
     "h": 2
    },
    "deepnote_cell_type": "text-cell-p"
   }
  },
  {
   "cell_type": "code",
   "metadata": {
    "cell_id": "1d2f1fda-b9a0-4450-96bd-fc61af6cfe43",
    "tags": [],
    "deepnote_app_coordinates": {
     "x": 0,
     "y": 71,
     "w": 9,
     "h": 18
    },
    "deepnote_to_be_reexecuted": false,
    "source_hash": "440e749a",
    "execution_start": 1645049667932,
    "execution_millis": 109,
    "deepnote_output_heights": [
     21.1875,
     249
    ],
    "deepnote_cell_type": "code"
   },
   "source": "gender_diff = df_v[' gndr']. value_counts() \nplt.pie(gender_diff,labels=['Male','Female'], autopct='%1.0f%%', pctdistance=1.1, labeldistance=1.2)\nplt.title('Male to Female Ratio')",
   "outputs": [
    {
     "output_type": "execute_result",
     "execution_count": 4,
     "data": {
      "text/plain": "Text(0.5, 1.0, 'Male to Female Ratio')"
     },
     "metadata": {}
    },
    {
     "data": {
      "text/plain": "<Figure size 432x288 with 1 Axes>",
      "image/png": "[encoded data removed]"
     },
     "metadata": {
      "image/png": {
       "width": 231,
       "height": 247
      }
     },
     "output_type": "display_data"
    }
   ],
   "execution_count": null
  },
  {
   "cell_type": "markdown",
   "source": "Which primary specialties are most abundant in this dataset?",
   "metadata": {
    "cell_id": "7a12f87c-5630-4727-ba42-b4ac817a9e5d",
    "tags": [],
    "is_collapsed": false,
    "deepnote_app_coordinates": {
     "x": 0,
     "y": 91,
     "w": 8,
     "h": 2
    },
    "deepnote_cell_type": "text-cell-p"
   }
  },
  {
   "cell_type": "code",
   "metadata": {
    "cell_id": "fece15ee-9005-4a70-bf23-152b84d893d0",
    "tags": [],
    "deepnote_to_be_reexecuted": false,
    "source_hash": "70e0b977",
    "execution_start": 1645049668046,
    "execution_millis": 7,
    "deepnote_output_heights": [
     232.390625
    ],
    "deepnote_app_coordinates": {
     "x": 0,
     "y": 95,
     "w": 13,
     "h": 3
    },
    "deepnote_cell_type": "code"
   },
   "source": "top_specs = df_v.pivot_table(columns=['pri_spec'], aggfunc='size').nlargest(10)\ndf_top_specs = pd.DataFrame(top_specs)",
   "outputs": [],
   "execution_count": null
  },
  {
   "cell_type": "markdown",
   "source": "Top Specialties",
   "metadata": {
    "cell_id": "274b10ab-f586-44c9-9ac7-6788129b9b55",
    "tags": [],
    "is_collapsed": false,
    "deepnote_app_coordinates": {
     "x": 0,
     "y": 99,
     "w": 8,
     "h": 2
    },
    "deepnote_cell_type": "text-cell-p"
   }
  },
  {
   "cell_type": "code",
   "metadata": {
    "cell_id": "2b7549ee-77a6-4178-a7aa-e45513d1017d",
    "tags": [],
    "deepnote_to_be_reexecuted": false,
    "source_hash": "7e6131f5",
    "execution_start": 1645049668060,
    "execution_millis": 522,
    "deepnote_output_heights": [
     198
    ],
    "deepnote_app_coordinates": {
     "x": 0,
     "y": 102,
     "w": 12,
     "h": 15
    },
    "deepnote_cell_type": "code"
   },
   "source": "plot = df_top_specs.plot.pie(subplots=True, figsize=(5, 5),)",
   "outputs": [
    {
     "data": {
      "text/plain": "<Figure size 360x360 with 1 Axes>",
      "image/png": "[encoded data removed]"
     },
     "metadata": {
      "image/png": {
       "width": 416,
       "height": 286
      }
     },
     "output_type": "display_data"
    }
   ],
   "execution_count": null
  },
  {
   "cell_type": "markdown",
   "source": "Which medical schools did these healthcare providers attend?",
   "metadata": {
    "cell_id": "98b04723-cf57-4c23-bafc-ab5f97bfb41f",
    "tags": [],
    "is_collapsed": false,
    "deepnote_app_coordinates": {
     "x": 0,
     "y": 119,
     "w": 8,
     "h": 2
    },
    "deepnote_cell_type": "text-cell-p"
   }
  },
  {
   "cell_type": "code",
   "metadata": {
    "cell_id": "1b92a5f6-b2eb-4cdd-9654-e5dc4b61793d",
    "tags": [],
    "deepnote_to_be_reexecuted": false,
    "source_hash": "645eecdf",
    "execution_start": 1645049668636,
    "execution_millis": 1,
    "deepnote_app_coordinates": {
     "x": 0,
     "y": 121,
     "w": 12,
     "h": 6
    },
    "deepnote_cell_type": "code"
   },
   "source": "n = 10\ndf_v['Med_sch'].value_counts()[:n].index.tolist()\ntop_sch = df_v.pivot_table(columns=['Med_sch'], aggfunc='size').nlargest(11)\ndf_top_sch = pd.DataFrame(top_sch)\ndf_top_sch = df_top_sch.drop(index=('Other'))",
   "outputs": [],
   "execution_count": null
  },
  {
   "cell_type": "code",
   "metadata": {
    "cell_id": "b6b84790-c5db-4294-8fb9-0b990af4281f",
    "tags": [],
    "deepnote_to_be_reexecuted": false,
    "source_hash": "29e189d8",
    "execution_start": 1645049668637,
    "execution_millis": 617,
    "deepnote_output_heights": [
     130.25
    ],
    "deepnote_app_coordinates": {
     "x": 0,
     "y": 127,
     "w": 12,
     "h": 15
    },
    "deepnote_cell_type": "code"
   },
   "source": "plot = df_top_sch.plot.pie(subplots=True, figsize=(5, 5))",
   "outputs": [
    {
     "data": {
      "text/plain": "<Figure size 360x360 with 1 Axes>",
      "image/png": "[encoded data removed]"
     },
     "metadata": {
      "image/png": {
       "width": 636,
       "height": 286
      }
     },
     "output_type": "display_data"
    }
   ],
   "execution_count": null
  },
  {
   "cell_type": "code",
   "source": "#graduation year distribution for entire dataset\ngrd_hist = plt.hist(df_v['Grd_yr'])\nplt.title('Overall Graduation Year Distribution')",
   "metadata": {
    "cell_id": "707bcf27-3a62-4f9d-a1df-e7a659b3da8a",
    "tags": [],
    "deepnote_to_be_reexecuted": false,
    "source_hash": "bd51eb5a",
    "execution_start": 1645049669328,
    "execution_millis": 246,
    "deepnote_output_heights": [
     21.1875,
     199.609375
    ],
    "deepnote_app_coordinates": {
     "x": 12,
     "y": 122,
     "w": 11,
     "h": 18
    },
    "deepnote_cell_type": "code"
   },
   "outputs": [
    {
     "output_type": "execute_result",
     "execution_count": 9,
     "data": {
      "text/plain": "Text(0.5, 1.0, 'Overall Graduation Year Distribution')"
     },
     "metadata": {}
    },
    {
     "data": {
      "text/plain": "<Figure size 432x288 with 1 Axes>",
      "image/png": "[encoded data removed]"
     },
     "metadata": {
      "needs_background": "light",
      "image/png": {
       "width": 381,
       "height": 264
      }
     },
     "output_type": "display_data"
    }
   ],
   "execution_count": null
  },
  {
   "cell_type": "markdown",
   "source": "# Interactive Query",
   "metadata": {
    "cell_id": "86f62f08-518b-4b8f-b46f-a464aba2659c",
    "tags": [],
    "is_collapsed": false,
    "deepnote_app_coordinates": {
     "x": 0,
     "y": 143,
     "w": 12,
     "h": 4
    },
    "deepnote_cell_type": "text-cell-h1"
   }
  },
  {
   "cell_type": "markdown",
   "source": "Begin By Searching for Information by State:",
   "metadata": {
    "cell_id": "25c5a355-1f5a-453d-81ec-6bef8a3bf309",
    "tags": [],
    "is_collapsed": false,
    "deepnote_app_coordinates": {
     "x": 0,
     "y": 154,
     "w": 8,
     "h": 2
    },
    "deepnote_cell_type": "text-cell-p"
   }
  },
  {
   "cell_type": "code",
   "metadata": {
    "cell_id": "f1688de1-04db-4243-b6cd-39f3d17a24ef",
    "tags": [],
    "deepnote_to_be_reexecuted": false,
    "source_hash": "816142b6",
    "execution_start": 1645049669582,
    "execution_millis": 3,
    "deepnote_app_coordinates": {
     "x": 0,
     "y": 147,
     "w": 12,
     "h": 5
    },
    "deepnote_cell_type": "code"
   },
   "source": "df_state = df_v[[\"st\"]]\ndf_state.loc[df_state.st.duplicated(),:]\ndf_state = df_state.drop_duplicates(subset=None, keep='first', inplace=False)",
   "outputs": [],
   "execution_count": null
  },
  {
   "cell_type": "code",
   "metadata": {
    "cell_id": "bf1fd85e-2d9d-408f-b7af-f4588b036b51",
    "deepnote_variable_name": "state",
    "deepnote_variable_value": "SC",
    "deepnote_variable_options": [
     "MA",
     "TX",
     "FL",
     "NC",
     "PR",
     "NJ",
     "NM",
     "AL",
     "AZ",
     "CA",
     "NV",
     "MO",
     "MD",
     "IL",
     "OH",
     "KS",
     "MI",
     "IA",
     "NY",
     "WA",
     "PA",
     "KY",
     "CO",
     "LA",
     "WV",
     "DC",
     "VA",
     "ID",
     "GA",
     "TN",
     "MT",
     "MN",
     "OK",
     "IN",
     "CT",
     "WI",
     "OR",
     "ME",
     "HI",
     "MS",
     "SC",
     "AK",
     "VT",
     "SD",
     "ND",
     "UT",
     "NH",
     "AR",
     "WY",
     "RI",
     "DE",
     "NE",
     "VI",
     "GU"
    ],
    "deepnote_variable_custom_options": [
     "Option 1",
     "Option 2"
    ],
    "deepnote_variable_selected_variable": "df_state",
    "deepnote_variable_select_type": "from-variable",
    "deepnote_to_be_reexecuted": false,
    "source_hash": "82c8a86d",
    "execution_start": 1645049757984,
    "execution_millis": 1,
    "deepnote_app_coordinates": {
     "x": 0,
     "y": 156,
     "w": 8,
     "h": 4
    },
    "deepnote_cell_type": "input-select"
   },
   "source": "state = 'SC'",
   "outputs": [],
   "execution_count": null
  },
  {
   "cell_type": "code",
   "metadata": {
    "cell_id": "6bcf101a-2844-49fb-98b8-45ccbd3bcefd",
    "tags": [],
    "deepnote_to_be_reexecuted": false,
    "source_hash": "4da95997",
    "execution_start": 1645049760342,
    "execution_millis": 81,
    "deepnote_app_coordinates": {
     "x": 0,
     "y": 160,
     "w": 12,
     "h": 18
    },
    "deepnote_cell_type": "code"
   },
   "source": "contains_state = df_v[df_v['st'].str.contains(state)]\ncontains_state.head(n=10)",
   "outputs": [
    {
     "output_type": "execute_result",
     "execution_count": 28,
     "data": {
      "application/vnd.deepnote.dataframe.v3+json": {
       "column_count": 14,
       "row_count": 10,
       "columns": [
        {
         "name": "Unnamed: 0",
         "dtype": "int64",
         "stats": {
          "unique_count": 10,
          "nan_count": 0,
          "min": "202",
          "max": "992",
          "histogram": [
           {
            "bin_start": 202,
            "bin_end": 281,
            "count": 5
           },
           {
            "bin_start": 281,
            "bin_end": 360,
            "count": 0
           },
           {
            "bin_start": 360,
            "bin_end": 439,
            "count": 1
           },
           {
            "bin_start": 439,
            "bin_end": 518,
            "count": 1
           },
           {
            "bin_start": 518,
            "bin_end": 597,
            "count": 1
           },
           {
            "bin_start": 597,
            "bin_end": 676,
            "count": 0
           },
           {
            "bin_start": 676,
            "bin_end": 755,
            "count": 0
           },
           {
            "bin_start": 755,
            "bin_end": 834,
            "count": 0
           },
           {
            "bin_start": 834,
            "bin_end": 913,
            "count": 1
           },
           {
            "bin_start": 913,
            "bin_end": 992,
            "count": 1
           }
          ]
         }
        },
        {
         "name": "NPI",
         "dtype": "int64",
         "stats": {
          "unique_count": 10,
          "nan_count": 0,
          "min": "1205895398",
          "max": "1215300983",
          "histogram": [
           {
            "bin_start": 1205895398,
            "bin_end": 1206835956.5,
            "count": 4
           },
           {
            "bin_start": 1206835956.5,
            "bin_end": 1207776515,
            "count": 0
           },
           {
            "bin_start": 1207776515,
            "bin_end": 1208717073.5,
            "count": 0
           },
           {
            "bin_start": 1208717073.5,
            "bin_end": 1209657632,
            "count": 0
           },
           {
            "bin_start": 1209657632,
            "bin_end": 1210598190.5,
            "count": 0
           },
           {
            "bin_start": 1210598190.5,
            "bin_end": 1211538749,
            "count": 0
           },
           {
            "bin_start": 1211538749,
            "bin_end": 1212479307.5,
            "count": 0
           },
           {
            "bin_start": 1212479307.5,
            "bin_end": 1213419866,
            "count": 0
           },
           {
            "bin_start": 1213419866,
            "bin_end": 1214360424.5,
            "count": 0
           },
           {
            "bin_start": 1214360424.5,
            "bin_end": 1215300983,
            "count": 6
           }
          ]
         }
        },
        {
         "name": "full_name",
         "dtype": "object",
         "stats": {
          "unique_count": 10,
          "nan_count": 0,
          "categories": [
           {
            "name": "Christopher  Bedenbaugh ",
            "count": 1
           },
           {
            "name": "Tasha M Williams ",
            "count": 1
           },
           {
            "name": "8 others",
            "count": 8
           }
          ]
         }
        },
        {
         "name": " gndr",
         "dtype": "object",
         "stats": {
          "unique_count": 2,
          "nan_count": 0,
          "categories": [
           {
            "name": "M",
            "count": 8
           },
           {
            "name": "F",
            "count": 2
           }
          ]
         }
        },
        {
         "name": "Cred",
         "dtype": "object",
         "stats": {
          "unique_count": 0,
          "nan_count": 10,
          "categories": [
           {
            "name": "Missing",
            "count": 10
           }
          ]
         }
        },
        {
         "name": "Med_sch",
         "dtype": "object",
         "stats": {
          "unique_count": 8,
          "nan_count": 0,
          "categories": [
           {
            "name": "Other",
            "count": 2
           },
           {
            "name": "Palmer College Chiropractic - Davenport",
            "count": 2
           },
           {
            "name": "6 others",
            "count": 6
           }
          ]
         }
        },
        {
         "name": "Grd_yr",
         "dtype": "float64",
         "stats": {
          "unique_count": 10,
          "nan_count": 0,
          "min": "1985.0",
          "max": "2015.0",
          "histogram": [
           {
            "bin_start": 1985,
            "bin_end": 1988,
            "count": 1
           },
           {
            "bin_start": 1988,
            "bin_end": 1991,
            "count": 1
           },
           {
            "bin_start": 1991,
            "bin_end": 1994,
            "count": 0
           },
           {
            "bin_start": 1994,
            "bin_end": 1997,
            "count": 1
           },
           {
            "bin_start": 1997,
            "bin_end": 2000,
            "count": 1
           },
           {
            "bin_start": 2000,
            "bin_end": 2003,
            "count": 1
           },
           {
            "bin_start": 2003,
            "bin_end": 2006,
            "count": 2
           },
           {
            "bin_start": 2006,
            "bin_end": 2009,
            "count": 0
           },
           {
            "bin_start": 2009,
            "bin_end": 2012,
            "count": 2
           },
           {
            "bin_start": 2012,
            "bin_end": 2015,
            "count": 1
           }
          ]
         }
        },
        {
         "name": "pri_spec",
         "dtype": "object",
         "stats": {
          "unique_count": 5,
          "nan_count": 0,
          "categories": [
           {
            "name": "Chiropractic",
            "count": 6
           },
           {
            "name": "Clinical Social Worker",
            "count": 1
           },
           {
            "name": "3 others",
            "count": 3
           }
          ]
         }
        },
        {
         "name": "adr",
         "dtype": "object",
         "stats": {
          "unique_count": 10,
          "nan_count": 0,
          "categories": [
           {
            "name": "1463 E Main St A ",
            "count": 1
           },
           {
            "name": "3251 Landmark Dr Suite 142",
            "count": 1
           },
           {
            "name": "8 others",
            "count": 8
           }
          ]
         }
        },
        {
         "name": "cty",
         "dtype": "object",
         "stats": {
          "unique_count": 10,
          "nan_count": 0,
          "categories": [
           {
            "name": "Spartanburg",
            "count": 1
           },
           {
            "name": "North Charleston",
            "count": 1
           },
           {
            "name": "8 others",
            "count": 8
           }
          ]
         }
        },
        {
         "name": "st",
         "dtype": "object",
         "stats": {
          "unique_count": 1,
          "nan_count": 0,
          "categories": [
           {
            "name": "SC",
            "count": 10
           }
          ]
         }
        },
        {
         "name": "zip_x",
         "dtype": "object",
         "stats": {
          "unique_count": 10,
          "nan_count": 0,
          "categories": [
           {
            "name": "293072246",
            "count": 1
           },
           {
            "name": "294188466",
            "count": 1
           },
           {
            "name": "8 others",
            "count": 8
           }
          ]
         }
        },
        {
         "name": "phn_numbr",
         "dtype": "float64",
         "stats": {
          "unique_count": 1,
          "nan_count": 9,
          "min": "8434486380.0",
          "max": "8434486380.0",
          "histogram": [
           {
            "bin_start": 8434486379.5,
            "bin_end": 8434486379.6,
            "count": 0
           },
           {
            "bin_start": 8434486379.6,
            "bin_end": 8434486379.7,
            "count": 0
           },
           {
            "bin_start": 8434486379.7,
            "bin_end": 8434486379.8,
            "count": 0
           },
           {
            "bin_start": 8434486379.8,
            "bin_end": 8434486379.9,
            "count": 0
           },
           {
            "bin_start": 8434486379.9,
            "bin_end": 8434486380,
            "count": 0
           },
           {
            "bin_start": 8434486380,
            "bin_end": 8434486380.1,
            "count": 1
           },
           {
            "bin_start": 8434486380.1,
            "bin_end": 8434486380.2,
            "count": 0
           },
           {
            "bin_start": 8434486380.2,
            "bin_end": 8434486380.3,
            "count": 0
           },
           {
            "bin_start": 8434486380.3,
            "bin_end": 8434486380.4,
            "count": 0
           },
           {
            "bin_start": 8434486380.4,
            "bin_end": 8434486380.5,
            "count": 0
           }
          ]
         }
        },
        {
         "name": "hosp_afl_lbn_1",
         "dtype": "object",
         "stats": {
          "unique_count": 2,
          "nan_count": 8,
          "categories": [
           {
            "name": "Musc Health Marion Medical Center",
            "count": 1
           },
           {
            "name": "East Cooper Medical Center",
            "count": 1
           },
           {
            "name": "Missing",
            "count": 8
           }
          ]
         }
        },
        {
         "name": "_deepnote_index_column",
         "dtype": "int64"
        }
       ],
       "rows": [
        {
         "Unnamed: 0": 202,
         "NPI": 1215240759,
         "full_name": "Christopher  Bedenbaugh ",
         " gndr": "M",
         "Cred": "nan",
         "Med_sch": "Sherman College Of Straight Chiropractic",
         "Grd_yr": 2010,
         "pri_spec": "Chiropractic",
         "adr": "1463 E Main St A ",
         "cty": "Spartanburg",
         "st": "SC",
         "zip_x": "293072246",
         "phn_numbr": "nan",
         "hosp_afl_lbn_1": "nan",
         "_deepnote_index_column": 202
        },
        {
         "Unnamed: 0": 223,
         "NPI": 1215132733,
         "full_name": "Tasha M Williams ",
         " gndr": "F",
         "Cred": "nan",
         "Med_sch": "Clvlnd Clinic Lerner College Of Med Of Case Wstn Rsv University",
         "Grd_yr": 1999,
         "pri_spec": "Clinical Social Worker",
         "adr": "3251 Landmark Dr Suite 142",
         "cty": "North Charleston",
         "st": "SC",
         "zip_x": "294188466",
         "phn_numbr": "nan",
         "hosp_afl_lbn_1": "nan",
         "_deepnote_index_column": 223
        },
        {
         "Unnamed: 0": 236,
         "NPI": 1215161153,
         "full_name": "Gavin  Davis ",
         " gndr": "M",
         "Cred": "nan",
         "Med_sch": "Medical University Of South Carolina College Of Medicine",
         "Grd_yr": 2009,
         "pri_spec": "Ophthalmology",
         "adr": "4723 Sunset Blvd Suite A",
         "cty": "Lexington",
         "st": "SC",
         "zip_x": "290729151",
         "phn_numbr": "nan",
         "hosp_afl_lbn_1": "nan",
         "_deepnote_index_column": 236
        },
        {
         "Unnamed: 0": 276,
         "NPI": 1215300983,
         "full_name": "Taylor  Huntley ",
         " gndr": "M",
         "Cred": "nan",
         "Med_sch": "Other",
         "Grd_yr": 2015,
         "pri_spec": "Chiropractic",
         "adr": "1451 W Palmetto St ",
         "cty": "Florence",
         "st": "SC",
         "zip_x": "295014173",
         "phn_numbr": "nan",
         "hosp_afl_lbn_1": "nan",
         "_deepnote_index_column": 276
        },
        {
         "Unnamed: 0": 279,
         "NPI": 1215122890,
         "full_name": "Martia L Creighton Thigpen ",
         " gndr": "F",
         "Cred": "nan",
         "Med_sch": "Palmer College Chiropractic - Davenport",
         "Grd_yr": 2005,
         "pri_spec": "Chiropractic",
         "adr": "9016 Farrow Rd B ",
         "cty": "Columbia",
         "st": "SC",
         "zip_x": "292038933",
         "phn_numbr": "nan",
         "hosp_afl_lbn_1": "nan",
         "_deepnote_index_column": 279
        },
        {
         "Unnamed: 0": 412,
         "NPI": 1205909009,
         "full_name": "Kevin M Mobley ",
         " gndr": "M",
         "Cred": "nan",
         "Med_sch": "Life Chiropractic College - West",
         "Grd_yr": 2002,
         "pri_spec": "Chiropractic",
         "adr": "1097 S Pendleton St ",
         "cty": "Easley",
         "st": "SC",
         "zip_x": "296421050",
         "phn_numbr": "nan",
         "hosp_afl_lbn_1": "nan",
         "_deepnote_index_column": 412
        },
        {
         "Unnamed: 0": 494,
         "NPI": 1205939550,
         "full_name": "Treadwell  Campbell ",
         " gndr": "M",
         "Cred": "nan",
         "Med_sch": "Meharry Medical College School Of Medicine",
         "Grd_yr": 1985,
         "pri_spec": "Family Medicine",
         "adr": "2835 E Hwy 76 Suite 6",
         "cty": "Mullins",
         "st": "SC",
         "zip_x": "295746038",
         "phn_numbr": "nan",
         "hosp_afl_lbn_1": "Musc Health Marion Medical Center",
         "_deepnote_index_column": 494
        },
        {
         "Unnamed: 0": 571,
         "NPI": 1205995974,
         "full_name": "Michael J Hudak ",
         " gndr": "M",
         "Cred": "nan",
         "Med_sch": "Palmer College Chiropractic - Davenport",
         "Grd_yr": 1995,
         "pri_spec": "Chiropractic",
         "adr": "10799 Hwy 707 Suite 3",
         "cty": "Murrells Inlet",
         "st": "SC",
         "zip_x": "295769819",
         "phn_numbr": "nan",
         "hosp_afl_lbn_1": "nan",
         "_deepnote_index_column": 571
        },
        {
         "Unnamed: 0": 893,
         "NPI": 1205895398,
         "full_name": "Anthony L Morris ",
         " gndr": "M",
         "Cred": "nan",
         "Med_sch": "Life Chiropractic College",
         "Grd_yr": 1989,
         "pri_spec": "Chiropractic",
         "adr": "1750 Mr Joe White Ave ",
         "cty": "Myrtle Beach",
         "st": "SC",
         "zip_x": "295775620",
         "phn_numbr": 8434486380,
         "hosp_afl_lbn_1": "nan",
         "_deepnote_index_column": 893
        },
        {
         "Unnamed: 0": 992,
         "NPI": 1215000468,
         "full_name": "William B Richardson ",
         " gndr": "M",
         "Cred": "nan",
         "Med_sch": "Other",
         "Grd_yr": 2003,
         "pri_spec": "Interventional Pain Management",
         "adr": "3520 Park Ave Blvd Suite 105",
         "cty": "Mt Pleasant",
         "st": "SC",
         "zip_x": "294667242",
         "phn_numbr": "nan",
         "hosp_afl_lbn_1": "East Cooper Medical Center",
         "_deepnote_index_column": 992
        }
       ]
      },
      "text/plain": "     Unnamed: 0         NPI                    full_name  gndr Cred  \\\n202         202  1215240759     Christopher  Bedenbaugh      M  NaN   \n223         223  1215132733            Tasha M Williams      F  NaN   \n236         236  1215161153                Gavin  Davis      M  NaN   \n276         276  1215300983             Taylor  Huntley      M  NaN   \n279         279  1215122890  Martia L Creighton Thigpen      F  NaN   \n412         412  1205909009              Kevin M Mobley      M  NaN   \n494         494  1205939550         Treadwell  Campbell      M  NaN   \n571         571  1205995974             Michael J Hudak      M  NaN   \n893         893  1205895398            Anthony L Morris      M  NaN   \n992         992  1215000468        William B Richardson      M  NaN   \n\n                                               Med_sch  Grd_yr  \\\n202           Sherman College Of Straight Chiropractic  2010.0   \n223  Clvlnd Clinic Lerner College Of Med Of Case Ws...  1999.0   \n236  Medical University Of South Carolina College O...  2009.0   \n276                                              Other  2015.0   \n279            Palmer College Chiropractic - Davenport  2005.0   \n412                   Life Chiropractic College - West  2002.0   \n494         Meharry Medical College School Of Medicine  1985.0   \n571            Palmer College Chiropractic - Davenport  1995.0   \n893                          Life Chiropractic College  1989.0   \n992                                              Other  2003.0   \n\n                           pri_spec                           adr  \\\n202                    Chiropractic             1463 E Main St A    \n223          Clinical Social Worker    3251 Landmark Dr Suite 142   \n236                   Ophthalmology      4723 Sunset Blvd Suite A   \n276                    Chiropractic           1451 W Palmetto St    \n279                    Chiropractic             9016 Farrow Rd B    \n412                    Chiropractic          1097 S Pendleton St    \n494                 Family Medicine         2835 E Hwy 76 Suite 6   \n571                    Chiropractic         10799 Hwy 707 Suite 3   \n893                    Chiropractic        1750 Mr Joe White Ave    \n992  Interventional Pain Management  3520 Park Ave Blvd Suite 105   \n\n                  cty  st      zip_x     phn_numbr  \\\n202       Spartanburg  SC  293072246           NaN   \n223  North Charleston  SC  294188466           NaN   \n236         Lexington  SC  290729151           NaN   \n276          Florence  SC  295014173           NaN   \n279          Columbia  SC  292038933           NaN   \n412            Easley  SC  296421050           NaN   \n494           Mullins  SC  295746038           NaN   \n571    Murrells Inlet  SC  295769819           NaN   \n893      Myrtle Beach  SC  295775620  8.434486e+09   \n992       Mt Pleasant  SC  294667242           NaN   \n\n                        hosp_afl_lbn_1  \n202                                NaN  \n223                                NaN  \n236                                NaN  \n276                                NaN  \n279                                NaN  \n412                                NaN  \n494  Musc Health Marion Medical Center  \n571                                NaN  \n893                                NaN  \n992         East Cooper Medical Center  ",
      "text/html": "<div>\n<style scoped>\n    .dataframe tbody tr th:only-of-type {\n        vertical-align: middle;\n    }\n\n    .dataframe tbody tr th {\n        vertical-align: top;\n    }\n\n    .dataframe thead th {\n        text-align: right;\n    }\n</style>\n<table border=\"1\" class=\"dataframe\">\n  <thead>\n    <tr style=\"text-align: right;\">\n      <th></th>\n      <th>Unnamed: 0</th>\n      <th>NPI</th>\n      <th>full_name</th>\n      <th>gndr</th>\n      <th>Cred</th>\n      <th>Med_sch</th>\n      <th>Grd_yr</th>\n      <th>pri_spec</th>\n      <th>adr</th>\n      <th>cty</th>\n      <th>st</th>\n      <th>zip_x</th>\n      <th>phn_numbr</th>\n      <th>hosp_afl_lbn_1</th>\n    </tr>\n  </thead>\n  <tbody>\n    <tr>\n      <th>202</th>\n      <td>202</td>\n      <td>1215240759</td>\n      <td>Christopher  Bedenbaugh</td>\n      <td>M</td>\n      <td>NaN</td>\n      <td>Sherman College Of Straight Chiropractic</td>\n      <td>2010.0</td>\n      <td>Chiropractic</td>\n      <td>1463 E Main St A</td>\n      <td>Spartanburg</td>\n      <td>SC</td>\n      <td>293072246</td>\n      <td>NaN</td>\n      <td>NaN</td>\n    </tr>\n    <tr>\n      <th>223</th>\n      <td>223</td>\n      <td>1215132733</td>\n      <td>Tasha M Williams</td>\n      <td>F</td>\n      <td>NaN</td>\n      <td>Clvlnd Clinic Lerner College Of Med Of Case Ws...</td>\n      <td>1999.0</td>\n      <td>Clinical Social Worker</td>\n      <td>3251 Landmark Dr Suite 142</td>\n      <td>North Charleston</td>\n      <td>SC</td>\n      <td>294188466</td>\n      <td>NaN</td>\n      <td>NaN</td>\n    </tr>\n    <tr>\n      <th>236</th>\n      <td>236</td>\n      <td>1215161153</td>\n      <td>Gavin  Davis</td>\n      <td>M</td>\n      <td>NaN</td>\n      <td>Medical University Of South Carolina College O...</td>\n      <td>2009.0</td>\n      <td>Ophthalmology</td>\n      <td>4723 Sunset Blvd Suite A</td>\n      <td>Lexington</td>\n      <td>SC</td>\n      <td>290729151</td>\n      <td>NaN</td>\n      <td>NaN</td>\n    </tr>\n    <tr>\n      <th>276</th>\n      <td>276</td>\n      <td>1215300983</td>\n      <td>Taylor  Huntley</td>\n      <td>M</td>\n      <td>NaN</td>\n      <td>Other</td>\n      <td>2015.0</td>\n      <td>Chiropractic</td>\n      <td>1451 W Palmetto St</td>\n      <td>Florence</td>\n      <td>SC</td>\n      <td>295014173</td>\n      <td>NaN</td>\n      <td>NaN</td>\n    </tr>\n    <tr>\n      <th>279</th>\n      <td>279</td>\n      <td>1215122890</td>\n      <td>Martia L Creighton Thigpen</td>\n      <td>F</td>\n      <td>NaN</td>\n      <td>Palmer College Chiropractic - Davenport</td>\n      <td>2005.0</td>\n      <td>Chiropractic</td>\n      <td>9016 Farrow Rd B</td>\n      <td>Columbia</td>\n      <td>SC</td>\n      <td>292038933</td>\n      <td>NaN</td>\n      <td>NaN</td>\n    </tr>\n    <tr>\n      <th>412</th>\n      <td>412</td>\n      <td>1205909009</td>\n      <td>Kevin M Mobley</td>\n      <td>M</td>\n      <td>NaN</td>\n      <td>Life Chiropractic College - West</td>\n      <td>2002.0</td>\n      <td>Chiropractic</td>\n      <td>1097 S Pendleton St</td>\n      <td>Easley</td>\n      <td>SC</td>\n      <td>296421050</td>\n      <td>NaN</td>\n      <td>NaN</td>\n    </tr>\n    <tr>\n      <th>494</th>\n      <td>494</td>\n      <td>1205939550</td>\n      <td>Treadwell  Campbell</td>\n      <td>M</td>\n      <td>NaN</td>\n      <td>Meharry Medical College School Of Medicine</td>\n      <td>1985.0</td>\n      <td>Family Medicine</td>\n      <td>2835 E Hwy 76 Suite 6</td>\n      <td>Mullins</td>\n      <td>SC</td>\n      <td>295746038</td>\n      <td>NaN</td>\n      <td>Musc Health Marion Medical Center</td>\n    </tr>\n    <tr>\n      <th>571</th>\n      <td>571</td>\n      <td>1205995974</td>\n      <td>Michael J Hudak</td>\n      <td>M</td>\n      <td>NaN</td>\n      <td>Palmer College Chiropractic - Davenport</td>\n      <td>1995.0</td>\n      <td>Chiropractic</td>\n      <td>10799 Hwy 707 Suite 3</td>\n      <td>Murrells Inlet</td>\n      <td>SC</td>\n      <td>295769819</td>\n      <td>NaN</td>\n      <td>NaN</td>\n    </tr>\n    <tr>\n      <th>893</th>\n      <td>893</td>\n      <td>1205895398</td>\n      <td>Anthony L Morris</td>\n      <td>M</td>\n      <td>NaN</td>\n      <td>Life Chiropractic College</td>\n      <td>1989.0</td>\n      <td>Chiropractic</td>\n      <td>1750 Mr Joe White Ave</td>\n      <td>Myrtle Beach</td>\n      <td>SC</td>\n      <td>295775620</td>\n      <td>8.434486e+09</td>\n      <td>NaN</td>\n    </tr>\n    <tr>\n      <th>992</th>\n      <td>992</td>\n      <td>1215000468</td>\n      <td>William B Richardson</td>\n      <td>M</td>\n      <td>NaN</td>\n      <td>Other</td>\n      <td>2003.0</td>\n      <td>Interventional Pain Management</td>\n      <td>3520 Park Ave Blvd Suite 105</td>\n      <td>Mt Pleasant</td>\n      <td>SC</td>\n      <td>294667242</td>\n      <td>NaN</td>\n      <td>East Cooper Medical Center</td>\n    </tr>\n  </tbody>\n</table>\n</div>"
     },
     "metadata": {}
    }
   ],
   "execution_count": null
  },
  {
   "cell_type": "code",
   "metadata": {
    "cell_id": "85c59a3c-26b3-4c49-a4ef-14a2348c4771",
    "tags": [],
    "deepnote_to_be_reexecuted": false,
    "source_hash": "94dce51c",
    "execution_start": 1645049768638,
    "execution_millis": 283,
    "deepnote_output_heights": [
     192
    ],
    "deepnote_app_coordinates": {
     "x": 0,
     "y": 182,
     "w": 12,
     "h": 16
    },
    "deepnote_cell_type": "code"
   },
   "source": "cities = contains_state.pivot_table(columns=['cty'], aggfunc='size').nlargest(10)\nplot_cities = cities.plot.pie(subplots=True, figsize=(5, 5))",
   "outputs": [
    {
     "data": {
      "text/plain": "<Figure size 360x360 with 1 Axes>",
      "image/png": "[encoded data removed]"
     },
     "metadata": {
      "image/png": {
       "width": 355,
       "height": 286
      }
     },
     "output_type": "display_data"
    }
   ],
   "execution_count": null
  },
  {
   "cell_type": "code",
   "metadata": {
    "cell_id": "29128c32-0b25-4ce0-b6e6-4a5f6a783127",
    "tags": [],
    "deepnote_to_be_reexecuted": false,
    "source_hash": "5adbea26",
    "execution_start": 1645049669946,
    "execution_millis": 9,
    "deepnote_app_coordinates": {
     "x": 12,
     "y": 159,
     "w": 12,
     "h": 18
    },
    "deepnote_cell_type": "code"
   },
   "source": "pop_specs = contains_state.pivot_table(columns=['pri_spec'], aggfunc='size').nlargest(10)\nprint('These are the specialties that are most abundant in {}:'.format(state))\nprint(pop_specs)",
   "outputs": [
    {
     "name": "stdout",
     "text": "These are the specialties that are most abundant in CA:\npri_spec\nChiropractic              164\nPsychologist, Clinical    150\nInternal Medicine         109\nFamily Medicine            79\nOptometry                  65\nClinical Social Worker     61\nPodiatry                   43\nObstetrics/Gynecology      39\nPhysical Therapy           33\nNeurology                  32\ndtype: int64\n",
     "output_type": "stream"
    }
   ],
   "execution_count": null
  },
  {
   "cell_type": "markdown",
   "source": "These are the cities within your selected state with the most professionals in the dataset.",
   "metadata": {
    "cell_id": "211693c1-ad06-49f0-b6b9-417b108a4f8e",
    "tags": [],
    "is_collapsed": false,
    "deepnote_app_coordinates": {
     "x": 0,
     "y": 179,
     "w": 12,
     "h": 2
    },
    "deepnote_cell_type": "text-cell-p"
   }
  },
  {
   "cell_type": "code",
   "metadata": {
    "cell_id": "1226cd03-9e58-4323-b480-278edfe921f3",
    "tags": [],
    "deepnote_to_be_reexecuted": false,
    "source_hash": "2ed11b5e",
    "execution_start": 1645049669976,
    "execution_millis": 508729,
    "deepnote_output_heights": [
     194
    ],
    "deepnote_app_coordinates": {
     "x": 0,
     "y": 198,
     "w": 12,
     "h": 15
    },
    "deepnote_cell_type": "code"
   },
   "source": "#top cities, as shown in the pie chart previously#\nlist_cty = pd.DataFrame(contains_state.cty)\nn = 10\nlist_cty = list_cty['cty'].value_counts()[:n].index.tolist()\nlist_cty",
   "outputs": [
    {
     "output_type": "execute_result",
     "execution_count": 15,
     "data": {
      "text/plain": "['Los Angeles',\n 'San Diego',\n 'San Francisco',\n 'San Jose',\n 'Sacramento',\n 'Newport Beach',\n 'Glendale',\n 'Irvine',\n 'Santa Rosa',\n 'Bakersfield']"
     },
     "metadata": {}
    }
   ],
   "execution_count": null
  },
  {
   "cell_type": "markdown",
   "source": "Choose a City to Find a Hospital",
   "metadata": {
    "cell_id": "d1a7942b-59a5-42eb-b1bb-744176379a8f",
    "tags": [],
    "is_collapsed": false,
    "deepnote_app_coordinates": {
     "x": 0,
     "y": 213,
     "w": 8,
     "h": 2
    },
    "deepnote_cell_type": "text-cell-p"
   }
  },
  {
   "cell_type": "code",
   "metadata": {
    "cell_id": "337ee2c0-2a93-4992-a127-9f0440933063",
    "deepnote_variable_name": "city",
    "deepnote_variable_value": "Newport Beach",
    "deepnote_variable_options": [
     "Los Angeles",
     "San Diego",
     "San Francisco",
     "San Jose",
     "Sacramento",
     "Newport Beach",
     "Glendale",
     "Irvine",
     "Bakersfield",
     "Santa Rosa"
    ],
    "deepnote_variable_custom_options": [
     "Option 1",
     "Option 2"
    ],
    "deepnote_variable_selected_variable": "list_cty",
    "deepnote_variable_select_type": "from-variable",
    "deepnote_to_be_reexecuted": false,
    "source_hash": "b96f180b",
    "execution_start": 1645049669990,
    "execution_millis": 508678,
    "deepnote_app_coordinates": {
     "x": 0,
     "y": 216,
     "w": 8,
     "h": 4
    },
    "deepnote_cell_type": "input-select"
   },
   "source": "city = 'Newport Beach'",
   "outputs": [],
   "execution_count": null
  },
  {
   "cell_type": "code",
   "metadata": {
    "cell_id": "ac8d8c91-e0d7-4716-a977-c08ed5793d15",
    "tags": [],
    "deepnote_to_be_reexecuted": false,
    "source_hash": "9978b2eb",
    "execution_start": 1645049670000,
    "execution_millis": 62,
    "deepnote_table_state": {
     "pageSize": 10,
     "pageIndex": 0,
     "filters": [],
     "sortBy": [
      {
       "id": "Unnamed: 0",
       "type": "desc"
      }
     ]
    },
    "deepnote_table_loading": false,
    "deepnote_cell_type": "code"
   },
   "source": "contains_cty = pd.DataFrame(df_v[df_v['cty'].str.contains(city)])\ncontains_cty",
   "outputs": [
    {
     "output_type": "execute_result",
     "execution_count": 17,
     "data": {
      "application/vnd.deepnote.dataframe.v3+json": {
       "column_count": 14,
       "row_count": 19,
       "columns": [
        {
         "name": "Unnamed: 0",
         "dtype": "int64",
         "stats": {
          "unique_count": 19,
          "nan_count": 0,
          "min": "27",
          "max": "7971",
          "histogram": [
           {
            "bin_start": 27,
            "bin_end": 821.4,
            "count": 1
           },
           {
            "bin_start": 821.4,
            "bin_end": 1615.8,
            "count": 1
           },
           {
            "bin_start": 1615.8,
            "bin_end": 2410.2,
            "count": 4
           },
           {
            "bin_start": 2410.2,
            "bin_end": 3204.6,
            "count": 2
           },
           {
            "bin_start": 3204.6,
            "bin_end": 3999,
            "count": 2
           },
           {
            "bin_start": 3999,
            "bin_end": 4793.4,
            "count": 2
           },
           {
            "bin_start": 4793.4,
            "bin_end": 5587.8,
            "count": 1
           },
           {
            "bin_start": 5587.8,
            "bin_end": 6382.2,
            "count": 1
           },
           {
            "bin_start": 6382.2,
            "bin_end": 7176.599999999999,
            "count": 4
           },
           {
            "bin_start": 7176.599999999999,
            "bin_end": 7971,
            "count": 1
           }
          ]
         }
        },
        {
         "name": "NPI",
         "dtype": "int64",
         "stats": {
          "unique_count": 19,
          "nan_count": 0,
          "min": "1164493284",
          "max": "1215138391",
          "histogram": [
           {
            "bin_start": 1164493284,
            "bin_end": 1169557794.7,
            "count": 3
           },
           {
            "bin_start": 1169557794.7,
            "bin_end": 1174622305.4,
            "count": 3
           },
           {
            "bin_start": 1174622305.4,
            "bin_end": 1179686816.1,
            "count": 0
           },
           {
            "bin_start": 1179686816.1,
            "bin_end": 1184751326.8,
            "count": 2
           },
           {
            "bin_start": 1184751326.8,
            "bin_end": 1189815837.5,
            "count": 2
           },
           {
            "bin_start": 1189815837.5,
            "bin_end": 1194880348.2,
            "count": 2
           },
           {
            "bin_start": 1194880348.2,
            "bin_end": 1199944858.9,
            "count": 2
           },
           {
            "bin_start": 1199944858.9,
            "bin_end": 1205009369.6,
            "count": 0
           },
           {
            "bin_start": 1205009369.6,
            "bin_end": 1210073880.3,
            "count": 4
           },
           {
            "bin_start": 1210073880.3,
            "bin_end": 1215138391,
            "count": 1
           }
          ]
         }
        },
        {
         "name": "full_name",
         "dtype": "object",
         "stats": {
          "unique_count": 19,
          "nan_count": 0,
          "categories": [
           {
            "name": "Brent C Norman ",
            "count": 1
           },
           {
            "name": "Denise  Scott ",
            "count": 1
           },
           {
            "name": "17 others",
            "count": 17
           }
          ]
         }
        },
        {
         "name": " gndr",
         "dtype": "object",
         "stats": {
          "unique_count": 2,
          "nan_count": 0,
          "categories": [
           {
            "name": "M",
            "count": 11
           },
           {
            "name": "F",
            "count": 8
           }
          ]
         }
        },
        {
         "name": "Cred",
         "dtype": "object",
         "stats": {
          "unique_count": 2,
          "nan_count": 13,
          "categories": [
           {
            "name": "MD",
            "count": 5
           },
           {
            "name": "CP",
            "count": 1
           },
           {
            "name": "Missing",
            "count": 13
           }
          ]
         }
        },
        {
         "name": "Med_sch",
         "dtype": "object",
         "stats": {
          "unique_count": 8,
          "nan_count": 0,
          "categories": [
           {
            "name": "Other",
            "count": 11
           },
           {
            "name": "University Of Southern California Keck School Of Medicine",
            "count": 2
           },
           {
            "name": "6 others",
            "count": 6
           }
          ]
         }
        },
        {
         "name": "Grd_yr",
         "dtype": "float64",
         "stats": {
          "unique_count": 18,
          "nan_count": 0,
          "min": "1978.0",
          "max": "2015.0",
          "histogram": [
           {
            "bin_start": 1978,
            "bin_end": 1981.7,
            "count": 1
           },
           {
            "bin_start": 1981.7,
            "bin_end": 1985.4,
            "count": 4
           },
           {
            "bin_start": 1985.4,
            "bin_end": 1989.1,
            "count": 1
           },
           {
            "bin_start": 1989.1,
            "bin_end": 1992.8,
            "count": 2
           },
           {
            "bin_start": 1992.8,
            "bin_end": 1996.5,
            "count": 2
           },
           {
            "bin_start": 1996.5,
            "bin_end": 2000.2,
            "count": 2
           },
           {
            "bin_start": 2000.2,
            "bin_end": 2003.9,
            "count": 1
           },
           {
            "bin_start": 2003.9,
            "bin_end": 2007.6,
            "count": 1
           },
           {
            "bin_start": 2007.6,
            "bin_end": 2011.3,
            "count": 3
           },
           {
            "bin_start": 2011.3,
            "bin_end": 2015,
            "count": 2
           }
          ]
         }
        },
        {
         "name": "pri_spec",
         "dtype": "object",
         "stats": {
          "unique_count": 12,
          "nan_count": 0,
          "categories": [
           {
            "name": "Psychologist, Clinical",
            "count": 5
           },
           {
            "name": "Endocrinology",
            "count": 2
           },
           {
            "name": "10 others",
            "count": 12
           }
          ]
         }
        },
        {
         "name": "adr",
         "dtype": "object",
         "stats": {
          "unique_count": 19,
          "nan_count": 0,
          "categories": [
           {
            "name": "361 Hospital Rd Suite 126",
            "count": 1
           },
           {
            "name": "1401 Avocado Ave Suite 101",
            "count": 1
           },
           {
            "name": "17 others",
            "count": 17
           }
          ]
         }
        },
        {
         "name": "cty",
         "dtype": "object",
         "stats": {
          "unique_count": 1,
          "nan_count": 0,
          "categories": [
           {
            "name": "Newport Beach",
            "count": 19
           }
          ]
         }
        },
        {
         "name": "st",
         "dtype": "object",
         "stats": {
          "unique_count": 1,
          "nan_count": 0,
          "categories": [
           {
            "name": "CA",
            "count": 19
           }
          ]
         }
        },
        {
         "name": "zip_x",
         "dtype": "object",
         "stats": {
          "unique_count": 15,
          "nan_count": 0,
          "categories": [
           {
            "name": "926633640",
            "count": 3
           },
           {
            "name": "926607810",
            "count": 2
           },
           {
            "name": "13 others",
            "count": 14
           }
          ]
         }
        },
        {
         "name": "phn_numbr",
         "dtype": "float64",
         "stats": {
          "unique_count": 8,
          "nan_count": 11,
          "min": "7143457235.0",
          "max": "9497647366.0",
          "histogram": [
           {
            "bin_start": 7143457235,
            "bin_end": 7378876248.1,
            "count": 1
           },
           {
            "bin_start": 7378876248.1,
            "bin_end": 7614295261.2,
            "count": 0
           },
           {
            "bin_start": 7614295261.2,
            "bin_end": 7849714274.3,
            "count": 0
           },
           {
            "bin_start": 7849714274.3,
            "bin_end": 8085133287.4,
            "count": 0
           },
           {
            "bin_start": 8085133287.4,
            "bin_end": 8320552300.5,
            "count": 0
           },
           {
            "bin_start": 8320552300.5,
            "bin_end": 8555971313.6,
            "count": 0
           },
           {
            "bin_start": 8555971313.6,
            "bin_end": 8791390326.7,
            "count": 0
           },
           {
            "bin_start": 8791390326.7,
            "bin_end": 9026809339.8,
            "count": 0
           },
           {
            "bin_start": 9026809339.8,
            "bin_end": 9262228352.9,
            "count": 0
           },
           {
            "bin_start": 9262228352.9,
            "bin_end": 9497647366,
            "count": 7
           }
          ]
         }
        },
        {
         "name": "hosp_afl_lbn_1",
         "dtype": "object",
         "stats": {
          "unique_count": 1,
          "nan_count": 9,
          "categories": [
           {
            "name": "Hoag Memorial Hospital Presbyterian",
            "count": 10
           },
           {
            "name": "Missing",
            "count": 9
           }
          ]
         }
        },
        {
         "name": "_deepnote_index_column",
         "dtype": "int64"
        }
       ],
       "rows": [
        {
         "Unnamed: 0": 7971,
         "NPI": 1164493284,
         "full_name": "Brent C Norman ",
         " gndr": "M",
         "Cred": "nan",
         "Med_sch": "Tulane University School Of Medicine",
         "Grd_yr": 1982,
         "pri_spec": "Ophthalmology",
         "adr": "361 Hospital Rd Suite 126",
         "cty": "Newport Beach",
         "st": "CA",
         "zip_x": "926633510",
         "phn_numbr": "nan",
         "hosp_afl_lbn_1": "Hoag Memorial Hospital Presbyterian",
         "_deepnote_index_column": 7971
        },
        {
         "Unnamed: 0": 7088,
         "NPI": 1164595278,
         "full_name": "Denise  Scott ",
         " gndr": "F",
         "Cred": "nan",
         "Med_sch": "Pennsylvania State University College Of Medicine",
         "Grd_yr": 1989,
         "pri_spec": "Endocrinology",
         "adr": "1401 Avocado Ave Suite 101",
         "cty": "Newport Beach",
         "st": "CA",
         "zip_x": "926607710",
         "phn_numbr": "nan",
         "hosp_afl_lbn_1": "Hoag Memorial Hospital Presbyterian",
         "_deepnote_index_column": 7088
        },
        {
         "Unnamed: 0": 7056,
         "NPI": 1164735551,
         "full_name": "Nicole S Lightman ",
         " gndr": "F",
         "Cred": "nan",
         "Med_sch": "Other",
         "Grd_yr": 2015,
         "pri_spec": "Psychologist, Clinical",
         "adr": "23 Corporate Plaza Dr Suite 150",
         "cty": "Newport Beach",
         "st": "CA",
         "zip_x": "926607908",
         "phn_numbr": "nan",
         "hosp_afl_lbn_1": "nan",
         "_deepnote_index_column": 7056
        },
        {
         "Unnamed: 0": 6730,
         "NPI": 1174550784,
         "full_name": "Nicholas E Rose ",
         " gndr": "M",
         "Cred": "MD",
         "Med_sch": "University Of California, Geffen School Of Medicine",
         "Grd_yr": 1991,
         "pri_spec": "Hand Surgery",
         "adr": "360 San Miguel Dr Suite 701",
         "cty": "Newport Beach",
         "st": "CA",
         "zip_x": "926605927",
         "phn_numbr": "nan",
         "hosp_afl_lbn_1": "Hoag Memorial Hospital Presbyterian",
         "_deepnote_index_column": 6730
        },
        {
         "Unnamed: 0": 6564,
         "NPI": 1174588891,
         "full_name": "William M Thompson ",
         " gndr": "M",
         "Cred": "MD",
         "Med_sch": "Other",
         "Grd_yr": 2000,
         "pri_spec": "Infectious Disease",
         "adr": "1501 Superior Ave Suite 205",
         "cty": "Newport Beach",
         "st": "CA",
         "zip_x": "926633640",
         "phn_numbr": 9492007921,
         "hosp_afl_lbn_1": "Hoag Memorial Hospital Presbyterian",
         "_deepnote_index_column": 6564
        },
        {
         "Unnamed: 0": 6333,
         "NPI": 1174543169,
         "full_name": "Teryn B Clarke ",
         " gndr": "F",
         "Cred": "nan",
         "Med_sch": "University Of Southern California Keck School Of Medicine",
         "Grd_yr": 1999,
         "pri_spec": "Neurology",
         "adr": "400 Newport Ctr Dr Suite 310",
         "cty": "Newport Beach",
         "st": "CA",
         "zip_x": "926607636",
         "phn_numbr": "nan",
         "hosp_afl_lbn_1": "Hoag Memorial Hospital Presbyterian",
         "_deepnote_index_column": 6333
        },
        {
         "Unnamed: 0": 5195,
         "NPI": 1184267254,
         "full_name": "Justine L Weber ",
         " gndr": "F",
         "Cred": "nan",
         "Med_sch": "Other",
         "Grd_yr": 2006,
         "pri_spec": "Psychologist, Clinical",
         "adr": "366 San Miguel Dr Suite 209",
         "cty": "Newport Beach",
         "st": "CA",
         "zip_x": "926607810",
         "phn_numbr": 9494239426,
         "hosp_afl_lbn_1": "nan",
         "_deepnote_index_column": 5195
        },
        {
         "Unnamed: 0": 4767,
         "NPI": 1184620866,
         "full_name": "Ryan  Klein ",
         " gndr": "M",
         "Cred": "nan",
         "Med_sch": "University Of Southern California Keck School Of Medicine",
         "Grd_yr": 1995,
         "pri_spec": "Internal Medicine",
         "adr": "1501 Superior Ave Suite 202",
         "cty": "Newport Beach",
         "st": "CA",
         "zip_x": "926633640",
         "phn_numbr": "nan",
         "hosp_afl_lbn_1": "Hoag Memorial Hospital Presbyterian",
         "_deepnote_index_column": 4767
        },
        {
         "Unnamed: 0": 4693,
         "NPI": 1184798662,
         "full_name": "William L Demoss ",
         " gndr": "M",
         "Cred": "nan",
         "Med_sch": "Other",
         "Grd_yr": 1985,
         "pri_spec": "Chiropractic",
         "adr": "20321 Sw Birch St Suite 100",
         "cty": "Newport Beach",
         "st": "CA",
         "zip_x": "926601756",
         "phn_numbr": 9492500600,
         "hosp_afl_lbn_1": "nan",
         "_deepnote_index_column": 4693
        },
        {
         "Unnamed: 0": 3790,
         "NPI": 1184949570,
         "full_name": "David T Ahn ",
         " gndr": "M",
         "Cred": "nan",
         "Med_sch": "University Of California, San Diego School Of Medicine",
         "Grd_yr": 2010,
         "pri_spec": "Endocrinology",
         "adr": "520 Superior Ave Suite 150",
         "cty": "Newport Beach",
         "st": "CA",
         "zip_x": "926633642",
         "phn_numbr": 9497647366,
         "hosp_afl_lbn_1": "Hoag Memorial Hospital Presbyterian",
         "_deepnote_index_column": 3790
        }
       ]
      },
      "text/plain": "      Unnamed: 0         NPI            full_name  gndr Cred  \\\n27            27  1215138391        Dale W Oneal      M  NaN   \n1505        1505  1205810611        Amy P Opfell      F   MD   \n1713        1713  1205810066   Philip A Robinson      M   MD   \n2005        2005  1205134665         Sadia  Khan      F  NaN   \n2120        2120  1205026077   Christal  Bernous      F  NaN   \n2191        2191  1194955849         Hawaa E Ali      F  NaN   \n2494        2494  1194947986      Jeffrey K Bone      M   CP   \n2617        2617  1194782847  Emanuel  Shaoulian      M   MD   \n3455        3455  1194110676     Yazan  Abdullah      M  NaN   \n3790        3790  1184949570         David T Ahn      M  NaN   \n4693        4693  1184798662    William L Demoss      M  NaN   \n4767        4767  1184620866         Ryan  Klein      M  NaN   \n5195        5195  1184267254     Justine L Weber      F  NaN   \n6333        6333  1174543169      Teryn B Clarke      F  NaN   \n6564        6564  1174588891  William M Thompson      M   MD   \n6730        6730  1174550784     Nicholas E Rose      M   MD   \n7056        7056  1164735551   Nicole S Lightman      F  NaN   \n7088        7088  1164595278       Denise  Scott      F  NaN   \n7971        7971  1164493284      Brent C Norman      M  NaN   \n\n                                                Med_sch  Grd_yr  \\\n27                                                Other  1983.0   \n1505                                              Other  1984.0   \n1713              University Of Michigan Medical School  1990.0   \n2005                                              Other  2009.0   \n2120                                              Other  1993.0   \n2191           Southern California College Of Optometry  2009.0   \n2494                                              Other  2003.0   \n2617                                              Other  1978.0   \n3455                                              Other  2014.0   \n3790  University Of California, San Diego School Of ...  2010.0   \n4693                                              Other  1985.0   \n4767  University Of Southern California Keck School ...  1995.0   \n5195                                              Other  2006.0   \n6333  University Of Southern California Keck School ...  1999.0   \n6564                                              Other  2000.0   \n6730  University Of California, Geffen School Of Med...  1991.0   \n7056                                              Other  2015.0   \n7088  Pennsylvania State University College Of Medicine  1989.0   \n7971               Tulane University School Of Medicine  1982.0   \n\n                                 pri_spec                              adr  \\\n27                 Psychologist, Clinical      366 San Miguel Dr Suite 309   \n1505                       Anesthesiology       3333 W Coast Hwy Suite 100   \n1713                   Infectious Disease       320 Superior Ave Suite 290   \n2005                      General Surgery                       1 Hoag Dr    \n2120               Psychologist, Clinical          1451 Quail St Suite 102   \n2191                            Optometry       1000 Bristol St N Suite 29   \n2494               Psychologist, Clinical         4060 Campus Dr Suite 130   \n2617  Cardiovascular Disease (Cardiology)       320 Superior Ave Suite 280   \n3455                    Internal Medicine      1501 Superior Ave Suite 208   \n3790                        Endocrinology       520 Superior Ave Suite 150   \n4693                         Chiropractic      20321 Sw Birch St Suite 100   \n4767                    Internal Medicine      1501 Superior Ave Suite 202   \n5195               Psychologist, Clinical      366 San Miguel Dr Suite 209   \n6333                            Neurology     400 Newport Ctr Dr Suite 310   \n6564                   Infectious Disease      1501 Superior Ave Suite 205   \n6730                         Hand Surgery      360 San Miguel Dr Suite 701   \n7056               Psychologist, Clinical  23 Corporate Plaza Dr Suite 150   \n7088                        Endocrinology       1401 Avocado Ave Suite 101   \n7971                        Ophthalmology        361 Hospital Rd Suite 126   \n\n                cty  st      zip_x     phn_numbr  \\\n27    Newport Beach  CA  926607810  9.494977e+09   \n1505  Newport Beach  CA  926634087           NaN   \n1713  Newport Beach  CA  926636140  9.496509e+09   \n2005  Newport Beach  CA  926634162           NaN   \n2120  Newport Beach  CA  926602747  7.143457e+09   \n2191  Newport Beach  CA  926608917           NaN   \n2494  Newport Beach  CA  926602205  9.493754e+09   \n2617  Newport Beach  CA  926636140           NaN   \n3455  Newport Beach  CA  926633640           NaN   \n3790  Newport Beach  CA  926633642  9.497647e+09   \n4693  Newport Beach  CA  926601756  9.492501e+09   \n4767  Newport Beach  CA  926633640           NaN   \n5195  Newport Beach  CA  926607810  9.494239e+09   \n6333  Newport Beach  CA  926607636           NaN   \n6564  Newport Beach  CA  926633640  9.492008e+09   \n6730  Newport Beach  CA  926605927           NaN   \n7056  Newport Beach  CA  926607908           NaN   \n7088  Newport Beach  CA  926607710           NaN   \n7971  Newport Beach  CA  926633510           NaN   \n\n                           hosp_afl_lbn_1  \n27                                    NaN  \n1505                                  NaN  \n1713  Hoag Memorial Hospital Presbyterian  \n2005  Hoag Memorial Hospital Presbyterian  \n2120                                  NaN  \n2191                                  NaN  \n2494                                  NaN  \n2617  Hoag Memorial Hospital Presbyterian  \n3455                                  NaN  \n3790  Hoag Memorial Hospital Presbyterian  \n4693                                  NaN  \n4767  Hoag Memorial Hospital Presbyterian  \n5195                                  NaN  \n6333  Hoag Memorial Hospital Presbyterian  \n6564  Hoag Memorial Hospital Presbyterian  \n6730  Hoag Memorial Hospital Presbyterian  \n7056                                  NaN  \n7088  Hoag Memorial Hospital Presbyterian  \n7971  Hoag Memorial Hospital Presbyterian  ",
      "text/html": "<div>\n<style scoped>\n    .dataframe tbody tr th:only-of-type {\n        vertical-align: middle;\n    }\n\n    .dataframe tbody tr th {\n        vertical-align: top;\n    }\n\n    .dataframe thead th {\n        text-align: right;\n    }\n</style>\n<table border=\"1\" class=\"dataframe\">\n  <thead>\n    <tr style=\"text-align: right;\">\n      <th></th>\n      <th>Unnamed: 0</th>\n      <th>NPI</th>\n      <th>full_name</th>\n      <th>gndr</th>\n      <th>Cred</th>\n      <th>Med_sch</th>\n      <th>Grd_yr</th>\n      <th>pri_spec</th>\n      <th>adr</th>\n      <th>cty</th>\n      <th>st</th>\n      <th>zip_x</th>\n      <th>phn_numbr</th>\n      <th>hosp_afl_lbn_1</th>\n    </tr>\n  </thead>\n  <tbody>\n    <tr>\n      <th>27</th>\n      <td>27</td>\n      <td>1215138391</td>\n      <td>Dale W Oneal</td>\n      <td>M</td>\n      <td>NaN</td>\n      <td>Other</td>\n      <td>1983.0</td>\n      <td>Psychologist, Clinical</td>\n      <td>366 San Miguel Dr Suite 309</td>\n      <td>Newport Beach</td>\n      <td>CA</td>\n      <td>926607810</td>\n      <td>9.494977e+09</td>\n      <td>NaN</td>\n    </tr>\n    <tr>\n      <th>1505</th>\n      <td>1505</td>\n      <td>1205810611</td>\n      <td>Amy P Opfell</td>\n      <td>F</td>\n      <td>MD</td>\n      <td>Other</td>\n      <td>1984.0</td>\n      <td>Anesthesiology</td>\n      <td>3333 W Coast Hwy Suite 100</td>\n      <td>Newport Beach</td>\n      <td>CA</td>\n      <td>926634087</td>\n      <td>NaN</td>\n      <td>NaN</td>\n    </tr>\n    <tr>\n      <th>1713</th>\n      <td>1713</td>\n      <td>1205810066</td>\n      <td>Philip A Robinson</td>\n      <td>M</td>\n      <td>MD</td>\n      <td>University Of Michigan Medical School</td>\n      <td>1990.0</td>\n      <td>Infectious Disease</td>\n      <td>320 Superior Ave Suite 290</td>\n      <td>Newport Beach</td>\n      <td>CA</td>\n      <td>926636140</td>\n      <td>9.496509e+09</td>\n      <td>Hoag Memorial Hospital Presbyterian</td>\n    </tr>\n    <tr>\n      <th>2005</th>\n      <td>2005</td>\n      <td>1205134665</td>\n      <td>Sadia  Khan</td>\n      <td>F</td>\n      <td>NaN</td>\n      <td>Other</td>\n      <td>2009.0</td>\n      <td>General Surgery</td>\n      <td>1 Hoag Dr</td>\n      <td>Newport Beach</td>\n      <td>CA</td>\n      <td>926634162</td>\n      <td>NaN</td>\n      <td>Hoag Memorial Hospital Presbyterian</td>\n    </tr>\n    <tr>\n      <th>2120</th>\n      <td>2120</td>\n      <td>1205026077</td>\n      <td>Christal  Bernous</td>\n      <td>F</td>\n      <td>NaN</td>\n      <td>Other</td>\n      <td>1993.0</td>\n      <td>Psychologist, Clinical</td>\n      <td>1451 Quail St Suite 102</td>\n      <td>Newport Beach</td>\n      <td>CA</td>\n      <td>926602747</td>\n      <td>7.143457e+09</td>\n      <td>NaN</td>\n    </tr>\n    <tr>\n      <th>2191</th>\n      <td>2191</td>\n      <td>1194955849</td>\n      <td>Hawaa E Ali</td>\n      <td>F</td>\n      <td>NaN</td>\n      <td>Southern California College Of Optometry</td>\n      <td>2009.0</td>\n      <td>Optometry</td>\n      <td>1000 Bristol St N Suite 29</td>\n      <td>Newport Beach</td>\n      <td>CA</td>\n      <td>926608917</td>\n      <td>NaN</td>\n      <td>NaN</td>\n    </tr>\n    <tr>\n      <th>2494</th>\n      <td>2494</td>\n      <td>1194947986</td>\n      <td>Jeffrey K Bone</td>\n      <td>M</td>\n      <td>CP</td>\n      <td>Other</td>\n      <td>2003.0</td>\n      <td>Psychologist, Clinical</td>\n      <td>4060 Campus Dr Suite 130</td>\n      <td>Newport Beach</td>\n      <td>CA</td>\n      <td>926602205</td>\n      <td>9.493754e+09</td>\n      <td>NaN</td>\n    </tr>\n    <tr>\n      <th>2617</th>\n      <td>2617</td>\n      <td>1194782847</td>\n      <td>Emanuel  Shaoulian</td>\n      <td>M</td>\n      <td>MD</td>\n      <td>Other</td>\n      <td>1978.0</td>\n      <td>Cardiovascular Disease (Cardiology)</td>\n      <td>320 Superior Ave Suite 280</td>\n      <td>Newport Beach</td>\n      <td>CA</td>\n      <td>926636140</td>\n      <td>NaN</td>\n      <td>Hoag Memorial Hospital Presbyterian</td>\n    </tr>\n    <tr>\n      <th>3455</th>\n      <td>3455</td>\n      <td>1194110676</td>\n      <td>Yazan  Abdullah</td>\n      <td>M</td>\n      <td>NaN</td>\n      <td>Other</td>\n      <td>2014.0</td>\n      <td>Internal Medicine</td>\n      <td>1501 Superior Ave Suite 208</td>\n      <td>Newport Beach</td>\n      <td>CA</td>\n      <td>926633640</td>\n      <td>NaN</td>\n      <td>NaN</td>\n    </tr>\n    <tr>\n      <th>3790</th>\n      <td>3790</td>\n      <td>1184949570</td>\n      <td>David T Ahn</td>\n      <td>M</td>\n      <td>NaN</td>\n      <td>University Of California, San Diego School Of ...</td>\n      <td>2010.0</td>\n      <td>Endocrinology</td>\n      <td>520 Superior Ave Suite 150</td>\n      <td>Newport Beach</td>\n      <td>CA</td>\n      <td>926633642</td>\n      <td>9.497647e+09</td>\n      <td>Hoag Memorial Hospital Presbyterian</td>\n    </tr>\n    <tr>\n      <th>4693</th>\n      <td>4693</td>\n      <td>1184798662</td>\n      <td>William L Demoss</td>\n      <td>M</td>\n      <td>NaN</td>\n      <td>Other</td>\n      <td>1985.0</td>\n      <td>Chiropractic</td>\n      <td>20321 Sw Birch St Suite 100</td>\n      <td>Newport Beach</td>\n      <td>CA</td>\n      <td>926601756</td>\n      <td>9.492501e+09</td>\n      <td>NaN</td>\n    </tr>\n    <tr>\n      <th>4767</th>\n      <td>4767</td>\n      <td>1184620866</td>\n      <td>Ryan  Klein</td>\n      <td>M</td>\n      <td>NaN</td>\n      <td>University Of Southern California Keck School ...</td>\n      <td>1995.0</td>\n      <td>Internal Medicine</td>\n      <td>1501 Superior Ave Suite 202</td>\n      <td>Newport Beach</td>\n      <td>CA</td>\n      <td>926633640</td>\n      <td>NaN</td>\n      <td>Hoag Memorial Hospital Presbyterian</td>\n    </tr>\n    <tr>\n      <th>5195</th>\n      <td>5195</td>\n      <td>1184267254</td>\n      <td>Justine L Weber</td>\n      <td>F</td>\n      <td>NaN</td>\n      <td>Other</td>\n      <td>2006.0</td>\n      <td>Psychologist, Clinical</td>\n      <td>366 San Miguel Dr Suite 209</td>\n      <td>Newport Beach</td>\n      <td>CA</td>\n      <td>926607810</td>\n      <td>9.494239e+09</td>\n      <td>NaN</td>\n    </tr>\n    <tr>\n      <th>6333</th>\n      <td>6333</td>\n      <td>1174543169</td>\n      <td>Teryn B Clarke</td>\n      <td>F</td>\n      <td>NaN</td>\n      <td>University Of Southern California Keck School ...</td>\n      <td>1999.0</td>\n      <td>Neurology</td>\n      <td>400 Newport Ctr Dr Suite 310</td>\n      <td>Newport Beach</td>\n      <td>CA</td>\n      <td>926607636</td>\n      <td>NaN</td>\n      <td>Hoag Memorial Hospital Presbyterian</td>\n    </tr>\n    <tr>\n      <th>6564</th>\n      <td>6564</td>\n      <td>1174588891</td>\n      <td>William M Thompson</td>\n      <td>M</td>\n      <td>MD</td>\n      <td>Other</td>\n      <td>2000.0</td>\n      <td>Infectious Disease</td>\n      <td>1501 Superior Ave Suite 205</td>\n      <td>Newport Beach</td>\n      <td>CA</td>\n      <td>926633640</td>\n      <td>9.492008e+09</td>\n      <td>Hoag Memorial Hospital Presbyterian</td>\n    </tr>\n    <tr>\n      <th>6730</th>\n      <td>6730</td>\n      <td>1174550784</td>\n      <td>Nicholas E Rose</td>\n      <td>M</td>\n      <td>MD</td>\n      <td>University Of California, Geffen School Of Med...</td>\n      <td>1991.0</td>\n      <td>Hand Surgery</td>\n      <td>360 San Miguel Dr Suite 701</td>\n      <td>Newport Beach</td>\n      <td>CA</td>\n      <td>926605927</td>\n      <td>NaN</td>\n      <td>Hoag Memorial Hospital Presbyterian</td>\n    </tr>\n    <tr>\n      <th>7056</th>\n      <td>7056</td>\n      <td>1164735551</td>\n      <td>Nicole S Lightman</td>\n      <td>F</td>\n      <td>NaN</td>\n      <td>Other</td>\n      <td>2015.0</td>\n      <td>Psychologist, Clinical</td>\n      <td>23 Corporate Plaza Dr Suite 150</td>\n      <td>Newport Beach</td>\n      <td>CA</td>\n      <td>926607908</td>\n      <td>NaN</td>\n      <td>NaN</td>\n    </tr>\n    <tr>\n      <th>7088</th>\n      <td>7088</td>\n      <td>1164595278</td>\n      <td>Denise  Scott</td>\n      <td>F</td>\n      <td>NaN</td>\n      <td>Pennsylvania State University College Of Medicine</td>\n      <td>1989.0</td>\n      <td>Endocrinology</td>\n      <td>1401 Avocado Ave Suite 101</td>\n      <td>Newport Beach</td>\n      <td>CA</td>\n      <td>926607710</td>\n      <td>NaN</td>\n      <td>Hoag Memorial Hospital Presbyterian</td>\n    </tr>\n    <tr>\n      <th>7971</th>\n      <td>7971</td>\n      <td>1164493284</td>\n      <td>Brent C Norman</td>\n      <td>M</td>\n      <td>NaN</td>\n      <td>Tulane University School Of Medicine</td>\n      <td>1982.0</td>\n      <td>Ophthalmology</td>\n      <td>361 Hospital Rd Suite 126</td>\n      <td>Newport Beach</td>\n      <td>CA</td>\n      <td>926633510</td>\n      <td>NaN</td>\n      <td>Hoag Memorial Hospital Presbyterian</td>\n    </tr>\n  </tbody>\n</table>\n</div>"
     },
     "metadata": {}
    }
   ],
   "execution_count": null
  },
  {
   "cell_type": "code",
   "metadata": {
    "cell_id": "7075a533-7268-403e-b041-1668e8376193",
    "tags": [],
    "deepnote_to_be_reexecuted": false,
    "source_hash": "c1e27177",
    "execution_start": 1645049670073,
    "execution_millis": 2,
    "deepnote_output_heights": [
     78.796875,
     194
    ],
    "deepnote_app_coordinates": {
     "x": 0,
     "y": 220,
     "w": 12,
     "h": 11
    },
    "deepnote_cell_type": "code"
   },
   "source": "hospitals = contains_cty.pivot_table(columns=['hosp_afl_lbn_1'], aggfunc='size').nlargest(10)\nhospitals.empty == True\nif hospitals.empty:\n  print('There are no hospitals in this city in the dataset.')\nif not hospitals.empty:\n    print('Hospitals in {} and the number of professionals in dataset working there: '.format(city))\n    print(hospitals)",
   "outputs": [
    {
     "name": "stdout",
     "text": "Hospitals in Newport Beach and the number of professionals in dataset working there: \nhosp_afl_lbn_1\nHoag Memorial Hospital Presbyterian    10\ndtype: int64\n",
     "output_type": "stream"
    }
   ],
   "execution_count": null
  },
  {
   "cell_type": "markdown",
   "source": "Please type the specialty you would like to search for below.",
   "metadata": {
    "cell_id": "42e0155f-f653-4d62-905c-0b1d872252d5",
    "tags": [],
    "is_collapsed": false,
    "deepnote_app_coordinates": {
     "x": 0,
     "y": 233,
     "w": 8,
     "h": 2
    },
    "deepnote_cell_type": "text-cell-p"
   }
  },
  {
   "cell_type": "code",
   "metadata": {
    "cell_id": "75407fe0-d65d-40e3-bced-396c6ab33de2",
    "tags": [],
    "deepnote_to_be_reexecuted": false,
    "source_hash": "115722c6",
    "execution_start": 1645049670129,
    "execution_millis": 5,
    "deepnote_app_coordinates": {
     "x": 0,
     "y": 236,
     "w": 12,
     "h": 5
    },
    "deepnote_cell_type": "code"
   },
   "source": "df_specialties = contains_cty[[\"pri_spec\"]]\ndf_specialties_in_state = df_specialties.drop_duplicates('pri_spec',inplace=False)",
   "outputs": [],
   "execution_count": null
  },
  {
   "cell_type": "code",
   "metadata": {
    "cell_id": "ca0b6f4a-7762-46a3-8f2f-6872b7bb1a42",
    "deepnote_variable_name": "selected_specialty",
    "deepnote_variable_value": "Infectious Disease",
    "deepnote_variable_options": [
     "Psychologist, Clinical",
     "Anesthesiology",
     "Infectious Disease",
     "General Surgery",
     "Optometry",
     "Cardiovascular Disease (Cardiology)",
     "Internal Medicine",
     "Endocrinology",
     "Chiropractic",
     "Neurology",
     "Hand Surgery",
     "Ophthalmology"
    ],
    "deepnote_variable_custom_options": [
     "Option 1",
     "Option 2"
    ],
    "deepnote_variable_selected_variable": "df_specialties_in_state",
    "deepnote_variable_select_type": "from-variable",
    "deepnote_to_be_reexecuted": false,
    "source_hash": "127ebdf",
    "execution_start": 1645049670130,
    "execution_millis": 508578,
    "deepnote_app_coordinates": {
     "x": 0,
     "y": 241,
     "w": 8,
     "h": 4
    },
    "deepnote_cell_type": "input-select"
   },
   "source": "selected_specialty = 'Infectious Disease'",
   "outputs": [],
   "execution_count": null
  },
  {
   "cell_type": "code",
   "metadata": {
    "cell_id": "875a7ce5-2d33-471e-966e-79e5f85f01a2",
    "deepnote_variable_name": "years_of_experience",
    "deepnote_variable_value": "2",
    "deepnote_slider_min_value": 0,
    "deepnote_slider_max_value": 50,
    "deepnote_slider_step": 1,
    "deepnote_to_be_reexecuted": false,
    "source_hash": "193a7450",
    "execution_start": 1645049670131,
    "execution_millis": 508560,
    "deepnote_app_coordinates": {
     "x": 0,
     "y": 245,
     "w": 8,
     "h": 4
    },
    "deepnote_cell_type": "input-slider"
   },
   "source": "years_of_experience = 2",
   "outputs": [],
   "execution_count": null
  },
  {
   "cell_type": "code",
   "source": "#to compare, graduation year distribution in the city selected\ngrd_hist_spec = plt.hist(contains_cty['Grd_yr'])\nplt.title('Graduation Year Distribution in {}'.format(city))",
   "metadata": {
    "cell_id": "a62c2ab7-897f-4edf-81d3-f8bc934abc1a",
    "tags": [],
    "deepnote_to_be_reexecuted": false,
    "source_hash": "1723cea3",
    "execution_start": 1645049670132,
    "execution_millis": 315,
    "deepnote_output_heights": [
     21.1875,
     169.46875
    ],
    "deepnote_app_coordinates": {
     "x": 12,
     "y": 244,
     "w": 12,
     "h": 18
    },
    "deepnote_cell_type": "code"
   },
   "outputs": [
    {
     "output_type": "execute_result",
     "execution_count": 22,
     "data": {
      "text/plain": "Text(0.5, 1.0, 'Graduation Year Distribution in Newport Beach')"
     },
     "metadata": {}
    },
    {
     "data": {
      "text/plain": "<Figure size 432x288 with 1 Axes>",
      "image/png": "[encoded data removed]"
     },
     "metadata": {
      "needs_background": "light",
      "image/png": {
       "width": 372,
       "height": 264
      }
     },
     "output_type": "display_data"
    }
   ],
   "execution_count": null
  },
  {
   "cell_type": "code",
   "metadata": {
    "cell_id": "128baa4f-417a-43c3-b95d-373fabf146b6",
    "tags": [],
    "deepnote_to_be_reexecuted": false,
    "source_hash": "f5c2005c",
    "execution_start": 1645049670456,
    "execution_millis": 11,
    "deepnote_app_coordinates": {
     "x": 0,
     "y": 249,
     "w": 12,
     "h": 7
    },
    "deepnote_cell_type": "code"
   },
   "source": "contains_spec = contains_cty[contains_cty['pri_spec'].str.contains(selected_specialty)]\nspec_st = contains_spec[contains_cty['st'].str.contains(state)]\ndf_spec_st = pd.DataFrame(contains_spec)",
   "outputs": [
    {
     "name": "stderr",
     "text": "/shared-libs/python3.7/py-core/lib/python3.7/site-packages/ipykernel_launcher.py:2: UserWarning: Boolean Series key will be reindexed to match DataFrame index.\n  \n",
     "output_type": "stream"
    }
   ],
   "execution_count": null
  },
  {
   "cell_type": "code",
   "metadata": {
    "cell_id": "48a6cd3b-58af-435a-bb97-c5de3327250a",
    "tags": [],
    "deepnote_to_be_reexecuted": false,
    "source_hash": "3b34f1eb",
    "execution_start": 1645049670472,
    "execution_millis": 6,
    "deepnote_output_heights": [
     21.1875
    ],
    "deepnote_app_coordinates": {
     "x": 0,
     "y": 256,
     "w": 12,
     "h": 6
    },
    "deepnote_cell_type": "code"
   },
   "source": "#finding the latest year of graduation possible to maintain minimum years of experience requested#\nmax_yr_grad = 2022 - years_of_experience\nmax_yr_grad",
   "outputs": [
    {
     "output_type": "execute_result",
     "execution_count": 24,
     "data": {
      "text/plain": "2020"
     },
     "metadata": {}
    }
   ],
   "execution_count": null
  },
  {
   "cell_type": "code",
   "metadata": {
    "cell_id": "7105e5c0-6b54-41db-9a39-f1de659acea5",
    "tags": [],
    "deepnote_to_be_reexecuted": false,
    "source_hash": "512e5ecd",
    "execution_start": 1645049670483,
    "execution_millis": 272,
    "deepnote_table_state": {
     "pageSize": 10,
     "pageIndex": 0,
     "filters": [],
     "sortBy": [
      {
       "id": "Grd_yr",
       "type": "asc"
      }
     ]
    },
    "deepnote_table_loading": false,
    "deepnote_app_coordinates": {
     "x": 0,
     "y": 263,
     "w": 24,
     "h": 20
    },
    "deepnote_cell_type": "code"
   },
   "source": "#table meeting the specialty, years of experience, and city from the previous inputs\nqual_df= contains_spec.loc[df_spec_st['Grd_yr']<=max_yr_grad]\nqual_df.head(n=10)",
   "outputs": [
    {
     "output_type": "execute_result",
     "execution_count": 25,
     "data": {
      "application/vnd.deepnote.dataframe.v3+json": {
       "column_count": 14,
       "row_count": 2,
       "columns": [
        {
         "name": "Unnamed: 0",
         "dtype": "int64",
         "stats": {
          "unique_count": 2,
          "nan_count": 0,
          "min": "1713",
          "max": "6564",
          "histogram": [
           {
            "bin_start": 1713,
            "bin_end": 2198.1,
            "count": 1
           },
           {
            "bin_start": 2198.1,
            "bin_end": 2683.2,
            "count": 0
           },
           {
            "bin_start": 2683.2,
            "bin_end": 3168.3,
            "count": 0
           },
           {
            "bin_start": 3168.3,
            "bin_end": 3653.4,
            "count": 0
           },
           {
            "bin_start": 3653.4,
            "bin_end": 4138.5,
            "count": 0
           },
           {
            "bin_start": 4138.5,
            "bin_end": 4623.6,
            "count": 0
           },
           {
            "bin_start": 4623.6,
            "bin_end": 5108.700000000001,
            "count": 0
           },
           {
            "bin_start": 5108.700000000001,
            "bin_end": 5593.8,
            "count": 0
           },
           {
            "bin_start": 5593.8,
            "bin_end": 6078.900000000001,
            "count": 0
           },
           {
            "bin_start": 6078.900000000001,
            "bin_end": 6564,
            "count": 1
           }
          ]
         }
        },
        {
         "name": "NPI",
         "dtype": "int64",
         "stats": {
          "unique_count": 2,
          "nan_count": 0,
          "min": "1174588891",
          "max": "1205810066",
          "histogram": [
           {
            "bin_start": 1174588891,
            "bin_end": 1177711008.5,
            "count": 1
           },
           {
            "bin_start": 1177711008.5,
            "bin_end": 1180833126,
            "count": 0
           },
           {
            "bin_start": 1180833126,
            "bin_end": 1183955243.5,
            "count": 0
           },
           {
            "bin_start": 1183955243.5,
            "bin_end": 1187077361,
            "count": 0
           },
           {
            "bin_start": 1187077361,
            "bin_end": 1190199478.5,
            "count": 0
           },
           {
            "bin_start": 1190199478.5,
            "bin_end": 1193321596,
            "count": 0
           },
           {
            "bin_start": 1193321596,
            "bin_end": 1196443713.5,
            "count": 0
           },
           {
            "bin_start": 1196443713.5,
            "bin_end": 1199565831,
            "count": 0
           },
           {
            "bin_start": 1199565831,
            "bin_end": 1202687948.5,
            "count": 0
           },
           {
            "bin_start": 1202687948.5,
            "bin_end": 1205810066,
            "count": 1
           }
          ]
         }
        },
        {
         "name": "full_name",
         "dtype": "object",
         "stats": {
          "unique_count": 2,
          "nan_count": 0,
          "categories": [
           {
            "name": "Philip A Robinson ",
            "count": 1
           },
           {
            "name": "William M Thompson ",
            "count": 1
           }
          ]
         }
        },
        {
         "name": " gndr",
         "dtype": "object",
         "stats": {
          "unique_count": 1,
          "nan_count": 0,
          "categories": [
           {
            "name": "M",
            "count": 2
           }
          ]
         }
        },
        {
         "name": "Cred",
         "dtype": "object",
         "stats": {
          "unique_count": 1,
          "nan_count": 0,
          "categories": [
           {
            "name": "MD",
            "count": 2
           }
          ]
         }
        },
        {
         "name": "Med_sch",
         "dtype": "object",
         "stats": {
          "unique_count": 2,
          "nan_count": 0,
          "categories": [
           {
            "name": "University Of Michigan Medical School",
            "count": 1
           },
           {
            "name": "Other",
            "count": 1
           }
          ]
         }
        },
        {
         "name": "Grd_yr",
         "dtype": "float64",
         "stats": {
          "unique_count": 2,
          "nan_count": 0,
          "min": "1990.0",
          "max": "2000.0",
          "histogram": [
           {
            "bin_start": 1990,
            "bin_end": 1991,
            "count": 1
           },
           {
            "bin_start": 1991,
            "bin_end": 1992,
            "count": 0
           },
           {
            "bin_start": 1992,
            "bin_end": 1993,
            "count": 0
           },
           {
            "bin_start": 1993,
            "bin_end": 1994,
            "count": 0
           },
           {
            "bin_start": 1994,
            "bin_end": 1995,
            "count": 0
           },
           {
            "bin_start": 1995,
            "bin_end": 1996,
            "count": 0
           },
           {
            "bin_start": 1996,
            "bin_end": 1997,
            "count": 0
           },
           {
            "bin_start": 1997,
            "bin_end": 1998,
            "count": 0
           },
           {
            "bin_start": 1998,
            "bin_end": 1999,
            "count": 0
           },
           {
            "bin_start": 1999,
            "bin_end": 2000,
            "count": 1
           }
          ]
         }
        },
        {
         "name": "pri_spec",
         "dtype": "object",
         "stats": {
          "unique_count": 1,
          "nan_count": 0,
          "categories": [
           {
            "name": "Infectious Disease",
            "count": 2
           }
          ]
         }
        },
        {
         "name": "adr",
         "dtype": "object",
         "stats": {
          "unique_count": 2,
          "nan_count": 0,
          "categories": [
           {
            "name": "320 Superior Ave Suite 290",
            "count": 1
           },
           {
            "name": "1501 Superior Ave Suite 205",
            "count": 1
           }
          ]
         }
        },
        {
         "name": "cty",
         "dtype": "object",
         "stats": {
          "unique_count": 1,
          "nan_count": 0,
          "categories": [
           {
            "name": "Newport Beach",
            "count": 2
           }
          ]
         }
        },
        {
         "name": "st",
         "dtype": "object",
         "stats": {
          "unique_count": 1,
          "nan_count": 0,
          "categories": [
           {
            "name": "CA",
            "count": 2
           }
          ]
         }
        },
        {
         "name": "zip_x",
         "dtype": "object",
         "stats": {
          "unique_count": 2,
          "nan_count": 0,
          "categories": [
           {
            "name": "926636140",
            "count": 1
           },
           {
            "name": "926633640",
            "count": 1
           }
          ]
         }
        },
        {
         "name": "phn_numbr",
         "dtype": "float64",
         "stats": {
          "unique_count": 2,
          "nan_count": 0,
          "min": "9492007921.0",
          "max": "9496509155.0",
          "histogram": [
           {
            "bin_start": 9492007921,
            "bin_end": 9492458044.4,
            "count": 1
           },
           {
            "bin_start": 9492458044.4,
            "bin_end": 9492908167.8,
            "count": 0
           },
           {
            "bin_start": 9492908167.8,
            "bin_end": 9493358291.2,
            "count": 0
           },
           {
            "bin_start": 9493358291.2,
            "bin_end": 9493808414.6,
            "count": 0
           },
           {
            "bin_start": 9493808414.6,
            "bin_end": 9494258538,
            "count": 0
           },
           {
            "bin_start": 9494258538,
            "bin_end": 9494708661.4,
            "count": 0
           },
           {
            "bin_start": 9494708661.4,
            "bin_end": 9495158784.8,
            "count": 0
           },
           {
            "bin_start": 9495158784.8,
            "bin_end": 9495608908.2,
            "count": 0
           },
           {
            "bin_start": 9495608908.2,
            "bin_end": 9496059031.6,
            "count": 0
           },
           {
            "bin_start": 9496059031.6,
            "bin_end": 9496509155,
            "count": 1
           }
          ]
         }
        },
        {
         "name": "hosp_afl_lbn_1",
         "dtype": "object",
         "stats": {
          "unique_count": 1,
          "nan_count": 0,
          "categories": [
           {
            "name": "Hoag Memorial Hospital Presbyterian",
            "count": 2
           }
          ]
         }
        },
        {
         "name": "_deepnote_index_column",
         "dtype": "int64"
        }
       ],
       "rows": [
        {
         "Unnamed: 0": 1713,
         "NPI": 1205810066,
         "full_name": "Philip A Robinson ",
         " gndr": "M",
         "Cred": "MD",
         "Med_sch": "University Of Michigan Medical School",
         "Grd_yr": 1990,
         "pri_spec": "Infectious Disease",
         "adr": "320 Superior Ave Suite 290",
         "cty": "Newport Beach",
         "st": "CA",
         "zip_x": "926636140",
         "phn_numbr": 9496509155,
         "hosp_afl_lbn_1": "Hoag Memorial Hospital Presbyterian",
         "_deepnote_index_column": 1713
        },
        {
         "Unnamed: 0": 6564,
         "NPI": 1174588891,
         "full_name": "William M Thompson ",
         " gndr": "M",
         "Cred": "MD",
         "Med_sch": "Other",
         "Grd_yr": 2000,
         "pri_spec": "Infectious Disease",
         "adr": "1501 Superior Ave Suite 205",
         "cty": "Newport Beach",
         "st": "CA",
         "zip_x": "926633640",
         "phn_numbr": 9492007921,
         "hosp_afl_lbn_1": "Hoag Memorial Hospital Presbyterian",
         "_deepnote_index_column": 6564
        }
       ]
      },
      "text/plain": "      Unnamed: 0         NPI            full_name  gndr Cred  \\\n1713        1713  1205810066   Philip A Robinson      M   MD   \n6564        6564  1174588891  William M Thompson      M   MD   \n\n                                    Med_sch  Grd_yr            pri_spec  \\\n1713  University Of Michigan Medical School  1990.0  Infectious Disease   \n6564                                  Other  2000.0  Infectious Disease   \n\n                              adr            cty  st      zip_x     phn_numbr  \\\n1713   320 Superior Ave Suite 290  Newport Beach  CA  926636140  9.496509e+09   \n6564  1501 Superior Ave Suite 205  Newport Beach  CA  926633640  9.492008e+09   \n\n                           hosp_afl_lbn_1  \n1713  Hoag Memorial Hospital Presbyterian  \n6564  Hoag Memorial Hospital Presbyterian  ",
      "text/html": "<div>\n<style scoped>\n    .dataframe tbody tr th:only-of-type {\n        vertical-align: middle;\n    }\n\n    .dataframe tbody tr th {\n        vertical-align: top;\n    }\n\n    .dataframe thead th {\n        text-align: right;\n    }\n</style>\n<table border=\"1\" class=\"dataframe\">\n  <thead>\n    <tr style=\"text-align: right;\">\n      <th></th>\n      <th>Unnamed: 0</th>\n      <th>NPI</th>\n      <th>full_name</th>\n      <th>gndr</th>\n      <th>Cred</th>\n      <th>Med_sch</th>\n      <th>Grd_yr</th>\n      <th>pri_spec</th>\n      <th>adr</th>\n      <th>cty</th>\n      <th>st</th>\n      <th>zip_x</th>\n      <th>phn_numbr</th>\n      <th>hosp_afl_lbn_1</th>\n    </tr>\n  </thead>\n  <tbody>\n    <tr>\n      <th>1713</th>\n      <td>1713</td>\n      <td>1205810066</td>\n      <td>Philip A Robinson</td>\n      <td>M</td>\n      <td>MD</td>\n      <td>University Of Michigan Medical School</td>\n      <td>1990.0</td>\n      <td>Infectious Disease</td>\n      <td>320 Superior Ave Suite 290</td>\n      <td>Newport Beach</td>\n      <td>CA</td>\n      <td>926636140</td>\n      <td>9.496509e+09</td>\n      <td>Hoag Memorial Hospital Presbyterian</td>\n    </tr>\n    <tr>\n      <th>6564</th>\n      <td>6564</td>\n      <td>1174588891</td>\n      <td>William M Thompson</td>\n      <td>M</td>\n      <td>MD</td>\n      <td>Other</td>\n      <td>2000.0</td>\n      <td>Infectious Disease</td>\n      <td>1501 Superior Ave Suite 205</td>\n      <td>Newport Beach</td>\n      <td>CA</td>\n      <td>926633640</td>\n      <td>9.492008e+09</td>\n      <td>Hoag Memorial Hospital Presbyterian</td>\n    </tr>\n  </tbody>\n</table>\n</div>"
     },
     "metadata": {}
    }
   ],
   "execution_count": null
  },
  {
   "cell_type": "markdown",
   "source": "# Table Featuring Doctors Meeting Your Requests",
   "metadata": {
    "cell_id": "14493863-ffca-4c36-911e-c7cbe8f52a37",
    "tags": [],
    "is_collapsed": false,
    "deepnote_app_coordinates": {
     "x": 0,
     "y": 286,
     "w": 12,
     "h": 6
    },
    "deepnote_cell_type": "text-cell-h1"
   }
  },
  {
   "cell_type": "code",
   "metadata": {
    "cell_id": "f18c199c-8469-4052-8520-33dc72d9eeb9",
    "tags": [],
    "deepnote_to_be_reexecuted": false,
    "source_hash": "f890694",
    "execution_start": 1645049670546,
    "execution_millis": 404,
    "deepnote_app_coordinates": {
     "x": 0,
     "y": 292,
     "w": 24,
     "h": 22
    },
    "deepnote_output_heights": [
     null,
     266
    ],
    "deepnote_cell_type": "code"
   },
   "source": "by_exp = qual_df.sort_values(by='Grd_yr',axis=0, ascending=True, inplace=False, kind='quicksort', na_position='last', ignore_index=False, key=None)\ndf_by_exp = pd.DataFrame(data=by_exp,columns=['full_name','Grd_yr'])\n\nprint('These are the profesionals with the most experience fitting {}, {}, and {} year experience minimum.'.format(state,selected_specialty,years_of_experience))\nprint(df_by_exp.head(n=10))",
   "outputs": [
    {
     "name": "stdout",
     "text": "These are the profesionals with the most experience fitting CA, Infectious Disease, and 2 year experience minimum.\n                full_name  Grd_yr\n1713   Philip A Robinson   1990.0\n6564  William M Thompson   2000.0\n",
     "output_type": "stream"
    }
   ],
   "execution_count": null
  },
  {
   "cell_type": "markdown",
   "source": "<a style='text-decoration:none;line-height:16px;display:flex;color:#5B5B62;padding:10px;justify-content:end;' href='https://deepnote.com?utm_source=created-in-deepnote-cell&projectId=a1b8c42c-9ad5-4d22-9dfc-fd617339544b' target=\"_blank\">\n<img alt='Created in deepnote.com' style='display:inline;max-height:16px;margin:0px;margin-right:7.5px;' src='data:image/svg+xml;base64,PD94bWwgdmVyc2lvbj0iMS4wIiBlbmNvZGluZz0iVVRGLTgiPz4KPHN2ZyB3aWR0aD0iODBweCIgaGVpZ2h0PSI4MHB4IiB2aWV3Qm94PSIwIDAgODAgODAiIHZlcnNpb249IjEuMSIgeG1sbnM9Imh0dHA6Ly93d3cudzMub3JnLzIwMDAvc3ZnIiB4bWxuczp4bGluaz0iaHR0cDovL3d3dy53My5vcmcvMTk5OS94bGluayI+CiAgICA8IS0tIEdlbmVyYXRvcjogU2tldGNoIDU0LjEgKDc2NDkwKSAtIGh0dHBzOi8vc2tldGNoYXBwLmNvbSAtLT4KICAgIDx0aXRsZT5Hcm91cCAzPC90aXRsZT4KICAgIDxkZXNjPkNyZWF0ZWQgd2l0aCBTa2V0Y2guPC9kZXNjPgogICAgPGcgaWQ9IkxhbmRpbmciIHN0cm9rZT0ibm9uZSIgc3Ryb2tlLXdpZHRoPSIxIiBmaWxsPSJub25lIiBmaWxsLXJ1bGU9ImV2ZW5vZGQiPgogICAgICAgIDxnIGlkPSJBcnRib2FyZCIgdHJhbnNmb3JtPSJ0cmFuc2xhdGUoLTEyMzUuMDAwMDAwLCAtNzkuMDAwMDAwKSI+CiAgICAgICAgICAgIDxnIGlkPSJHcm91cC0zIiB0cmFuc2Zvcm09InRyYW5zbGF0ZSgxMjM1LjAwMDAwMCwgNzkuMDAwMDAwKSI+CiAgICAgICAgICAgICAgICA8cG9seWdvbiBpZD0iUGF0aC0yMCIgZmlsbD0iIzAyNjVCNCIgcG9pbnRzPSIyLjM3NjIzNzYyIDgwIDM4LjA0NzY2NjcgODAgNTcuODIxNzgyMiA3My44MDU3NTkyIDU3LjgyMTc4MjIgMzIuNzU5MjczOSAzOS4xNDAyMjc4IDMxLjY4MzE2ODMiPjwvcG9seWdvbj4KICAgICAgICAgICAgICAgIDxwYXRoIGQ9Ik0zNS4wMDc3MTgsODAgQzQyLjkwNjIwMDcsNzYuNDU0OTM1OCA0Ny41NjQ5MTY3LDcxLjU0MjI2NzEgNDguOTgzODY2LDY1LjI2MTk5MzkgQzUxLjExMjI4OTksNTUuODQxNTg0MiA0MS42NzcxNzk1LDQ5LjIxMjIyODQgMjUuNjIzOTg0Niw0OS4yMTIyMjg0IEMyNS40ODQ5Mjg5LDQ5LjEyNjg0NDggMjkuODI2MTI5Niw0My4yODM4MjQ4IDM4LjY0NzU4NjksMzEuNjgzMTY4MyBMNzIuODcxMjg3MSwzMi41NTQ0MjUgTDY1LjI4MDk3Myw2Ny42NzYzNDIxIEw1MS4xMTIyODk5LDc3LjM3NjE0NCBMMzUuMDA3NzE4LDgwIFoiIGlkPSJQYXRoLTIyIiBmaWxsPSIjMDAyODY4Ij48L3BhdGg+CiAgICAgICAgICAgICAgICA8cGF0aCBkPSJNMCwzNy43MzA0NDA1IEwyNy4xMTQ1MzcsMC4yNTcxMTE0MzYgQzYyLjM3MTUxMjMsLTEuOTkwNzE3MDEgODAsMTAuNTAwMzkyNyA4MCwzNy43MzA0NDA1IEM4MCw2NC45NjA0ODgyIDY0Ljc3NjUwMzgsNzkuMDUwMzQxNCAzNC4zMjk1MTEzLDgwIEM0Ny4wNTUzNDg5LDc3LjU2NzA4MDggNTMuNDE4MjY3Nyw3MC4zMTM2MTAzIDUzLjQxODI2NzcsNTguMjM5NTg4NSBDNTMuNDE4MjY3Nyw0MC4xMjg1NTU3IDM2LjMwMzk1NDQsMzcuNzMwNDQwNSAyNS4yMjc0MTcsMzcuNzMwNDQwNSBDMTcuODQzMDU4NiwzNy43MzA0NDA1IDkuNDMzOTE5NjYsMzcuNzMwNDQwNSAwLDM3LjczMDQ0MDUgWiIgaWQ9IlBhdGgtMTkiIGZpbGw9IiMzNzkzRUYiPjwvcGF0aD4KICAgICAgICAgICAgPC9nPgogICAgICAgIDwvZz4KICAgIDwvZz4KPC9zdmc+' > </img>\nCreated in <span style='font-weight:600;margin-left:4px;'>Deepnote</span></a>",
   "metadata": {
    "tags": [],
    "created_in_deepnote_cell": true,
    "deepnote_cell_type": "markdown"
   }
  }
 ],
 "nbformat": 4,
 "nbformat_minor": 2,
 "metadata": {
  "orig_nbformat": 2,
  "deepnote": {
   "is_reactive": false
  },
  "deepnote_notebook_id": "8bbad4f3-8a5b-4d74-86cc-4ae3a219bc6f",
  "deepnote_execution_queue": [],
  "deepnote_app_layout": "dashboard"
 }
}